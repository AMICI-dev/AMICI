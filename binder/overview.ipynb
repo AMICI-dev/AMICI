{
 "cells": [
  {
   "attachments": {},
   "cell_type": "markdown",
   "id": "f7ebed12-4309-4c92-a54e-da80ccd2d5e7",
   "metadata": {},
   "source": [
    "# AMICI example notebooks\n",
    "\n",
    "* [Getting started](../documentation/GettingStarted.ipynb)\n",
    "\n",
    "  Brief intro to AMICI for first-time users.\n",
    "\n",
    "* [SBML import, observation model, sensitivity analysis, data export and visualization](../python/examples/example_steadystate/ExampleSteadystate.ipynb)\n",
    "\n",
    "  A more detailed introduction to the AMICI interface, demonstrating sensitivity analysis, various options, finite difference checks, ...\n",
    "\n",
    "* [PEtab import / simulation](../python/examples/example_petab/petab.ipynb)\n",
    "\n",
    "  How to import and simulate PEtab problems.\n",
    "\n",
    "* [Experimental conditions](../python/examples/example_presimulation/ExampleExperimentalConditions.ipynb)\n",
    "\n",
    "  How to represent different experimental conditions in AMICI and how to use preequilibration.\n",
    "\n",
    "* [Steadystate (sensitivities)](../python/examples/example_constant_species/ExampleEquilibrationLogic.ipynb)\n",
    "\n",
    "  Describes and demonstrates the various algorithms for computing steady states and steady-state sensitivities.\n",
    "\n",
    "* [Simulation errors](../python/examples/example_errors.ipynb)\n",
    "\n",
    "  Demonstrates common simulation failures and gives some hints for interpreting, debugging, and fixing them.\n",
    "\n",
    "* [Interfacing JAX](../python/examples/example_jax/ExampleJax.ipynb)\n",
    "\n",
    "  Provides guidance on how to combine AMICI with differential programming frameworks such as JAX.\n",
    "\n",
    "* [Efficient spline interpolation](../python/examples/example_splines/ExampleSplines.ipynb)\n",
    "\n",
    "  Shows how to add annotated spline formulas to existing SBML models in order to speed up AMICI's model import.\n",
    "\n",
    "* [A real-world application of splines](../python/examples/example_splines_swameye/ExampleSplinesSwameye2003.ipynb)\n",
    "\n",
    "  An illustration of how to apply AMICI's spline functionalities to parameter estimation for a reaction network.\n"
   ]
  }
 ],
 "metadata": {
  "kernelspec": {
   "display_name": "",
   "name": ""
  },
  "language_info": {
   "name": ""
  }
 },
 "nbformat": 4,
 "nbformat_minor": 5
}
