{
 "cells": [
  {
   "cell_type": "markdown",
   "id": "f7ebed12-4309-4c92-a54e-da80ccd2d5e7",
   "metadata": {},
   "source": [
    "# AMICI example notebooks\n",
    "\n",
    "* [Getting started](../documentation/GettingStarted.ipynb)\n",
    "\n",
    "  Brief intro to AMICI for first-time users.\n",
    "\n",
    "* [Example \"steadystate](../python/examples/example_steadystate/ExampleSteadystate.ipynb)\n",
    "\n",
    "  A more detailed introduction to the AMICI interface, demonstrating sensitivity analysis, various options, finite difference checks, ...\n",
    "\n",
    "* [PEtab import / simulation](../python/examples/example_petab/petab.ipynb)\n",
    "\n",
    "  How to import and simulate PEtab problems.\n",
    "\n",
    "* [Experimental conditions](../python/examples/example_presimulation/ExampleExperimentalConditions.ipynb)\n",
    "\n",
    "  How to represent different experimental conditions in AMICI and how to use preequilibration.\n",
    "  \n",
    "* [Steadystate (sensitivities)](../python/examples/example_constant_species/ExampleEquilibrationLogic.ipynb)\n",
    "\n",
    "  Describes and demonstrates the various algorithms for computing steady states and steady-state sensitivities."
   ]
  }
 ],
 "metadata": {
  "kernelspec": {
   "display_name": "",
   "name": ""
  },
  "language_info": {
   "name": ""
  }
 },
 "nbformat": 4,
 "nbformat_minor": 5
}
