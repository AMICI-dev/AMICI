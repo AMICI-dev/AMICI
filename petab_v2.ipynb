{
 "cells": [
  {
   "cell_type": "markdown",
   "id": "d008dddcf9999983",
   "metadata": {},
   "source": [
    "# PEtab v2 import\n",
    "\n",
    "This notebook demonstrates how to import a [PEtab v2 problem](https://petab.readthedocs.io/en/latest/v2/documentation_data_format.html) for computing the objective function and gradient, or for simulating individual conditions."
   ]
  },
  {
   "cell_type": "code",
   "execution_count": null,
   "id": "initial_id",
   "metadata": {
    "collapsed": true
   },
   "outputs": [],
   "source": [
    "import amici\n",
    "from amici import run_simulation\n",
    "from amici.petab.petab_importer import *\n",
    "from amici.petab.simulations import EDATAS, RDATAS\n",
    "from amici.plotting import (\n",
    "    plot_observable_trajectories,\n",
    "    plot_state_trajectories,\n",
    ")\n",
    "from benchmark_models_petab import get_problem_yaml_path\n",
    "from petab.v2 import Problem"
   ]
  },
  {
   "cell_type": "code",
   "execution_count": null,
   "id": "bb11cbb310be1e2b",
   "metadata": {},
   "outputs": [],
   "source": [
    "# Load a PEtab v2 problem\n",
    "problem_id = \"Brannmark_JBC2010\"\n",
    "get_problem_yaml_path(problem_id)\n",
    "problem = Problem.from_yaml(\n",
    "    get_problem_yaml_path(problem_id.replace(\"Benchmark-Models\", \"v2\"))\n",
    ")\n",
    "problem"
   ]
  },
  {
   "cell_type": "markdown",
   "id": "f3713e89cefc77f2",
   "metadata": {},
   "source": "First, we create an AMICI model from the PEtab v2 problem. This will account for the observation model encoded in the PEtab problem, as well as for the different experimental conditions. This is important to keep in mind when using the model anything else than the PEtab-encoded experiments."
  },
  {
   "cell_type": "code",
   "execution_count": null,
   "id": "1bc978a08382cd40",
   "metadata": {},
   "outputs": [],
   "source": [
    "importer = PetabImporter(problem)"
   ]
  },
  {
   "cell_type": "code",
   "execution_count": null,
   "id": "cee93ebff9477aca",
   "metadata": {},
   "outputs": [],
   "source": [
    "simulator = importer.create_simulator()"
   ]
  },
  {
   "cell_type": "code",
   "execution_count": null,
   "id": "555c749f3bd2eb8a",
   "metadata": {},
   "outputs": [],
   "source": [
    "# simulate all conditions encoded in the PEtab problem for which there are measurements\n",
    "result = simulator.simulate()\n",
    "assert all(r.status == amici.AMICI_SUCCESS for r in result[RDATAS]), (\n",
    "    \"Simulation failed.\"\n",
    ")"
   ]
  },
  {
   "cell_type": "code",
   "execution_count": null,
   "id": "e532cbc3ebb361ef",
   "metadata": {},
   "outputs": [],
   "source": [
    "result"
   ]
  },
  {
   "cell_type": "code",
   "execution_count": null,
   "id": "1488d5c6e78d4cad",
   "metadata": {},
   "outputs": [],
   "source": []
  },
  {
   "cell_type": "markdown",
   "id": "e27686ae7a27d369",
   "metadata": {},
   "source": [
    "## Simulating individual conditions\n",
    "\n",
    "It's also possible to simulate only specific experimental conditions encoded in the PEtab problem. The `ExperimentManager` takes care of creating `ExpData` the respective instances, and setting the condition-specific parameters, measurements, and initial states:"
   ]
  },
  {
   "cell_type": "code",
   "execution_count": null,
   "id": "6b09db0d5fb98d5d",
   "metadata": {},
   "outputs": [],
   "source": [
    "model = importer.import_module().get_model()\n",
    "# It's important to use the petab Problem from the importer, as it was modified to encode the experimental conditions.\n",
    "em = ExperimentManager(model=model, petab_problem=importer.petab_problem)"
   ]
  },
  {
   "cell_type": "code",
   "execution_count": null,
   "id": "ee7582b9dc373519",
   "metadata": {},
   "outputs": [],
   "source": [
    "importer.petab_problem.experiments"
   ]
  },
  {
   "cell_type": "code",
   "execution_count": null,
   "id": "fbd47a575ad57cd3",
   "metadata": {},
   "outputs": [],
   "source": [
    "# TODO: this should (at least optionally) set the nominal parameter values\n",
    "\n",
    "edata = em.create_edata(importer.petab_problem.experiments[-1].id)\n",
    "em.apply_parameters(\n",
    "    edata,\n",
    "    dict(\n",
    "        zip(\n",
    "            importer.petab_problem.x_ids,\n",
    "            importer.petab_problem.x_nominal,\n",
    "            strict=True,\n",
    "        )\n",
    "    ),\n",
    ")"
   ]
  },
  {
   "cell_type": "code",
   "execution_count": null,
   "id": "9f24d8fdb8753fa1",
   "metadata": {},
   "outputs": [],
   "source": [
    "solver = model.create_solver()\n",
    "rdata = run_simulation(model, solver, edata)\n",
    "assert rdata.status == amici.AMICI_SUCCESS, \"Simulation failed.\""
   ]
  },
  {
   "cell_type": "code",
   "execution_count": null,
   "id": "53688eb0192a4793",
   "metadata": {},
   "outputs": [],
   "source": [
    "plot_observable_trajectories(rdata, model=model, edata=edata)"
   ]
  },
  {
   "cell_type": "code",
   "execution_count": null,
   "id": "631939e37d5b0b71",
   "metadata": {},
   "outputs": [],
   "source": [
    "plot_state_trajectories(rdata, model=model)"
   ]
  },
  {
   "cell_type": "code",
   "execution_count": null,
   "id": "8024434e7219142f",
   "metadata": {},
   "outputs": [],
   "source": [
    "rdata.x"
   ]
  },
  {
   "cell_type": "code",
   "execution_count": null,
   "id": "81d98e727479c959",
   "metadata": {},
   "outputs": [],
   "source": [
    "rdata.status"
   ]
  },
  {
   "cell_type": "code",
   "execution_count": null,
   "id": "fe240c228984fc10",
   "metadata": {},
   "outputs": [],
   "source": [
    "rdata = run_simulation(model, solver, result[EDATAS][-1])"
   ]
  },
  {
   "cell_type": "code",
   "execution_count": null,
   "id": "bd3a249ffae006e0",
   "metadata": {},
   "outputs": [],
   "source": [
    "plot_observable_trajectories(rdata, model=model, edata=edata)"
   ]
  },
  {
   "cell_type": "code",
   "execution_count": null,
   "id": "e44ab16d34ce325a",
   "metadata": {},
   "outputs": [],
   "source": [
    "plot_state_trajectories(rdata, model=model)"
   ]
  }
 ],
 "metadata": {
  "kernelspec": {
   "display_name": "Python 3",
   "language": "python",
   "name": "python3"
  },
  "language_info": {
   "codemirror_mode": {
    "name": "ipython",
    "version": 2
   },
   "file_extension": ".py",
   "mimetype": "text/x-python",
   "name": "python",
   "nbconvert_exporter": "python",
   "pygments_lexer": "ipython2",
   "version": "2.7.6"
  }
 },
 "nbformat": 4,
 "nbformat_minor": 5
}
