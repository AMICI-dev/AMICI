{
 "cells": [
  {
   "cell_type": "markdown",
   "metadata": {},
   "source": [
    "# AMICI Python example \"Experimental Conditions\"\n",
    "In this example we will explore some more options for the initialization of experimental conditions, including how to reset initial conditions based on changing values for `fixedParameters` as well as an additional presimulation phase on top of preequilibration. This notebook is expected to run from the `python/example_presimulation` directory."
   ]
  },
  {
   "cell_type": "code",
   "execution_count": 1,
   "metadata": {},
   "outputs": [],
   "source": [
    "# SBML model we want to import\n",
    "sbml_file = \"model_presimulation.xml\"\n",
    "# Name of the model that will also be the name of the python module\n",
    "model_name = \"model_presimulation\"\n",
    "# Directory to which the generated model code is written\n",
    "model_output_dir = model_name\n",
    "\n",
    "from pprint import pprint\n",
    "\n",
    "import amici.plotting\n",
    "import libsbml\n",
    "import numpy as np"
   ]
  },
  {
   "cell_type": "markdown",
   "metadata": {},
   "source": [
    "## Model Loading\n",
    "Here we load a simple model of protein phosphorylation that can be inhibited by a drug. This model was created using PySB (see `createModel.py`)"
   ]
  },
  {
   "cell_type": "code",
   "execution_count": 2,
   "metadata": {},
   "outputs": [
    {
     "name": "stdout",
     "output_type": "stream",
     "text": [
      "Species:\n",
      "[('__s0', \"PROT(kin=None, drug=None, phospho='u')\"),\n",
      " ('__s1', 'DRUG(bound=None)'),\n",
      " ('__s2', 'KIN(bound=None)'),\n",
      " ('__s3', \"DRUG(bound=1) ._br_PROT(kin=None, drug=1, phospho='u')\"),\n",
      " ('__s4', \"KIN(bound=1) ._br_PROT(kin=1, drug=None, phospho='u')\"),\n",
      " ('__s5', \"PROT(kin=None, drug=None, phospho='p')\")]\n",
      "\n",
      "Reactions:\n",
      "PROT_DRUG_bind:  __s0 +  __s1 <->      __s3\t\t[-(koff_prot_drug * __s3) + kon_prot_drug * __s0 * __s1]\n",
      "PROT_KIN_bind:  __s0 +  __s2  ->      __s4\t\t[kon_prot_kin * __s0 * __s2]\n",
      "PROT_KIN_phospho:       __s4  -> __s2 +  __s5\t\t[kphospho_prot_kin * __s4]\n",
      "PROT_dephospho:       __s5  ->      __s0\t\t[kdephospho_prot * __s5]\n",
      "Parameters:\n",
      "[('initProt', 'initProt'),\n",
      " ('initDrug', 'initDrug'),\n",
      " ('initKin', 'initKin'),\n",
      " ('pPROT_obs', 'pPROT_obs'),\n",
      " ('PROT_0', 'PROT_0'),\n",
      " ('DRUG_0', 'DRUG_0'),\n",
      " ('KIN_0', 'KIN_0'),\n",
      " ('kon_prot_drug', 'kon_prot_drug'),\n",
      " ('koff_prot_drug', 'koff_prot_drug'),\n",
      " ('kon_prot_kin', 'kon_prot_kin'),\n",
      " ('kphospho_prot_kin', 'kphospho_prot_kin'),\n",
      " ('kdephospho_prot', 'kdephospho_prot'),\n",
      " ('__obs0', 'pPROT'),\n",
      " ('__obs1', 'tPROT')]\n"
     ]
    }
   ],
   "source": [
    "sbml_reader = libsbml.SBMLReader()\n",
    "sbml_doc = sbml_reader.readSBML(sbml_file)\n",
    "sbml_model = sbml_doc.getModel()\n",
    "\n",
    "print(\"Species:\")\n",
    "pprint([(s.getId(), s.getName()) for s in sbml_model.getListOfSpecies()])\n",
    "\n",
    "print(\"\\nReactions:\")\n",
    "for reaction in sbml_model.getListOfReactions():\n",
    "    reactants = \" + \".join(\n",
    "        [\n",
    "            \"{} {}\".format(\n",
    "                int(r.getStoichiometry()) if r.getStoichiometry() > 1 else \"\",\n",
    "                r.getSpecies(),\n",
    "            )\n",
    "            for r in reaction.getListOfReactants()\n",
    "        ]\n",
    "    )\n",
    "    products = \" + \".join(\n",
    "        [\n",
    "            \"{} {}\".format(\n",
    "                int(r.getStoichiometry()) if r.getStoichiometry() > 1 else \"\",\n",
    "                r.getSpecies(),\n",
    "            )\n",
    "            for r in reaction.getListOfProducts()\n",
    "        ]\n",
    "    )\n",
    "    reversible = \"<\" if reaction.getReversible() else \"\"\n",
    "    print(\n",
    "        \"%3s: %10s %1s->%10s\\t\\t[%s]\"  # noqa: UP031\n",
    "        % (\n",
    "            reaction.getName(),\n",
    "            reactants,\n",
    "            reversible,\n",
    "            products,\n",
    "            libsbml.formulaToL3String(reaction.getKineticLaw().getMath()),\n",
    "        )\n",
    "    )\n",
    "\n",
    "print(\"Parameters:\")\n",
    "pprint([(p.getId(), p.getName()) for p in sbml_model.getListOfParameters()])"
   ]
  },
  {
   "cell_type": "code",
   "execution_count": 3,
   "metadata": {
    "scrolled": false
   },
   "outputs": [],
   "source": [
    "# Create an SbmlImporter instance for our SBML model\n",
    "sbml_importer = amici.SbmlImporter(sbml_file)"
   ]
  },
  {
   "cell_type": "markdown",
   "metadata": {},
   "source": [
    "For this example we want to specify the initial drug and kinase concentrations as experimental conditions. Accordingly, we specify them as `fixedParameters`. The meaning of `fixedParameters` is defined in the [Glossary](https://amici.readthedocs.io/en/latest/glossary.html#term-fixed-parameters), which we display here for convenience."
   ]
  },
  {
   "cell_type": "code",
   "execution_count": 4,
   "metadata": {},
   "outputs": [
    {
     "data": {
      "text/html": [
       "\n",
       "        <iframe\n",
       "            width=\"600\"\n",
       "            height=\"175\"\n",
       "            src=\"https://amici.readthedocs.io/en/latest/glossary.html#term-fixed-parameters\"\n",
       "            frameborder=\"0\"\n",
       "            allowfullscreen\n",
       "        ></iframe>\n",
       "        "
      ],
      "text/plain": [
       "<IPython.lib.display.IFrame at 0x10ce15b50>"
      ]
     },
     "execution_count": 4,
     "metadata": {},
     "output_type": "execute_result"
    }
   ],
   "source": [
    "from IPython.display import IFrame\n",
    "\n",
    "IFrame(\n",
    "    \"https://amici.readthedocs.io/en/latest/glossary.html#term-fixed-parameters\",\n",
    "    width=600,\n",
    "    height=175,\n",
    ")"
   ]
  },
  {
   "cell_type": "code",
   "execution_count": null,
   "metadata": {},
   "outputs": [],
   "source": [
    "fixed_parameters = [\"DRUG_0\", \"KIN_0\"]"
   ]
  },
  {
   "cell_type": "markdown",
   "metadata": {},
   "source": "The SBML model specifies a single observable named `pPROT` which describes the fraction of phosphorylated Protein. We load this observable using [amici.assignment_rules_to_observables](https://amici.readthedocs.io/en/latest/generated/amici.sbml_import.html#amici.sbml_import.assignment_rules_to_observables)."
  },
  {
   "cell_type": "code",
   "execution_count": 6,
   "metadata": {
    "scrolled": true
   },
   "outputs": [
    {
     "name": "stdout",
     "output_type": "stream",
     "text": [
      "Observables:\n",
      "{'__obs0': {'formula': '__s5', 'name': 'pPROT'}}\n"
     ]
    }
   ],
   "source": [
    "# Retrieve model output names and formulae from AssignmentRules and remove the respective rules\n",
    "observables = amici.assignment_rules_to_observables(\n",
    "    sbml_importer.sbml,  # the libsbml model object\n",
    "    filter_function=lambda variable: variable.getName() == \"pPROT\",\n",
    ")\n",
    "print(\"Observables:\")\n",
    "pprint(observables)"
   ]
  },
  {
   "cell_type": "markdown",
   "metadata": {},
   "source": [
    "Now the model is ready for compilation using [sbml2amici](https://amici.readthedocs.io/en/latest/generated/amici.sbml_import.SbmlImporter.html#amici.sbml_import.SbmlImporter.sbml2amici). Note that we here pass `fixedParameters` as arguments to `constant_parameters`, which ensures that amici is aware that we want to have them as `fixedParameters`:"
   ]
  },
  {
   "cell_type": "code",
   "execution_count": null,
   "metadata": {},
   "outputs": [],
   "source": [
    "sbml_importer.sbml2amici(\n",
    "    model_name,\n",
    "    model_output_dir,\n",
    "    verbose=False,\n",
    "    observation_model=observables,\n",
    "    constant_parameters=fixed_parameters,\n",
    ")\n",
    "# load the generated module\n",
    "model_module = amici.import_model_module(model_name, model_output_dir)"
   ]
  },
  {
   "cell_type": "markdown",
   "metadata": {},
   "source": [
    "To simulate the model we need to create an instance via the `getModel()` method in the generated model module."
   ]
  },
  {
   "cell_type": "code",
   "execution_count": null,
   "metadata": {},
   "outputs": [],
   "source": [
    "# Create Model instance\n",
    "model = model_module.get_model()\n",
    "\n",
    "# Create solver instance\n",
    "solver = model.create_solver()"
   ]
  },
  {
   "cell_type": "markdown",
   "metadata": {},
   "source": "The only thing we need to simulate the model is a timepoint vector, which can be specified using the [setTimepoints](https://amici.readthedocs.io/en/latest/generated/amici.amici.Model.html#amici.amici.Model.setTimepoints) method. If we do not specify any additional options, the default values for `fixedParameters` and `parameters` that were specified in the SBML file will be used."
  },
  {
   "cell_type": "code",
   "execution_count": null,
   "metadata": {},
   "outputs": [],
   "source": [
    "# Run simulation using default model parameters and solver options\n",
    "model.set_timepoints(np.linspace(0, 60, 60))\n",
    "rdata = amici.run_simulation(model, solver)\n",
    "amici.plotting.plot_observable_trajectories(rdata)"
   ]
  },
  {
   "cell_type": "markdown",
   "metadata": {},
   "source": [
    "Simulation options can be specified either in the [Model](https://amici.readthedocs.io/en/latest/generated/amici.amici.Model.html) or in an [ExpData](https://amici.readthedocs.io/en/latest/generated/amici.amici.ExpData.html) instance. The `ExpData` instance can also carry experimental data. To initialize an `ExpData` instance from simulation results, amici offers some [convenient constructors](https://amici.readthedocs.io/en/latest/generated/amici.amici.ExpData.html#amici.amici.ExpData). In the following we will initialize an `ExpData` object from simulation results, but add noise with standard deviation `0.1` and specify the standard deviation accordingly. Moreover, we will specify custom values for `DRUG_0=0` and `KIN_0=2`. If `fixedParameter` is specified in an `ExpData` instance, [runAmiciSimulation](https://amici.readthedocs.io/en/latest/generated/amici.html#amici.runAmiciSimulation) will use those parameters instead of the ones specified in the `Model` instance."
   ]
  },
  {
   "cell_type": "code",
   "execution_count": null,
   "metadata": {},
   "outputs": [],
   "source": [
    "edata = amici.ExpData(rdata, 0.1, 0.0)\n",
    "edata.fixed_parameters = [0, 2]\n",
    "rdata = amici.run_simulation(model, solver, edata)\n",
    "amici.plotting.plot_observable_trajectories(rdata)"
   ]
  },
  {
   "cell_type": "markdown",
   "metadata": {},
   "source": [
    "For many biological systems, it is reasonable to assume that they start in a\n",
    " steady state. In this example we want to specify an experiment where a pretreatment with a drug is performed _before_ the kinase is added. We assume that the pretreatment is sufficiently long such that the system reaches steadystate before the kinase is added. To implement this in amici, we can specify `fixedParametersPreequilibration` in the `ExpData` object. This automatically adds a preequilibration phase where the model is run to steadystate, before regular simulation starts. Here we set `DRUG_0=3` and `KIN_0=0` for the preequilibration. This means that there is no kinase available in the preequilibration phase."
   ]
  },
  {
   "cell_type": "code",
   "execution_count": null,
   "metadata": {},
   "outputs": [],
   "source": [
    "edata.fixed_parameters_pre_equilibration = [3, 0]\n",
    "rdata = amici.run_simulation(model, solver, edata)\n",
    "amici.plotting.plot_observable_trajectories(rdata)"
   ]
  },
  {
   "cell_type": "markdown",
   "metadata": {},
   "source": [
    "The resulting trajectory is definitely not what one may expect. The problem is that the `DRUG_0` and `KIN_0` set initial conditions for species in the model. By default, these initial conditions are only applied at the very beginning of the simulation, i.e., before the preequilibration. Accordingly, the `fixedParameters` that we specified do not have any effect. To fix this, we need to set the `reinitializeFixedParameterInitialStates` attribute to `True`, to specify that AMICI reinitializes all states that have `fixedParameter`-dependent initial states."
   ]
  },
  {
   "cell_type": "code",
   "execution_count": null,
   "metadata": {},
   "outputs": [],
   "source": [
    "edata.reinitialize_fixed_parameter_initial_states = True"
   ]
  },
  {
   "cell_type": "markdown",
   "metadata": {},
   "source": [
    "With this option activated, the kinase concentration will be reinitialized after the preequilibration and we will see the expected change in fractional phosphorylation:"
   ]
  },
  {
   "cell_type": "code",
   "execution_count": null,
   "metadata": {},
   "outputs": [],
   "source": [
    "rdata = amici.run_simulation(model, solver, edata)\n",
    "amici.plotting.plot_observable_trajectories(rdata)"
   ]
  },
  {
   "cell_type": "markdown",
   "metadata": {},
   "source": "On top of preequilibration, we can also specify presimulation. This option can be used to specify pretreatments where the system is not assumed to reach steadystate. Presimulation can be activated by specifying `t_presim` and `edata.fixed_parameters_presimulation`. If both `fixed_parameters_presimulation` and `fixed_parameters_pre_equilibration` are specified, pre-equilibration will be performed first, followed by presimulation, followed by regular simulation. For this example we specify `DRUG_0=10` and `KIN_0=0` for the presimulation and `DRUG_0=10` and `KIN_0=2` for the regular simulation. We do not overwrite the `DRUG_0=3` and `KIN_0=0` that was previously specified for pre-equilibration."
  },
  {
   "cell_type": "code",
   "execution_count": null,
   "metadata": {},
   "outputs": [],
   "source": [
    "edata.t_presim = 10\n",
    "edata.fixed_parameters_presimulation = [10.0, 0.0]\n",
    "edata.fixed_parameters = [10.0, 2.0]\n",
    "print(edata.fixed_parameters_pre_equilibration)\n",
    "print(edata.fixed_parameters_presimulation)\n",
    "print(edata.fixed_parameters)\n",
    "rdata = amici.run_simulation(model, solver, edata)\n",
    "amici.plotting.plot_observable_trajectories(rdata)"
   ]
  }
 ],
 "metadata": {
  "kernelspec": {
   "display_name": "Python3",
   "language": "python",
   "name": "python"
  },
  "language_info": {
   "codemirror_mode": {
    "name": "ipython",
    "version": 3
   },
   "file_extension": ".py",
   "mimetype": "text/x-python",
   "name": "python",
   "nbconvert_exporter": "python",
   "pygments_lexer": "ipython3",
   "version": "3.9.2"
  },
  "pycharm": {
   "stem_cell": {
    "cell_type": "raw",
    "metadata": {
     "collapsed": false
    },
    "source": []
   }
  }
 },
 "nbformat": 4,
 "nbformat_minor": 1
}
