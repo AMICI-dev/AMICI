{
 "cells": [
  {
   "cell_type": "markdown",
   "metadata": {},
   "source": [
    "# Steady-state computation in AMICI\n",
    "\n",
    "*This notebook demonstrates how to compute steady states and their sensitivities using AMICI. We explore pre- and post-equilibration scenarios, sensitivity analysis methods, and techniques for handling singular Jacobians.*\n",
    "\n",
    "Steady states play a crucial role in the analysis of dynamical systems, and their computation is a fundamental task in many applications, such as biochemical networks, control systems, and ecological models. A steady state is a condition where the system's state variables remain constant over time, meaning that their time derivatives are - and remain - zero. In mathematical terms, for a system described by ordinary differential equations (ODEs), a steady state $\\mathbf{x}^*$ satisfies the equation $\\dot{\\mathbf{x}} = \\mathbf{f}(\\mathbf{x}^*, \\theta) = 0$, where $\\mathbf{f}$ is the right-hand side of the ODEs and $\\theta$ represents model parameters.\n",
    "\n",
    "AMICI offers several methods for computing steady states and sensitivities at steady state using both forward and adjoint sensitivity analysis.\n",
    "\n",
    "Steady-state sensitivities are also important in the context of model calibration if the training data contains steady-state measurements and gradient-based optimization methods are used for parameter estimation.\n",
    "Common experimental scenarios include:\n",
    "\n",
    "1. the system is assumed to start in a steady state, then it is perturbed and enters a dynamic state;\n",
    "2. the system is assumed to start in a dynamic state, and after some time it reaches a steady state.\n",
    "\n",
    "In AMICI, these two cases are referred to as **pre-equilibration** and **post-equilibration**, respectively. The system can start in a steady state and reach a steady state again after a perturbation, therefore, the two cases are not mutually exclusive.\n",
    "\n",
    "![preeq_and_posteq.svg](figures/preeq_and_posteq.svg \"Simulation scenarios\")\n"
   ]
  },
  {
   "cell_type": "markdown",
   "metadata": {},
   "source": [
    "\n",
    "> **_NOTE:_** Not every dynamical system needs to run into a steady state. Instead, it may exhibit:\n",
    ">\n",
    ">  * continuous growth, e.g., $$\\dot{x} = x, \\quad x_0 = 1$$\n",
    ">  * a finite-time blow up, e.g., $$\\dot{x} = x^2, \\quad x_0 = 1$$\n",
    ">  * oscillations, e.g., $$\\ddot{x} = -x, \\quad x_0 = 1$$\n",
    ">  * chaotic behaviour, e.g., the Lorenz attractor\n",
    "\n",
    "In this notebook, we will discuss how one can perform pre- and post-equilibration using AMICI and compute sensitivities corresponding to the system’s steady state.\n",
    "\n",
    "# Table of Contents\n",
    "* [The example model](#example_model)\n",
    "* [Steady-state computation](#steady-state_computation)\n",
    "    * [Inferring the steady state of the system (post-equilibration)](#postequilibration)\n",
    "    * [Pre-equilibrating the model](#preequilibration)\n",
    "* [Sensitivities computation at steady state](#steady-state_sensitivities)\n",
    "    * [Post-equilibration with sensitivities](#posteq_sensitivities)\n",
    "    * [Pre-equilibration with sensitivities](#preeq_sensitivities)\n",
    "* [Controlling the error tolerances in pre- and post-equilibration ](#error_tolerances)"
   ]
  },
  {
   "cell_type": "markdown",
   "metadata": {},
   "source": [
    "## The example model <a name=\"example_model\"></a>\n",
    "\n",
    "We will use the example model `model_constant_species.xml`, which describes an enzymatic reaction\n",
    "\n",
    "![catalyzed_reaction.svg](figures/catalyzed_reaction.svg)\n",
    "\n",
    "The corresponding system of ODEs is\n",
    "\n",
    "$$\n",
    "\\begin{array}{llll}\n",
    "    \\dot{s} = (\\text{synthesis\\_substrate} + k_{\\text{create}}) - k_{\\text{bind}}\\cdot s \\cdot e + k_{\\text{unbind}}\\cdot c,\\\\\n",
    "    \\dot{e} = - k_{\\text{bind}}\\cdot s \\cdot e + k_{\\text{unbind}}\\cdot c + k_{\\text{convert}}\\cdot c,\\\\\n",
    "    \\dot{c} = k_{\\text{bind}}\\cdot s \\cdot e - k_{\\text{unbind}}\\cdot c - k_{\\text{convert}}\\cdot c,\\\\\n",
    "    \\dot{p} = k_{\\text{convert}}\\cdot c - k_{\\text{decay}}\\cdot p,\n",
    "\\end{array}\n",
    "$$\n",
    "\n",
    "where `s`, `e`, `c` and `p` are concentrations of substrate, enzyme, complex and product, respectively.\n",
    "\n",
    "This model has conserved quantities. Namely, the total amount of enzyme (complex + enzyme) remains constant over time. It can be seen from the ODEs: adding up the second and the third equations gives $ \\dot{e} + \\dot{c} = 0$. Conserved quantities in the model lead to a singular Jacobian, which makes some computational methods not applicable. For the system above the Jacobian is equal to\n",
    "\n",
    "$$\n",
    "\\begin{bmatrix}\n",
    "    - k_{\\text{bind}}\\cdot e & - k_{\\text{bind}}\\cdot s & k_{\\text{unbind}} & 0\\\\\n",
    "    - k_{\\text{bind}}\\cdot e & - k_{\\text{bind}}\\cdot s & (k_{\\text{unbind}} + k_{\\text{convert}}) & 0\\\\\n",
    "    k_{\\text{bind}}\\cdot e &  k_{\\text{bind}}\\cdot s & -(k_{\\text{unbind}} + k_{\\text{convert}}) & 0\\\\\n",
    "    0 & 0 & k_{\\text{convert}} & - k_{\\text{decay}}\\\\\n",
    "\\end{bmatrix}.\n",
    "$$\n",
    "\n",
    "It's easy to see that the first two columns (or the second and the third row) are linearly dependent and the determinant is equal to zero.\n",
    "\n",
    "If one is able to identify a conserved quantity, the model dimension can be reduced by excluding one of the states. For example, for the model above one can remove the second ODE and redefine `e` as `enzyme_total - c`, where `enzyme_total` is a constant specifying the total concentration of enzyme. In general, conserved quantities or conserved moieties are functions of the sates of the dynamical system that remain constant over time. They can be automatically removed in the SBML import of AMICI, if an environment variable ``AMICI_EXPERIMENTAL_SBML_NONCONST_CLS`` is set, using a heuristic-based conserved moieties identification approach presented in [De Martino et al. (2014)](https://doi.org/10.1371/journal.pone.0100750).\n",
    "\n",
    "Further, we will consider two versions of the model, with and without the conserved quantity, to demonstrate the failure of the Newton's method for steady-state computation and two different approaches for sensitivities computation that are not applicable if Jacobian is singular."
   ]
  },
  {
   "cell_type": "code",
   "metadata": {},
   "source": [
    "import libsbml\n",
    "import amici\n",
    "import os\n",
    "import numpy as np\n",
    "import matplotlib.pyplot as plt\n",
    "import tempfile\n",
    "from pathlib import Path\n",
    "\n",
    "# SBML model we want to import\n",
    "sbml_file = \"model_constant_species.xml\"\n",
    "\n",
    "# Name of the models that will also be the name of the python module\n",
    "model_name = \"model_constant_species\"\n",
    "model_reduced_name = model_name + \"_reduced\"\n",
    "\n",
    "# Directories to which the generated model code is written\n",
    "temp_dir = Path(tempfile.mkdtemp())\n",
    "model_output_dir = temp_dir / model_name\n",
    "model_reduced_output_dir = temp_dir / model_reduced_name\n",
    "\n",
    "# Read the model and give some output\n",
    "sbml_reader = libsbml.SBMLReader()\n",
    "sbml_doc = sbml_reader.readSBML(sbml_file)\n",
    "sbml_model = sbml_doc.getModel()\n",
    "dir(sbml_doc)\n",
    "\n",
    "print(\"Species: \", [s.getId() for s in sbml_model.getListOfSpecies()])\n",
    "\n",
    "print(\"\\nReactions:\")\n",
    "for reaction in sbml_model.getListOfReactions():\n",
    "    reactants = \" + \".join(\n",
    "        [\n",
    "            \"%s%s\"  # noqa: UP031\n",
    "            % (\n",
    "                int(r.getStoichiometry()) if r.getStoichiometry() > 1 else \"\",\n",
    "                r.getSpecies(),\n",
    "            )\n",
    "            for r in reaction.getListOfReactants()\n",
    "        ]\n",
    "    )\n",
    "    products = \" + \".join(\n",
    "        [\n",
    "            \"%s%s\"  # noqa: UP031\n",
    "            % (\n",
    "                int(r.getStoichiometry()) if r.getStoichiometry() > 1 else \"\",\n",
    "                r.getSpecies(),\n",
    "            )\n",
    "            for r in reaction.getListOfProducts()\n",
    "        ]\n",
    "    )\n",
    "    reversible = \"<\" if reaction.getReversible() else \"\"\n",
    "    print(\n",
    "        f\"{reaction.getId():>10}: {reactants:>18} {reversible:>1}-> {products:>16}  [{libsbml.formulaToL3String(reaction.getKineticLaw().getMath())}]\"\n",
    "    )"
   ],
   "outputs": [],
   "execution_count": null
  },
  {
   "cell_type": "code",
   "metadata": {},
   "source": [
    "# Create an SbmlImporter instance for our SBML model\n",
    "sbml_importer = amici.SbmlImporter(sbml_file)\n",
    "\n",
    "# specify observables and constant parameters\n",
    "constantParameters = [\"synthesis_substrate\", \"init_enzyme\"]\n",
    "observables = {\n",
    "    \"observable_product\": {\"name\": \"\", \"formula\": \"product\"},\n",
    "    \"observable_substrate\": {\"name\": \"\", \"formula\": \"substrate\"},\n",
    "}\n",
    "sigmas = {\"observable_product\": 1.0, \"observable_substrate\": 1.0}\n",
    "\n",
    "# import the model\n",
    "sbml_importer.sbml2amici(\n",
    "    model_name,\n",
    "    model_output_dir,\n",
    "    observables=observables,\n",
    "    constant_parameters=constantParameters,\n",
    "    sigmas=sigmas,\n",
    "    compute_conservation_laws=False,\n",
    ")\n",
    "\n",
    "# turn on removal of conservation laws and import the reduced model\n",
    "os.environ[\"AMICI_EXPERIMENTAL_SBML_NONCONST_CLS\"] = \"1\"\n",
    "sbml_importer.sbml2amici(\n",
    "    model_reduced_name,\n",
    "    model_reduced_output_dir,\n",
    "    observables=observables,\n",
    "    constant_parameters=constantParameters,\n",
    "    sigmas=sigmas,\n",
    ")"
   ],
   "outputs": [],
   "execution_count": null
  },
  {
   "cell_type": "code",
   "metadata": {},
   "source": [
    "# import the models and run some test simulations\n",
    "model_reduced_module = amici.import_model_module(\n",
    "    model_reduced_name, os.path.abspath(model_reduced_output_dir)\n",
    ")\n",
    "model_reduced = model_reduced_module.getModel()\n",
    "\n",
    "model_module = amici.import_model_module(\n",
    "    model_name, os.path.abspath(model_output_dir)\n",
    ")\n",
    "model = model_module.getModel()\n",
    "\n",
    "# simulate model with conservation laws\n",
    "model.setTimepoints(np.linspace(0, 2, 100))\n",
    "solver = model.getSolver()\n",
    "rdata = amici.runAmiciSimulation(model, solver)\n",
    "\n",
    "# simulate model without conservation laws\n",
    "model_reduced.setTimepoints(np.linspace(0, 2, 100))\n",
    "solver_reduced = model_reduced.getSolver()\n",
    "rdata_reduced = amici.runAmiciSimulation(model_reduced, solver_reduced)\n",
    "\n",
    "# plot trajectories\n",
    "import amici.plotting\n",
    "\n",
    "amici.plotting.plotStateTrajectories(rdata, model=model)\n",
    "amici.plotting.plotObservableTrajectories(rdata, model=model)\n",
    "\n",
    "amici.plotting.plotStateTrajectories(rdata_reduced, model=model_reduced)\n",
    "amici.plotting.plotObservableTrajectories(rdata_reduced, model=model_reduced)"
   ],
   "outputs": [],
   "execution_count": null
  },
  {
   "cell_type": "code",
   "metadata": {},
   "source": [
    "# the enzyme state was removed from the ODEs of the reduced model\n",
    "print(model.getStateIdsSolver())\n",
    "print(model_reduced.getStateIdsSolver())"
   ],
   "outputs": [],
   "execution_count": null
  },
  {
   "cell_type": "markdown",
   "metadata": {},
   "source": [
    "## Steady-state computation <a name=\"steady-state_computation\"></a>\n",
    "\n",
    "Two approaches are available in AMICI for steady-state computation:\n",
    "1. Newton's method\n",
    "2. Numerical integration until time derivatives $\\dot{x}$ become sufficiently small. Namely, numerical integration is performed until the condition\n",
    "$$\n",
    "    \\sqrt{\\frac 1 n_x \\sum_{i=1}^{n_x} (\\dot{x}_i w_i)^2} < 1, \\quad \\text{where} \\; w_i = \\frac{1}{\\text{rtol}*x_i + \\text{atol}}\n",
    "    \\label{eq:wrms}\n",
    "$$\n",
    "is fulfilled, where “rtol” and “atol” denote relative and absolute tolerances, respectively.\n",
    "\n",
    "In general, Newton's method is significantly faster than numerical integration. However, it will converge only if it was started close enough to the steady state. More about the convergence of the Newton's method and its implementation in AMICI can be found in [Lines et al. (2019)](https://doi.org/10.1016/j.ifacol.2019.12.232). Moreover, the Newton's method is only applicable if the system's Jacobian is non-singular.\n",
    "\n",
    ">By default, the Newton's method is attempted first. If it fails, numerical integration is performed instead. If it fails as well, Newton's method is performed again starting from the final point of the numerical integration.\n",
    "\n",
    "Many parameters, such as maximum allowed number of steps for the Newton's method or numerical integration or values of tolerances, influence steady-state computation.\n",
    "\n",
    "In the next section, we will try applying Newton's method to the models with and without conserved quantities, demonstrate how to set relevant parameters and interpret the data returned by simulation."
   ]
  },
  {
   "cell_type": "markdown",
   "metadata": {},
   "source": [
    "### Inferring the steady state of the system (post-equilibration) <a name=\"postequilibration\"></a>\n",
    "\n",
    "In order to run post-equilibration, one needs to add t=$\\infty$ to the list of timepoints. It can be the only timepoint or one can also set a number of finite timepoints.\n",
    "First, we want to demonstrate that the Newton's method will fail with the unreduced model due to a singular right-hand side Jacobian."
   ]
  },
  {
   "cell_type": "code",
   "metadata": {
    "scrolled": false
   },
   "source": [
    "# Call post-equilibration by setting an infinity timepoint\n",
    "model.setTimepoints([np.inf])\n",
    "\n",
    "# Set the solver\n",
    "solver = model.getSolver()\n",
    "solver.setNewtonMaxSteps(10)\n",
    "solver.setMaxSteps(\n",
    "    1000\n",
    ")  # maximum number of solver steps for numerical integration\n",
    "rdata = amici.runAmiciSimulation(model, solver)\n",
    "\n",
    "# print out a subset of data returned by model simulation\n",
    "for key in [\n",
    "    \"ts\",\n",
    "    \"x\",\n",
    "    \"xdot\",\n",
    "    \"posteq_wrms\",\n",
    "    \"posteq_t\",\n",
    "    \"posteq_numsteps\",\n",
    "    \"posteq_numstepsB\",\n",
    "    \"posteq_status\",\n",
    "    \"posteq_cpu_time\",\n",
    "    \"posteq_cpu_timeB\",\n",
    "]:\n",
    "    print(f\"{key:>16}: {rdata[key]}\")"
   ],
   "outputs": [],
   "execution_count": null
  },
  {
   "cell_type": "markdown",
   "metadata": {},
   "source": [
    "The 'x' value contains state values corresponding to the time points that were set for the model simulation. In this case, it is the state values at $t=\\infty$, i.e. the steady state. One can also see that `xdot` values are equal to zero or very small, which means that the steady-state condition ($\\dot{x} = 0$) is fulfilled. The actual weighted root-mean-square of the right-hand side when steady state was reached is reported in `posteq_wrms`.\n",
    "\n",
    "The fields `posteq_status` and `posteq_numsteps` in rdata tell us how post-equilibration worked. In both arrays each entry is, respectively, the status or the number of steps taken for\n",
    "\n",
    "  1. the Newton's method run;\n",
    "  2. the numerical integration run;\n",
    "  3. the second Newton's method run, starting from the simulation results.\n",
    "\n",
    "The status is encoded as an Integer flag with the following meanings:\n",
    "\n",
    "  * ` 1`: Successful run\n",
    "  * ` 0`: Did not run\n",
    "  * `-1`: Error: No further specification is given, the error message should give more information.\n",
    "  * `-2`: Error: The method did not converge to a steady state within the maximum number of steps (Newton's method or simulation).\n",
    "  * `-3`: Error: The Jacobian of the right hand side is singular (only Newton's method)\n",
    "  * `-4`: Error: The damping factor in Newton's method was reduced until it met the lower bound without success (Newton's method only)\n",
    "  * `-5`: Error: The model was simulated past the timepoint `t=1e100` without finding a steady state. Therefore, it is likely that the model has no steady state for the given parameter vector.\n",
    "\n",
    "\n",
    "\n",
    "In our case, only the second entry of `posteq_status` contains a positive integer: The first run of Newton's method failed due to a Jacobian, which could not be factorized, but the second run (simulation) contains the entry 1 (success). The third entry is 0, thus Newton's method was not launched for the second time.\n",
    "More information can be found in`posteq_numsteps`: Also here, only the second entry contains a positive integer, which is smaller than the allowed maximum number of steps (1000). Hence, steady state was reached via simulation, which corresponds to the simulated time written to `posteq_time`.\n",
    "\n",
    "We can simulate the system until $t=14$ and see that, indeed, the system converges to the steady-state value, which is equal to `rdata['x'][0]`."
   ]
  },
  {
   "cell_type": "code",
   "metadata": {},
   "source": [
    "# steady state value found by pre-equilibration\n",
    "steady_state = rdata[\"x\"][0]\n",
    "\n",
    "timepoints = np.linspace(0, 14, 200)\n",
    "model.setTimepoints(timepoints)\n",
    "rdata = amici.runAmiciSimulation(model, solver)\n",
    "amici.plotting.plotStateTrajectories(rdata, model=model)\n",
    "\n",
    "for stst_value in steady_state:\n",
    "    plt.axhline(y=stst_value, color=\"gray\", linestyle=\"--\", linewidth=1)"
   ],
   "outputs": [],
   "execution_count": null
  },
  {
   "cell_type": "markdown",
   "metadata": {},
   "source": [
    "We want to demonstrate a complete failure during the steady-state computation by reducing the number of integration steps to a lower value:"
   ]
  },
  {
   "cell_type": "code",
   "metadata": {},
   "source": [
    "# reduce maxsteps for integration\n",
    "model.setTimepoints([np.inf])\n",
    "solver.setMaxSteps(100)\n",
    "rdata = amici.runAmiciSimulation(model, solver)\n",
    "print(\"Simulation status:\", amici.simulation_status_to_str(rdata[\"status\"]))\n",
    "print(\"Status of post-equilibration:\", rdata[\"posteq_status\"])\n",
    "print(\n",
    "    \"Number of steps employed in post-equilibration:\", rdata[\"posteq_numsteps\"]\n",
    ")"
   ],
   "outputs": [],
   "execution_count": null
  },
  {
   "cell_type": "markdown",
   "metadata": {},
   "source": [
    "However, the same logic works if we use the reduced model.\n",
    "For sufficiently many Newton steps, post-equilibration is achieved by Newton's method in the first run. In this specific example, the steady state is found within one step."
   ]
  },
  {
   "cell_type": "code",
   "metadata": {
    "scrolled": false
   },
   "source": [
    "model_reduced.setTimepoints([np.inf])\n",
    "\n",
    "# set the solver\n",
    "solver_reduced = model_reduced.getSolver()\n",
    "solver_reduced.setNewtonMaxSteps(10)\n",
    "solver_reduced.setMaxSteps(100)\n",
    "rdata_reduced = amici.runAmiciSimulation(model_reduced, solver_reduced)\n",
    "\n",
    "print(\n",
    "    \"Simulation status:\",\n",
    "    amici.simulation_status_to_str(rdata_reduced[\"status\"]),\n",
    ")\n",
    "print(\"Steady-state value:\", rdata_reduced[\"x\"][0])\n",
    "print(\"Status of post-equilibration:\", rdata_reduced[\"posteq_status\"])\n",
    "print(\n",
    "    \"Number of steps employed in post-equilibration:\",\n",
    "    rdata_reduced[\"posteq_numsteps\"],\n",
    ")"
   ],
   "outputs": [],
   "execution_count": null
  },
  {
   "cell_type": "markdown",
   "metadata": {},
   "source": [
    "### Pre-equilibrating the model <a name=\"preequilibration\"></a>\n",
    "\n",
    "Sometimes, we want to launch a solver run from a steady state which was inferred numerically, i.e., the system requires pre-equilibration. In order to do this with AMICI, we need to pass an ExpData object, which contains fixed parameter values for the actual simulation and for pre-equilibration of the model."
   ]
  },
  {
   "cell_type": "code",
   "metadata": {},
   "source": [
    "# create edata, with 3 timepoints and 2 observables:\n",
    "edata = amici.ExpData(2, 0, 0, np.array([0.0, 0.1, 1.0]))\n",
    "edata.setObservedData([1.8] * 6)\n",
    "edata.fixedParameters = np.array([3.0, 5.0])\n",
    "# set parameters for pre-equilibration\n",
    "edata.fixedParametersPreequilibration = np.array([0.0, 2.0])\n",
    "edata.reinitializeFixedParameterInitialStates = True"
   ],
   "outputs": [],
   "execution_count": null
  },
  {
   "cell_type": "code",
   "metadata": {
    "scrolled": true
   },
   "source": [
    "# create the solver object and run the simulation\n",
    "solver_reduced = model_reduced.getSolver()\n",
    "solver_reduced.setNewtonMaxSteps(10)\n",
    "rdata_reduced = amici.runAmiciSimulation(model_reduced, solver_reduced, edata)\n",
    "\n",
    "print(\n",
    "    \"Simulation status:\",\n",
    "    amici.simulation_status_to_str(rdata_reduced[\"status\"]),\n",
    ")\n",
    "print(\"Status of pre-equilibration:\", rdata_reduced[\"preeq_status\"])\n",
    "print(\n",
    "    \"Number of steps employed in pre-equilibration:\",\n",
    "    rdata_reduced[\"preeq_numsteps\"],\n",
    ")\n",
    "print(\"Steady state found during pre-equilibration:\", rdata_reduced[\"x_ss\"])\n",
    "print(\"Initial state used for simulation:\", rdata_reduced[\"x0\"])\n",
    "\n",
    "\n",
    "amici.plotting.plotStateTrajectories(rdata_reduced, model=model_reduced)\n",
    "amici.plotting.plotObservableTrajectories(rdata_reduced, model=model_reduced)"
   ],
   "outputs": [],
   "execution_count": null
  },
  {
   "cell_type": "markdown",
   "metadata": {},
   "source": [
    "Pre-equilibration was successful and required 2 steps of the Newton's method. The steady state found during pre-equilibration is used as the initial state for the subsequent simulation, except the second entry, corresponding to the enzyme concentration. The reason is that the initial value for the enzyme concentration is defined by the second fixed parameter ('init_enzyme'). This parameter value is re-initialised after pre-equilibration and is set to 5.\n",
    "\n",
    "We can also combine pre- and post-equilibration."
   ]
  },
  {
   "cell_type": "code",
   "metadata": {},
   "source": [
    "# Change the last timepoint to an infinity timepoint.\n",
    "edata.setTimepoints(np.array([0.0, 0.1, float(\"inf\")]))\n",
    "\n",
    "# run the simulation\n",
    "rdata_reduced = amici.runAmiciSimulation(model_reduced, solver_reduced, edata)"
   ],
   "outputs": [],
   "execution_count": null
  },
  {
   "cell_type": "markdown",
   "metadata": {},
   "source": [
    "## Sensitivities computation at steady state <a name=\"steady-state_sensitivities\"></a>\n",
    "\n",
    "In addition to model simulation, AMICI supports forward sensitivity analysis and adjoint sensitivity analysis for likelihood-based output functions, which is crucial for parameter estimation. Both sensitivity analysis approaches can be adapted to exploit steady-state constraints and to compute sensitivities by solving a linear system. In this section, we consider these approaches, their applicability and available settings.\n",
    "\n",
    "![amici_logic_sensitivities_at_stst.svg](figures/amici_logic_sensitivities_at_stst.svg \"Steady-state sensitivity computation modes in AMICI\")\n",
    "\n",
    "### Post-equilibration with sensitivities <a name=\"posteq_sensitivities\"></a>\n",
    "\n",
    "<!-- Equilibration is possible with forward and adjoint sensitivity analysis. As for the main simulation part, adjoint sensitivity analysis yields less information than forward sensitivity analysis, since no state sensitivities are computed. However, it has a better scaling behavior towards large model sizes. -->\n",
    "\n",
    "#### Post-equilibration with forward sensitivities\n",
    "\n",
    "If forward sensitivity analysis is used, then state sensitivities at the timepoint `np.inf` will be computed. This can be done in (currently) two different ways:\n",
    "\n",
    "1. One can integrate the state variables with state sensitivities until the norm of the right-hand side becomes small. This approach is numerically more stable, but the computation time for large models may be substantial.\n",
    "\n",
    "\n",
    "2. The more efficient approach is to take into account the steady-state condition ($\\dot{x} = 0$), which allows to simplify the ODE system for state sensitivities into the linear system of equations: $$0 = \\left.\\dot{\\mathbf{s}}^x\\right\\vert_{\\mathbf{x} = \\mathbf{x}^*({\\theta})} = \\mathbf{J}(\\mathbf{x}^*({\\theta}), {\\theta}) \\left.\\mathbf{s}^x\\right\\vert_{\\mathbf{x} = \\mathbf{x}^*({\\theta})} + \\left.\\frac{\\partial \\mathbf{f}}{\\partial \\theta}\\right\\vert_{\\mathbf{x} = \\mathbf{x}^*({\\theta})}\\qquad \\Rightarrow \\qquad \\mathbf{J}(\\mathbf{x}^*({\\theta}), {\\theta}) \\left.\\mathbf{s}^x\\right\\vert_{\\mathbf{x} = \\mathbf{x}^*({\\theta})} = - \\left.\\frac{\\partial \\mathbf{f}}{\\partial \\theta}\\right\\vert_{\\mathbf{x} = \\mathbf{x}^*({\\theta})},$$ where $\\mathbf{s}^x$ are the state sensitivities, $\\mathbf{f}$ - is the right-hand side of the model ODEs, $\\theta$ - model parameters and $\\mathbf{J}(\\mathbf{x}^*({\\theta}), {\\theta}) = \\left.\\nabla_x \\mathbf{f}\\right\\vert_{\\mathbf{x} = \\mathbf{x}^*({\\theta})}$ is the systems's Jacobian at steady state. However, this method is only applicable if the Jacobian is not (close to) singular.\n",
    "\n",
    "\n",
    "<!-- This approach will be chosen by AMICI, if the steady state was found by simulation and the option `model.SteadyStateSensitivityMode` is set to `SteadyStateSensitivityMode.simulationFSA`.  -->\n",
    "This approach will always be chosen by AMICI, if the option `model.SteadyStateSensitivityMode` is set to `SteadyStateSensitivityMode.newtonOnly`. Furthermore, it will also be chosen if the steady state was found by Newton's method, as in this case, the Jacobian is at least not singular (but may still be poorly conditioned).\n",
    "<!--    A check for the condition number of the Jacobian is currently missing, but will soon be implemented. -->\n",
    "\n",
    "Side remark:\n",
    "A possible third way may consist in a (relaxed) Richardson iteration type approach, which interprets the entries of the right hand side $f$ as residuals and minimizes the squared residuals $\\Vert f \\Vert^2$ by a Levenberg-Marquardt-type algorithm. This approach would also work for poorly conditioned (and even for singular Jacobians if additional constraints are implemented as Lagrange multipliers) while being faster than a long forward simulation."
   ]
  },
  {
   "cell_type": "markdown",
   "metadata": {},
   "source": "We want to demonstrate both possibilities for steady-state sensitivities computation, and the failure of their computation if the Jacobian is singular and the `newtonOnly` setting was used."
  },
  {
   "cell_type": "code",
   "metadata": {},
   "source": [
    "# todo: better summary of SteadyStateSensitivityModes\n",
    "# todo: integrationOnly"
   ],
   "outputs": [],
   "execution_count": null
  },
  {
   "cell_type": "code",
   "metadata": {
    "scrolled": false
   },
   "source": [
    "# Call simulation with singular Jacobian and `integrateIfNewtonFails` mode\n",
    "model.setTimepoints([np.inf])\n",
    "model.setSteadyStateSensitivityMode(\n",
    "    amici.SteadyStateSensitivityMode.integrateIfNewtonFails\n",
    ")\n",
    "solver = model.getSolver()\n",
    "solver.setNewtonMaxSteps(10)\n",
    "solver.setSensitivityMethod(amici.SensitivityMethod.forward)\n",
    "solver.setSensitivityOrder(amici.SensitivityOrder.first)\n",
    "solver.setMaxSteps(10000)\n",
    "rdata = amici.runAmiciSimulation(model, solver)\n",
    "\n",
    "np.set_printoptions(threshold=20)\n",
    "print(\"Simulation status:\", amici.simulation_status_to_str(rdata[\"status\"]))\n",
    "print(\"Status of post-equilibration:\", rdata[\"posteq_status\"])\n",
    "print(\n",
    "    \"Number of steps employed in post-equilibration:\", rdata[\"posteq_numsteps\"]\n",
    ")\n",
    "print(\"Computed state sensitivities:\")\n",
    "print(rdata[\"sx\"][0, :, :])"
   ],
   "outputs": [],
   "execution_count": null
  },
  {
   "cell_type": "markdown",
   "metadata": {},
   "source": [
    "As can be seen from the `posteq_status`, Newton's method didn't work, but the steady state and corresponding sensitivities were computed by numerical integration.\n",
    "The shape of `rdata['sx']` is (number of timepoints) x (number of parameters) x (number of states)."
   ]
  },
  {
   "cell_type": "code",
   "metadata": {},
   "source": [
    "# Call simulation with singular Jacobian and newtonOnly mode (will fail)\n",
    "model.setTimepoints([np.inf])\n",
    "model.setSteadyStateSensitivityMode(\n",
    "    amici.SteadyStateSensitivityMode.newtonOnly\n",
    ")\n",
    "solver = model.getSolver()\n",
    "solver.setNewtonMaxSteps(10)\n",
    "solver.setSensitivityMethod(amici.SensitivityMethod.forward)\n",
    "solver.setSensitivityOrder(amici.SensitivityOrder.first)\n",
    "solver.setMaxSteps(10000)\n",
    "rdata = amici.runAmiciSimulation(model, solver)\n",
    "\n",
    "print(\"Simulation status:\", amici.simulation_status_to_str(rdata[\"status\"]))\n",
    "print(\"Steady state:\", rdata[\"x\"])\n",
    "print(\"Status of post-equilibration:\", rdata[\"posteq_status\"])\n",
    "print(\n",
    "    \"Number of steps employed in post-equilibration:\", rdata[\"posteq_numsteps\"]\n",
    ")\n",
    "print(\"Computed state sensitivities:\")\n",
    "print(rdata[\"sx\"][0, :, :])"
   ],
   "outputs": [],
   "execution_count": null
  },
  {
   "cell_type": "markdown",
   "metadata": {},
   "source": [
    "For the model with singular Jacobian steady-state computation worked by numerical integration. However, for sensitivities computation `amici.SteadyStateSensitivityMode.newtonOnly` approach was chosen which fails with singular Jacobian and the sensitivities could not be computed.\n",
    "We can try the same with the reduced model:"
   ]
  },
  {
   "cell_type": "code",
   "metadata": {
    "scrolled": true
   },
   "source": [
    "# Try `newtonOnly` option with reduced model\n",
    "model_reduced.setTimepoints([np.inf])\n",
    "model_reduced.setSteadyStateSensitivityMode(\n",
    "    amici.SteadyStateSensitivityMode.newtonOnly\n",
    ")\n",
    "solver_reduced = model_reduced.getSolver()\n",
    "solver_reduced.setNewtonMaxSteps(10)\n",
    "solver_reduced.setSensitivityMethod(amici.SensitivityMethod.forward)\n",
    "solver_reduced.setSensitivityOrder(amici.SensitivityOrder.first)\n",
    "solver_reduced.setMaxSteps(1000)\n",
    "rdata_reduced = amici.runAmiciSimulation(model_reduced, solver_reduced)\n",
    "\n",
    "print(\n",
    "    \"Simulation status:\",\n",
    "    amici.simulation_status_to_str(rdata_reduced[\"status\"]),\n",
    ")\n",
    "print(\"Steady state:\", rdata_reduced[\"x\"])\n",
    "print(\"Status of post-equilibration:\", rdata_reduced[\"posteq_status\"])\n",
    "print(\n",
    "    \"Number of steps employed in post-equilibration:\",\n",
    "    rdata_reduced[\"posteq_numsteps\"],\n",
    ")\n",
    "print(\"Computed state sensitivities:\")\n",
    "print(rdata_reduced[\"sx\"][0, :, :])"
   ],
   "outputs": [],
   "execution_count": null
  },
  {
   "cell_type": "markdown",
   "metadata": {},
   "source": [
    "In this case, both steady state and the corresponding sensitivities could be computed by solving the linear systems $\\mathbf{s}^x = - \\frac{\\partial \\mathbf{f}}{\\partial \\theta}$ for state sensitivities ($\\mathbf{s}^x$)."
   ]
  },
  {
   "cell_type": "markdown",
   "metadata": {},
   "source": [
    "#### Post-equilibration with adjoint sensitivities\n",
    "\n",
    "Post-equilibration also works with adjoint sensitivity analysis and, similar to forward sensitivities, two approaches are available for sensitivities computation at steady state:\n",
    "\n",
    "1. Standard adjoint sensitivity analysis can be performed to compute objective function gradient. This approach requires backward numerical integration of the adjoint state ODE form the timepoint of the steady-state measurements $t=t''$ (practically, $t''$ = `posteq_t`, at this time point steady-state condition was satisfied) until the last finite timepoint ($t_{n_t}$). Ultimately, one needs to compute\n",
    "$$\n",
    "\\int_{t_{n_t}}^{t''}\\mathbf{p}(t, {\\theta})^T\\left.\\frac{\\partial \\mathbf{f}}{\\partial \\theta_k}\\right|_{\\textbf{x}(t, {\\theta}),{\\theta}}dt,\n",
    "$$\n",
    "where $\\mathbf{p}$ is the adjoint state, $\\theta$ - model parameters.\n",
    "<!-- $$\n",
    "\\quad \\dot{\\mathbf{p}}(t,{\\theta}, \\mathbf{u}) = -\\mathbf{J}(\\mathbf{x}(t, {\\theta}, \\mathbf{u}), {\\theta}, \\mathbf{u})^T \\mathbf{p}(t,{\\theta}, \\mathbf{u}),\n",
    "    \\label{eq:adjoint_ode}\n",
    "$$\n",
    "with boundary values\n",
    "$$\n",
    "\\begin{split}\n",
    "\\mathbf{p}(t_j,{\\theta}, \\mathbf{u}) = \\lim_{t\\rightarrow t_j^+} \\mathbf{p}(t,{\\theta}, \\mathbf{u}) + \\sum^{n_y}_{j=1} \\left.\\frac{\\partial h_i}{\\partial \\mathbf{x}}\\right\\vert^T_{(\\mathbf{x}(t_j,{\\theta}, \\mathbf{u}), {\\theta}, \\mathbf{u})} \\frac{(\\bar{y}_{ij} - y_i(t_j, {\\theta}, \\mathbf{u}))}{\\sigma^2_{ij}}, \\quad \\text{and} \\\\\n",
    "\\lim_{t \\rightarrow t_{n_t}^+} \\mathbf{p}(t,{\\theta}, \\mathbf{u})=0,\n",
    "\\end{split}\n",
    "$$\n",
    "where $\\mathbf{p}$ is the adjoint state, $\\theta$ - model parameters, $J$ - Jacobian. -->\n",
    "\n",
    "2. Alternatively, one can exploit steady-state condition and speed up the computation. It can be shown that the integral\n",
    "$$\n",
    "\\int_{t_{n_t}}^{t''}\\mathbf{p}(t, {\\theta})^T\\left.\\frac{\\partial \\mathbf{f}}{\\partial \\theta_k}\\right|_{\\textbf{x}(t, {\\theta}),{\\theta}}dt\n",
    "$$\n",
    "    can be reduced to a matrix-vector product\n",
    "$$\n",
    "\\int^{t''}_{t'}\n",
    "\\mathbf{p}(t, {\\theta}, \\mathbf{u})^T dt \\cdot \\left.\n",
    "\\frac{\\partial \\mathbf{f}}\n",
    "{\\partial \\theta_k}\n",
    "\\right\\vert_{\\mathbf{x} = \\mathbf{x}^*({\\theta})}dt\n",
    "=\n",
    "\\mathbf{p}_{\\text{integral}}\n",
    "\\cdot \\left.\n",
    "\\frac{\\partial \\mathbf{f}}\n",
    "{\\partial \\theta_k}\n",
    "\\right\\vert_{\\mathbf{x} = \\mathbf{x}^*({\\theta})},\n",
    "$$\n",
    "    where $t'$ is a time point such that $t_{n_t} \\ll t' \\ll t''$ and for $t \\geq t'$ the system is at steady state. To obtain the integral one can solve the linear system of equations\n",
    "$$\n",
    "    \\mathbf{J}(\\mathbf{x}^*({\\theta}), {\\theta})^T \\mathbf{p}_{\\text{integral}} = -\\mathbf{p}(t'', {\\theta}).\n",
    "$$\n",
    "   The detailed explanation of this approach and the derivation of the last equation can be found in [Lakrisenko et al. (2023)](https://doi.org/10.1371/journal.pcbi.1010783).\n",
    "\n",
    "   However, this solution is given in terms of a linear system of equations defined by the transposed Jacobian of the right-hand side. Hence, if the (transposed) Jacobian is singular, it is not applicable. In this case, standard integration must be carried out.\n",
    "\n",
    "![amici_logic_adjoint_sensitivities_at_stst.svg](figures/amici_logic_adjoint_sensitivities_at_stst.svg)\n",
    "\n",
    "> **_NOTE:_** adjoint sensitivity analysis yields less information than forward sensitivity analysis, since state sensitivities are not computed. However, it has a better scaling behavior towards large model size."
   ]
  },
  {
   "cell_type": "code",
   "metadata": {},
   "source": [
    "# todo: standard ASA first"
   ],
   "outputs": [],
   "execution_count": null
  },
  {
   "cell_type": "code",
   "metadata": {},
   "source": [
    "# Call post-equilibration and sensitivities computation using adjoint sensitivity analysis\n",
    "# by setting an infinity timepoint\n",
    "# and creatíng an edata object, which is needed for adjoint computation\n",
    "edata = amici.ExpData(2, 0, 0, np.array([float(\"inf\")]))\n",
    "edata.setObservedData([1.8] * 2)\n",
    "edata.fixedParameters = np.array([3.0, 5.0])\n",
    "\n",
    "model_reduced.setSteadyStateSensitivityMode(\n",
    "    amici.SteadyStateSensitivityMode.newtonOnly\n",
    ")\n",
    "solver_reduced = model_reduced.getSolver()\n",
    "solver_reduced.setNewtonMaxSteps(10)\n",
    "solver_reduced.setSensitivityMethod(amici.SensitivityMethod.adjoint)\n",
    "solver_reduced.setSensitivityOrder(amici.SensitivityOrder.first)\n",
    "solver_reduced.setMaxSteps(1000)\n",
    "rdata_reduced = amici.runAmiciSimulation(model_reduced, solver_reduced, edata)\n",
    "\n",
    "print(\n",
    "    \"Simulation status:\",\n",
    "    amici.simulation_status_to_str(rdata_reduced[\"status\"]),\n",
    ")\n",
    "print(\"Status of post-equilibration:\", rdata_reduced[\"posteq_status\"])\n",
    "print(\n",
    "    \"Number of steps employed in post-equilibration:\",\n",
    "    rdata_reduced[\"posteq_numsteps\"],\n",
    ")\n",
    "print(\n",
    "    \"Number of backward steps employed in post-equilibration:\",\n",
    "    rdata_reduced[\"posteq_numstepsB\"],\n",
    ")\n",
    "print(\"Computed gradient:\", rdata_reduced[\"sllh\"])"
   ],
   "outputs": [],
   "execution_count": null
  },
  {
   "cell_type": "markdown",
   "metadata": {},
   "source": [
    "If we carry out the same computation with a system that has a singular Jacobian, then `posteq_numstepsB` will not be `0` anymore (which indicates that the linear system solve was used to compute backward post-equilibration).\n",
    "Now, integration is carried out and hence `posteq_numstepsB > 0`:"
   ]
  },
  {
   "cell_type": "code",
   "metadata": {},
   "source": [
    "# Call adjoint post-equilibration with model with singular Jacobian\n",
    "model.setSteadyStateSensitivityMode(\n",
    "    amici.SteadyStateSensitivityMode.newtonOnly\n",
    ")\n",
    "solver = model.getSolver()\n",
    "solver.setNewtonMaxSteps(10)\n",
    "solver.setSensitivityMethod(amici.SensitivityMethod.adjoint)\n",
    "solver.setSensitivityOrder(amici.SensitivityOrder.first)\n",
    "rdata = amici.runAmiciSimulation(model, solver, edata)\n",
    "\n",
    "print(\"Simulation status:\", amici.simulation_status_to_str(rdata[\"status\"]))\n",
    "print(\"Status of post-equilibration:\", rdata[\"posteq_status\"])\n",
    "print(\n",
    "    \"Number of steps employed in post-equilibration:\", rdata[\"posteq_numsteps\"]\n",
    ")\n",
    "print(\n",
    "    \"Number of backward steps employed in post-equilibration:\",\n",
    "    rdata[\"posteq_numstepsB\"],\n",
    ")\n",
    "print(\"Computed gradient:\", rdata[\"sllh\"])"
   ],
   "outputs": [],
   "execution_count": null
  },
  {
   "cell_type": "markdown",
   "metadata": {},
   "source": [
    "### Pre-equilibration with sensitivities <a name=\"preeq_sensitivities\"></a>\n",
    "\n",
    "Beyond the need for an ExpData object, the steady state solver logic in pre-equilibration is the same as in post-equilibration, also if sensitivities are requested. The computation will fail for singular Jacobians, if `SteadyStateSensitivityMode` is set to `newtonOnly`, or if not enough steps can be taken.\n",
    "However, if forward simulation with steady state sensitivities is allowed, or if the Jacobian is not singular, it will work."
   ]
  },
  {
   "cell_type": "markdown",
   "metadata": {},
   "source": [
    "#### Pre-equilibration with forward sensitivities"
   ]
  },
  {
   "cell_type": "code",
   "metadata": {
    "scrolled": false
   },
   "source": [
    "# No post-equilibration this time.\n",
    "edata.setTimepoints(np.array([0.0, 0.1, 1.0]))\n",
    "\n",
    "# create the solver object and run the simulation, singular Jacobian, enforce Newton solver for sensitivities\n",
    "model.setSteadyStateSensitivityMode(\n",
    "    amici.SteadyStateSensitivityMode.newtonOnly\n",
    ")\n",
    "solver = model.getSolver()\n",
    "solver.setNewtonMaxSteps(10)\n",
    "solver.setSensitivityMethod(amici.SensitivityMethod.forward)\n",
    "solver.setSensitivityOrder(amici.SensitivityOrder.first)\n",
    "rdata = amici.runAmiciSimulation(model, solver, edata)\n",
    "\n",
    "for key, value in rdata.items():\n",
    "    if key[0:6] == \"preeq_\":\n",
    "        print(f\"{key:20s}:\", value)"
   ],
   "outputs": [],
   "execution_count": null
  },
  {
   "cell_type": "code",
   "metadata": {
    "scrolled": false
   },
   "source": [
    "# Singular Jacobian, use simulation\n",
    "model.setSteadyStateSensitivityMode(\n",
    "    amici.SteadyStateSensitivityMode.integrateIfNewtonFails\n",
    ")\n",
    "solver = model.getSolver()\n",
    "solver.setNewtonMaxSteps(10)\n",
    "solver.setSensitivityMethod(amici.SensitivityMethod.forward)\n",
    "solver.setSensitivityOrder(amici.SensitivityOrder.first)\n",
    "rdata = amici.runAmiciSimulation(model, solver, edata)\n",
    "\n",
    "for key, value in rdata.items():\n",
    "    if key[0:6] == \"preeq_\":\n",
    "        print(f\"{key:20s}:\", value)"
   ],
   "outputs": [],
   "execution_count": null
  },
  {
   "cell_type": "code",
   "metadata": {},
   "source": [
    "# Non-singular Jacobian, use Newton solver\n",
    "solver_reduced = model_reduced.getSolver()\n",
    "solver_reduced.setNewtonMaxSteps(10)\n",
    "solver_reduced.setSensitivityMethod(amici.SensitivityMethod.forward)\n",
    "solver_reduced.setSensitivityOrder(amici.SensitivityOrder.first)\n",
    "rdata_reduced = amici.runAmiciSimulation(model_reduced, solver_reduced, edata)\n",
    "\n",
    "for key, value in rdata_reduced.items():\n",
    "    if key[0:6] == \"preeq_\":\n",
    "        print(f\"{key:20s}:\", value)"
   ],
   "outputs": [],
   "execution_count": null
  },
  {
   "cell_type": "markdown",
   "metadata": {},
   "source": [
    "#### Pre-equilibration with adjoint sensitivities\n",
    "\n",
    "\n",
    "When using pre-equilibration, adjoint sensitivity analysis can be used for simulation. This is a particularly interesting case: Standard adjoint sensitivity analysis requires the initial state sensitivities `sx0` to work, at least if data is given for finite (i.e., not exclusively post-equilibration) timepoints:\n",
    "For each parameter, a contribution to the gradient is given by the scalar product of the corresponding state sensitivity vector at timepoint $t=0$, (column in `sx0`), with the adjoint state ($p(t=0)$). Hence, the matrix `sx0` is needed. This scalar product \"closes the loop\" from forward to adjoint simulation.\n",
    "\n",
    "By default, if adjoint sensitivity analysis is called with pre-equilibration, the initial state sensitivities are computed in just the same way as if this way done for forward sensitivity analysis. The only difference in the internal logic is that, if the steady state gets inferred via simulation, a separate solver object is used in order to ensure that the steady-state simulation does not interfere with the snapshotting of the forward trajectory from the actual time course.\n",
    "\n",
    "However, also an adjoint version of pre-equilibration is possible: In this case, the \"loop\" from forward to adjoint simulation needs no closure: The simulation time is extended by pre-equilibration: forward from $t = -\\infty$ to $t=0$, and after adjoint simulation also backward from $t=0$ to $t = -\\infty$. Similar to adjoint post-equilibration, the steady state of the adjoint state (at $t=-\\infty$) is $p=0$, hence the scalar product (at $t=-\\infty$) for the initial state sensitivities of pre-equilibration with the adjoint state vanishes. Instead, this gradient contribution is covered by additional quadratures $\\int_{-\\infty}^0 p(s) ds \\cdot \\frac{\\partial f}{\\partial \\theta}$. In order to compute these quadratures correctly, the adjoint state from the main adjoint simulation must be passed on to the initial adjoint state of backward pre-equilibration.\n",
    "\n",
    "However, as the adjoint state must be passed on from backward computation to pre-equilibration, it is currently not allowed to alter (reinitialize) states of the model at $t=0$, unless these states are constant, as otherwise this alteration would lead to a discontinuity in the adjoints state as well and hence to an incorrect gradient."
   ]
  },
  {
   "cell_type": "code",
   "metadata": {},
   "source": [
    "# Non-singular Jacobian, use Newton solver and adjoints with initial state sensitivities\n",
    "solver_reduced = model_reduced.getSolver()\n",
    "solver_reduced.setNewtonMaxSteps(10)\n",
    "solver_reduced.setSensitivityMethod(amici.SensitivityMethod.adjoint)\n",
    "solver_reduced.setSensitivityOrder(amici.SensitivityOrder.first)\n",
    "rdata_reduced = amici.runAmiciSimulation(model_reduced, solver_reduced, edata)\n",
    "\n",
    "for key, value in rdata_reduced.items():\n",
    "    if key[0:6] == \"preeq_\":\n",
    "        print(f\"{key:20s}:\", value)\n",
    "print(\"Gradient:\", rdata_reduced[\"sllh\"])"
   ],
   "outputs": [],
   "execution_count": null
  },
  {
   "cell_type": "code",
   "metadata": {},
   "source": [
    "# Non-singular Jacobian, use simulation solver and adjoints with initial state sensitivities\n",
    "solver_reduced = model_reduced.getSolver()\n",
    "solver_reduced.setNewtonMaxSteps(0)\n",
    "solver_reduced.setSensitivityMethod(amici.SensitivityMethod.adjoint)\n",
    "solver_reduced.setSensitivityOrder(amici.SensitivityOrder.first)\n",
    "rdata_reduced = amici.runAmiciSimulation(model_reduced, solver_reduced, edata)\n",
    "\n",
    "for key, value in rdata_reduced.items():\n",
    "    if key[0:6] == \"preeq_\":\n",
    "        print(f\"{key:20s}:\", value)\n",
    "print(\"Gradient:\", rdata_reduced[\"sllh\"])"
   ],
   "outputs": [],
   "execution_count": null
  },
  {
   "cell_type": "code",
   "metadata": {},
   "source": [
    "# Non-singular Jacobian, use Newton solver and adjoints with fully adjoint pre-equilibration\n",
    "solver_reduced = model_reduced.getSolver()\n",
    "solver_reduced.setNewtonMaxSteps(10)\n",
    "solver_reduced.setSensitivityMethod(amici.SensitivityMethod.adjoint)\n",
    "solver_reduced.setSensitivityMethodPreequilibration(\n",
    "    amici.SensitivityMethod.adjoint\n",
    ")\n",
    "solver_reduced.setSensitivityOrder(amici.SensitivityOrder.first)\n",
    "rdata_reduced = amici.runAmiciSimulation(model_reduced, solver_reduced, edata)\n",
    "\n",
    "for key, value in rdata_reduced.items():\n",
    "    if key[0:6] == \"preeq_\":\n",
    "        print(f\"{key:20s}:\", value)\n",
    "print(\"Gradient:\", rdata_reduced[\"sllh\"])"
   ],
   "outputs": [],
   "execution_count": null
  },
  {
   "cell_type": "markdown",
   "metadata": {},
   "source": "As for post-equilibration, adjoint pre-equilibration has an analytic solution (via the linear system), which will be preferred. If used for models with singular Jacobian, numerical integration will be carried out, which is indicated by `preeq_numstepsB`."
  },
  {
   "cell_type": "code",
   "metadata": {},
   "source": [
    "# Non-singular Jacobian, use Newton solver and adjoints with fully adjoint pre-equilibration\n",
    "solver = model.getSolver()\n",
    "solver.setNewtonMaxSteps(10)\n",
    "solver.setSensitivityMethod(amici.SensitivityMethod.adjoint)\n",
    "solver.setSensitivityMethodPreequilibration(amici.SensitivityMethod.adjoint)\n",
    "solver.setSensitivityOrder(amici.SensitivityOrder.first)\n",
    "rdata = amici.runAmiciSimulation(model, solver, edata)\n",
    "\n",
    "for key, value in rdata.items():\n",
    "    if key[0:6] == \"preeq_\":\n",
    "        print(f\"{key:20s}:\", value)\n",
    "print(\"Gradient:\", rdata[\"sllh\"])"
   ],
   "outputs": [],
   "execution_count": null
  },
  {
   "cell_type": "markdown",
   "metadata": {},
   "source": [
    "## Controlling the error tolerances in pre- and post-equilibration <a name=\"error_tolerances\"></a>\n",
    "\n",
    "When solving ODEs or DAEs, AMICI uses the default logic of CVODES and IDAS to control error tolerances. This means that error weights are computed based on the absolute error tolerances and the product of current state variables of the system and their respective relative error tolerances.\n",
    "\n",
    "To find a steady state, numerical integration is performed until time derivatives $\\dot{\\mathbf{x}}$ become sufficiently small. Namely, until the following condition is fulfilled:\n",
    "\n",
    "$$\n",
    "    \\sqrt{\\frac 1 n_x \\sum_{i=1}^{n_x} (\\dot{x}_i w_i)^2} < 1, \\quad \\text{where} \\; w_i = \\frac{1}{\\text{rtol}*x_i + \\text{atol}},\n",
    "$$\n",
    "`rtol` and `atol` denote relative and absolute tolerances, respectively.\n",
    "\n",
    "The respective tolerances for equilibrating a system with AMICI can be controlled by the user via the getter/setter functions `[get|set][Absolute|Relative]ToleranceSteadyState[Sensi]`:"
   ]
  },
  {
   "cell_type": "code",
   "metadata": {
    "pycharm": {
     "name": "#%%\n"
    }
   },
   "source": [
    "# Non-singular Jacobian, use simulation\n",
    "model_reduced.setSteadyStateSensitivityMode(\n",
    "    amici.SteadyStateSensitivityMode.integrateIfNewtonFails\n",
    ")\n",
    "solver_reduced = model_reduced.getSolver()\n",
    "solver_reduced.setNewtonMaxSteps(0)\n",
    "solver_reduced.setSensitivityMethod(amici.SensitivityMethod.forward)\n",
    "solver_reduced.setSensitivityOrder(amici.SensitivityOrder.first)\n",
    "\n",
    "# run with lax tolerances\n",
    "solver_reduced.setRelativeToleranceSteadyState(1e-2)\n",
    "solver_reduced.setAbsoluteToleranceSteadyState(1e-3)\n",
    "solver_reduced.setRelativeToleranceSteadyStateSensi(1e-2)\n",
    "solver_reduced.setAbsoluteToleranceSteadyStateSensi(1e-3)\n",
    "rdata_reduced_lax = amici.runAmiciSimulation(\n",
    "    model_reduced, solver_reduced, edata\n",
    ")\n",
    "\n",
    "# run with strict tolerances\n",
    "solver_reduced.setRelativeToleranceSteadyState(1e-12)\n",
    "solver_reduced.setAbsoluteToleranceSteadyState(1e-16)\n",
    "solver_reduced.setRelativeToleranceSteadyStateSensi(1e-12)\n",
    "solver_reduced.setAbsoluteToleranceSteadyStateSensi(1e-16)\n",
    "rdata_reduced_strict = amici.runAmiciSimulation(\n",
    "    model_reduced, solver_reduced, edata\n",
    ")\n",
    "\n",
    "# compare ODE outputs\n",
    "print(\"\\nODE solver steps, which were necessary to reach steady state:\")\n",
    "print(\"lax tolerances: \", rdata_reduced_lax[\"preeq_numsteps\"])\n",
    "print(\"strict tolerances: \", rdata_reduced_strict[\"preeq_numsteps\"])\n",
    "\n",
    "print(\"\\nsimulation time corresponding to steady state:\")\n",
    "print(rdata_reduced_lax[\"preeq_t\"])\n",
    "print(rdata_reduced_strict[\"preeq_t\"])\n",
    "\n",
    "print(\"\\ncomputation time to reach steady state:\")\n",
    "print(rdata_reduced_lax[\"preeq_cpu_time\"])\n",
    "print(rdata_reduced_strict[\"preeq_cpu_time\"])"
   ],
   "outputs": [],
   "execution_count": null
  }
 ],
 "metadata": {
  "kernelspec": {
   "display_name": "Python 3",
   "language": "python",
   "name": "python3"
  },
  "language_info": {
   "codemirror_mode": {
    "name": "ipython",
    "version": 3
   },
   "file_extension": ".py",
   "mimetype": "text/x-python",
   "name": "python",
   "nbconvert_exporter": "python",
   "pygments_lexer": "ipython3",
   "version": "3.10.6"
  },
  "toc": {
   "base_numbering": 1,
   "nav_menu": {},
   "number_sections": true,
   "sideBar": true,
   "skip_h1_title": false,
   "title_cell": "Table of Contents",
   "title_sidebar": "Contents",
   "toc_cell": false,
   "toc_position": {},
   "toc_section_display": true,
   "toc_window_display": false
  }
 },
 "nbformat": 4,
 "nbformat_minor": 2
}
