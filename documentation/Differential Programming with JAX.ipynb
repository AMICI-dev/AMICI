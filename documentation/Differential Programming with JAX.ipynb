{
 "cells": [
  {
   "cell_type": "markdown",
   "id": "d4d2bc5c",
   "metadata": {},
   "source": [
    "purpose of this guide is combination of amici with differentiable programming in jax. \n",
    "for this guide, we will demonstrate how to implement custom parameter transformations."
   ]
  },
  {
   "cell_type": "code",
   "execution_count": 1,
   "id": "b0a66e18",
   "metadata": {},
   "outputs": [],
   "source": [
    "import jax\n",
    "import jax.numpy as jnp"
   ]
  },
  {
   "cell_type": "markdown",
   "id": "9cfd026a",
   "metadata": {},
   "source": [
    "key to differentiable programming is to have a custom jvp. this allows computation of derivatives using the chain rule. in jax gradients can be computed using the grad function. to interface amici with jax we will use the custom_jvp function to define how to compute the jacobian vector product for simulation results"
   ]
  },
  {
   "cell_type": "code",
   "execution_count": 2,
   "id": "da3aa3a0",
   "metadata": {},
   "outputs": [],
   "source": [
    "from jax import custom_jvp, value_and_grad"
   ]
  },
  {
   "cell_type": "markdown",
   "id": "9ac4b910",
   "metadata": {},
   "source": [
    "for native jax support, we would need to implement lax primitive for amici simulation, but would require quite a bit of engineering and writing C code.\n",
    "Instead support will be enabled by an experimental jax feature called `host_callback`. \n",
    "this means that amici code will only run on CPU, but AMICI code is anyways not amenable to GPU vectorization."
   ]
  },
  {
   "cell_type": "code",
   "execution_count": 3,
   "id": "208b25c5",
   "metadata": {},
   "outputs": [],
   "source": [
    "import jax.experimental.host_callback as hcb"
   ]
  },
  {
   "cell_type": "markdown",
   "id": "a4bc88fb",
   "metadata": {},
   "source": [
    "another important tool that we will use here is the function `partial` from the functools package. `partial` can be used as function decorator to apply arguments to other decorator functions."
   ]
  },
  {
   "cell_type": "markdown",
   "id": "fb2fe897",
   "metadata": {},
   "source": [
    "to get started we will import petab definition. will use benchmark collection [insert ref] for that, for more details see petab notebook [ref]."
   ]
  },
  {
   "cell_type": "code",
   "execution_count": 4,
   "id": "04804185",
   "metadata": {},
   "outputs": [
    {
     "name": "stdout",
     "output_type": "stream",
     "text": [
      "Cloning into 'tmp/benchmark-models'...\n",
      "remote: Enumerating objects: 336, done.\u001b[K\n",
      "remote: Counting objects: 100% (336/336), done.\u001b[K\n",
      "remote: Compressing objects: 100% (285/285), done.\u001b[K\n",
      "remote: Total 336 (delta 88), reused 216 (delta 39), pack-reused 0\u001b[K\n",
      "Receiving objects: 100% (336/336), 2.11 MiB | 11.02 MiB/s, done.\n",
      "Resolving deltas: 100% (88/88), done.\n"
     ]
    }
   ],
   "source": [
    "!git clone --depth 1 https://github.com/Benchmarking-Initiative/Benchmark-Models-PEtab.git tmp/benchmark-models || (cd tmp/benchmark-models && git pull)\n",
    "from pathlib import Path\n",
    "folder_base = Path('.') / \"tmp\" / \"benchmark-models\" / \"Benchmark-Models\""
   ]
  },
  {
   "cell_type": "markdown",
   "id": "8552f123",
   "metadata": {},
   "source": [
    "now we can import boehm model"
   ]
  },
  {
   "cell_type": "code",
   "execution_count": 5,
   "id": "9166e3bf",
   "metadata": {},
   "outputs": [],
   "source": [
    "import petab\n",
    "model_name = \"Boehm_JProteomeRes2014\"\n",
    "yaml_file = folder_base / model_name / (model_name + \".yaml\")\n",
    "petab_problem = petab.Problem.from_yaml(yaml_file)"
   ]
  },
  {
   "cell_type": "markdown",
   "id": "d4038fc4",
   "metadata": {},
   "source": [
    "parameter scaling is defined in the parameter table. for the boehm model, all estimated parameters (`petab.ESTIMATE` column equal to `1`) have a `petab.LOG10` as parameter scaling."
   ]
  },
  {
   "cell_type": "code",
   "execution_count": 6,
   "id": "b04ca561",
   "metadata": {},
   "outputs": [
    {
     "data": {
      "text/html": [
       "<div>\n",
       "<style scoped>\n",
       "    .dataframe tbody tr th:only-of-type {\n",
       "        vertical-align: middle;\n",
       "    }\n",
       "\n",
       "    .dataframe tbody tr th {\n",
       "        vertical-align: top;\n",
       "    }\n",
       "\n",
       "    .dataframe thead th {\n",
       "        text-align: right;\n",
       "    }\n",
       "</style>\n",
       "<table border=\"1\" class=\"dataframe\">\n",
       "  <thead>\n",
       "    <tr style=\"text-align: right;\">\n",
       "      <th></th>\n",
       "      <th>parameterName</th>\n",
       "      <th>parameterScale</th>\n",
       "      <th>lowerBound</th>\n",
       "      <th>upperBound</th>\n",
       "      <th>nominalValue</th>\n",
       "      <th>estimate</th>\n",
       "    </tr>\n",
       "    <tr>\n",
       "      <th>parameterId</th>\n",
       "      <th></th>\n",
       "      <th></th>\n",
       "      <th></th>\n",
       "      <th></th>\n",
       "      <th></th>\n",
       "      <th></th>\n",
       "    </tr>\n",
       "  </thead>\n",
       "  <tbody>\n",
       "    <tr>\n",
       "      <th>Epo_degradation_BaF3</th>\n",
       "      <td>EPO_{degradation,BaF3}</td>\n",
       "      <td>log10</td>\n",
       "      <td>0.00001</td>\n",
       "      <td>100000</td>\n",
       "      <td>0.026983</td>\n",
       "      <td>1</td>\n",
       "    </tr>\n",
       "    <tr>\n",
       "      <th>k_exp_hetero</th>\n",
       "      <td>k_{exp,hetero}</td>\n",
       "      <td>log10</td>\n",
       "      <td>0.00001</td>\n",
       "      <td>100000</td>\n",
       "      <td>0.000010</td>\n",
       "      <td>1</td>\n",
       "    </tr>\n",
       "    <tr>\n",
       "      <th>k_exp_homo</th>\n",
       "      <td>k_{exp,homo}</td>\n",
       "      <td>log10</td>\n",
       "      <td>0.00001</td>\n",
       "      <td>100000</td>\n",
       "      <td>0.006170</td>\n",
       "      <td>1</td>\n",
       "    </tr>\n",
       "    <tr>\n",
       "      <th>k_imp_hetero</th>\n",
       "      <td>k_{imp,hetero}</td>\n",
       "      <td>log10</td>\n",
       "      <td>0.00001</td>\n",
       "      <td>100000</td>\n",
       "      <td>0.016368</td>\n",
       "      <td>1</td>\n",
       "    </tr>\n",
       "    <tr>\n",
       "      <th>k_imp_homo</th>\n",
       "      <td>k_{imp,homo}</td>\n",
       "      <td>log10</td>\n",
       "      <td>0.00001</td>\n",
       "      <td>100000</td>\n",
       "      <td>97749.379402</td>\n",
       "      <td>1</td>\n",
       "    </tr>\n",
       "    <tr>\n",
       "      <th>k_phos</th>\n",
       "      <td>k_{phos}</td>\n",
       "      <td>log10</td>\n",
       "      <td>0.00001</td>\n",
       "      <td>100000</td>\n",
       "      <td>15766.507020</td>\n",
       "      <td>1</td>\n",
       "    </tr>\n",
       "    <tr>\n",
       "      <th>ratio</th>\n",
       "      <td>ratio</td>\n",
       "      <td>lin</td>\n",
       "      <td>-5.00000</td>\n",
       "      <td>5</td>\n",
       "      <td>0.693000</td>\n",
       "      <td>0</td>\n",
       "    </tr>\n",
       "    <tr>\n",
       "      <th>sd_pSTAT5A_rel</th>\n",
       "      <td>\\sigma_{pSTAT5A,rel}</td>\n",
       "      <td>log10</td>\n",
       "      <td>0.00001</td>\n",
       "      <td>100000</td>\n",
       "      <td>3.852612</td>\n",
       "      <td>1</td>\n",
       "    </tr>\n",
       "    <tr>\n",
       "      <th>sd_pSTAT5B_rel</th>\n",
       "      <td>\\sigma_{pSTAT5B,rel}</td>\n",
       "      <td>log10</td>\n",
       "      <td>0.00001</td>\n",
       "      <td>100000</td>\n",
       "      <td>6.591478</td>\n",
       "      <td>1</td>\n",
       "    </tr>\n",
       "    <tr>\n",
       "      <th>sd_rSTAT5A_rel</th>\n",
       "      <td>\\sigma_{rSTAT5A,rel}</td>\n",
       "      <td>log10</td>\n",
       "      <td>0.00001</td>\n",
       "      <td>100000</td>\n",
       "      <td>3.152713</td>\n",
       "      <td>1</td>\n",
       "    </tr>\n",
       "    <tr>\n",
       "      <th>specC17</th>\n",
       "      <td>specC17</td>\n",
       "      <td>lin</td>\n",
       "      <td>-5.00000</td>\n",
       "      <td>5</td>\n",
       "      <td>0.107000</td>\n",
       "      <td>0</td>\n",
       "    </tr>\n",
       "  </tbody>\n",
       "</table>\n",
       "</div>"
      ],
      "text/plain": [
       "                               parameterName parameterScale  lowerBound  \\\n",
       "parameterId                                                               \n",
       "Epo_degradation_BaF3  EPO_{degradation,BaF3}          log10     0.00001   \n",
       "k_exp_hetero                  k_{exp,hetero}          log10     0.00001   \n",
       "k_exp_homo                      k_{exp,homo}          log10     0.00001   \n",
       "k_imp_hetero                  k_{imp,hetero}          log10     0.00001   \n",
       "k_imp_homo                      k_{imp,homo}          log10     0.00001   \n",
       "k_phos                              k_{phos}          log10     0.00001   \n",
       "ratio                                  ratio            lin    -5.00000   \n",
       "sd_pSTAT5A_rel          \\sigma_{pSTAT5A,rel}          log10     0.00001   \n",
       "sd_pSTAT5B_rel          \\sigma_{pSTAT5B,rel}          log10     0.00001   \n",
       "sd_rSTAT5A_rel          \\sigma_{rSTAT5A,rel}          log10     0.00001   \n",
       "specC17                              specC17            lin    -5.00000   \n",
       "\n",
       "                      upperBound  nominalValue  estimate  \n",
       "parameterId                                               \n",
       "Epo_degradation_BaF3      100000      0.026983         1  \n",
       "k_exp_hetero              100000      0.000010         1  \n",
       "k_exp_homo                100000      0.006170         1  \n",
       "k_imp_hetero              100000      0.016368         1  \n",
       "k_imp_homo                100000  97749.379402         1  \n",
       "k_phos                    100000  15766.507020         1  \n",
       "ratio                          5      0.693000         0  \n",
       "sd_pSTAT5A_rel            100000      3.852612         1  \n",
       "sd_pSTAT5B_rel            100000      6.591478         1  \n",
       "sd_rSTAT5A_rel            100000      3.152713         1  \n",
       "specC17                        5      0.107000         0  "
      ]
     },
     "execution_count": 6,
     "metadata": {},
     "output_type": "execute_result"
    }
   ],
   "source": [
    "petab_problem.parameter_df"
   ]
  },
  {
   "cell_type": "markdown",
   "id": "8914a18d",
   "metadata": {},
   "source": [
    "now we import both petab problem using `amici.petab_import`"
   ]
  },
  {
   "cell_type": "code",
   "execution_count": 7,
   "id": "6ada3fb8",
   "metadata": {},
   "outputs": [],
   "source": [
    "from amici.petab_import import import_petab_problem"
   ]
  },
  {
   "cell_type": "code",
   "execution_count": 8,
   "id": "3423563f",
   "metadata": {
    "scrolled": true
   },
   "outputs": [
    {
     "name": "stderr",
     "output_type": "stream",
     "text": [
      "2023-02-16 10:46:20.089 - amici.petab_import - INFO - Importing model ...\n",
      "2023-02-16 10:46:20.090 - amici.petab_import - INFO - Validating PEtab problem ...\n",
      "2023-02-16 10:46:20.396 - amici.petab_import - INFO - Model name is 'Boehm_JProteomeRes2014'.\n",
      "Writing model code to '/Users/fabian/Documents/projects/AMICI/documentation/amici_models/Boehm_JProteomeRes2014'.\n",
      "2023-02-16 10:46:20.397 - amici.petab_import - INFO - Species: 8\n",
      "2023-02-16 10:46:20.397 - amici.petab_import - INFO - Global parameters: 9\n",
      "2023-02-16 10:46:20.398 - amici.petab_import - INFO - Reactions: 9\n",
      "2023-02-16 10:46:20.406 - amici.petab_import - INFO - Observables: 3\n",
      "2023-02-16 10:46:20.407 - amici.petab_import - INFO - Sigmas: 3\n",
      "2023-02-16 10:46:20.410 - amici.petab_import - DEBUG - Adding output parameters to model: ['noiseParameter1_pSTAT5A_rel', 'noiseParameter1_pSTAT5B_rel', 'noiseParameter1_rSTAT5A_rel']\n",
      "2023-02-16 10:46:20.411 - amici.petab_import - DEBUG - Adding initial assignments for []\n",
      "2023-02-16 10:46:20.417 - amici.petab_import - DEBUG - Condition table: (1, 1)\n",
      "2023-02-16 10:46:20.417 - amici.petab_import - DEBUG - Fixed parameters are ['ratio', 'specC17']\n",
      "2023-02-16 10:46:20.418 - amici.petab_import - INFO - Overall fixed parameters: 2\n",
      "2023-02-16 10:46:20.418 - amici.petab_import - INFO - Variable parameters: 10\n",
      "2023-02-16 10:46:20.447 - amici.sbml_import - DEBUG - Finished gathering local SBML symbols       ++ (1.10E-02s)\n",
      "2023-02-16 10:46:20.452 - amici.sbml_import - DEBUG - Finished processing SBML parameters         ++ (2.41E-03s)\n",
      "2023-02-16 10:46:20.454 - amici.sbml_import - DEBUG - Finished processing SBML compartments       ++ (1.12E-04s)\n",
      "2023-02-16 10:46:20.460 - amici.sbml_import - DEBUG - Finished processing SBML species initials  +++ (2.33E-03s)\n",
      "2023-02-16 10:46:20.463 - amici.sbml_import - DEBUG - Finished processing SBML rate rules        +++ (1.83E-05s)\n",
      "2023-02-16 10:46:20.463 - amici.sbml_import - DEBUG - Finished processing SBML species            ++ (6.98E-03s)\n",
      "2023-02-16 10:46:20.467 - amici.sbml_import - DEBUG - Finished processing SBML reactions          ++ (1.14E-03s)\n",
      "2023-02-16 10:46:20.470 - amici.sbml_import - DEBUG - Finished processing SBML rules              ++ (1.09E-03s)\n",
      "2023-02-16 10:46:20.472 - amici.sbml_import - DEBUG - Finished processing SBML initial assignments++ (4.60E-05s)\n",
      "2023-02-16 10:46:20.474 - amici.sbml_import - DEBUG - Finished processing SBML species references ++ (1.98E-04s)\n",
      "2023-02-16 10:46:20.476 - amici.sbml_import - DEBUG - Finished processing SBML events             ++ (3.70E-05s)\n",
      "2023-02-16 10:46:20.476 - amici.sbml_import - DEBUG - Finished importing SBML                      + (4.25E-02s)\n",
      "2023-02-16 10:46:20.508 - amici.sbml_import - DEBUG - Finished processing SBML observables         + (2.94E-02s)\n",
      "2023-02-16 10:46:20.512 - amici.sbml_import - DEBUG - Finished processing SBML event observables   + (7.92E-07s)\n",
      "2023-02-16 10:46:20.529 - amici.ode_export - DEBUG - Finished running smart_multiply              ++ (1.22E-03s)\n",
      "2023-02-16 10:46:20.552 - amici.ode_export - DEBUG - Finished importing SbmlImporter               + (2.69E-02s)\n",
      "2023-02-16 10:46:20.573 - amici.ode_export - DEBUG - Finished simplifying Jy                    ++++ (1.24E-02s)\n",
      "2023-02-16 10:46:20.573 - amici.ode_export - DEBUG - Finished computing Jy                       +++ (1.43E-02s)\n",
      "2023-02-16 10:46:20.600 - amici.ode_export - DEBUG - Finished simplifying y                     ++++ (2.27E-02s)\n",
      "2023-02-16 10:46:20.601 - amici.ode_export - DEBUG - Finished computing y                        +++ (2.47E-02s)\n",
      "2023-02-16 10:46:20.605 - amici.ode_export - DEBUG - Finished simplifying sigmay                ++++ (4.28E-05s)\n",
      "2023-02-16 10:46:20.605 - amici.ode_export - DEBUG - Finished computing sigmay                   +++ (1.89E-03s)\n",
      "2023-02-16 10:46:20.620 - amici.ode_export - DEBUG - Finished writing Jy.cpp                      ++ (6.28E-02s)\n",
      "2023-02-16 10:46:20.642 - amici.ode_export - DEBUG - Finished running smart_jacobian            ++++ (1.64E-02s)\n",
      "2023-02-16 10:46:20.651 - amici.ode_export - DEBUG - Finished simplifying dJydsigma             ++++ (5.78E-03s)\n",
      "2023-02-16 10:46:20.651 - amici.ode_export - DEBUG - Finished computing dJydsigma                +++ (2.70E-02s)\n",
      "2023-02-16 10:46:20.654 - amici.ode_export - DEBUG - Finished writing dJydsigma.cpp               ++ (3.14E-02s)\n",
      "2023-02-16 10:46:20.669 - amici.ode_export - DEBUG - Finished running smart_jacobian            ++++ (9.33E-03s)\n",
      "2023-02-16 10:46:20.678 - amici.ode_export - DEBUG - Finished simplifying dJydy                 ++++ (7.31E-03s)\n",
      "2023-02-16 10:46:20.679 - amici.ode_export - DEBUG - Finished computing dJydy                    +++ (2.07E-02s)\n",
      "2023-02-16 10:46:20.683 - amici.ode_export - DEBUG - Finished writing dJydy.cpp                   ++ (2.66E-02s)\n",
      "2023-02-16 10:46:20.688 - amici.ode_export - DEBUG - Finished simplifying Jz                    ++++ (3.21E-05s)\n",
      "2023-02-16 10:46:20.688 - amici.ode_export - DEBUG - Finished computing Jz                       +++ (1.68E-03s)\n",
      "2023-02-16 10:46:20.691 - amici.ode_export - DEBUG - Finished computing z                        +++ (5.73E-05s)\n",
      "2023-02-16 10:46:20.694 - amici.ode_export - DEBUG - Finished simplifying sigmaz                ++++ (2.60E-05s)\n",
      "2023-02-16 10:46:20.694 - amici.ode_export - DEBUG - Finished computing sigmaz                   +++ (1.65E-03s)\n",
      "2023-02-16 10:46:20.694 - amici.ode_export - DEBUG - Finished writing Jz.cpp                      ++ (8.85E-03s)\n",
      "2023-02-16 10:46:20.699 - amici.ode_export - DEBUG - Finished running smart_jacobian            ++++ (2.36E-05s)\n",
      "2023-02-16 10:46:20.701 - amici.ode_export - DEBUG - Finished simplifying dJzdsigma             ++++ (3.75E-05s)\n",
      "2023-02-16 10:46:20.702 - amici.ode_export - DEBUG - Finished computing dJzdsigma                +++ (3.69E-03s)\n",
      "2023-02-16 10:46:20.702 - amici.ode_export - DEBUG - Finished writing dJzdsigma.cpp               ++ (5.39E-03s)\n",
      "2023-02-16 10:46:20.707 - amici.ode_export - DEBUG - Finished running smart_jacobian            ++++ (2.33E-05s)\n",
      "2023-02-16 10:46:20.709 - amici.ode_export - DEBUG - Finished simplifying dJzdz                 ++++ (3.85E-05s)\n",
      "2023-02-16 10:46:20.710 - amici.ode_export - DEBUG - Finished computing dJzdz                    +++ (3.73E-03s)\n",
      "2023-02-16 10:46:20.710 - amici.ode_export - DEBUG - Finished writing dJzdz.cpp                   ++ (5.29E-03s)\n",
      "2023-02-16 10:46:20.715 - amici.ode_export - DEBUG - Finished simplifying Jrz                   ++++ (2.79E-05s)\n",
      "2023-02-16 10:46:20.715 - amici.ode_export - DEBUG - Finished computing Jrz                      +++ (1.64E-03s)\n",
      "2023-02-16 10:46:20.717 - amici.ode_export - DEBUG - Finished computing rz                       +++ (5.52E-05s)\n",
      "2023-02-16 10:46:20.718 - amici.ode_export - DEBUG - Finished writing Jrz.cpp                     ++ (5.46E-03s)\n",
      "2023-02-16 10:46:20.723 - amici.ode_export - DEBUG - Finished running smart_jacobian            ++++ (2.37E-05s)\n",
      "2023-02-16 10:46:20.725 - amici.ode_export - DEBUG - Finished simplifying dJrzdsigma            ++++ (3.34E-05s)\n",
      "2023-02-16 10:46:20.725 - amici.ode_export - DEBUG - Finished computing dJrzdsigma               +++ (3.63E-03s)\n",
      "2023-02-16 10:46:20.726 - amici.ode_export - DEBUG - Finished writing dJrzdsigma.cpp              ++ (5.18E-03s)\n",
      "2023-02-16 10:46:20.731 - amici.ode_export - DEBUG - Finished running smart_jacobian            ++++ (2.30E-05s)\n",
      "2023-02-16 10:46:20.732 - amici.ode_export - DEBUG - Finished simplifying dJrzdz                ++++ (2.96E-05s)\n",
      "2023-02-16 10:46:20.733 - amici.ode_export - DEBUG - Finished computing dJrzdz                   +++ (3.45E-03s)\n",
      "2023-02-16 10:46:20.733 - amici.ode_export - DEBUG - Finished writing dJrzdz.cpp                  ++ (5.01E-03s)\n",
      "2023-02-16 10:46:20.738 - amici.ode_export - DEBUG - Finished simplifying root                  ++++ (2.75E-05s)\n",
      "2023-02-16 10:46:20.738 - amici.ode_export - DEBUG - Finished computing root                     +++ (1.63E-03s)\n",
      "2023-02-16 10:46:20.738 - amici.ode_export - DEBUG - Finished writing root.cpp                    ++ (3.17E-03s)\n",
      "2023-02-16 10:46:20.752 - amici.ode_export - DEBUG - Finished simplifying w                    +++++ (6.91E-03s)\n"
     ]
    },
    {
     "name": "stderr",
     "output_type": "stream",
     "text": [
      "2023-02-16 10:46:20.752 - amici.ode_export - DEBUG - Finished computing w                       ++++ (8.81E-03s)\n",
      "2023-02-16 10:46:20.765 - amici.ode_export - DEBUG - Finished running smart_jacobian            ++++ (9.75E-03s)\n",
      "2023-02-16 10:46:20.771 - amici.ode_export - DEBUG - Finished simplifying dwdp                  ++++ (4.64E-03s)\n",
      "2023-02-16 10:46:20.772 - amici.ode_export - DEBUG - Finished computing dwdp                     +++ (2.96E-02s)\n",
      "2023-02-16 10:46:20.775 - amici.ode_export - DEBUG - Finished writing dwdp.cpp                    ++ (3.47E-02s)\n",
      "2023-02-16 10:46:20.790 - amici.ode_export - DEBUG - Finished running smart_jacobian            ++++ (8.31E-03s)\n",
      "2023-02-16 10:46:20.795 - amici.ode_export - DEBUG - Finished simplifying dwdx                  ++++ (3.34E-03s)\n",
      "2023-02-16 10:46:20.795 - amici.ode_export - DEBUG - Finished computing dwdx                     +++ (1.58E-02s)\n",
      "2023-02-16 10:46:20.798 - amici.ode_export - DEBUG - Finished writing dwdx.cpp                    ++ (2.01E-02s)\n",
      "2023-02-16 10:46:20.807 - amici.ode_export - DEBUG - Finished running smart_jacobian            ++++ (3.33E-03s)\n",
      "2023-02-16 10:46:20.812 - amici.ode_export - DEBUG - Finished simplifying dwdw                  ++++ (2.16E-03s)\n",
      "2023-02-16 10:46:20.812 - amici.ode_export - DEBUG - Finished computing dwdw                     +++ (9.63E-03s)\n",
      "2023-02-16 10:46:20.814 - amici.ode_export - DEBUG - Finished writing dwdw.cpp                    ++ (1.28E-02s)\n",
      "2023-02-16 10:46:20.824 - amici.ode_export - DEBUG - Finished simplifying xdot                 +++++ (3.58E-03s)\n",
      "2023-02-16 10:46:20.824 - amici.ode_export - DEBUG - Finished computing xdot                    ++++ (5.36E-03s)\n",
      "2023-02-16 10:46:20.834 - amici.ode_export - DEBUG - Finished running smart_jacobian            ++++ (6.95E-03s)\n",
      "2023-02-16 10:46:20.836 - amici.ode_export - DEBUG - Finished simplifying dxdotdw               ++++ (2.25E-04s)\n",
      "2023-02-16 10:46:20.836 - amici.ode_export - DEBUG - Finished computing dxdotdw                  +++ (1.89E-02s)\n",
      "2023-02-16 10:46:20.841 - amici.ode_export - DEBUG - Finished writing dxdotdw.cpp                 ++ (2.47E-02s)\n",
      "2023-02-16 10:46:20.846 - amici.ode_export - DEBUG - Finished running smart_jacobian            ++++ (5.45E-04s)\n",
      "2023-02-16 10:46:20.848 - amici.ode_export - DEBUG - Finished simplifying dxdotdx_explicit      ++++ (3.60E-05s)\n",
      "2023-02-16 10:46:20.849 - amici.ode_export - DEBUG - Finished computing dxdotdx_explicit         +++ (4.17E-03s)\n",
      "2023-02-16 10:46:20.849 - amici.ode_export - DEBUG - Finished writing dxdotdx_explicit.cpp        ++ (5.94E-03s)\n",
      "2023-02-16 10:46:20.855 - amici.ode_export - DEBUG - Finished running smart_jacobian            ++++ (5.89E-04s)\n",
      "2023-02-16 10:46:20.856 - amici.ode_export - DEBUG - Finished simplifying dxdotdp_explicit      ++++ (3.51E-05s)\n",
      "2023-02-16 10:46:20.857 - amici.ode_export - DEBUG - Finished computing dxdotdp_explicit         +++ (4.18E-03s)\n",
      "2023-02-16 10:46:20.857 - amici.ode_export - DEBUG - Finished writing dxdotdp_explicit.cpp        ++ (5.96E-03s)\n",
      "2023-02-16 10:46:20.895 - amici.ode_export - DEBUG - Finished running smart_jacobian           +++++ (3.12E-02s)\n",
      "2023-02-16 10:46:20.938 - amici.ode_export - DEBUG - Finished simplifying dydx                 +++++ (3.97E-02s)\n",
      "2023-02-16 10:46:20.938 - amici.ode_export - DEBUG - Finished computing dydx                    ++++ (7.55E-02s)\n",
      "2023-02-16 10:46:20.943 - amici.ode_export - DEBUG - Finished running smart_jacobian           +++++ (5.13E-04s)\n",
      "2023-02-16 10:46:20.945 - amici.ode_export - DEBUG - Finished simplifying dydw                 +++++ (3.52E-05s)\n",
      "2023-02-16 10:46:20.946 - amici.ode_export - DEBUG - Finished computing dydw                    ++++ (4.53E-03s)\n",
      "2023-02-16 10:46:20.981 - amici.ode_export - DEBUG - Finished simplifying dydx                  ++++ (3.35E-02s)\n",
      "2023-02-16 10:46:20.982 - amici.ode_export - DEBUG - Finished computing dydx                     +++ (1.21E-01s)\n",
      "2023-02-16 10:46:20.998 - amici.ode_export - DEBUG - Finished writing dydx.cpp                    ++ (1.38E-01s)\n",
      "2023-02-16 10:46:21.005 - amici.ode_export - DEBUG - Finished running smart_jacobian           +++++ (4.29E-04s)\n",
      "2023-02-16 10:46:21.007 - amici.ode_export - DEBUG - Finished simplifying dydp                 +++++ (3.74E-05s)\n",
      "2023-02-16 10:46:21.008 - amici.ode_export - DEBUG - Finished computing dydp                    ++++ (4.23E-03s)\n",
      "2023-02-16 10:46:21.010 - amici.ode_export - DEBUG - Finished simplifying dydp                  ++++ (3.38E-05s)\n",
      "2023-02-16 10:46:21.010 - amici.ode_export - DEBUG - Finished computing dydp                     +++ (8.69E-03s)\n",
      "2023-02-16 10:46:21.011 - amici.ode_export - DEBUG - Finished writing dydp.cpp                    ++ (1.06E-02s)\n",
      "2023-02-16 10:46:21.015 - amici.ode_export - DEBUG - Finished computing dzdx                     +++ (5.85E-05s)\n",
      "2023-02-16 10:46:21.015 - amici.ode_export - DEBUG - Finished writing dzdx.cpp                    ++ (1.66E-03s)\n",
      "2023-02-16 10:46:21.018 - amici.ode_export - DEBUG - Finished computing dzdp                     +++ (6.08E-05s)\n",
      "2023-02-16 10:46:21.019 - amici.ode_export - DEBUG - Finished writing dzdp.cpp                    ++ (1.76E-03s)\n",
      "2023-02-16 10:46:21.022 - amici.ode_export - DEBUG - Finished computing drzdx                    +++ (4.99E-05s)\n",
      "2023-02-16 10:46:21.022 - amici.ode_export - DEBUG - Finished writing drzdx.cpp                   ++ (1.62E-03s)\n",
      "2023-02-16 10:46:21.026 - amici.ode_export - DEBUG - Finished computing drzdp                    +++ (5.39E-05s)\n",
      "2023-02-16 10:46:21.026 - amici.ode_export - DEBUG - Finished writing drzdp.cpp                   ++ (1.65E-03s)\n",
      "2023-02-16 10:46:21.031 - amici.ode_export - DEBUG - Finished running smart_jacobian            ++++ (1.08E-04s)\n",
      "2023-02-16 10:46:21.033 - amici.ode_export - DEBUG - Finished simplifying dsigmaydy             ++++ (3.32E-05s)\n",
      "2023-02-16 10:46:21.033 - amici.ode_export - DEBUG - Finished computing dsigmaydy                +++ (3.63E-03s)\n",
      "2023-02-16 10:46:21.033 - amici.ode_export - DEBUG - Finished writing dsigmaydy.cpp               ++ (5.22E-03s)\n",
      "2023-02-16 10:46:21.039 - amici.ode_export - DEBUG - Finished running smart_jacobian            ++++ (4.49E-04s)\n",
      "2023-02-16 10:46:21.041 - amici.ode_export - DEBUG - Finished simplifying dsigmaydp             ++++ (6.69E-05s)\n",
      "2023-02-16 10:46:21.041 - amici.ode_export - DEBUG - Finished computing dsigmaydp                +++ (4.14E-03s)\n",
      "2023-02-16 10:46:21.043 - amici.ode_export - DEBUG - Finished writing dsigmaydp.cpp               ++ (6.72E-03s)\n",
      "2023-02-16 10:46:21.045 - amici.ode_export - DEBUG - Finished writing sigmay.cpp                  ++ (4.12E-04s)\n",
      "2023-02-16 10:46:21.050 - amici.ode_export - DEBUG - Finished running smart_jacobian            ++++ (2.43E-05s)\n",
      "2023-02-16 10:46:21.051 - amici.ode_export - DEBUG - Finished simplifying dsigmazdp             ++++ (3.62E-05s)\n",
      "2023-02-16 10:46:21.052 - amici.ode_export - DEBUG - Finished computing dsigmazdp                +++ (3.47E-03s)\n",
      "2023-02-16 10:46:21.052 - amici.ode_export - DEBUG - Finished writing dsigmazdp.cpp               ++ (4.96E-03s)\n",
      "2023-02-16 10:46:21.054 - amici.ode_export - DEBUG - Finished writing sigmaz.cpp                  ++ (1.58E-05s)\n",
      "2023-02-16 10:46:21.057 - amici.ode_export - DEBUG - Finished computing stau                     +++ (5.65E-05s)\n",
      "2023-02-16 10:46:21.058 - amici.ode_export - DEBUG - Finished writing stau.cpp                    ++ (1.65E-03s)\n",
      "2023-02-16 10:46:21.061 - amici.ode_export - DEBUG - Finished computing deltax                   +++ (5.13E-05s)\n",
      "2023-02-16 10:46:21.061 - amici.ode_export - DEBUG - Finished writing deltax.cpp                  ++ (1.68E-03s)\n",
      "2023-02-16 10:46:21.065 - amici.ode_export - DEBUG - Finished computing deltasx                  +++ (4.62E-05s)\n",
      "2023-02-16 10:46:21.065 - amici.ode_export - DEBUG - Finished writing deltasx.cpp                 ++ (1.62E-03s)\n",
      "2023-02-16 10:46:21.069 - amici.ode_export - DEBUG - Finished writing w.cpp                       ++ (2.34E-03s)\n",
      "2023-02-16 10:46:21.075 - amici.ode_export - DEBUG - Finished simplifying x0                    ++++ (8.81E-04s)\n",
      "2023-02-16 10:46:21.075 - amici.ode_export - DEBUG - Finished computing x0                       +++ (2.58E-03s)\n"
     ]
    },
    {
     "name": "stderr",
     "output_type": "stream",
     "text": [
      "2023-02-16 10:46:21.076 - amici.ode_export - DEBUG - Finished writing x0.cpp                      ++ (4.98E-03s)\n",
      "2023-02-16 10:46:21.081 - amici.ode_export - DEBUG - Finished simplifying x0_fixedParameters    ++++ (2.91E-04s)\n",
      "2023-02-16 10:46:21.082 - amici.ode_export - DEBUG - Finished computing x0_fixedParameters       +++ (1.98E-03s)\n",
      "2023-02-16 10:46:21.083 - amici.ode_export - DEBUG - Finished writing x0_fixedParameters.cpp      ++ (4.22E-03s)\n",
      "2023-02-16 10:46:21.088 - amici.ode_export - DEBUG - Finished running smart_jacobian            ++++ (7.87E-04s)\n",
      "2023-02-16 10:46:21.090 - amici.ode_export - DEBUG - Finished simplifying sx0                   ++++ (3.49E-05s)\n",
      "2023-02-16 10:46:21.090 - amici.ode_export - DEBUG - Finished computing sx0                      +++ (4.25E-03s)\n",
      "2023-02-16 10:46:21.091 - amici.ode_export - DEBUG - Finished writing sx0.cpp                     ++ (5.90E-03s)\n",
      "2023-02-16 10:46:21.095 - amici.ode_export - DEBUG - Finished running smart_jacobian            ++++ (8.68E-05s)\n",
      "2023-02-16 10:46:21.097 - amici.ode_export - DEBUG - Finished running smart_jacobian            ++++ (1.37E-04s)\n",
      "2023-02-16 10:46:21.099 - amici.ode_export - DEBUG - Finished simplifying sx0_fixedParameters   ++++ (2.71E-05s)\n",
      "2023-02-16 10:46:21.100 - amici.ode_export - DEBUG - Finished computing sx0_fixedParameters      +++ (5.53E-03s)\n",
      "2023-02-16 10:46:21.100 - amici.ode_export - DEBUG - Finished writing sx0_fixedParameters.cpp     ++ (7.52E-03s)\n",
      "2023-02-16 10:46:21.108 - amici.ode_export - DEBUG - Finished writing xdot.cpp                    ++ (5.25E-03s)\n",
      "2023-02-16 10:46:21.112 - amici.ode_export - DEBUG - Finished writing y.cpp                       ++ (2.38E-03s)\n",
      "2023-02-16 10:46:21.117 - amici.ode_export - DEBUG - Finished simplifying x_rdata               ++++ (6.87E-05s)\n",
      "2023-02-16 10:46:21.117 - amici.ode_export - DEBUG - Finished computing x_rdata                  +++ (1.92E-03s)\n",
      "2023-02-16 10:46:21.118 - amici.ode_export - DEBUG - Finished writing x_rdata.cpp                 ++ (4.13E-03s)\n",
      "2023-02-16 10:46:21.123 - amici.ode_export - DEBUG - Finished simplifying total_cl              ++++ (2.99E-05s)\n",
      "2023-02-16 10:46:21.123 - amici.ode_export - DEBUG - Finished computing total_cl                 +++ (1.68E-03s)\n",
      "2023-02-16 10:46:21.123 - amici.ode_export - DEBUG - Finished writing total_cl.cpp                ++ (3.25E-03s)\n",
      "2023-02-16 10:46:21.128 - amici.ode_export - DEBUG - Finished running smart_jacobian            ++++ (2.62E-05s)\n",
      "2023-02-16 10:46:21.130 - amici.ode_export - DEBUG - Finished simplifying dtotal_cldp           ++++ (3.72E-05s)\n",
      "2023-02-16 10:46:21.130 - amici.ode_export - DEBUG - Finished computing dtotal_cldp              +++ (3.56E-03s)\n",
      "2023-02-16 10:46:21.131 - amici.ode_export - DEBUG - Finished writing dtotal_cldp.cpp             ++ (5.09E-03s)\n",
      "2023-02-16 10:46:21.136 - amici.ode_export - DEBUG - Finished simplifying dtotal_cldx_rdata     ++++ (2.73E-05s)\n",
      "2023-02-16 10:46:21.136 - amici.ode_export - DEBUG - Finished computing dtotal_cldx_rdata        +++ (1.65E-03s)\n",
      "2023-02-16 10:46:21.136 - amici.ode_export - DEBUG - Finished writing dtotal_cldx_rdata.cpp       ++ (3.30E-03s)\n",
      "2023-02-16 10:46:21.141 - amici.ode_export - DEBUG - Finished simplifying x_solver              ++++ (8.30E-05s)\n",
      "2023-02-16 10:46:21.142 - amici.ode_export - DEBUG - Finished computing x_solver                 +++ (2.18E-03s)\n",
      "2023-02-16 10:46:21.143 - amici.ode_export - DEBUG - Finished writing x_solver.cpp                ++ (4.58E-03s)\n",
      "2023-02-16 10:46:21.149 - amici.ode_export - DEBUG - Finished simplifying dx_rdatadx_solver     ++++ (2.82E-04s)\n",
      "2023-02-16 10:46:21.149 - amici.ode_export - DEBUG - Finished computing dx_rdatadx_solver        +++ (1.94E-03s)\n",
      "2023-02-16 10:46:21.149 - amici.ode_export - DEBUG - Finished writing dx_rdatadx_solver.cpp       ++ (3.86E-03s)\n",
      "2023-02-16 10:46:21.155 - amici.ode_export - DEBUG - Finished simplifying dx_rdatadp            ++++ (2.93E-04s)\n",
      "2023-02-16 10:46:21.155 - amici.ode_export - DEBUG - Finished computing dx_rdatadp               +++ (1.91E-03s)\n",
      "2023-02-16 10:46:21.156 - amici.ode_export - DEBUG - Finished writing dx_rdatadp.cpp              ++ (3.65E-03s)\n",
      "2023-02-16 10:46:21.161 - amici.ode_export - DEBUG - Finished running smart_jacobian            ++++ (2.69E-05s)\n",
      "2023-02-16 10:46:21.163 - amici.ode_export - DEBUG - Finished simplifying dx_rdatadtcl          ++++ (3.50E-05s)\n",
      "2023-02-16 10:46:21.163 - amici.ode_export - DEBUG - Finished computing dx_rdatadtcl             +++ (3.66E-03s)\n",
      "2023-02-16 10:46:21.163 - amici.ode_export - DEBUG - Finished writing dx_rdatadtcl.cpp            ++ (5.28E-03s)\n",
      "2023-02-16 10:46:21.166 - amici.ode_export - DEBUG - Finished writing z.cpp                       ++ (1.85E-05s)\n",
      "2023-02-16 10:46:21.168 - amici.ode_export - DEBUG - Finished writing rz.cpp                      ++ (1.53E-05s)\n",
      "2023-02-16 10:46:21.178 - amici.ode_export - DEBUG - Finished generating cpp code                  + (6.22E-01s)\n",
      "2023-02-16 10:46:33.401 - amici.ode_export - DEBUG - Finished compiling cpp code                   + (1.22E+01s)\n"
     ]
    },
    {
     "name": "stdout",
     "output_type": "stream",
     "text": [
      "running AmiciInstall\n",
      "hdf5.h found in /opt/homebrew/Cellar/hdf5/1.12.2_2/include\n",
      "libhdf5.a found in /opt/homebrew/Cellar/hdf5/1.12.2_2/lib\n",
      "running build_ext\n",
      "Changed extra_compile_args for unix to ['-std=c++14']\n",
      "Building model extension in /Users/fabian/Documents/projects/AMICI/documentation/amici_models/Boehm_JProteomeRes2014\n",
      "building 'Boehm_JProteomeRes2014._Boehm_JProteomeRes2014' extension\n",
      "Testing SWIG executable swig4.0... FAILED.\n",
      "Testing SWIG executable swig3.0... FAILED.\n",
      "Testing SWIG executable swig... SUCCEEDED.\n",
      "swigging swig/Boehm_JProteomeRes2014.i to swig/Boehm_JProteomeRes2014_wrap.cpp\n",
      "swig -python -c++ -modern -outdir Boehm_JProteomeRes2014 -I/Users/fabian/Documents/projects/AMICI/python/sdist/amici/swig -I/Users/fabian/Documents/projects/AMICI/python/sdist/amici/include -o swig/Boehm_JProteomeRes2014_wrap.cpp swig/Boehm_JProteomeRes2014.i\n",
      "Deprecated command line option: -modern. Ignored, this option is now always on.\n",
      "creating build\n",
      "creating build/temp.macosx-13-arm64-cpython-310\n",
      "creating build/temp.macosx-13-arm64-cpython-310/swig\n",
      "clang -Wno-unused-result -Wsign-compare -Wunreachable-code -fno-common -dynamic -DNDEBUG -g -fwrapv -O3 -Wall -isysroot /Library/Developer/CommandLineTools/SDKs/MacOSX13.sdk -I/Users/fabian/Documents/projects/AMICI/documentation/amici_models/Boehm_JProteomeRes2014 -I/Users/fabian/Documents/projects/AMICI/python/sdist/amici/include -I/Users/fabian/Documents/projects/AMICI/python/sdist/amici/ThirdParty/gsl -I/Users/fabian/Documents/projects/AMICI/python/sdist/amici/ThirdParty/sundials/include -I/Users/fabian/Documents/projects/AMICI/python/sdist/amici/ThirdParty/SuiteSparse/include -I/opt/homebrew/Cellar/hdf5/1.12.2_2/include -I/Users/fabian/Documents/projects/AMICI/build/venv/include -I/opt/homebrew/opt/python@3.10/Frameworks/Python.framework/Versions/3.10/include/python3.10 -c Boehm_JProteomeRes2014.cpp -o build/temp.macosx-13-arm64-cpython-310/Boehm_JProteomeRes2014.o -std=c++14\n",
      "clang -Wno-unused-result -Wsign-compare -Wunreachable-code -fno-common -dynamic -DNDEBUG -g -fwrapv -O3 -Wall -isysroot /Library/Developer/CommandLineTools/SDKs/MacOSX13.sdk -I/Users/fabian/Documents/projects/AMICI/documentation/amici_models/Boehm_JProteomeRes2014 -I/Users/fabian/Documents/projects/AMICI/python/sdist/amici/include -I/Users/fabian/Documents/projects/AMICI/python/sdist/amici/ThirdParty/gsl -I/Users/fabian/Documents/projects/AMICI/python/sdist/amici/ThirdParty/sundials/include -I/Users/fabian/Documents/projects/AMICI/python/sdist/amici/ThirdParty/SuiteSparse/include -I/opt/homebrew/Cellar/hdf5/1.12.2_2/include -I/Users/fabian/Documents/projects/AMICI/build/venv/include -I/opt/homebrew/opt/python@3.10/Frameworks/Python.framework/Versions/3.10/include/python3.10 -c Boehm_JProteomeRes2014_Jy.cpp -o build/temp.macosx-13-arm64-cpython-310/Boehm_JProteomeRes2014_Jy.o -std=c++14\n",
      "clang -Wno-unused-result -Wsign-compare -Wunreachable-code -fno-common -dynamic -DNDEBUG -g -fwrapv -O3 -Wall -isysroot /Library/Developer/CommandLineTools/SDKs/MacOSX13.sdk -I/Users/fabian/Documents/projects/AMICI/documentation/amici_models/Boehm_JProteomeRes2014 -I/Users/fabian/Documents/projects/AMICI/python/sdist/amici/include -I/Users/fabian/Documents/projects/AMICI/python/sdist/amici/ThirdParty/gsl -I/Users/fabian/Documents/projects/AMICI/python/sdist/amici/ThirdParty/sundials/include -I/Users/fabian/Documents/projects/AMICI/python/sdist/amici/ThirdParty/SuiteSparse/include -I/opt/homebrew/Cellar/hdf5/1.12.2_2/include -I/Users/fabian/Documents/projects/AMICI/build/venv/include -I/opt/homebrew/opt/python@3.10/Frameworks/Python.framework/Versions/3.10/include/python3.10 -c Boehm_JProteomeRes2014_dJydsigma.cpp -o build/temp.macosx-13-arm64-cpython-310/Boehm_JProteomeRes2014_dJydsigma.o -std=c++14\n",
      "clang -Wno-unused-result -Wsign-compare -Wunreachable-code -fno-common -dynamic -DNDEBUG -g -fwrapv -O3 -Wall -isysroot /Library/Developer/CommandLineTools/SDKs/MacOSX13.sdk -I/Users/fabian/Documents/projects/AMICI/documentation/amici_models/Boehm_JProteomeRes2014 -I/Users/fabian/Documents/projects/AMICI/python/sdist/amici/include -I/Users/fabian/Documents/projects/AMICI/python/sdist/amici/ThirdParty/gsl -I/Users/fabian/Documents/projects/AMICI/python/sdist/amici/ThirdParty/sundials/include -I/Users/fabian/Documents/projects/AMICI/python/sdist/amici/ThirdParty/SuiteSparse/include -I/opt/homebrew/Cellar/hdf5/1.12.2_2/include -I/Users/fabian/Documents/projects/AMICI/build/venv/include -I/opt/homebrew/opt/python@3.10/Frameworks/Python.framework/Versions/3.10/include/python3.10 -c Boehm_JProteomeRes2014_dJydy.cpp -o build/temp.macosx-13-arm64-cpython-310/Boehm_JProteomeRes2014_dJydy.o -std=c++14\n",
      "clang -Wno-unused-result -Wsign-compare -Wunreachable-code -fno-common -dynamic -DNDEBUG -g -fwrapv -O3 -Wall -isysroot /Library/Developer/CommandLineTools/SDKs/MacOSX13.sdk -I/Users/fabian/Documents/projects/AMICI/documentation/amici_models/Boehm_JProteomeRes2014 -I/Users/fabian/Documents/projects/AMICI/python/sdist/amici/include -I/Users/fabian/Documents/projects/AMICI/python/sdist/amici/ThirdParty/gsl -I/Users/fabian/Documents/projects/AMICI/python/sdist/amici/ThirdParty/sundials/include -I/Users/fabian/Documents/projects/AMICI/python/sdist/amici/ThirdParty/SuiteSparse/include -I/opt/homebrew/Cellar/hdf5/1.12.2_2/include -I/Users/fabian/Documents/projects/AMICI/build/venv/include -I/opt/homebrew/opt/python@3.10/Frameworks/Python.framework/Versions/3.10/include/python3.10 -c Boehm_JProteomeRes2014_dJydy_colptrs.cpp -o build/temp.macosx-13-arm64-cpython-310/Boehm_JProteomeRes2014_dJydy_colptrs.o -std=c++14\n",
      "clang -Wno-unused-result -Wsign-compare -Wunreachable-code -fno-common -dynamic -DNDEBUG -g -fwrapv -O3 -Wall -isysroot /Library/Developer/CommandLineTools/SDKs/MacOSX13.sdk -I/Users/fabian/Documents/projects/AMICI/documentation/amici_models/Boehm_JProteomeRes2014 -I/Users/fabian/Documents/projects/AMICI/python/sdist/amici/include -I/Users/fabian/Documents/projects/AMICI/python/sdist/amici/ThirdParty/gsl -I/Users/fabian/Documents/projects/AMICI/python/sdist/amici/ThirdParty/sundials/include -I/Users/fabian/Documents/projects/AMICI/python/sdist/amici/ThirdParty/SuiteSparse/include -I/opt/homebrew/Cellar/hdf5/1.12.2_2/include -I/Users/fabian/Documents/projects/AMICI/build/venv/include -I/opt/homebrew/opt/python@3.10/Frameworks/Python.framework/Versions/3.10/include/python3.10 -c Boehm_JProteomeRes2014_dJydy_rowvals.cpp -o build/temp.macosx-13-arm64-cpython-310/Boehm_JProteomeRes2014_dJydy_rowvals.o -std=c++14\n",
      "clang -Wno-unused-result -Wsign-compare -Wunreachable-code -fno-common -dynamic -DNDEBUG -g -fwrapv -O3 -Wall -isysroot /Library/Developer/CommandLineTools/SDKs/MacOSX13.sdk -I/Users/fabian/Documents/projects/AMICI/documentation/amici_models/Boehm_JProteomeRes2014 -I/Users/fabian/Documents/projects/AMICI/python/sdist/amici/include -I/Users/fabian/Documents/projects/AMICI/python/sdist/amici/ThirdParty/gsl -I/Users/fabian/Documents/projects/AMICI/python/sdist/amici/ThirdParty/sundials/include -I/Users/fabian/Documents/projects/AMICI/python/sdist/amici/ThirdParty/SuiteSparse/include -I/opt/homebrew/Cellar/hdf5/1.12.2_2/include -I/Users/fabian/Documents/projects/AMICI/build/venv/include -I/opt/homebrew/opt/python@3.10/Frameworks/Python.framework/Versions/3.10/include/python3.10 -c Boehm_JProteomeRes2014_dsigmaydp.cpp -o build/temp.macosx-13-arm64-cpython-310/Boehm_JProteomeRes2014_dsigmaydp.o -std=c++14\n",
      "clang -Wno-unused-result -Wsign-compare -Wunreachable-code -fno-common -dynamic -DNDEBUG -g -fwrapv -O3 -Wall -isysroot /Library/Developer/CommandLineTools/SDKs/MacOSX13.sdk -I/Users/fabian/Documents/projects/AMICI/documentation/amici_models/Boehm_JProteomeRes2014 -I/Users/fabian/Documents/projects/AMICI/python/sdist/amici/include -I/Users/fabian/Documents/projects/AMICI/python/sdist/amici/ThirdParty/gsl -I/Users/fabian/Documents/projects/AMICI/python/sdist/amici/ThirdParty/sundials/include -I/Users/fabian/Documents/projects/AMICI/python/sdist/amici/ThirdParty/SuiteSparse/include -I/opt/homebrew/Cellar/hdf5/1.12.2_2/include -I/Users/fabian/Documents/projects/AMICI/build/venv/include -I/opt/homebrew/opt/python@3.10/Frameworks/Python.framework/Versions/3.10/include/python3.10 -c Boehm_JProteomeRes2014_dwdp.cpp -o build/temp.macosx-13-arm64-cpython-310/Boehm_JProteomeRes2014_dwdp.o -std=c++14\n",
      "clang -Wno-unused-result -Wsign-compare -Wunreachable-code -fno-common -dynamic -DNDEBUG -g -fwrapv -O3 -Wall -isysroot /Library/Developer/CommandLineTools/SDKs/MacOSX13.sdk -I/Users/fabian/Documents/projects/AMICI/documentation/amici_models/Boehm_JProteomeRes2014 -I/Users/fabian/Documents/projects/AMICI/python/sdist/amici/include -I/Users/fabian/Documents/projects/AMICI/python/sdist/amici/ThirdParty/gsl -I/Users/fabian/Documents/projects/AMICI/python/sdist/amici/ThirdParty/sundials/include -I/Users/fabian/Documents/projects/AMICI/python/sdist/amici/ThirdParty/SuiteSparse/include -I/opt/homebrew/Cellar/hdf5/1.12.2_2/include -I/Users/fabian/Documents/projects/AMICI/build/venv/include -I/opt/homebrew/opt/python@3.10/Frameworks/Python.framework/Versions/3.10/include/python3.10 -c Boehm_JProteomeRes2014_dwdp_colptrs.cpp -o build/temp.macosx-13-arm64-cpython-310/Boehm_JProteomeRes2014_dwdp_colptrs.o -std=c++14\n",
      "clang -Wno-unused-result -Wsign-compare -Wunreachable-code -fno-common -dynamic -DNDEBUG -g -fwrapv -O3 -Wall -isysroot /Library/Developer/CommandLineTools/SDKs/MacOSX13.sdk -I/Users/fabian/Documents/projects/AMICI/documentation/amici_models/Boehm_JProteomeRes2014 -I/Users/fabian/Documents/projects/AMICI/python/sdist/amici/include -I/Users/fabian/Documents/projects/AMICI/python/sdist/amici/ThirdParty/gsl -I/Users/fabian/Documents/projects/AMICI/python/sdist/amici/ThirdParty/sundials/include -I/Users/fabian/Documents/projects/AMICI/python/sdist/amici/ThirdParty/SuiteSparse/include -I/opt/homebrew/Cellar/hdf5/1.12.2_2/include -I/Users/fabian/Documents/projects/AMICI/build/venv/include -I/opt/homebrew/opt/python@3.10/Frameworks/Python.framework/Versions/3.10/include/python3.10 -c Boehm_JProteomeRes2014_dwdp_rowvals.cpp -o build/temp.macosx-13-arm64-cpython-310/Boehm_JProteomeRes2014_dwdp_rowvals.o -std=c++14\n",
      "clang -Wno-unused-result -Wsign-compare -Wunreachable-code -fno-common -dynamic -DNDEBUG -g -fwrapv -O3 -Wall -isysroot /Library/Developer/CommandLineTools/SDKs/MacOSX13.sdk -I/Users/fabian/Documents/projects/AMICI/documentation/amici_models/Boehm_JProteomeRes2014 -I/Users/fabian/Documents/projects/AMICI/python/sdist/amici/include -I/Users/fabian/Documents/projects/AMICI/python/sdist/amici/ThirdParty/gsl -I/Users/fabian/Documents/projects/AMICI/python/sdist/amici/ThirdParty/sundials/include -I/Users/fabian/Documents/projects/AMICI/python/sdist/amici/ThirdParty/SuiteSparse/include -I/opt/homebrew/Cellar/hdf5/1.12.2_2/include -I/Users/fabian/Documents/projects/AMICI/build/venv/include -I/opt/homebrew/opt/python@3.10/Frameworks/Python.framework/Versions/3.10/include/python3.10 -c Boehm_JProteomeRes2014_dwdw.cpp -o build/temp.macosx-13-arm64-cpython-310/Boehm_JProteomeRes2014_dwdw.o -std=c++14\n",
      "clang -Wno-unused-result -Wsign-compare -Wunreachable-code -fno-common -dynamic -DNDEBUG -g -fwrapv -O3 -Wall -isysroot /Library/Developer/CommandLineTools/SDKs/MacOSX13.sdk -I/Users/fabian/Documents/projects/AMICI/documentation/amici_models/Boehm_JProteomeRes2014 -I/Users/fabian/Documents/projects/AMICI/python/sdist/amici/include -I/Users/fabian/Documents/projects/AMICI/python/sdist/amici/ThirdParty/gsl -I/Users/fabian/Documents/projects/AMICI/python/sdist/amici/ThirdParty/sundials/include -I/Users/fabian/Documents/projects/AMICI/python/sdist/amici/ThirdParty/SuiteSparse/include -I/opt/homebrew/Cellar/hdf5/1.12.2_2/include -I/Users/fabian/Documents/projects/AMICI/build/venv/include -I/opt/homebrew/opt/python@3.10/Frameworks/Python.framework/Versions/3.10/include/python3.10 -c Boehm_JProteomeRes2014_dwdw_colptrs.cpp -o build/temp.macosx-13-arm64-cpython-310/Boehm_JProteomeRes2014_dwdw_colptrs.o -std=c++14\n",
      "clang -Wno-unused-result -Wsign-compare -Wunreachable-code -fno-common -dynamic -DNDEBUG -g -fwrapv -O3 -Wall -isysroot /Library/Developer/CommandLineTools/SDKs/MacOSX13.sdk -I/Users/fabian/Documents/projects/AMICI/documentation/amici_models/Boehm_JProteomeRes2014 -I/Users/fabian/Documents/projects/AMICI/python/sdist/amici/include -I/Users/fabian/Documents/projects/AMICI/python/sdist/amici/ThirdParty/gsl -I/Users/fabian/Documents/projects/AMICI/python/sdist/amici/ThirdParty/sundials/include -I/Users/fabian/Documents/projects/AMICI/python/sdist/amici/ThirdParty/SuiteSparse/include -I/opt/homebrew/Cellar/hdf5/1.12.2_2/include -I/Users/fabian/Documents/projects/AMICI/build/venv/include -I/opt/homebrew/opt/python@3.10/Frameworks/Python.framework/Versions/3.10/include/python3.10 -c Boehm_JProteomeRes2014_dwdw_rowvals.cpp -o build/temp.macosx-13-arm64-cpython-310/Boehm_JProteomeRes2014_dwdw_rowvals.o -std=c++14\n",
      "clang -Wno-unused-result -Wsign-compare -Wunreachable-code -fno-common -dynamic -DNDEBUG -g -fwrapv -O3 -Wall -isysroot /Library/Developer/CommandLineTools/SDKs/MacOSX13.sdk -I/Users/fabian/Documents/projects/AMICI/documentation/amici_models/Boehm_JProteomeRes2014 -I/Users/fabian/Documents/projects/AMICI/python/sdist/amici/include -I/Users/fabian/Documents/projects/AMICI/python/sdist/amici/ThirdParty/gsl -I/Users/fabian/Documents/projects/AMICI/python/sdist/amici/ThirdParty/sundials/include -I/Users/fabian/Documents/projects/AMICI/python/sdist/amici/ThirdParty/SuiteSparse/include -I/opt/homebrew/Cellar/hdf5/1.12.2_2/include -I/Users/fabian/Documents/projects/AMICI/build/venv/include -I/opt/homebrew/opt/python@3.10/Frameworks/Python.framework/Versions/3.10/include/python3.10 -c Boehm_JProteomeRes2014_dwdx.cpp -o build/temp.macosx-13-arm64-cpython-310/Boehm_JProteomeRes2014_dwdx.o -std=c++14\n",
      "clang -Wno-unused-result -Wsign-compare -Wunreachable-code -fno-common -dynamic -DNDEBUG -g -fwrapv -O3 -Wall -isysroot /Library/Developer/CommandLineTools/SDKs/MacOSX13.sdk -I/Users/fabian/Documents/projects/AMICI/documentation/amici_models/Boehm_JProteomeRes2014 -I/Users/fabian/Documents/projects/AMICI/python/sdist/amici/include -I/Users/fabian/Documents/projects/AMICI/python/sdist/amici/ThirdParty/gsl -I/Users/fabian/Documents/projects/AMICI/python/sdist/amici/ThirdParty/sundials/include -I/Users/fabian/Documents/projects/AMICI/python/sdist/amici/ThirdParty/SuiteSparse/include -I/opt/homebrew/Cellar/hdf5/1.12.2_2/include -I/Users/fabian/Documents/projects/AMICI/build/venv/include -I/opt/homebrew/opt/python@3.10/Frameworks/Python.framework/Versions/3.10/include/python3.10 -c Boehm_JProteomeRes2014_dwdx_colptrs.cpp -o build/temp.macosx-13-arm64-cpython-310/Boehm_JProteomeRes2014_dwdx_colptrs.o -std=c++14\n",
      "clang -Wno-unused-result -Wsign-compare -Wunreachable-code -fno-common -dynamic -DNDEBUG -g -fwrapv -O3 -Wall -isysroot /Library/Developer/CommandLineTools/SDKs/MacOSX13.sdk -I/Users/fabian/Documents/projects/AMICI/documentation/amici_models/Boehm_JProteomeRes2014 -I/Users/fabian/Documents/projects/AMICI/python/sdist/amici/include -I/Users/fabian/Documents/projects/AMICI/python/sdist/amici/ThirdParty/gsl -I/Users/fabian/Documents/projects/AMICI/python/sdist/amici/ThirdParty/sundials/include -I/Users/fabian/Documents/projects/AMICI/python/sdist/amici/ThirdParty/SuiteSparse/include -I/opt/homebrew/Cellar/hdf5/1.12.2_2/include -I/Users/fabian/Documents/projects/AMICI/build/venv/include -I/opt/homebrew/opt/python@3.10/Frameworks/Python.framework/Versions/3.10/include/python3.10 -c Boehm_JProteomeRes2014_dwdx_rowvals.cpp -o build/temp.macosx-13-arm64-cpython-310/Boehm_JProteomeRes2014_dwdx_rowvals.o -std=c++14\n",
      "clang -Wno-unused-result -Wsign-compare -Wunreachable-code -fno-common -dynamic -DNDEBUG -g -fwrapv -O3 -Wall -isysroot /Library/Developer/CommandLineTools/SDKs/MacOSX13.sdk -I/Users/fabian/Documents/projects/AMICI/documentation/amici_models/Boehm_JProteomeRes2014 -I/Users/fabian/Documents/projects/AMICI/python/sdist/amici/include -I/Users/fabian/Documents/projects/AMICI/python/sdist/amici/ThirdParty/gsl -I/Users/fabian/Documents/projects/AMICI/python/sdist/amici/ThirdParty/sundials/include -I/Users/fabian/Documents/projects/AMICI/python/sdist/amici/ThirdParty/SuiteSparse/include -I/opt/homebrew/Cellar/hdf5/1.12.2_2/include -I/Users/fabian/Documents/projects/AMICI/build/venv/include -I/opt/homebrew/opt/python@3.10/Frameworks/Python.framework/Versions/3.10/include/python3.10 -c Boehm_JProteomeRes2014_dxdotdw.cpp -o build/temp.macosx-13-arm64-cpython-310/Boehm_JProteomeRes2014_dxdotdw.o -std=c++14\n",
      "clang -Wno-unused-result -Wsign-compare -Wunreachable-code -fno-common -dynamic -DNDEBUG -g -fwrapv -O3 -Wall -isysroot /Library/Developer/CommandLineTools/SDKs/MacOSX13.sdk -I/Users/fabian/Documents/projects/AMICI/documentation/amici_models/Boehm_JProteomeRes2014 -I/Users/fabian/Documents/projects/AMICI/python/sdist/amici/include -I/Users/fabian/Documents/projects/AMICI/python/sdist/amici/ThirdParty/gsl -I/Users/fabian/Documents/projects/AMICI/python/sdist/amici/ThirdParty/sundials/include -I/Users/fabian/Documents/projects/AMICI/python/sdist/amici/ThirdParty/SuiteSparse/include -I/opt/homebrew/Cellar/hdf5/1.12.2_2/include -I/Users/fabian/Documents/projects/AMICI/build/venv/include -I/opt/homebrew/opt/python@3.10/Frameworks/Python.framework/Versions/3.10/include/python3.10 -c Boehm_JProteomeRes2014_dxdotdw_colptrs.cpp -o build/temp.macosx-13-arm64-cpython-310/Boehm_JProteomeRes2014_dxdotdw_colptrs.o -std=c++14\n",
      "clang -Wno-unused-result -Wsign-compare -Wunreachable-code -fno-common -dynamic -DNDEBUG -g -fwrapv -O3 -Wall -isysroot /Library/Developer/CommandLineTools/SDKs/MacOSX13.sdk -I/Users/fabian/Documents/projects/AMICI/documentation/amici_models/Boehm_JProteomeRes2014 -I/Users/fabian/Documents/projects/AMICI/python/sdist/amici/include -I/Users/fabian/Documents/projects/AMICI/python/sdist/amici/ThirdParty/gsl -I/Users/fabian/Documents/projects/AMICI/python/sdist/amici/ThirdParty/sundials/include -I/Users/fabian/Documents/projects/AMICI/python/sdist/amici/ThirdParty/SuiteSparse/include -I/opt/homebrew/Cellar/hdf5/1.12.2_2/include -I/Users/fabian/Documents/projects/AMICI/build/venv/include -I/opt/homebrew/opt/python@3.10/Frameworks/Python.framework/Versions/3.10/include/python3.10 -c Boehm_JProteomeRes2014_dxdotdw_rowvals.cpp -o build/temp.macosx-13-arm64-cpython-310/Boehm_JProteomeRes2014_dxdotdw_rowvals.o -std=c++14\n",
      "clang -Wno-unused-result -Wsign-compare -Wunreachable-code -fno-common -dynamic -DNDEBUG -g -fwrapv -O3 -Wall -isysroot /Library/Developer/CommandLineTools/SDKs/MacOSX13.sdk -I/Users/fabian/Documents/projects/AMICI/documentation/amici_models/Boehm_JProteomeRes2014 -I/Users/fabian/Documents/projects/AMICI/python/sdist/amici/include -I/Users/fabian/Documents/projects/AMICI/python/sdist/amici/ThirdParty/gsl -I/Users/fabian/Documents/projects/AMICI/python/sdist/amici/ThirdParty/sundials/include -I/Users/fabian/Documents/projects/AMICI/python/sdist/amici/ThirdParty/SuiteSparse/include -I/opt/homebrew/Cellar/hdf5/1.12.2_2/include -I/Users/fabian/Documents/projects/AMICI/build/venv/include -I/opt/homebrew/opt/python@3.10/Frameworks/Python.framework/Versions/3.10/include/python3.10 -c Boehm_JProteomeRes2014_dydx.cpp -o build/temp.macosx-13-arm64-cpython-310/Boehm_JProteomeRes2014_dydx.o -std=c++14\n",
      "clang -Wno-unused-result -Wsign-compare -Wunreachable-code -fno-common -dynamic -DNDEBUG -g -fwrapv -O3 -Wall -isysroot /Library/Developer/CommandLineTools/SDKs/MacOSX13.sdk -I/Users/fabian/Documents/projects/AMICI/documentation/amici_models/Boehm_JProteomeRes2014 -I/Users/fabian/Documents/projects/AMICI/python/sdist/amici/include -I/Users/fabian/Documents/projects/AMICI/python/sdist/amici/ThirdParty/gsl -I/Users/fabian/Documents/projects/AMICI/python/sdist/amici/ThirdParty/sundials/include -I/Users/fabian/Documents/projects/AMICI/python/sdist/amici/ThirdParty/SuiteSparse/include -I/opt/homebrew/Cellar/hdf5/1.12.2_2/include -I/Users/fabian/Documents/projects/AMICI/build/venv/include -I/opt/homebrew/opt/python@3.10/Frameworks/Python.framework/Versions/3.10/include/python3.10 -c Boehm_JProteomeRes2014_sigmay.cpp -o build/temp.macosx-13-arm64-cpython-310/Boehm_JProteomeRes2014_sigmay.o -std=c++14\n",
      "clang -Wno-unused-result -Wsign-compare -Wunreachable-code -fno-common -dynamic -DNDEBUG -g -fwrapv -O3 -Wall -isysroot /Library/Developer/CommandLineTools/SDKs/MacOSX13.sdk -I/Users/fabian/Documents/projects/AMICI/documentation/amici_models/Boehm_JProteomeRes2014 -I/Users/fabian/Documents/projects/AMICI/python/sdist/amici/include -I/Users/fabian/Documents/projects/AMICI/python/sdist/amici/ThirdParty/gsl -I/Users/fabian/Documents/projects/AMICI/python/sdist/amici/ThirdParty/sundials/include -I/Users/fabian/Documents/projects/AMICI/python/sdist/amici/ThirdParty/SuiteSparse/include -I/opt/homebrew/Cellar/hdf5/1.12.2_2/include -I/Users/fabian/Documents/projects/AMICI/build/venv/include -I/opt/homebrew/opt/python@3.10/Frameworks/Python.framework/Versions/3.10/include/python3.10 -c Boehm_JProteomeRes2014_sx0_fixedParameters.cpp -o build/temp.macosx-13-arm64-cpython-310/Boehm_JProteomeRes2014_sx0_fixedParameters.o -std=c++14\n",
      "clang -Wno-unused-result -Wsign-compare -Wunreachable-code -fno-common -dynamic -DNDEBUG -g -fwrapv -O3 -Wall -isysroot /Library/Developer/CommandLineTools/SDKs/MacOSX13.sdk -I/Users/fabian/Documents/projects/AMICI/documentation/amici_models/Boehm_JProteomeRes2014 -I/Users/fabian/Documents/projects/AMICI/python/sdist/amici/include -I/Users/fabian/Documents/projects/AMICI/python/sdist/amici/ThirdParty/gsl -I/Users/fabian/Documents/projects/AMICI/python/sdist/amici/ThirdParty/sundials/include -I/Users/fabian/Documents/projects/AMICI/python/sdist/amici/ThirdParty/SuiteSparse/include -I/opt/homebrew/Cellar/hdf5/1.12.2_2/include -I/Users/fabian/Documents/projects/AMICI/build/venv/include -I/opt/homebrew/opt/python@3.10/Frameworks/Python.framework/Versions/3.10/include/python3.10 -c Boehm_JProteomeRes2014_w.cpp -o build/temp.macosx-13-arm64-cpython-310/Boehm_JProteomeRes2014_w.o -std=c++14\n",
      "clang -Wno-unused-result -Wsign-compare -Wunreachable-code -fno-common -dynamic -DNDEBUG -g -fwrapv -O3 -Wall -isysroot /Library/Developer/CommandLineTools/SDKs/MacOSX13.sdk -I/Users/fabian/Documents/projects/AMICI/documentation/amici_models/Boehm_JProteomeRes2014 -I/Users/fabian/Documents/projects/AMICI/python/sdist/amici/include -I/Users/fabian/Documents/projects/AMICI/python/sdist/amici/ThirdParty/gsl -I/Users/fabian/Documents/projects/AMICI/python/sdist/amici/ThirdParty/sundials/include -I/Users/fabian/Documents/projects/AMICI/python/sdist/amici/ThirdParty/SuiteSparse/include -I/opt/homebrew/Cellar/hdf5/1.12.2_2/include -I/Users/fabian/Documents/projects/AMICI/build/venv/include -I/opt/homebrew/opt/python@3.10/Frameworks/Python.framework/Versions/3.10/include/python3.10 -c Boehm_JProteomeRes2014_x0.cpp -o build/temp.macosx-13-arm64-cpython-310/Boehm_JProteomeRes2014_x0.o -std=c++14\n",
      "clang -Wno-unused-result -Wsign-compare -Wunreachable-code -fno-common -dynamic -DNDEBUG -g -fwrapv -O3 -Wall -isysroot /Library/Developer/CommandLineTools/SDKs/MacOSX13.sdk -I/Users/fabian/Documents/projects/AMICI/documentation/amici_models/Boehm_JProteomeRes2014 -I/Users/fabian/Documents/projects/AMICI/python/sdist/amici/include -I/Users/fabian/Documents/projects/AMICI/python/sdist/amici/ThirdParty/gsl -I/Users/fabian/Documents/projects/AMICI/python/sdist/amici/ThirdParty/sundials/include -I/Users/fabian/Documents/projects/AMICI/python/sdist/amici/ThirdParty/SuiteSparse/include -I/opt/homebrew/Cellar/hdf5/1.12.2_2/include -I/Users/fabian/Documents/projects/AMICI/build/venv/include -I/opt/homebrew/opt/python@3.10/Frameworks/Python.framework/Versions/3.10/include/python3.10 -c Boehm_JProteomeRes2014_x0_fixedParameters.cpp -o build/temp.macosx-13-arm64-cpython-310/Boehm_JProteomeRes2014_x0_fixedParameters.o -std=c++14\n",
      "clang -Wno-unused-result -Wsign-compare -Wunreachable-code -fno-common -dynamic -DNDEBUG -g -fwrapv -O3 -Wall -isysroot /Library/Developer/CommandLineTools/SDKs/MacOSX13.sdk -I/Users/fabian/Documents/projects/AMICI/documentation/amici_models/Boehm_JProteomeRes2014 -I/Users/fabian/Documents/projects/AMICI/python/sdist/amici/include -I/Users/fabian/Documents/projects/AMICI/python/sdist/amici/ThirdParty/gsl -I/Users/fabian/Documents/projects/AMICI/python/sdist/amici/ThirdParty/sundials/include -I/Users/fabian/Documents/projects/AMICI/python/sdist/amici/ThirdParty/SuiteSparse/include -I/opt/homebrew/Cellar/hdf5/1.12.2_2/include -I/Users/fabian/Documents/projects/AMICI/build/venv/include -I/opt/homebrew/opt/python@3.10/Frameworks/Python.framework/Versions/3.10/include/python3.10 -c Boehm_JProteomeRes2014_x_rdata.cpp -o build/temp.macosx-13-arm64-cpython-310/Boehm_JProteomeRes2014_x_rdata.o -std=c++14\n",
      "clang -Wno-unused-result -Wsign-compare -Wunreachable-code -fno-common -dynamic -DNDEBUG -g -fwrapv -O3 -Wall -isysroot /Library/Developer/CommandLineTools/SDKs/MacOSX13.sdk -I/Users/fabian/Documents/projects/AMICI/documentation/amici_models/Boehm_JProteomeRes2014 -I/Users/fabian/Documents/projects/AMICI/python/sdist/amici/include -I/Users/fabian/Documents/projects/AMICI/python/sdist/amici/ThirdParty/gsl -I/Users/fabian/Documents/projects/AMICI/python/sdist/amici/ThirdParty/sundials/include -I/Users/fabian/Documents/projects/AMICI/python/sdist/amici/ThirdParty/SuiteSparse/include -I/opt/homebrew/Cellar/hdf5/1.12.2_2/include -I/Users/fabian/Documents/projects/AMICI/build/venv/include -I/opt/homebrew/opt/python@3.10/Frameworks/Python.framework/Versions/3.10/include/python3.10 -c Boehm_JProteomeRes2014_x_solver.cpp -o build/temp.macosx-13-arm64-cpython-310/Boehm_JProteomeRes2014_x_solver.o -std=c++14\n",
      "clang -Wno-unused-result -Wsign-compare -Wunreachable-code -fno-common -dynamic -DNDEBUG -g -fwrapv -O3 -Wall -isysroot /Library/Developer/CommandLineTools/SDKs/MacOSX13.sdk -I/Users/fabian/Documents/projects/AMICI/documentation/amici_models/Boehm_JProteomeRes2014 -I/Users/fabian/Documents/projects/AMICI/python/sdist/amici/include -I/Users/fabian/Documents/projects/AMICI/python/sdist/amici/ThirdParty/gsl -I/Users/fabian/Documents/projects/AMICI/python/sdist/amici/ThirdParty/sundials/include -I/Users/fabian/Documents/projects/AMICI/python/sdist/amici/ThirdParty/SuiteSparse/include -I/opt/homebrew/Cellar/hdf5/1.12.2_2/include -I/Users/fabian/Documents/projects/AMICI/build/venv/include -I/opt/homebrew/opt/python@3.10/Frameworks/Python.framework/Versions/3.10/include/python3.10 -c Boehm_JProteomeRes2014_xdot.cpp -o build/temp.macosx-13-arm64-cpython-310/Boehm_JProteomeRes2014_xdot.o -std=c++14\n",
      "clang -Wno-unused-result -Wsign-compare -Wunreachable-code -fno-common -dynamic -DNDEBUG -g -fwrapv -O3 -Wall -isysroot /Library/Developer/CommandLineTools/SDKs/MacOSX13.sdk -I/Users/fabian/Documents/projects/AMICI/documentation/amici_models/Boehm_JProteomeRes2014 -I/Users/fabian/Documents/projects/AMICI/python/sdist/amici/include -I/Users/fabian/Documents/projects/AMICI/python/sdist/amici/ThirdParty/gsl -I/Users/fabian/Documents/projects/AMICI/python/sdist/amici/ThirdParty/sundials/include -I/Users/fabian/Documents/projects/AMICI/python/sdist/amici/ThirdParty/SuiteSparse/include -I/opt/homebrew/Cellar/hdf5/1.12.2_2/include -I/Users/fabian/Documents/projects/AMICI/build/venv/include -I/opt/homebrew/opt/python@3.10/Frameworks/Python.framework/Versions/3.10/include/python3.10 -c Boehm_JProteomeRes2014_y.cpp -o build/temp.macosx-13-arm64-cpython-310/Boehm_JProteomeRes2014_y.o -std=c++14\n",
      "clang -Wno-unused-result -Wsign-compare -Wunreachable-code -fno-common -dynamic -DNDEBUG -g -fwrapv -O3 -Wall -isysroot /Library/Developer/CommandLineTools/SDKs/MacOSX13.sdk -I/Users/fabian/Documents/projects/AMICI/documentation/amici_models/Boehm_JProteomeRes2014 -I/Users/fabian/Documents/projects/AMICI/python/sdist/amici/include -I/Users/fabian/Documents/projects/AMICI/python/sdist/amici/ThirdParty/gsl -I/Users/fabian/Documents/projects/AMICI/python/sdist/amici/ThirdParty/sundials/include -I/Users/fabian/Documents/projects/AMICI/python/sdist/amici/ThirdParty/SuiteSparse/include -I/opt/homebrew/Cellar/hdf5/1.12.2_2/include -I/Users/fabian/Documents/projects/AMICI/build/venv/include -I/opt/homebrew/opt/python@3.10/Frameworks/Python.framework/Versions/3.10/include/python3.10 -c swig/Boehm_JProteomeRes2014_wrap.cpp -o build/temp.macosx-13-arm64-cpython-310/swig/Boehm_JProteomeRes2014_wrap.o -std=c++14\n",
      "clang -Wno-unused-result -Wsign-compare -Wunreachable-code -fno-common -dynamic -DNDEBUG -g -fwrapv -O3 -Wall -isysroot /Library/Developer/CommandLineTools/SDKs/MacOSX13.sdk -I/Users/fabian/Documents/projects/AMICI/documentation/amici_models/Boehm_JProteomeRes2014 -I/Users/fabian/Documents/projects/AMICI/python/sdist/amici/include -I/Users/fabian/Documents/projects/AMICI/python/sdist/amici/ThirdParty/gsl -I/Users/fabian/Documents/projects/AMICI/python/sdist/amici/ThirdParty/sundials/include -I/Users/fabian/Documents/projects/AMICI/python/sdist/amici/ThirdParty/SuiteSparse/include -I/opt/homebrew/Cellar/hdf5/1.12.2_2/include -I/Users/fabian/Documents/projects/AMICI/build/venv/include -I/opt/homebrew/opt/python@3.10/Frameworks/Python.framework/Versions/3.10/include/python3.10 -c wrapfunctions.cpp -o build/temp.macosx-13-arm64-cpython-310/wrapfunctions.o -std=c++14\n",
      "clang++ -bundle -undefined dynamic_lookup -isysroot /Library/Developer/CommandLineTools/SDKs/MacOSX13.sdk build/temp.macosx-13-arm64-cpython-310/Boehm_JProteomeRes2014.o build/temp.macosx-13-arm64-cpython-310/Boehm_JProteomeRes2014_Jy.o build/temp.macosx-13-arm64-cpython-310/Boehm_JProteomeRes2014_dJydsigma.o build/temp.macosx-13-arm64-cpython-310/Boehm_JProteomeRes2014_dJydy.o build/temp.macosx-13-arm64-cpython-310/Boehm_JProteomeRes2014_dJydy_colptrs.o build/temp.macosx-13-arm64-cpython-310/Boehm_JProteomeRes2014_dJydy_rowvals.o build/temp.macosx-13-arm64-cpython-310/Boehm_JProteomeRes2014_dsigmaydp.o build/temp.macosx-13-arm64-cpython-310/Boehm_JProteomeRes2014_dwdp.o build/temp.macosx-13-arm64-cpython-310/Boehm_JProteomeRes2014_dwdp_colptrs.o build/temp.macosx-13-arm64-cpython-310/Boehm_JProteomeRes2014_dwdp_rowvals.o build/temp.macosx-13-arm64-cpython-310/Boehm_JProteomeRes2014_dwdw.o build/temp.macosx-13-arm64-cpython-310/Boehm_JProteomeRes2014_dwdw_colptrs.o build/temp.macosx-13-arm64-cpython-310/Boehm_JProteomeRes2014_dwdw_rowvals.o build/temp.macosx-13-arm64-cpython-310/Boehm_JProteomeRes2014_dwdx.o build/temp.macosx-13-arm64-cpython-310/Boehm_JProteomeRes2014_dwdx_colptrs.o build/temp.macosx-13-arm64-cpython-310/Boehm_JProteomeRes2014_dwdx_rowvals.o build/temp.macosx-13-arm64-cpython-310/Boehm_JProteomeRes2014_dxdotdw.o build/temp.macosx-13-arm64-cpython-310/Boehm_JProteomeRes2014_dxdotdw_colptrs.o build/temp.macosx-13-arm64-cpython-310/Boehm_JProteomeRes2014_dxdotdw_rowvals.o build/temp.macosx-13-arm64-cpython-310/Boehm_JProteomeRes2014_dydx.o build/temp.macosx-13-arm64-cpython-310/Boehm_JProteomeRes2014_sigmay.o build/temp.macosx-13-arm64-cpython-310/Boehm_JProteomeRes2014_sx0_fixedParameters.o build/temp.macosx-13-arm64-cpython-310/Boehm_JProteomeRes2014_w.o build/temp.macosx-13-arm64-cpython-310/Boehm_JProteomeRes2014_x0.o build/temp.macosx-13-arm64-cpython-310/Boehm_JProteomeRes2014_x0_fixedParameters.o build/temp.macosx-13-arm64-cpython-310/Boehm_JProteomeRes2014_x_rdata.o build/temp.macosx-13-arm64-cpython-310/Boehm_JProteomeRes2014_x_solver.o build/temp.macosx-13-arm64-cpython-310/Boehm_JProteomeRes2014_xdot.o build/temp.macosx-13-arm64-cpython-310/Boehm_JProteomeRes2014_y.o build/temp.macosx-13-arm64-cpython-310/swig/Boehm_JProteomeRes2014_wrap.o build/temp.macosx-13-arm64-cpython-310/wrapfunctions.o -L/opt/homebrew/Cellar/hdf5/1.12.2_2/lib -L/Users/fabian/Documents/projects/AMICI/python/sdist/amici/libs -lamici -lsundials -lsuitesparse -lcblas -lhdf5_hl_cpp -lhdf5_hl -lhdf5_cpp -lhdf5 -o /Users/fabian/Documents/projects/AMICI/documentation/amici_models/Boehm_JProteomeRes2014/Boehm_JProteomeRes2014/_Boehm_JProteomeRes2014.cpython-310-darwin.so\n",
      "ld: warning: -undefined dynamic_lookup may not work with chained fixups\n",
      "\n"
     ]
    },
    {
     "name": "stderr",
     "output_type": "stream",
     "text": [
      "2023-02-16 10:46:33.666 - amici.petab_import - INFO - Finished Importing PEtab model                (1.36E+01s)\n",
      "2023-02-16 10:46:33.676 - amici.petab_import - INFO - Successfully loaded model Boehm_JProteomeRes2014 from /Users/fabian/Documents/projects/AMICI/documentation/amici_models/Boehm_JProteomeRes2014.\n"
     ]
    }
   ],
   "source": [
    "amici_model = import_petab_problem(petab_problem)"
   ]
  },
  {
   "cell_type": "markdown",
   "id": "6bbf2f06",
   "metadata": {},
   "source": [
    "now everything is ready to actually start with the jax implementation. as first step we define a jax function that runs an amici simulation."
   ]
  },
  {
   "cell_type": "code",
   "execution_count": 16,
   "id": "72053647",
   "metadata": {},
   "outputs": [],
   "source": [
    "from amici.petab_objective import simulate_petab\n",
    "import amici\n",
    "import numpy as np\n",
    "amici_solver = amici_model.getSolver()\n",
    "amici_solver.setSensitivityOrder(amici.SensitivityOrder.first)\n",
    "\n",
    "def amici_hcb_base(parameters: jnp.array):\n",
    "    return simulate_petab(\n",
    "        petab_problem, \n",
    "        amici_model, \n",
    "        problem_parameters=dict(zip(petab_problem.x_free_ids, parameters)), \n",
    "        scaled_parameters=True,\n",
    "        solver=amici_solver,\n",
    "    )\n",
    "    \n",
    "def amici_hcb_llh(parameters: jnp.array):\n",
    "    return amici_hcb_base(parameters)['llh']\n",
    "\n",
    "def amici_hcb_sllh(parameters: jnp.array):\n",
    "    sllh = amici_hcb_base(parameters)['sllh']\n",
    "    return jnp.asarray(tuple(\n",
    "        sllh[par_id] for par_id in petab_problem.x_free_ids\n",
    "    ))\n",
    "\n",
    "@custom_jvp\n",
    "def jax_objective(parameters: jnp.array):\n",
    "    return hcb.call(\n",
    "        amici_hcb_llh,\n",
    "        parameters,\n",
    "        result_shape=jax.ShapeDtypeStruct((), np.float64),\n",
    "    )\n",
    "\n",
    "\n",
    "@jax_objective.defjvp\n",
    "def jax_objective_jvp(primals: jnp.array, tangents: jnp.array):\n",
    "    (parameters,) = primals\n",
    "    (x_dot,) = tangents\n",
    "    llh = jax_objective(parameters)\n",
    "    sllh = hcb.call(\n",
    "        amici_hcb_sllh,\n",
    "        parameters,\n",
    "        result_shape=jax.ShapeDtypeStruct((petab_problem.parameter_df.estimate.sum(),), np.float64),\n",
    "    )\n",
    "    return llh, sllh.dot(x_dot)"
   ]
  },
  {
   "cell_type": "code",
   "execution_count": 17,
   "id": "754ec890",
   "metadata": {},
   "outputs": [
    {
     "data": {
      "text/plain": [
       "[0.026982514033029,\n",
       " 1.00067973851508e-05,\n",
       " 0.006170228086381,\n",
       " 0.0163679184468,\n",
       " 97749.3794024716,\n",
       " 15766.5070195731,\n",
       " 3.85261197844677,\n",
       " 6.59147818673419,\n",
       " 3.15271275648527]"
      ]
     },
     "execution_count": 17,
     "metadata": {},
     "output_type": "execute_result"
    }
   ],
   "source": [
    "petab_problem.x_nominal_free"
   ]
  },
  {
   "cell_type": "code",
   "execution_count": 18,
   "id": "8a3f9a88",
   "metadata": {},
   "outputs": [
    {
     "data": {
      "text/plain": [
       "Array(-138.222, dtype=float32)"
      ]
     },
     "execution_count": 18,
     "metadata": {},
     "output_type": "execute_result"
    }
   ],
   "source": [
    "jax_objective(jnp.asarray(petab_problem.x_nominal_free_scaled))"
   ]
  },
  {
   "cell_type": "code",
   "execution_count": 19,
   "id": "b991fd8c",
   "metadata": {},
   "outputs": [
    {
     "data": {
      "text/plain": [
       "-138.2219962156317"
      ]
     },
     "execution_count": 19,
     "metadata": {},
     "output_type": "execute_result"
    }
   ],
   "source": [
    "simulate_petab(petab_problem, amici_model)['llh']"
   ]
  },
  {
   "cell_type": "code",
   "execution_count": 20,
   "id": "3ab8fde9",
   "metadata": {},
   "outputs": [],
   "source": [
    "parameter_scales = petab_problem.parameter_df.loc[petab_problem.x_free_ids, petab.PARAMETER_SCALE].values\n",
    "\n",
    "@jax.jit\n",
    "@value_and_grad\n",
    "def jax_objective_with_parameter_transform(parameters: jnp.array):\n",
    "    par_scaled = jnp.asarray(tuple(\n",
    "        value if scale == petab.LIN\n",
    "        else jnp.log(value) if scale == petab.LOG\n",
    "        else jnp.log10(value)\n",
    "        for value, scale in zip(parameters, parameter_scales)\n",
    "    ))\n",
    "    return jax_objective(par_scaled)\n",
    "    "
   ]
  },
  {
   "cell_type": "code",
   "execution_count": 21,
   "id": "fb3085a8",
   "metadata": {},
   "outputs": [
    {
     "data": {
      "text/plain": [
       "(Array(-138.222, dtype=float32),\n",
       " [Array(-0.36403936, dtype=float32),\n",
       "  Array(-2401.0105, dtype=float32),\n",
       "  Array(-0.41067627, dtype=float32),\n",
       "  Array(-0.16390301, dtype=float32),\n",
       "  Array(2.0064123e-10, dtype=float32),\n",
       "  Array(-2.089803e-07, dtype=float32),\n",
       "  Array(-0.00122289, dtype=float32),\n",
       "  Array(-0.00158087, dtype=float32),\n",
       "  Array(-0.00264136, dtype=float32)])"
      ]
     },
     "execution_count": 21,
     "metadata": {},
     "output_type": "execute_result"
    }
   ],
   "source": [
    "jax_objective_with_parameter_transform(petab_problem.x_nominal_free)"
   ]
  },
  {
   "cell_type": "code",
   "execution_count": 22,
   "id": "48451b0e",
   "metadata": {},
   "outputs": [
    {
     "data": {
      "text/plain": [
       "{'llh': -138.22199662450979,\n",
       " 'sllh': {'Epo_degradation_BaF3': -0.022031291993031152,\n",
       "  'k_exp_hetero': -0.05532275416950131,\n",
       "  'k_exp_homo': -0.005787886630252937,\n",
       "  'k_imp_hetero': -0.005400220655104336,\n",
       "  'k_imp_homo': 4.515958094583564e-05,\n",
       "  'k_phos': -0.007914030504748332,\n",
       "  'sd_pSTAT5A_rel': -0.010783057977445385,\n",
       "  'sd_pSTAT5B_rel': -0.02403937268176315,\n",
       "  'sd_rSTAT5A_rel': -0.019192198115317298},\n",
       " 'rdatas': [<ReturnDataView(<amici.amici.ReturnData; proxy of <Swig Object of type 'amici::ReturnData *' at 0x2887b82a0> >)>]}"
      ]
     },
     "execution_count": 22,
     "metadata": {},
     "output_type": "execute_result"
    }
   ],
   "source": [
    "simulate_petab(petab_problem, amici_model, solver=amici_solver)"
   ]
  },
  {
   "cell_type": "code",
   "execution_count": null,
   "id": "f93e33b4",
   "metadata": {},
   "outputs": [],
   "source": [
    "amici.SensitivityOrder(amici_solver.getSensitivityOrder())"
   ]
  },
  {
   "cell_type": "code",
   "execution_count": 23,
   "id": "834e8b63",
   "metadata": {},
   "outputs": [
    {
     "data": {
      "text/plain": [
       "[0.026982514033029,\n",
       " 1.00067973851508e-05,\n",
       " 0.006170228086381,\n",
       " 0.0163679184468,\n",
       " 97749.3794024716,\n",
       " 15766.5070195731,\n",
       " 3.85261197844677,\n",
       " 6.59147818673419,\n",
       " 3.15271275648527]"
      ]
     },
     "execution_count": 23,
     "metadata": {},
     "output_type": "execute_result"
    }
   ],
   "source": [
    "petab_problem.x_nominal_free"
   ]
  },
  {
   "cell_type": "code",
   "execution_count": null,
   "id": "f02b4743",
   "metadata": {},
   "outputs": [],
   "source": []
  }
 ],
 "metadata": {
  "kernelspec": {
   "display_name": "Python 3 (ipykernel)",
   "language": "python",
   "name": "python3"
  },
  "language_info": {
   "codemirror_mode": {
    "name": "ipython",
    "version": 3
   },
   "file_extension": ".py",
   "mimetype": "text/x-python",
   "name": "python",
   "nbconvert_exporter": "python",
   "pygments_lexer": "ipython3",
   "version": "3.10.9"
  }
 },
 "nbformat": 4,
 "nbformat_minor": 5
}
