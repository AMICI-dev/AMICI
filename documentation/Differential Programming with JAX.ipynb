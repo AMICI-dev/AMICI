{
 "cells": [
  {
   "cell_type": "markdown",
   "id": "f3b117f2",
   "metadata": {},
   "source": [
    "purpose of this guide is combination of amici with differentiable programming in jax. \n",
    "for this guide, we will demonstrate how to implement custom parameter transformations."
   ]
  },
  {
   "cell_type": "code",
   "execution_count": 1,
   "id": "00d37c0a",
   "metadata": {},
   "outputs": [],
   "source": [
    "import jax\n",
    "import jax.numpy as jnp"
   ]
  },
  {
   "cell_type": "markdown",
   "id": "e6b28024",
   "metadata": {},
   "source": [
    "key to differentiable programming is to have a custom jvp. this allows computation of derivatives using the chain rule. in jax gradients can be computed using the grad function. to interface amici with jax we will use the custom_jvp function to define how to compute the jacobian vector product for simulation results"
   ]
  },
  {
   "cell_type": "code",
   "execution_count": 2,
   "id": "1a0d84e1",
   "metadata": {},
   "outputs": [],
   "source": [
    "from jax import custom_jvp, grad"
   ]
  },
  {
   "cell_type": "markdown",
   "id": "1982db2e",
   "metadata": {},
   "source": [
    "for native jax support, we would need to implement lax primitive for amici simulation, but would require quite a bit of engineering and writing C code.\n",
    "Instead support will be enabled by an experimental jax feature called `host_callback`. \n",
    "this means that amici code will only run on CPU, but AMICI code is anyways not amenable to GPU vectorization."
   ]
  },
  {
   "cell_type": "code",
   "execution_count": 3,
   "id": "4c8fb36f",
   "metadata": {},
   "outputs": [],
   "source": [
    "import jax.experimental.host_callback as hcb"
   ]
  },
  {
   "cell_type": "markdown",
   "id": "e5346247",
   "metadata": {},
   "source": [
    "another important tool that we will use here is the function `partial` from the functools package. `partial` can be used as function decorator to apply arguments to other decorator functions."
   ]
  },
  {
   "cell_type": "markdown",
   "id": "6531b357",
   "metadata": {},
   "source": [
    "to get started we will import petab definition. will use benchmark collection [insert ref] for that, for more details see petab notebook [ref]."
   ]
  },
  {
   "cell_type": "code",
   "execution_count": 4,
   "id": "e3406f49",
   "metadata": {},
   "outputs": [
    {
     "name": "stdout",
     "output_type": "stream",
     "text": [
      "fatal: destination path 'tmp/benchmark-models' already exists and is not an empty directory.\n",
      "Already up to date.\n"
     ]
    }
   ],
   "source": [
    "!git clone --depth 1 https://github.com/Benchmarking-Initiative/Benchmark-Models-PEtab.git tmp/benchmark-models || (cd tmp/benchmark-models && git pull)\n",
    "from pathlib import Path\n",
    "folder_base = Path('.') / \"tmp\" / \"benchmark-models\" / \"Benchmark-Models\""
   ]
  },
  {
   "cell_type": "markdown",
   "id": "1bce56f7",
   "metadata": {},
   "source": [
    "now we can import boehm model"
   ]
  },
  {
   "cell_type": "code",
   "execution_count": 5,
   "id": "35c62391",
   "metadata": {},
   "outputs": [],
   "source": [
    "import petab\n",
    "model_name = \"Boehm_JProteomeRes2014\"\n",
    "yaml_file = folder_base / model_name / (model_name + \".yaml\")\n",
    "petab_problem = petab.Problem.from_yaml(yaml_file)"
   ]
  },
  {
   "cell_type": "markdown",
   "id": "32fcfa10",
   "metadata": {},
   "source": [
    "parameter scaling is defined in the parameter table. for the boehm model, all estimated parameters (`petab.ESTIMATE` column equal to `1`) have a `petab.LOG10` as parameter scaling."
   ]
  },
  {
   "cell_type": "code",
   "execution_count": 6,
   "id": "de55cd5f",
   "metadata": {},
   "outputs": [
    {
     "data": {
      "text/html": [
       "<div>\n",
       "<style scoped>\n",
       "    .dataframe tbody tr th:only-of-type {\n",
       "        vertical-align: middle;\n",
       "    }\n",
       "\n",
       "    .dataframe tbody tr th {\n",
       "        vertical-align: top;\n",
       "    }\n",
       "\n",
       "    .dataframe thead th {\n",
       "        text-align: right;\n",
       "    }\n",
       "</style>\n",
       "<table border=\"1\" class=\"dataframe\">\n",
       "  <thead>\n",
       "    <tr style=\"text-align: right;\">\n",
       "      <th></th>\n",
       "      <th>parameterName</th>\n",
       "      <th>parameterScale</th>\n",
       "      <th>lowerBound</th>\n",
       "      <th>upperBound</th>\n",
       "      <th>nominalValue</th>\n",
       "      <th>estimate</th>\n",
       "    </tr>\n",
       "    <tr>\n",
       "      <th>parameterId</th>\n",
       "      <th></th>\n",
       "      <th></th>\n",
       "      <th></th>\n",
       "      <th></th>\n",
       "      <th></th>\n",
       "      <th></th>\n",
       "    </tr>\n",
       "  </thead>\n",
       "  <tbody>\n",
       "    <tr>\n",
       "      <th>Epo_degradation_BaF3</th>\n",
       "      <td>EPO_{degradation,BaF3}</td>\n",
       "      <td>log10</td>\n",
       "      <td>0.00001</td>\n",
       "      <td>100000</td>\n",
       "      <td>0.026983</td>\n",
       "      <td>1</td>\n",
       "    </tr>\n",
       "    <tr>\n",
       "      <th>k_exp_hetero</th>\n",
       "      <td>k_{exp,hetero}</td>\n",
       "      <td>log10</td>\n",
       "      <td>0.00001</td>\n",
       "      <td>100000</td>\n",
       "      <td>0.000010</td>\n",
       "      <td>1</td>\n",
       "    </tr>\n",
       "    <tr>\n",
       "      <th>k_exp_homo</th>\n",
       "      <td>k_{exp,homo}</td>\n",
       "      <td>log10</td>\n",
       "      <td>0.00001</td>\n",
       "      <td>100000</td>\n",
       "      <td>0.006170</td>\n",
       "      <td>1</td>\n",
       "    </tr>\n",
       "    <tr>\n",
       "      <th>k_imp_hetero</th>\n",
       "      <td>k_{imp,hetero}</td>\n",
       "      <td>log10</td>\n",
       "      <td>0.00001</td>\n",
       "      <td>100000</td>\n",
       "      <td>0.016368</td>\n",
       "      <td>1</td>\n",
       "    </tr>\n",
       "    <tr>\n",
       "      <th>k_imp_homo</th>\n",
       "      <td>k_{imp,homo}</td>\n",
       "      <td>log10</td>\n",
       "      <td>0.00001</td>\n",
       "      <td>100000</td>\n",
       "      <td>97749.379402</td>\n",
       "      <td>1</td>\n",
       "    </tr>\n",
       "    <tr>\n",
       "      <th>k_phos</th>\n",
       "      <td>k_{phos}</td>\n",
       "      <td>log10</td>\n",
       "      <td>0.00001</td>\n",
       "      <td>100000</td>\n",
       "      <td>15766.507020</td>\n",
       "      <td>1</td>\n",
       "    </tr>\n",
       "    <tr>\n",
       "      <th>ratio</th>\n",
       "      <td>ratio</td>\n",
       "      <td>lin</td>\n",
       "      <td>-5.00000</td>\n",
       "      <td>5</td>\n",
       "      <td>0.693000</td>\n",
       "      <td>0</td>\n",
       "    </tr>\n",
       "    <tr>\n",
       "      <th>sd_pSTAT5A_rel</th>\n",
       "      <td>\\sigma_{pSTAT5A,rel}</td>\n",
       "      <td>log10</td>\n",
       "      <td>0.00001</td>\n",
       "      <td>100000</td>\n",
       "      <td>3.852612</td>\n",
       "      <td>1</td>\n",
       "    </tr>\n",
       "    <tr>\n",
       "      <th>sd_pSTAT5B_rel</th>\n",
       "      <td>\\sigma_{pSTAT5B,rel}</td>\n",
       "      <td>log10</td>\n",
       "      <td>0.00001</td>\n",
       "      <td>100000</td>\n",
       "      <td>6.591478</td>\n",
       "      <td>1</td>\n",
       "    </tr>\n",
       "    <tr>\n",
       "      <th>sd_rSTAT5A_rel</th>\n",
       "      <td>\\sigma_{rSTAT5A,rel}</td>\n",
       "      <td>log10</td>\n",
       "      <td>0.00001</td>\n",
       "      <td>100000</td>\n",
       "      <td>3.152713</td>\n",
       "      <td>1</td>\n",
       "    </tr>\n",
       "    <tr>\n",
       "      <th>specC17</th>\n",
       "      <td>specC17</td>\n",
       "      <td>lin</td>\n",
       "      <td>-5.00000</td>\n",
       "      <td>5</td>\n",
       "      <td>0.107000</td>\n",
       "      <td>0</td>\n",
       "    </tr>\n",
       "  </tbody>\n",
       "</table>\n",
       "</div>"
      ],
      "text/plain": [
       "                               parameterName parameterScale  lowerBound  \\\n",
       "parameterId                                                               \n",
       "Epo_degradation_BaF3  EPO_{degradation,BaF3}          log10     0.00001   \n",
       "k_exp_hetero                  k_{exp,hetero}          log10     0.00001   \n",
       "k_exp_homo                      k_{exp,homo}          log10     0.00001   \n",
       "k_imp_hetero                  k_{imp,hetero}          log10     0.00001   \n",
       "k_imp_homo                      k_{imp,homo}          log10     0.00001   \n",
       "k_phos                              k_{phos}          log10     0.00001   \n",
       "ratio                                  ratio            lin    -5.00000   \n",
       "sd_pSTAT5A_rel          \\sigma_{pSTAT5A,rel}          log10     0.00001   \n",
       "sd_pSTAT5B_rel          \\sigma_{pSTAT5B,rel}          log10     0.00001   \n",
       "sd_rSTAT5A_rel          \\sigma_{rSTAT5A,rel}          log10     0.00001   \n",
       "specC17                              specC17            lin    -5.00000   \n",
       "\n",
       "                      upperBound  nominalValue  estimate  \n",
       "parameterId                                               \n",
       "Epo_degradation_BaF3      100000      0.026983         1  \n",
       "k_exp_hetero              100000      0.000010         1  \n",
       "k_exp_homo                100000      0.006170         1  \n",
       "k_imp_hetero              100000      0.016368         1  \n",
       "k_imp_homo                100000  97749.379402         1  \n",
       "k_phos                    100000  15766.507020         1  \n",
       "ratio                          5      0.693000         0  \n",
       "sd_pSTAT5A_rel            100000      3.852612         1  \n",
       "sd_pSTAT5B_rel            100000      6.591478         1  \n",
       "sd_rSTAT5A_rel            100000      3.152713         1  \n",
       "specC17                        5      0.107000         0  "
      ]
     },
     "execution_count": 6,
     "metadata": {},
     "output_type": "execute_result"
    }
   ],
   "source": [
    "petab_problem.parameter_df"
   ]
  },
  {
   "cell_type": "markdown",
   "id": "122a97b9",
   "metadata": {},
   "source": [
    "to compare results to native scaling, we copy the problem and set parameter scaling in the copy to `petab.LIN` (linear) so we can implement scaling in jax."
   ]
  },
  {
   "cell_type": "code",
   "execution_count": 7,
   "id": "a32a86e5",
   "metadata": {},
   "outputs": [],
   "source": [
    "import copy\n",
    "petab_problem_unscaled = copy.deepcopy(petab_problem)\n",
    "petab_problem_unscaled.parameter_df[petab.PARAMETER_SCALE] = petab.LIN"
   ]
  },
  {
   "cell_type": "markdown",
   "id": "ac6aebad",
   "metadata": {},
   "source": [
    "now we import both petab problem using `amici.petab_import`"
   ]
  },
  {
   "cell_type": "code",
   "execution_count": 8,
   "id": "87f348a2",
   "metadata": {},
   "outputs": [],
   "source": [
    "from amici.petab_import import import_petab_problem"
   ]
  },
  {
   "cell_type": "code",
   "execution_count": 11,
   "id": "5a6d8d8a",
   "metadata": {},
   "outputs": [
    {
     "ename": "ValueError",
     "evalue": "Cannot compile to /Users/fabian/Documents/projects/AMICI/documentation/amici_models/Boehm_JProteomeRes2014: not empty. Please assign a different target or set `force_compile`.",
     "output_type": "error",
     "traceback": [
      "\u001b[0;31m---------------------------------------------------------------------------\u001b[0m",
      "\u001b[0;31mValueError\u001b[0m                                Traceback (most recent call last)",
      "Cell \u001b[0;32mIn[11], line 1\u001b[0m\n\u001b[0;32m----> 1\u001b[0m amici_model \u001b[38;5;241m=\u001b[39m \u001b[43mimport_petab_problem\u001b[49m\u001b[43m(\u001b[49m\u001b[43mpetab_problem\u001b[49m\u001b[43m,\u001b[49m\u001b[43m \u001b[49m\u001b[43mmodel_name\u001b[49m\u001b[38;5;241;43m=\u001b[39;49m\u001b[38;5;124;43m'\u001b[39;49m\u001b[38;5;124;43mBoehm_scaled\u001b[39;49m\u001b[38;5;124;43m'\u001b[39;49m\u001b[43m)\u001b[49m\n\u001b[1;32m      2\u001b[0m amici_model_unscaled \u001b[38;5;241m=\u001b[39m import_petab_problem(petab_problem_unscaled, model_name\u001b[38;5;241m=\u001b[39m\u001b[38;5;124m'\u001b[39m\u001b[38;5;124mBoehm_unscaled\u001b[39m\u001b[38;5;124m'\u001b[39m)\n",
      "File \u001b[0;32m~/Documents/projects/AMICI/python/sdist/amici/petab_import.py:314\u001b[0m, in \u001b[0;36mimport_petab_problem\u001b[0;34m(petab_problem, model_output_dir, model_name, force_compile, non_estimated_parameters_as_constants, **kwargs)\u001b[0m\n\u001b[1;32m    311\u001b[0m \u001b[38;5;28;01mif\u001b[39;00m force_compile \u001b[38;5;129;01mor\u001b[39;00m \u001b[38;5;129;01mnot\u001b[39;00m _can_import_model(model_name, model_output_dir):\n\u001b[1;32m    312\u001b[0m     \u001b[38;5;66;03m# check if folder exists\u001b[39;00m\n\u001b[1;32m    313\u001b[0m     \u001b[38;5;28;01mif\u001b[39;00m os\u001b[38;5;241m.\u001b[39mlistdir(model_output_dir) \u001b[38;5;129;01mand\u001b[39;00m \u001b[38;5;129;01mnot\u001b[39;00m force_compile:\n\u001b[0;32m--> 314\u001b[0m         \u001b[38;5;28;01mraise\u001b[39;00m \u001b[38;5;167;01mValueError\u001b[39;00m(\n\u001b[1;32m    315\u001b[0m             \u001b[38;5;124mf\u001b[39m\u001b[38;5;124m\"\u001b[39m\u001b[38;5;124mCannot compile to \u001b[39m\u001b[38;5;132;01m{\u001b[39;00mmodel_output_dir\u001b[38;5;132;01m}\u001b[39;00m\u001b[38;5;124m: not empty. \u001b[39m\u001b[38;5;124m\"\u001b[39m\n\u001b[1;32m    316\u001b[0m             \u001b[38;5;124m\"\u001b[39m\u001b[38;5;124mPlease assign a different target or set `force_compile`.\u001b[39m\u001b[38;5;124m\"\u001b[39m)\n\u001b[1;32m    318\u001b[0m     \u001b[38;5;66;03m# remove folder if exists\u001b[39;00m\n\u001b[1;32m    319\u001b[0m     \u001b[38;5;28;01mif\u001b[39;00m os\u001b[38;5;241m.\u001b[39mpath\u001b[38;5;241m.\u001b[39mexists(model_output_dir):\n",
      "\u001b[0;31mValueError\u001b[0m: Cannot compile to /Users/fabian/Documents/projects/AMICI/documentation/amici_models/Boehm_JProteomeRes2014: not empty. Please assign a different target or set `force_compile`."
     ]
    }
   ],
   "source": [
    "amici_model = import_petab_problem(petab_problem, model_name='Boehm_scaled')\n",
    "amici_model_unscaled = import_petab_problem(petab_problem_unscaled, model_name='Boehm_unscaled')"
   ]
  },
  {
   "cell_type": "code",
   "execution_count": null,
   "id": "ba8328da",
   "metadata": {},
   "outputs": [],
   "source": []
  }
 ],
 "metadata": {
  "kernelspec": {
   "display_name": "Python 3 (ipykernel)",
   "language": "python",
   "name": "python3"
  },
  "language_info": {
   "codemirror_mode": {
    "name": "ipython",
    "version": 3
   },
   "file_extension": ".py",
   "mimetype": "text/x-python",
   "name": "python",
   "nbconvert_exporter": "python",
   "pygments_lexer": "ipython3",
   "version": "3.10.9"
  }
 },
 "nbformat": 4,
 "nbformat_minor": 5
}
