{
 "cells": [
  {
   "cell_type": "markdown",
   "metadata": {},
   "source": [
    "# AMICI Python example \"steadystate\"\n",
    "Example using [model_steadystate_scaled.sbml] model to demonstrate and test SBML import and Amici Python interface."
   ]
  },
  {
   "cell_type": "code",
   "execution_count": 1,
   "metadata": {},
   "outputs": [],
   "source": [
    "sbml_file = 'model_steadystate_scaled.sbml'\n",
    "model_name = 'model_steadystate_scaled'\n",
    "model_output_dir= 'model_steadystate_scaled'"
   ]
  },
  {
   "cell_type": "markdown",
   "metadata": {},
   "source": [
    "### The example model"
   ]
  },
  {
   "cell_type": "code",
   "execution_count": 2,
   "metadata": {},
   "outputs": [
    {
     "name": "stdout",
     "output_type": "stream",
     "text": [
      "Species:  ['x1', 'x2', 'x3']\n",
      "\n",
      "Reactions:\n",
      " r1:       2 x1  ->        x2\t\t[p1 * x1^2]\n",
      " r2:   x1 +  x2  ->        x3\t\t[p2 * x1 * x2]\n",
      " r3:         x2  ->      2 x1\t\t[p3 * x2]\n",
      " r4:         x3  ->  x1 +  x2\t\t[p4 * x3]\n",
      " r5:         x3  ->          \t\t[k4 * x3]\n",
      " r6:             ->        x1\t\t[p5]\n"
     ]
    }
   ],
   "source": [
    "import libsbml\n",
    "SBMLreader = libsbml.SBMLReader()\n",
    "sbml_doc = SBMLreader.readSBML(sbml_file)\n",
    "sbml_model = sbml_doc.getModel()\n",
    "\n",
    "print('Species: ', [s.getId() for s in sbml_model.getListOfSpecies()])\n",
    "\n",
    "print('\\nReactions:')\n",
    "for reaction in sbml_model.getListOfReactions():\n",
    "    reactants = ' + '.join(['%s %s'%(int(r.getStoichiometry()) if r.getStoichiometry() > 1 else '', r.getSpecies()) for r in reaction.getListOfReactants()])\n",
    "    products  = ' + '.join(['%s %s'%(int(r.getStoichiometry()) if r.getStoichiometry() > 1 else '', r.getSpecies()) for r in reaction.getListOfProducts()])\n",
    "    reversible = '<' if reaction.getReversible() else ''\n",
    "    print('%3s: %10s %1s->%10s\\t\\t[%s]' % (reaction.getId(), \n",
    "                        reactants,\n",
    "                        reversible,\n",
    "                        products,\n",
    "                        libsbml.formulaToL3String(reaction.getKineticLaw().getMath())))\n"
   ]
  },
  {
   "cell_type": "markdown",
   "metadata": {},
   "source": [
    "## Importing an SBML model, compiling and generating an AMICI module"
   ]
  },
  {
   "cell_type": "code",
   "execution_count": null,
   "metadata": {},
   "outputs": [
    {
     "name": "stdout",
     "output_type": "stream",
     "text": [
      "{'observable_x1': 'x1', 'observable_x2': 'x2', 'observable_x3': 'x3', 'observable_x1_scaled': 'scaling_x1 * x1', 'observable_x2_offsetted': 'offset_x2 + x2', 'observable_x1withsigma': 'x1'}\n"
     ]
    }
   ],
   "source": [
    "import amici\n",
    "\n",
    "import os\n",
    "import sys\n",
    "import numpy as np\n",
    "import matplotlib.pyplot as plt\n",
    "\n",
    "def createModule(sbml_file, model_name, model_output_dir):\n",
    "    \"\"\"Create Python module from SBML model\"\"\"\n",
    "    sbmlImporter = amici.SbmlImporter(sbml_file)\n",
    "    sbml = sbmlImporter.sbml\n",
    "    \n",
    "    observables = amici.assignmentRules2observables(sbml, filter=lambda variableId: \n",
    "                                                    variableId.startswith('observable_') and not variableId.endswith('_sigma'))\n",
    "    \n",
    "    print(observables)\n",
    "    \n",
    "    sbmlImporter.sbml2amici(model_name, model_output_dir, verbose=True,\n",
    "                            observables=observables,\n",
    "                            constantParameters=['k4'],\n",
    "                            sigmas={'observable_x1withsigma': 'observable_x1withsigma_sigma'})\n",
    "\n",
    "createModule(sbml_file, model_name, model_output_dir)\n"
   ]
  },
  {
   "cell_type": "markdown",
   "metadata": {},
   "source": [
    "To use python-generated model in matlab, run:\n",
    "```\n",
    "modelName = '';\n",
    "modelDir = '';\n",
    "amimodel.compileAndLinkModel(modelName, modelDir, [], [], [], []);\n",
    "amimodel.generateMatlabWrapper(3, 6, 8, 1, 0, 0, [], [ modelDir '/simulate_test.m'], modelName, 'lin', 1, 1);\n",
    "```"
   ]
  },
  {
   "cell_type": "markdown",
   "metadata": {},
   "source": [
    "## Running simulations and analyzing results"
   ]
  },
  {
   "cell_type": "code",
   "execution_count": null,
   "metadata": {
    "scrolled": true
   },
   "outputs": [],
   "source": [
    "sys.path.insert(0, os.path.abspath(model_output_dir))\n",
    "import model_steadystate_scaled as modelModule\n",
    "\n",
    "model = modelModule.getModel()\n",
    "\n",
    "# show default parameters\n",
    "print('Parameters:', np.array(model.getParameters()))\n",
    "\n",
    "# simulation using default parameters\n",
    "model.setTimepoints(amici.DoubleVector(np.linspace(0, 60, 60))) \n",
    "solver = model.getSolver()\n",
    "rdata = amici.runAmiciSimulation(model, solver)\n",
    "\n",
    "print()\n",
    "#np.set_printoptions(threshold=8, edgeitems=2)\n",
    "for key, value in rdata.items():\n",
    "    print('%12s: ' % key, value)\n",
    "\n"
   ]
  },
  {
   "cell_type": "markdown",
   "metadata": {},
   "source": [
    "### Plotting tractories"
   ]
  },
  {
   "cell_type": "code",
   "execution_count": null,
   "metadata": {},
   "outputs": [],
   "source": [
    "def plotStateTrajectories(rdata):\n",
    "    for ix in range(rdata['x'].shape[1]):\n",
    "        plt.plot(rdata['t'], rdata['x'][:, ix], label='$x_%d$' % ix)\n",
    "        plt.xlabel('$t$ (s)')\n",
    "        plt.ylabel('$x_i(t)$ (mmol/ml)')\n",
    "        plt.legend()\n",
    "        plt.title('State trajectories')\n",
    "    plt.show()\n",
    "    \n",
    "def plotObservableTrajectories(rdata):\n",
    "    for iy in range(rdata['y'].shape[1]):\n",
    "        plt.plot(rdata['t'], rdata['y'][:, iy], label='$y_%d$' % iy)\n",
    "        plt.xlabel('$t$ (s)')\n",
    "        plt.ylabel('$y_i(t)$ (AU)')\n",
    "        plt.legend()\n",
    "        plt.title('Observables')\n",
    "    \n",
    "    plt.show()\n",
    "    sys.path.insert(0, 'test')\n",
    "\n",
    "plotStateTrajectories(rdata)\n",
    "plotObservableTrajectories(rdata)"
   ]
  },
  {
   "cell_type": "markdown",
   "metadata": {},
   "source": [
    "### Computing likelihood"
   ]
  },
  {
   "cell_type": "code",
   "execution_count": null,
   "metadata": {},
   "outputs": [],
   "source": [
    "model = modelModule.getModel()\n",
    "model.setTimepoints(amici.DoubleVector(np.linspace(0, 10, 11))) \n",
    "solver = model.getSolver()\n",
    "rdata = amici.runAmiciSimulation(model, solver)\n",
    "\n",
    "edata = amici.ExpData(model.get())\n",
    "edata.my = amici.DoubleVector(rdata['y'].flatten())\n",
    "edata.sigmay = amici.DoubleVector(np.ones(shape=rdata['y'].shape).flatten())\n",
    "rdata = amici.runAmiciSimulation(model, solver, edata)\n",
    "\n",
    "print('Loglikelihood %f' % rdata['llh'])"
   ]
  },
  {
   "cell_type": "markdown",
   "metadata": {},
   "source": [
    "## Forward sensitivity analysis"
   ]
  },
  {
   "cell_type": "code",
   "execution_count": null,
   "metadata": {},
   "outputs": [],
   "source": [
    "model = modelModule.getModel()\n",
    "model.setTimepoints(amici.DoubleVector(np.linspace(0, 10, 11))) \n",
    "model.requireSensitivitiesForAllParameters()\n",
    "model.setParameterScale(amici.AMICI_SCALING_NONE)\n",
    "\n",
    "solver = model.getSolver()\n",
    "solver.setSensitivityMethod(amici.AMICI_SENSI_FSA)\n",
    "solver.setSensitivityOrder(amici.AMICI_SENSI_ORDER_FIRST)\n",
    "\n",
    "rdata = amici.runAmiciSimulation(model, solver)\n",
    "\n",
    "for key, value in rdata.items():\n",
    "    if key.startswith('s'):\n",
    "        print('%12s: ' % key, value)\n"
   ]
  },
  {
   "cell_type": "markdown",
   "metadata": {},
   "source": [
    "## Adjoint sensitivity analysis"
   ]
  },
  {
   "cell_type": "code",
   "execution_count": null,
   "metadata": {},
   "outputs": [],
   "source": [
    "model = modelModule.getModel()\n",
    "model.setParameterScale(amici.AMICI_SCALING_NONE)\n",
    "model.setTimepoints(amici.DoubleVector(np.linspace(0, 10, 11))) \n",
    "solver = model.getSolver()\n",
    "solver.setMaxSteps(10**4)\n",
    "\n",
    "# simulate time-course for artificial data\n",
    "rdata = amici.runAmiciSimulation(model, solver)\n",
    "edata = amici.ExpData(model.get())\n",
    "edata.fixedParameters = model.getFixedParameters()\n",
    "edata.my = amici.DoubleVector(rdata['y'].flatten())\n",
    "# set sigma to 1.0 except for observable 5, so that p[7] is used instead\n",
    "sigmay = np.ones(shape=rdata['y'].shape)\n",
    "sigmay[:, 5] = np.nan\n",
    "edata.sigmay = amici.DoubleVector(sigmay.flatten())\n",
    "\n",
    "# enable sensitivities\n",
    "solver.setSensitivityMethod(amici.AMICI_SENSI_ASA)\n",
    "solver.setSensitivityOrder(amici.AMICI_SENSI_ORDER_FIRST)\n",
    "model.requireSensitivitiesForAllParameters()\n",
    "\n",
    "# compute adjoint sensitivities\n",
    "rdata = amici.runAmiciSimulation(model, solver, edata)\n",
    "print('Noise-free: llh: %f, sllh: %s' % (rdata['llh'], rdata['sllh']))\n",
    "\n",
    "# Add some noise\n",
    "edata.my = amici.DoubleVector(np.multiply(rdata['y'], np.random.normal(0.0, 0.01, rdata['y'].shape)).flatten())\n",
    "#edata.my = amici.DoubleVector((rdata['y'] * 1.1).flatten())\n",
    "rdata = amici.runAmiciSimulation(model, solver, edata)\n",
    "print('Some noise: llh: %f, sllh: %s' % (rdata['llh'], rdata['sllh']))\n",
    "\n",
    "p = np.array(model.getParameters())"
   ]
  },
  {
   "cell_type": "markdown",
   "metadata": {},
   "source": [
    "## Finite differences gradient check"
   ]
  },
  {
   "cell_type": "code",
   "execution_count": null,
   "metadata": {},
   "outputs": [],
   "source": [
    "from scipy.optimize import check_grad\n",
    "def func(x0, symbol='llh', x0full=None, plist=[], verbose=False):\n",
    "    p = x0\n",
    "    if len(plist):\n",
    "        p = x0full[:]\n",
    "        p[plist] = x0\n",
    "    verbose and print('f: p=%s' % p)\n",
    "       \n",
    "    solver.setSensitivityOrder(amici.AMICI_SENSI_ORDER_NONE)\n",
    "    model.setParameters(amici.DoubleVector(p))\n",
    "    rdata = amici.runAmiciSimulation(model, solver, edata)\n",
    "\n",
    "    res = np.sum(rdata[symbol])\n",
    "    return res\n",
    "\n",
    "def grad(x0, symbol='llh', x0full=None, plist=[], verbose=False):\n",
    "    p = x0\n",
    "    if len(plist):\n",
    "        model.setParameterList(amici.IntVector(plist))\n",
    "        p = x0full[:]\n",
    "        p[plist] = x0\n",
    "    else:\n",
    "        model.requireSensitivitiesForAllParameters()\n",
    "    verbose and print('g: p=%s' % p)\n",
    "    \n",
    "    solver.setSensitivityMethod(amici.AMICI_SENSI_FSA)\n",
    "    solver.setSensitivityOrder(amici.AMICI_SENSI_ORDER_FIRST)\n",
    "    model.setParameters(amici.DoubleVector(p))\n",
    "    rdata = amici.runAmiciSimulation(model, solver, edata)\n",
    "    \n",
    "    res = rdata['s%s' % symbol]\n",
    "    if not isinstance(res, float):\n",
    "        if len(res.shape) == 3:\n",
    "            res = np.sum(res, axis=(0, 2))\n",
    "    return res\n",
    "\n",
    "err_norm = check_grad(func, grad, p, 'llh')\n",
    "print('sllh: |error|_2: %f' % err_norm)\n",
    "# assert err_norm < 1e-6\n",
    "print()\n",
    "\n",
    "for ip in range(model.np()):\n",
    "    plist = [ip]\n",
    "    err_norm = check_grad(func, grad, p[plist], 'llh', p, [ip])\n",
    "    print('sllh: p[%d]: |error|_2: %f' % (ip, err_norm))\n",
    "\n",
    "print()\n",
    "for ip in range(model.np()):\n",
    "    plist = [ip]\n",
    "    err_norm = check_grad(func, grad, p[plist], 'y', p, [ip])\n",
    "    print('sy: p[%d]: |error|_2: %f' % (ip, err_norm))\n",
    "\n",
    "print()\n",
    "for ip in range(model.np()):\n",
    "    plist = [ip]\n",
    "    err_norm = check_grad(func, grad, p[plist], 'x', p, [ip])\n",
    "    print('sx: p[%d]: |error|_2: %f' % (ip, err_norm))\n"
   ]
  },
  {
   "cell_type": "code",
   "execution_count": null,
   "metadata": {},
   "outputs": [],
   "source": []
  }
 ],
 "metadata": {
  "kernelspec": {
   "display_name": "Python 3",
   "language": "python",
   "name": "python3"
  },
  "language_info": {
   "codemirror_mode": {
    "name": "ipython",
    "version": 3
   },
   "file_extension": ".py",
   "mimetype": "text/x-python",
   "name": "python",
   "nbconvert_exporter": "python",
   "pygments_lexer": "ipython3",
   "version": "3.6.3"
  }
 },
 "nbformat": 4,
 "nbformat_minor": 2
}
