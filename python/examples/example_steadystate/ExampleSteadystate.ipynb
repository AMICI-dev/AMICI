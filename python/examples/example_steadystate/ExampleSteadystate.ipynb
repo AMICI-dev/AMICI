{
 "cells": [
  {
   "cell_type": "markdown",
   "metadata": {},
   "source": [
    "# AMICI Python example \"steadystate\"\n",
    "Example using [model_steadystate_scaled.sbml] model to demonstrate and test SBML import and Amici Python interface."
   ]
  },
  {
   "cell_type": "code",
   "execution_count": 1,
   "metadata": {},
   "outputs": [],
   "source": [
    "sbml_file = 'model_steadystate_scaled.sbml'\n",
    "model_name = 'model_steadystate_scaled'\n",
    "model_output_dir= 'model_steadystate_scaled'"
   ]
  },
  {
   "cell_type": "markdown",
   "metadata": {},
   "source": [
    "### The example model"
   ]
  },
  {
   "cell_type": "code",
   "execution_count": 2,
   "metadata": {},
   "outputs": [
    {
     "name": "stdout",
     "output_type": "stream",
     "text": [
      "Species:  ['x1', 'x2', 'x3']\n",
      "\n",
      "Reactions:\n",
      " r1:       2 x1  ->        x2\t\t[p1 * x1^2]\n",
      " r2:   x1 +  x2  ->        x3\t\t[p2 * x1 * x2]\n",
      " r3:         x2  ->      2 x1\t\t[p3 * x2]\n",
      " r4:         x3  ->  x1 +  x2\t\t[p4 * x3]\n",
      " r5:         x3  ->          \t\t[k4 * x3]\n",
      " r6:             ->        x1\t\t[p5]\n"
     ]
    }
   ],
   "source": [
    "import libsbml\n",
    "SBMLreader = libsbml.SBMLReader()\n",
    "sbml_doc = SBMLreader.readSBML(sbml_file)\n",
    "sbml_model = sbml_doc.getModel()\n",
    "\n",
    "print('Species: ', [s.getId() for s in sbml_model.getListOfSpecies()])\n",
    "\n",
    "print('\\nReactions:')\n",
    "for reaction in sbml_model.getListOfReactions():\n",
    "    reactants = ' + '.join(['%s %s'%(int(r.getStoichiometry()) if r.getStoichiometry() > 1 else '', r.getSpecies()) for r in reaction.getListOfReactants()])\n",
    "    products  = ' + '.join(['%s %s'%(int(r.getStoichiometry()) if r.getStoichiometry() > 1 else '', r.getSpecies()) for r in reaction.getListOfProducts()])\n",
    "    reversible = '<' if reaction.getReversible() else ''\n",
    "    print('%3s: %10s %1s->%10s\\t\\t[%s]' % (reaction.getId(), \n",
    "                        reactants,\n",
    "                        reversible,\n",
    "                        products,\n",
    "                        libsbml.formulaToL3String(reaction.getKineticLaw().getMath())))\n"
   ]
  },
  {
   "cell_type": "markdown",
   "metadata": {},
   "source": [
    "## Importing an SBML model, compiling and generating an AMICI module"
   ]
  },
  {
   "cell_type": "code",
   "execution_count": 3,
   "metadata": {},
   "outputs": [
    {
     "name": "stdout",
     "output_type": "stream",
     "text": [
      "{'observable_x1': 'x1', 'observable_x2': 'x2', 'observable_x3': 'x3', 'observable_x1_scaled': 'scaling_x1 * x1', 'observable_x2_offsetted': 'offset_x2 + x2', 'observable_x1withsigma': 'x1'}\n",
      "running build_ext\n",
      "building 'model_steadystate_scaled/_model_steadystate_scaled' extension\n",
      "swigging swig/model_steadystate_scaled.i to swig/model_steadystate_scaled_wrap.cpp\n",
      "swig -python -c++ -modern -outdir model_steadystate_scaled -I/home/dweindl/.local/lib/python3.6/site-packages/amici/swig -I/home/dweindl/.local/lib/python3.6/site-packages/amici/include -o swig/model_steadystate_scaled_wrap.cpp swig/model_steadystate_scaled.i\n",
      "x86_64-linux-gnu-gcc -pthread -DNDEBUG -g -fwrapv -O2 -Wall -g -fdebug-prefix-map=/build/python3.6-sXpGnM/python3.6-3.6.3=. -specs=/usr/share/dpkg/no-pie-compile.specs -fstack-protector-strong -Wformat -Werror=format-security -Wdate-time -D_FORTIFY_SOURCE=2 -fPIC -I/home/dweindl/src/AMICI-devel/python/examples/example_steadystate/model_steadystate_scaled -I/home/dweindl/.local/lib/python3.6/site-packages/amici/include -I/home/dweindl/.local/lib/python3.6/site-packages/amici/ThirdParty/sundials/include -I/home/dweindl/.local/lib/python3.6/site-packages/amici/ThirdParty/SuiteSparse/include -I/usr/include/hdf5/serial -I/usr/include/python3.6m -c swig/model_steadystate_scaled_wrap.cpp -o build/temp.linux-x86_64-3.6/swig/model_steadystate_scaled_wrap.o -std=c++11\n",
      "x86_64-linux-gnu-gcc -pthread -DNDEBUG -g -fwrapv -O2 -Wall -g -fdebug-prefix-map=/build/python3.6-sXpGnM/python3.6-3.6.3=. -specs=/usr/share/dpkg/no-pie-compile.specs -fstack-protector-strong -Wformat -Werror=format-security -Wdate-time -D_FORTIFY_SOURCE=2 -fPIC -I/home/dweindl/src/AMICI-devel/python/examples/example_steadystate/model_steadystate_scaled -I/home/dweindl/.local/lib/python3.6/site-packages/amici/include -I/home/dweindl/.local/lib/python3.6/site-packages/amici/ThirdParty/sundials/include -I/home/dweindl/.local/lib/python3.6/site-packages/amici/ThirdParty/SuiteSparse/include -I/usr/include/hdf5/serial -I/usr/include/python3.6m -c model_steadystate_scaled_JvB.cpp -o build/temp.linux-x86_64-3.6/model_steadystate_scaled_JvB.o -std=c++11\n",
      "x86_64-linux-gnu-gcc -pthread -DNDEBUG -g -fwrapv -O2 -Wall -g -fdebug-prefix-map=/build/python3.6-sXpGnM/python3.6-3.6.3=. -specs=/usr/share/dpkg/no-pie-compile.specs -fstack-protector-strong -Wformat -Werror=format-security -Wdate-time -D_FORTIFY_SOURCE=2 -fPIC -I/home/dweindl/src/AMICI-devel/python/examples/example_steadystate/model_steadystate_scaled -I/home/dweindl/.local/lib/python3.6/site-packages/amici/include -I/home/dweindl/.local/lib/python3.6/site-packages/amici/ThirdParty/sundials/include -I/home/dweindl/.local/lib/python3.6/site-packages/amici/ThirdParty/SuiteSparse/include -I/usr/include/hdf5/serial -I/usr/include/python3.6m -c model_steadystate_scaled_Jy.cpp -o build/temp.linux-x86_64-3.6/model_steadystate_scaled_Jy.o -std=c++11\n",
      "x86_64-linux-gnu-gcc -pthread -DNDEBUG -g -fwrapv -O2 -Wall -g -fdebug-prefix-map=/build/python3.6-sXpGnM/python3.6-3.6.3=. -specs=/usr/share/dpkg/no-pie-compile.specs -fstack-protector-strong -Wformat -Werror=format-security -Wdate-time -D_FORTIFY_SOURCE=2 -fPIC -I/home/dweindl/src/AMICI-devel/python/examples/example_steadystate/model_steadystate_scaled -I/home/dweindl/.local/lib/python3.6/site-packages/amici/include -I/home/dweindl/.local/lib/python3.6/site-packages/amici/ThirdParty/sundials/include -I/home/dweindl/.local/lib/python3.6/site-packages/amici/ThirdParty/SuiteSparse/include -I/usr/include/hdf5/serial -I/usr/include/python3.6m -c model_steadystate_scaled_sx0.cpp -o build/temp.linux-x86_64-3.6/model_steadystate_scaled_sx0.o -std=c++11\n",
      "x86_64-linux-gnu-gcc -pthread -DNDEBUG -g -fwrapv -O2 -Wall -g -fdebug-prefix-map=/build/python3.6-sXpGnM/python3.6-3.6.3=. -specs=/usr/share/dpkg/no-pie-compile.specs -fstack-protector-strong -Wformat -Werror=format-security -Wdate-time -D_FORTIFY_SOURCE=2 -fPIC -I/home/dweindl/src/AMICI-devel/python/examples/example_steadystate/model_steadystate_scaled -I/home/dweindl/.local/lib/python3.6/site-packages/amici/include -I/home/dweindl/.local/lib/python3.6/site-packages/amici/ThirdParty/sundials/include -I/home/dweindl/.local/lib/python3.6/site-packages/amici/ThirdParty/SuiteSparse/include -I/usr/include/hdf5/serial -I/usr/include/python3.6m -c model_steadystate_scaled_Jv.cpp -o build/temp.linux-x86_64-3.6/model_steadystate_scaled_Jv.o -std=c++11\n",
      "x86_64-linux-gnu-gcc -pthread -DNDEBUG -g -fwrapv -O2 -Wall -g -fdebug-prefix-map=/build/python3.6-sXpGnM/python3.6-3.6.3=. -specs=/usr/share/dpkg/no-pie-compile.specs -fstack-protector-strong -Wformat -Werror=format-security -Wdate-time -D_FORTIFY_SOURCE=2 -fPIC -I/home/dweindl/src/AMICI-devel/python/examples/example_steadystate/model_steadystate_scaled -I/home/dweindl/.local/lib/python3.6/site-packages/amici/include -I/home/dweindl/.local/lib/python3.6/site-packages/amici/ThirdParty/sundials/include -I/home/dweindl/.local/lib/python3.6/site-packages/amici/ThirdParty/SuiteSparse/include -I/usr/include/hdf5/serial -I/usr/include/python3.6m -c model_steadystate_scaled_J.cpp -o build/temp.linux-x86_64-3.6/model_steadystate_scaled_J.o -std=c++11\n",
      "x86_64-linux-gnu-gcc -pthread -DNDEBUG -g -fwrapv -O2 -Wall -g -fdebug-prefix-map=/build/python3.6-sXpGnM/python3.6-3.6.3=. -specs=/usr/share/dpkg/no-pie-compile.specs -fstack-protector-strong -Wformat -Werror=format-security -Wdate-time -D_FORTIFY_SOURCE=2 -fPIC -I/home/dweindl/src/AMICI-devel/python/examples/example_steadystate/model_steadystate_scaled -I/home/dweindl/.local/lib/python3.6/site-packages/amici/include -I/home/dweindl/.local/lib/python3.6/site-packages/amici/ThirdParty/sundials/include -I/home/dweindl/.local/lib/python3.6/site-packages/amici/ThirdParty/SuiteSparse/include -I/usr/include/hdf5/serial -I/usr/include/python3.6m -c model_steadystate_scaled_xdot.cpp -o build/temp.linux-x86_64-3.6/model_steadystate_scaled_xdot.o -std=c++11\n",
      "x86_64-linux-gnu-gcc -pthread -DNDEBUG -g -fwrapv -O2 -Wall -g -fdebug-prefix-map=/build/python3.6-sXpGnM/python3.6-3.6.3=. -specs=/usr/share/dpkg/no-pie-compile.specs -fstack-protector-strong -Wformat -Werror=format-security -Wdate-time -D_FORTIFY_SOURCE=2 -fPIC -I/home/dweindl/src/AMICI-devel/python/examples/example_steadystate/model_steadystate_scaled -I/home/dweindl/.local/lib/python3.6/site-packages/amici/include -I/home/dweindl/.local/lib/python3.6/site-packages/amici/ThirdParty/sundials/include -I/home/dweindl/.local/lib/python3.6/site-packages/amici/ThirdParty/SuiteSparse/include -I/usr/include/hdf5/serial -I/usr/include/python3.6m -c model_steadystate_scaled_dxdotdp.cpp -o build/temp.linux-x86_64-3.6/model_steadystate_scaled_dxdotdp.o -std=c++11\n",
      "x86_64-linux-gnu-gcc -pthread -DNDEBUG -g -fwrapv -O2 -Wall -g -fdebug-prefix-map=/build/python3.6-sXpGnM/python3.6-3.6.3=. -specs=/usr/share/dpkg/no-pie-compile.specs -fstack-protector-strong -Wformat -Werror=format-security -Wdate-time -D_FORTIFY_SOURCE=2 -fPIC -I/home/dweindl/src/AMICI-devel/python/examples/example_steadystate/model_steadystate_scaled -I/home/dweindl/.local/lib/python3.6/site-packages/amici/include -I/home/dweindl/.local/lib/python3.6/site-packages/amici/ThirdParty/sundials/include -I/home/dweindl/.local/lib/python3.6/site-packages/amici/ThirdParty/SuiteSparse/include -I/usr/include/hdf5/serial -I/usr/include/python3.6m -c model_steadystate_scaled_dwdx.cpp -o build/temp.linux-x86_64-3.6/model_steadystate_scaled_dwdx.o -std=c++11\n",
      "x86_64-linux-gnu-gcc -pthread -DNDEBUG -g -fwrapv -O2 -Wall -g -fdebug-prefix-map=/build/python3.6-sXpGnM/python3.6-3.6.3=. -specs=/usr/share/dpkg/no-pie-compile.specs -fstack-protector-strong -Wformat -Werror=format-security -Wdate-time -D_FORTIFY_SOURCE=2 -fPIC -I/home/dweindl/src/AMICI-devel/python/examples/example_steadystate/model_steadystate_scaled -I/home/dweindl/.local/lib/python3.6/site-packages/amici/include -I/home/dweindl/.local/lib/python3.6/site-packages/amici/ThirdParty/sundials/include -I/home/dweindl/.local/lib/python3.6/site-packages/amici/ThirdParty/SuiteSparse/include -I/usr/include/hdf5/serial -I/usr/include/python3.6m -c wrapfunctions.cpp -o build/temp.linux-x86_64-3.6/wrapfunctions.o -std=c++11\n",
      "x86_64-linux-gnu-gcc -pthread -DNDEBUG -g -fwrapv -O2 -Wall -g -fdebug-prefix-map=/build/python3.6-sXpGnM/python3.6-3.6.3=. -specs=/usr/share/dpkg/no-pie-compile.specs -fstack-protector-strong -Wformat -Werror=format-security -Wdate-time -D_FORTIFY_SOURCE=2 -fPIC -I/home/dweindl/src/AMICI-devel/python/examples/example_steadystate/model_steadystate_scaled -I/home/dweindl/.local/lib/python3.6/site-packages/amici/include -I/home/dweindl/.local/lib/python3.6/site-packages/amici/ThirdParty/sundials/include -I/home/dweindl/.local/lib/python3.6/site-packages/amici/ThirdParty/SuiteSparse/include -I/usr/include/hdf5/serial -I/usr/include/python3.6m -c model_steadystate_scaled_dydx.cpp -o build/temp.linux-x86_64-3.6/model_steadystate_scaled_dydx.o -std=c++11\n",
      "x86_64-linux-gnu-gcc -pthread -DNDEBUG -g -fwrapv -O2 -Wall -g -fdebug-prefix-map=/build/python3.6-sXpGnM/python3.6-3.6.3=. -specs=/usr/share/dpkg/no-pie-compile.specs -fstack-protector-strong -Wformat -Werror=format-security -Wdate-time -D_FORTIFY_SOURCE=2 -fPIC -I/home/dweindl/src/AMICI-devel/python/examples/example_steadystate/model_steadystate_scaled -I/home/dweindl/.local/lib/python3.6/site-packages/amici/include -I/home/dweindl/.local/lib/python3.6/site-packages/amici/ThirdParty/sundials/include -I/home/dweindl/.local/lib/python3.6/site-packages/amici/ThirdParty/SuiteSparse/include -I/usr/include/hdf5/serial -I/usr/include/python3.6m -c model_steadystate_scaled_dwdp.cpp -o build/temp.linux-x86_64-3.6/model_steadystate_scaled_dwdp.o -std=c++11\n",
      "x86_64-linux-gnu-gcc -pthread -DNDEBUG -g -fwrapv -O2 -Wall -g -fdebug-prefix-map=/build/python3.6-sXpGnM/python3.6-3.6.3=. -specs=/usr/share/dpkg/no-pie-compile.specs -fstack-protector-strong -Wformat -Werror=format-security -Wdate-time -D_FORTIFY_SOURCE=2 -fPIC -I/home/dweindl/src/AMICI-devel/python/examples/example_steadystate/model_steadystate_scaled -I/home/dweindl/.local/lib/python3.6/site-packages/amici/include -I/home/dweindl/.local/lib/python3.6/site-packages/amici/ThirdParty/sundials/include -I/home/dweindl/.local/lib/python3.6/site-packages/amici/ThirdParty/SuiteSparse/include -I/usr/include/hdf5/serial -I/usr/include/python3.6m -c model_steadystate_scaled_JSparseB.cpp -o build/temp.linux-x86_64-3.6/model_steadystate_scaled_JSparseB.o -std=c++11\n",
      "x86_64-linux-gnu-gcc -pthread -DNDEBUG -g -fwrapv -O2 -Wall -g -fdebug-prefix-map=/build/python3.6-sXpGnM/python3.6-3.6.3=. -specs=/usr/share/dpkg/no-pie-compile.specs -fstack-protector-strong -Wformat -Werror=format-security -Wdate-time -D_FORTIFY_SOURCE=2 -fPIC -I/home/dweindl/src/AMICI-devel/python/examples/example_steadystate/model_steadystate_scaled -I/home/dweindl/.local/lib/python3.6/site-packages/amici/include -I/home/dweindl/.local/lib/python3.6/site-packages/amici/ThirdParty/sundials/include -I/home/dweindl/.local/lib/python3.6/site-packages/amici/ThirdParty/SuiteSparse/include -I/usr/include/hdf5/serial -I/usr/include/python3.6m -c model_steadystate_scaled_dsigmaydp.cpp -o build/temp.linux-x86_64-3.6/model_steadystate_scaled_dsigmaydp.o -std=c++11\n",
      "x86_64-linux-gnu-gcc -pthread -DNDEBUG -g -fwrapv -O2 -Wall -g -fdebug-prefix-map=/build/python3.6-sXpGnM/python3.6-3.6.3=. -specs=/usr/share/dpkg/no-pie-compile.specs -fstack-protector-strong -Wformat -Werror=format-security -Wdate-time -D_FORTIFY_SOURCE=2 -fPIC -I/home/dweindl/src/AMICI-devel/python/examples/example_steadystate/model_steadystate_scaled -I/home/dweindl/.local/lib/python3.6/site-packages/amici/include -I/home/dweindl/.local/lib/python3.6/site-packages/amici/ThirdParty/sundials/include -I/home/dweindl/.local/lib/python3.6/site-packages/amici/ThirdParty/SuiteSparse/include -I/usr/include/hdf5/serial -I/usr/include/python3.6m -c model_steadystate_scaled_sigmay.cpp -o build/temp.linux-x86_64-3.6/model_steadystate_scaled_sigmay.o -std=c++11\n",
      "x86_64-linux-gnu-gcc -pthread -DNDEBUG -g -fwrapv -O2 -Wall -g -fdebug-prefix-map=/build/python3.6-sXpGnM/python3.6-3.6.3=. -specs=/usr/share/dpkg/no-pie-compile.specs -fstack-protector-strong -Wformat -Werror=format-security -Wdate-time -D_FORTIFY_SOURCE=2 -fPIC -I/home/dweindl/src/AMICI-devel/python/examples/example_steadystate/model_steadystate_scaled -I/home/dweindl/.local/lib/python3.6/site-packages/amici/include -I/home/dweindl/.local/lib/python3.6/site-packages/amici/ThirdParty/sundials/include -I/home/dweindl/.local/lib/python3.6/site-packages/amici/ThirdParty/SuiteSparse/include -I/usr/include/hdf5/serial -I/usr/include/python3.6m -c model_steadystate_scaled_JSparse.cpp -o build/temp.linux-x86_64-3.6/model_steadystate_scaled_JSparse.o -std=c++11\n",
      "x86_64-linux-gnu-gcc -pthread -DNDEBUG -g -fwrapv -O2 -Wall -g -fdebug-prefix-map=/build/python3.6-sXpGnM/python3.6-3.6.3=. -specs=/usr/share/dpkg/no-pie-compile.specs -fstack-protector-strong -Wformat -Werror=format-security -Wdate-time -D_FORTIFY_SOURCE=2 -fPIC -I/home/dweindl/src/AMICI-devel/python/examples/example_steadystate/model_steadystate_scaled -I/home/dweindl/.local/lib/python3.6/site-packages/amici/include -I/home/dweindl/.local/lib/python3.6/site-packages/amici/ThirdParty/sundials/include -I/home/dweindl/.local/lib/python3.6/site-packages/amici/ThirdParty/SuiteSparse/include -I/usr/include/hdf5/serial -I/usr/include/python3.6m -c model_steadystate_scaled_dydp.cpp -o build/temp.linux-x86_64-3.6/model_steadystate_scaled_dydp.o -std=c++11\n",
      "x86_64-linux-gnu-gcc -pthread -DNDEBUG -g -fwrapv -O2 -Wall -g -fdebug-prefix-map=/build/python3.6-sXpGnM/python3.6-3.6.3=. -specs=/usr/share/dpkg/no-pie-compile.specs -fstack-protector-strong -Wformat -Werror=format-security -Wdate-time -D_FORTIFY_SOURCE=2 -fPIC -I/home/dweindl/src/AMICI-devel/python/examples/example_steadystate/model_steadystate_scaled -I/home/dweindl/.local/lib/python3.6/site-packages/amici/include -I/home/dweindl/.local/lib/python3.6/site-packages/amici/ThirdParty/sundials/include -I/home/dweindl/.local/lib/python3.6/site-packages/amici/ThirdParty/SuiteSparse/include -I/usr/include/hdf5/serial -I/usr/include/python3.6m -c model_steadystate_scaled_sxdot.cpp -o build/temp.linux-x86_64-3.6/model_steadystate_scaled_sxdot.o -std=c++11\n",
      "x86_64-linux-gnu-gcc -pthread -DNDEBUG -g -fwrapv -O2 -Wall -g -fdebug-prefix-map=/build/python3.6-sXpGnM/python3.6-3.6.3=. -specs=/usr/share/dpkg/no-pie-compile.specs -fstack-protector-strong -Wformat -Werror=format-security -Wdate-time -D_FORTIFY_SOURCE=2 -fPIC -I/home/dweindl/src/AMICI-devel/python/examples/example_steadystate/model_steadystate_scaled -I/home/dweindl/.local/lib/python3.6/site-packages/amici/include -I/home/dweindl/.local/lib/python3.6/site-packages/amici/ThirdParty/sundials/include -I/home/dweindl/.local/lib/python3.6/site-packages/amici/ThirdParty/SuiteSparse/include -I/usr/include/hdf5/serial -I/usr/include/python3.6m -c model_steadystate_scaled_w.cpp -o build/temp.linux-x86_64-3.6/model_steadystate_scaled_w.o -std=c++11\n",
      "x86_64-linux-gnu-gcc -pthread -DNDEBUG -g -fwrapv -O2 -Wall -g -fdebug-prefix-map=/build/python3.6-sXpGnM/python3.6-3.6.3=. -specs=/usr/share/dpkg/no-pie-compile.specs -fstack-protector-strong -Wformat -Werror=format-security -Wdate-time -D_FORTIFY_SOURCE=2 -fPIC -I/home/dweindl/src/AMICI-devel/python/examples/example_steadystate/model_steadystate_scaled -I/home/dweindl/.local/lib/python3.6/site-packages/amici/include -I/home/dweindl/.local/lib/python3.6/site-packages/amici/ThirdParty/sundials/include -I/home/dweindl/.local/lib/python3.6/site-packages/amici/ThirdParty/SuiteSparse/include -I/usr/include/hdf5/serial -I/usr/include/python3.6m -c model_steadystate_scaled_JB.cpp -o build/temp.linux-x86_64-3.6/model_steadystate_scaled_JB.o -std=c++11\n",
      "x86_64-linux-gnu-gcc -pthread -DNDEBUG -g -fwrapv -O2 -Wall -g -fdebug-prefix-map=/build/python3.6-sXpGnM/python3.6-3.6.3=. -specs=/usr/share/dpkg/no-pie-compile.specs -fstack-protector-strong -Wformat -Werror=format-security -Wdate-time -D_FORTIFY_SOURCE=2 -fPIC -I/home/dweindl/src/AMICI-devel/python/examples/example_steadystate/model_steadystate_scaled -I/home/dweindl/.local/lib/python3.6/site-packages/amici/include -I/home/dweindl/.local/lib/python3.6/site-packages/amici/ThirdParty/sundials/include -I/home/dweindl/.local/lib/python3.6/site-packages/amici/ThirdParty/SuiteSparse/include -I/usr/include/hdf5/serial -I/usr/include/python3.6m -c model_steadystate_scaled_JDiag.cpp -o build/temp.linux-x86_64-3.6/model_steadystate_scaled_JDiag.o -std=c++11\n",
      "x86_64-linux-gnu-gcc -pthread -DNDEBUG -g -fwrapv -O2 -Wall -g -fdebug-prefix-map=/build/python3.6-sXpGnM/python3.6-3.6.3=. -specs=/usr/share/dpkg/no-pie-compile.specs -fstack-protector-strong -Wformat -Werror=format-security -Wdate-time -D_FORTIFY_SOURCE=2 -fPIC -I/home/dweindl/src/AMICI-devel/python/examples/example_steadystate/model_steadystate_scaled -I/home/dweindl/.local/lib/python3.6/site-packages/amici/include -I/home/dweindl/.local/lib/python3.6/site-packages/amici/ThirdParty/sundials/include -I/home/dweindl/.local/lib/python3.6/site-packages/amici/ThirdParty/SuiteSparse/include -I/usr/include/hdf5/serial -I/usr/include/python3.6m -c model_steadystate_scaled_qBdot.cpp -o build/temp.linux-x86_64-3.6/model_steadystate_scaled_qBdot.o -std=c++11\n",
      "x86_64-linux-gnu-gcc -pthread -DNDEBUG -g -fwrapv -O2 -Wall -g -fdebug-prefix-map=/build/python3.6-sXpGnM/python3.6-3.6.3=. -specs=/usr/share/dpkg/no-pie-compile.specs -fstack-protector-strong -Wformat -Werror=format-security -Wdate-time -D_FORTIFY_SOURCE=2 -fPIC -I/home/dweindl/src/AMICI-devel/python/examples/example_steadystate/model_steadystate_scaled -I/home/dweindl/.local/lib/python3.6/site-packages/amici/include -I/home/dweindl/.local/lib/python3.6/site-packages/amici/ThirdParty/sundials/include -I/home/dweindl/.local/lib/python3.6/site-packages/amici/ThirdParty/SuiteSparse/include -I/usr/include/hdf5/serial -I/usr/include/python3.6m -c model_steadystate_scaled_x0.cpp -o build/temp.linux-x86_64-3.6/model_steadystate_scaled_x0.o -std=c++11\n",
      "x86_64-linux-gnu-gcc -pthread -DNDEBUG -g -fwrapv -O2 -Wall -g -fdebug-prefix-map=/build/python3.6-sXpGnM/python3.6-3.6.3=. -specs=/usr/share/dpkg/no-pie-compile.specs -fstack-protector-strong -Wformat -Werror=format-security -Wdate-time -D_FORTIFY_SOURCE=2 -fPIC -I/home/dweindl/src/AMICI-devel/python/examples/example_steadystate/model_steadystate_scaled -I/home/dweindl/.local/lib/python3.6/site-packages/amici/include -I/home/dweindl/.local/lib/python3.6/site-packages/amici/ThirdParty/sundials/include -I/home/dweindl/.local/lib/python3.6/site-packages/amici/ThirdParty/SuiteSparse/include -I/usr/include/hdf5/serial -I/usr/include/python3.6m -c model_steadystate_scaled_xBdot.cpp -o build/temp.linux-x86_64-3.6/model_steadystate_scaled_xBdot.o -std=c++11\n",
      "x86_64-linux-gnu-gcc -pthread -DNDEBUG -g -fwrapv -O2 -Wall -g -fdebug-prefix-map=/build/python3.6-sXpGnM/python3.6-3.6.3=. -specs=/usr/share/dpkg/no-pie-compile.specs -fstack-protector-strong -Wformat -Werror=format-security -Wdate-time -D_FORTIFY_SOURCE=2 -fPIC -I/home/dweindl/src/AMICI-devel/python/examples/example_steadystate/model_steadystate_scaled -I/home/dweindl/.local/lib/python3.6/site-packages/amici/include -I/home/dweindl/.local/lib/python3.6/site-packages/amici/ThirdParty/sundials/include -I/home/dweindl/.local/lib/python3.6/site-packages/amici/ThirdParty/SuiteSparse/include -I/usr/include/hdf5/serial -I/usr/include/python3.6m -c model_steadystate_scaled_y.cpp -o build/temp.linux-x86_64-3.6/model_steadystate_scaled_y.o -std=c++11\n",
      "x86_64-linux-gnu-gcc -pthread -DNDEBUG -g -fwrapv -O2 -Wall -g -fdebug-prefix-map=/build/python3.6-sXpGnM/python3.6-3.6.3=. -specs=/usr/share/dpkg/no-pie-compile.specs -fstack-protector-strong -Wformat -Werror=format-security -Wdate-time -D_FORTIFY_SOURCE=2 -fPIC -I/home/dweindl/src/AMICI-devel/python/examples/example_steadystate/model_steadystate_scaled -I/home/dweindl/.local/lib/python3.6/site-packages/amici/include -I/home/dweindl/.local/lib/python3.6/site-packages/amici/ThirdParty/sundials/include -I/home/dweindl/.local/lib/python3.6/site-packages/amici/ThirdParty/SuiteSparse/include -I/usr/include/hdf5/serial -I/usr/include/python3.6m -c model_steadystate_scaled_dJydsigma.cpp -o build/temp.linux-x86_64-3.6/model_steadystate_scaled_dJydsigma.o -std=c++11\n",
      "x86_64-linux-gnu-gcc -pthread -DNDEBUG -g -fwrapv -O2 -Wall -g -fdebug-prefix-map=/build/python3.6-sXpGnM/python3.6-3.6.3=. -specs=/usr/share/dpkg/no-pie-compile.specs -fstack-protector-strong -Wformat -Werror=format-security -Wdate-time -D_FORTIFY_SOURCE=2 -fPIC -I/home/dweindl/src/AMICI-devel/python/examples/example_steadystate/model_steadystate_scaled -I/home/dweindl/.local/lib/python3.6/site-packages/amici/include -I/home/dweindl/.local/lib/python3.6/site-packages/amici/ThirdParty/sundials/include -I/home/dweindl/.local/lib/python3.6/site-packages/amici/ThirdParty/SuiteSparse/include -I/usr/include/hdf5/serial -I/usr/include/python3.6m -c model_steadystate_scaled_dJydy.cpp -o build/temp.linux-x86_64-3.6/model_steadystate_scaled_dJydy.o -std=c++11\n",
      "x86_64-linux-gnu-gcc -pthread -DNDEBUG -g -fwrapv -O2 -Wall -g -fdebug-prefix-map=/build/python3.6-sXpGnM/python3.6-3.6.3=. -specs=/usr/share/dpkg/no-pie-compile.specs -fstack-protector-strong -Wformat -Werror=format-security -Wdate-time -D_FORTIFY_SOURCE=2 -fPIC -I/home/dweindl/src/AMICI-devel/python/examples/example_steadystate/model_steadystate_scaled -I/home/dweindl/.local/lib/python3.6/site-packages/amici/include -I/home/dweindl/.local/lib/python3.6/site-packages/amici/ThirdParty/sundials/include -I/home/dweindl/.local/lib/python3.6/site-packages/amici/ThirdParty/SuiteSparse/include -I/usr/include/hdf5/serial -I/usr/include/python3.6m -c main.cpp -o build/temp.linux-x86_64-3.6/main.o -std=c++11\n",
      "x86_64-linux-gnu-g++ -pthread -shared -Wl,-O1 -Wl,-Bsymbolic-functions -Wl,-Bsymbolic-functions -specs=/usr/share/dpkg/no-pie-link.specs -Wl,-z,relro -Wl,-Bsymbolic-functions -specs=/usr/share/dpkg/no-pie-link.specs -Wl,-z,relro -g -fdebug-prefix-map=/build/python3.6-sXpGnM/python3.6-3.6.3=. -specs=/usr/share/dpkg/no-pie-compile.specs -fstack-protector-strong -Wformat -Werror=format-security -Wdate-time -D_FORTIFY_SOURCE=2 build/temp.linux-x86_64-3.6/swig/model_steadystate_scaled_wrap.o build/temp.linux-x86_64-3.6/model_steadystate_scaled_JvB.o build/temp.linux-x86_64-3.6/model_steadystate_scaled_Jy.o build/temp.linux-x86_64-3.6/model_steadystate_scaled_sx0.o build/temp.linux-x86_64-3.6/model_steadystate_scaled_Jv.o build/temp.linux-x86_64-3.6/model_steadystate_scaled_J.o build/temp.linux-x86_64-3.6/model_steadystate_scaled_xdot.o build/temp.linux-x86_64-3.6/model_steadystate_scaled_dxdotdp.o build/temp.linux-x86_64-3.6/model_steadystate_scaled_dwdx.o build/temp.linux-x86_64-3.6/wrapfunctions.o build/temp.linux-x86_64-3.6/model_steadystate_scaled_dydx.o build/temp.linux-x86_64-3.6/model_steadystate_scaled_dwdp.o build/temp.linux-x86_64-3.6/model_steadystate_scaled_JSparseB.o build/temp.linux-x86_64-3.6/model_steadystate_scaled_dsigmaydp.o build/temp.linux-x86_64-3.6/model_steadystate_scaled_sigmay.o build/temp.linux-x86_64-3.6/model_steadystate_scaled_JSparse.o build/temp.linux-x86_64-3.6/model_steadystate_scaled_dydp.o build/temp.linux-x86_64-3.6/model_steadystate_scaled_sxdot.o build/temp.linux-x86_64-3.6/model_steadystate_scaled_w.o build/temp.linux-x86_64-3.6/model_steadystate_scaled_JB.o build/temp.linux-x86_64-3.6/model_steadystate_scaled_JDiag.o build/temp.linux-x86_64-3.6/model_steadystate_scaled_qBdot.o build/temp.linux-x86_64-3.6/model_steadystate_scaled_x0.o build/temp.linux-x86_64-3.6/model_steadystate_scaled_xBdot.o build/temp.linux-x86_64-3.6/model_steadystate_scaled_y.o build/temp.linux-x86_64-3.6/model_steadystate_scaled_dJydsigma.o build/temp.linux-x86_64-3.6/model_steadystate_scaled_dJydy.o build/temp.linux-x86_64-3.6/main.o -L/usr/lib/x86_64-linux-gnu/hdf5/serial -L/home/dweindl/.local/lib/python3.6/site-packages/amici/libs -lamici -lsundials -lsuitesparse -lcblas -lhdf5_hl_cpp -lhdf5_hl -lhdf5_cpp -lhdf5 -o /home/dweindl/src/AMICI-devel/python/examples/example_steadystate/model_steadystate_scaled/model_steadystate_scaled/_model_steadystate_scaled.cpython-36m-x86_64-linux-gnu.so\n",
      "\n"
     ]
    }
   ],
   "source": [
    "import amici\n",
    "\n",
    "import os\n",
    "import sys\n",
    "import numpy as np\n",
    "import matplotlib.pyplot as plt\n",
    "\n",
    "def createModule(sbml_file, model_name, model_output_dir):\n",
    "    \"\"\"Create Python module from SBML model\"\"\"\n",
    "    sbmlImporter = amici.SbmlImporter(sbml_file)\n",
    "    sbml = sbmlImporter.sbml\n",
    "    \n",
    "    observables = amici.assignmentRules2observables(sbml, filter=lambda variableId: \n",
    "                                                    variableId.startswith('observable_') and not variableId.endswith('_sigma'))\n",
    "    \n",
    "    print(observables)\n",
    "    \n",
    "    sbmlImporter.sbml2amici(model_name, model_output_dir, verbose=True,\n",
    "                            observables=observables,\n",
    "                            constantParameters=['k4'],\n",
    "                            sigmas={'observable_x1withsigma': 'observable_x1withsigma_sigma'})\n",
    "\n",
    "createModule(sbml_file, model_name, model_output_dir)\n"
   ]
  },
  {
   "cell_type": "markdown",
   "metadata": {},
   "source": [
    "To use python-generated model in matlab, run:\n",
    "```\n",
    "modelName = '';\n",
    "modelDir = '';\n",
    "amimodel.compileAndLinkModel(modelName, modelDir, [], [], [], []);\n",
    "amimodel.generateMatlabWrapper(3, 6, 8, 1, 0, 0, [], [ modelDir '/simulate_test.m'], modelName, 'lin', 1, 1);\n",
    "```"
   ]
  },
  {
   "cell_type": "markdown",
   "metadata": {},
   "source": [
    "## Running simulations and analyzing results"
   ]
  },
  {
   "cell_type": "code",
   "execution_count": 4,
   "metadata": {
    "scrolled": true
   },
   "outputs": [
    {
     "ename": "ModuleNotFoundError",
     "evalue": "No module named '_model_steadystate_scaled'",
     "output_type": "error",
     "traceback": [
      "\u001b[0;31m---------------------------------------------------------------------------\u001b[0m",
      "\u001b[0;31mImportError\u001b[0m                               Traceback (most recent call last)",
      "\u001b[0;32m~/src/AMICI-devel/python/examples/example_steadystate/model_steadystate_scaled/model_steadystate_scaled/model_steadystate_scaled.py\u001b[0m in \u001b[0;36mswig_import_helper\u001b[0;34m()\u001b[0m\n\u001b[1;32m     17\u001b[0m         \u001b[0;32mtry\u001b[0m\u001b[0;34m:\u001b[0m\u001b[0;34m\u001b[0m\u001b[0m\n\u001b[0;32m---> 18\u001b[0;31m             \u001b[0;32mreturn\u001b[0m \u001b[0mimportlib\u001b[0m\u001b[0;34m.\u001b[0m\u001b[0mimport_module\u001b[0m\u001b[0;34m(\u001b[0m\u001b[0mmname\u001b[0m\u001b[0;34m)\u001b[0m\u001b[0;34m\u001b[0m\u001b[0m\n\u001b[0m\u001b[1;32m     19\u001b[0m         \u001b[0;32mexcept\u001b[0m \u001b[0mImportError\u001b[0m\u001b[0;34m:\u001b[0m\u001b[0;34m\u001b[0m\u001b[0m\n",
      "\u001b[0;32m/usr/lib/python3.6/importlib/__init__.py\u001b[0m in \u001b[0;36mimport_module\u001b[0;34m(name, package)\u001b[0m\n\u001b[1;32m    125\u001b[0m             \u001b[0mlevel\u001b[0m \u001b[0;34m+=\u001b[0m \u001b[0;36m1\u001b[0m\u001b[0;34m\u001b[0m\u001b[0m\n\u001b[0;32m--> 126\u001b[0;31m     \u001b[0;32mreturn\u001b[0m \u001b[0m_bootstrap\u001b[0m\u001b[0;34m.\u001b[0m\u001b[0m_gcd_import\u001b[0m\u001b[0;34m(\u001b[0m\u001b[0mname\u001b[0m\u001b[0;34m[\u001b[0m\u001b[0mlevel\u001b[0m\u001b[0;34m:\u001b[0m\u001b[0;34m]\u001b[0m\u001b[0;34m,\u001b[0m \u001b[0mpackage\u001b[0m\u001b[0;34m,\u001b[0m \u001b[0mlevel\u001b[0m\u001b[0;34m)\u001b[0m\u001b[0;34m\u001b[0m\u001b[0m\n\u001b[0m\u001b[1;32m    127\u001b[0m \u001b[0;34m\u001b[0m\u001b[0m\n",
      "\u001b[0;32m/usr/lib/python3.6/importlib/_bootstrap.py\u001b[0m in \u001b[0;36m_gcd_import\u001b[0;34m(name, package, level)\u001b[0m\n",
      "\u001b[0;32m/usr/lib/python3.6/importlib/_bootstrap.py\u001b[0m in \u001b[0;36m_find_and_load\u001b[0;34m(name, import_)\u001b[0m\n",
      "\u001b[0;32m/usr/lib/python3.6/importlib/_bootstrap.py\u001b[0m in \u001b[0;36m_find_and_load_unlocked\u001b[0;34m(name, import_)\u001b[0m\n",
      "\u001b[0;32m/usr/lib/python3.6/importlib/_bootstrap.py\u001b[0m in \u001b[0;36m_load_unlocked\u001b[0;34m(spec)\u001b[0m\n",
      "\u001b[0;32m/usr/lib/python3.6/importlib/_bootstrap.py\u001b[0m in \u001b[0;36mmodule_from_spec\u001b[0;34m(spec)\u001b[0m\n",
      "\u001b[0;32m/usr/lib/python3.6/importlib/_bootstrap_external.py\u001b[0m in \u001b[0;36mcreate_module\u001b[0;34m(self, spec)\u001b[0m\n",
      "\u001b[0;32m/usr/lib/python3.6/importlib/_bootstrap.py\u001b[0m in \u001b[0;36m_call_with_frames_removed\u001b[0;34m(f, *args, **kwds)\u001b[0m\n",
      "\u001b[0;31mImportError\u001b[0m: /home/dweindl/src/AMICI-devel/python/examples/example_steadystate/model_steadystate_scaled/model_steadystate_scaled/_model_steadystate_scaled.cpython-36m-x86_64-linux-gnu.so: undefined symbol: _Z33dJydsigmamodel_steadystate_scaledPdiPKdS1_S1_S1_S1_",
      "\nDuring handling of the above exception, another exception occurred:\n",
      "\u001b[0;31mModuleNotFoundError\u001b[0m                       Traceback (most recent call last)",
      "\u001b[0;32m<ipython-input-4-803d786f5bf0>\u001b[0m in \u001b[0;36m<module>\u001b[0;34m()\u001b[0m\n\u001b[1;32m      1\u001b[0m \u001b[0msys\u001b[0m\u001b[0;34m.\u001b[0m\u001b[0mpath\u001b[0m\u001b[0;34m.\u001b[0m\u001b[0minsert\u001b[0m\u001b[0;34m(\u001b[0m\u001b[0;36m0\u001b[0m\u001b[0;34m,\u001b[0m \u001b[0mos\u001b[0m\u001b[0;34m.\u001b[0m\u001b[0mpath\u001b[0m\u001b[0;34m.\u001b[0m\u001b[0mabspath\u001b[0m\u001b[0;34m(\u001b[0m\u001b[0mmodel_output_dir\u001b[0m\u001b[0;34m)\u001b[0m\u001b[0;34m)\u001b[0m\u001b[0;34m\u001b[0m\u001b[0m\n\u001b[0;32m----> 2\u001b[0;31m \u001b[0;32mimport\u001b[0m \u001b[0mmodel_steadystate_scaled\u001b[0m \u001b[0;32mas\u001b[0m \u001b[0mmodelModule\u001b[0m\u001b[0;34m\u001b[0m\u001b[0m\n\u001b[0m\u001b[1;32m      3\u001b[0m \u001b[0;34m\u001b[0m\u001b[0m\n\u001b[1;32m      4\u001b[0m \u001b[0mmodel\u001b[0m \u001b[0;34m=\u001b[0m \u001b[0mmodelModule\u001b[0m\u001b[0;34m.\u001b[0m\u001b[0mgetModel\u001b[0m\u001b[0;34m(\u001b[0m\u001b[0;34m)\u001b[0m\u001b[0;34m\u001b[0m\u001b[0m\n\u001b[1;32m      5\u001b[0m \u001b[0;34m\u001b[0m\u001b[0m\n",
      "\u001b[0;32m~/src/AMICI-devel/python/examples/example_steadystate/model_steadystate_scaled/model_steadystate_scaled/__init__.py\u001b[0m in \u001b[0;36m<module>\u001b[0;34m()\u001b[0m\n\u001b[1;32m      1\u001b[0m \u001b[0;34m\"\"\"AMICI-generated module for model model_steadystate_scaled\"\"\"\u001b[0m\u001b[0;34m\u001b[0m\u001b[0m\n\u001b[1;32m      2\u001b[0m \u001b[0;34m\u001b[0m\u001b[0m\n\u001b[0;32m----> 3\u001b[0;31m \u001b[0;32mfrom\u001b[0m \u001b[0mmodel_steadystate_scaled\u001b[0m\u001b[0;34m.\u001b[0m\u001b[0mmodel_steadystate_scaled\u001b[0m \u001b[0;32mimport\u001b[0m \u001b[0;34m*\u001b[0m\u001b[0;34m\u001b[0m\u001b[0m\n\u001b[0m",
      "\u001b[0;32m~/src/AMICI-devel/python/examples/example_steadystate/model_steadystate_scaled/model_steadystate_scaled/model_steadystate_scaled.py\u001b[0m in \u001b[0;36m<module>\u001b[0;34m()\u001b[0m\n\u001b[1;32m     19\u001b[0m         \u001b[0;32mexcept\u001b[0m \u001b[0mImportError\u001b[0m\u001b[0;34m:\u001b[0m\u001b[0;34m\u001b[0m\u001b[0m\n\u001b[1;32m     20\u001b[0m             \u001b[0;32mreturn\u001b[0m \u001b[0mimportlib\u001b[0m\u001b[0;34m.\u001b[0m\u001b[0mimport_module\u001b[0m\u001b[0;34m(\u001b[0m\u001b[0;34m'_model_steadystate_scaled'\u001b[0m\u001b[0;34m)\u001b[0m\u001b[0;34m\u001b[0m\u001b[0m\n\u001b[0;32m---> 21\u001b[0;31m     \u001b[0m_model_steadystate_scaled\u001b[0m \u001b[0;34m=\u001b[0m \u001b[0mswig_import_helper\u001b[0m\u001b[0;34m(\u001b[0m\u001b[0;34m)\u001b[0m\u001b[0;34m\u001b[0m\u001b[0m\n\u001b[0m\u001b[1;32m     22\u001b[0m     \u001b[0;32mdel\u001b[0m \u001b[0mswig_import_helper\u001b[0m\u001b[0;34m\u001b[0m\u001b[0m\n\u001b[1;32m     23\u001b[0m \u001b[0;32melif\u001b[0m \u001b[0m_swig_python_version_info\u001b[0m \u001b[0;34m>=\u001b[0m \u001b[0;34m(\u001b[0m\u001b[0;36m2\u001b[0m\u001b[0;34m,\u001b[0m \u001b[0;36m6\u001b[0m\u001b[0;34m,\u001b[0m \u001b[0;36m0\u001b[0m\u001b[0;34m)\u001b[0m\u001b[0;34m:\u001b[0m\u001b[0;34m\u001b[0m\u001b[0m\n",
      "\u001b[0;32m~/src/AMICI-devel/python/examples/example_steadystate/model_steadystate_scaled/model_steadystate_scaled/model_steadystate_scaled.py\u001b[0m in \u001b[0;36mswig_import_helper\u001b[0;34m()\u001b[0m\n\u001b[1;32m     18\u001b[0m             \u001b[0;32mreturn\u001b[0m \u001b[0mimportlib\u001b[0m\u001b[0;34m.\u001b[0m\u001b[0mimport_module\u001b[0m\u001b[0;34m(\u001b[0m\u001b[0mmname\u001b[0m\u001b[0;34m)\u001b[0m\u001b[0;34m\u001b[0m\u001b[0m\n\u001b[1;32m     19\u001b[0m         \u001b[0;32mexcept\u001b[0m \u001b[0mImportError\u001b[0m\u001b[0;34m:\u001b[0m\u001b[0;34m\u001b[0m\u001b[0m\n\u001b[0;32m---> 20\u001b[0;31m             \u001b[0;32mreturn\u001b[0m \u001b[0mimportlib\u001b[0m\u001b[0;34m.\u001b[0m\u001b[0mimport_module\u001b[0m\u001b[0;34m(\u001b[0m\u001b[0;34m'_model_steadystate_scaled'\u001b[0m\u001b[0;34m)\u001b[0m\u001b[0;34m\u001b[0m\u001b[0m\n\u001b[0m\u001b[1;32m     21\u001b[0m     \u001b[0m_model_steadystate_scaled\u001b[0m \u001b[0;34m=\u001b[0m \u001b[0mswig_import_helper\u001b[0m\u001b[0;34m(\u001b[0m\u001b[0;34m)\u001b[0m\u001b[0;34m\u001b[0m\u001b[0m\n\u001b[1;32m     22\u001b[0m     \u001b[0;32mdel\u001b[0m \u001b[0mswig_import_helper\u001b[0m\u001b[0;34m\u001b[0m\u001b[0m\n",
      "\u001b[0;32m/usr/lib/python3.6/importlib/__init__.py\u001b[0m in \u001b[0;36mimport_module\u001b[0;34m(name, package)\u001b[0m\n\u001b[1;32m    124\u001b[0m                 \u001b[0;32mbreak\u001b[0m\u001b[0;34m\u001b[0m\u001b[0m\n\u001b[1;32m    125\u001b[0m             \u001b[0mlevel\u001b[0m \u001b[0;34m+=\u001b[0m \u001b[0;36m1\u001b[0m\u001b[0;34m\u001b[0m\u001b[0m\n\u001b[0;32m--> 126\u001b[0;31m     \u001b[0;32mreturn\u001b[0m \u001b[0m_bootstrap\u001b[0m\u001b[0;34m.\u001b[0m\u001b[0m_gcd_import\u001b[0m\u001b[0;34m(\u001b[0m\u001b[0mname\u001b[0m\u001b[0;34m[\u001b[0m\u001b[0mlevel\u001b[0m\u001b[0;34m:\u001b[0m\u001b[0;34m]\u001b[0m\u001b[0;34m,\u001b[0m \u001b[0mpackage\u001b[0m\u001b[0;34m,\u001b[0m \u001b[0mlevel\u001b[0m\u001b[0;34m)\u001b[0m\u001b[0;34m\u001b[0m\u001b[0m\n\u001b[0m\u001b[1;32m    127\u001b[0m \u001b[0;34m\u001b[0m\u001b[0m\n\u001b[1;32m    128\u001b[0m \u001b[0;34m\u001b[0m\u001b[0m\n",
      "\u001b[0;31mModuleNotFoundError\u001b[0m: No module named '_model_steadystate_scaled'"
     ]
    }
   ],
   "source": [
    "sys.path.insert(0, os.path.abspath(model_output_dir))\n",
    "import model_steadystate_scaled as modelModule\n",
    "\n",
    "model = modelModule.getModel()\n",
    "\n",
    "# show default parameters\n",
    "print('Parameters:', np.array(model.getParameters()))\n",
    "\n",
    "# simulation using default parameters\n",
    "model.setTimepoints(amici.DoubleVector(np.linspace(0, 60, 60))) \n",
    "solver = model.getSolver()\n",
    "rdata = amici.runAmiciSimulation(model, solver)\n",
    "\n",
    "print()\n",
    "#np.set_printoptions(threshold=8, edgeitems=2)\n",
    "for key, value in rdata.items():\n",
    "    print('%12s: ' % key, value)\n",
    "\n"
   ]
  },
  {
   "cell_type": "markdown",
   "metadata": {},
   "source": [
    "### Plotting tractories"
   ]
  },
  {
   "cell_type": "code",
   "execution_count": null,
   "metadata": {},
   "outputs": [],
   "source": [
    "def plotStateTrajectories(rdata):\n",
    "    for ix in range(rdata['x'].shape[1]):\n",
    "        plt.plot(rdata['t'], rdata['x'][:, ix], label='$x_%d$' % ix)\n",
    "        plt.xlabel('$t$ (s)')\n",
    "        plt.ylabel('$x_i(t)$ (mmol/ml)')\n",
    "        plt.legend()\n",
    "        plt.title('State trajectories')\n",
    "    plt.show()\n",
    "    \n",
    "def plotObservableTrajectories(rdata):\n",
    "    for iy in range(rdata['y'].shape[1]):\n",
    "        plt.plot(rdata['t'], rdata['y'][:, iy], label='$y_%d$' % iy)\n",
    "        plt.xlabel('$t$ (s)')\n",
    "        plt.ylabel('$y_i(t)$ (AU)')\n",
    "        plt.legend()\n",
    "        plt.title('Observables')\n",
    "    \n",
    "    plt.show()\n",
    "    sys.path.insert(0, 'test')\n",
    "\n",
    "plotStateTrajectories(rdata)\n",
    "plotObservableTrajectories(rdata)"
   ]
  },
  {
   "cell_type": "markdown",
   "metadata": {},
   "source": [
    "### Computing likelihood"
   ]
  },
  {
   "cell_type": "code",
   "execution_count": null,
   "metadata": {},
   "outputs": [],
   "source": [
    "model = modelModule.getModel()\n",
    "model.setTimepoints(amici.DoubleVector(np.linspace(0, 10, 11))) \n",
    "solver = model.getSolver()\n",
    "rdata = amici.runAmiciSimulation(model, solver)\n",
    "\n",
    "edata = amici.ExpData(model.get())\n",
    "edata.my = amici.DoubleVector(rdata['y'].flatten())\n",
    "edata.sigmay = amici.DoubleVector(np.ones(shape=rdata['y'].shape).flatten())\n",
    "rdata = amici.runAmiciSimulation(model, solver, edata)\n",
    "\n",
    "print('Loglikelihood %f' % rdata['llh'])"
   ]
  },
  {
   "cell_type": "markdown",
   "metadata": {},
   "source": [
    "## Forward sensitivity analysis"
   ]
  },
  {
   "cell_type": "code",
   "execution_count": null,
   "metadata": {},
   "outputs": [],
   "source": [
    "model = modelModule.getModel()\n",
    "model.setTimepoints(amici.DoubleVector(np.linspace(0, 10, 11))) \n",
    "model.requireSensitivitiesForAllParameters()\n",
    "model.setParameterScale(amici.AMICI_SCALING_NONE)\n",
    "\n",
    "solver = model.getSolver()\n",
    "solver.setSensitivityMethod(amici.AMICI_SENSI_FSA)\n",
    "solver.setSensitivityOrder(amici.AMICI_SENSI_ORDER_FIRST)\n",
    "\n",
    "rdata = amici.runAmiciSimulation(model, solver)\n",
    "\n",
    "for key, value in rdata.items():\n",
    "    if key.startswith('s'):\n",
    "        print('%12s: ' % key, value)\n"
   ]
  },
  {
   "cell_type": "markdown",
   "metadata": {},
   "source": [
    "## Adjoint sensitivity analysis"
   ]
  },
  {
   "cell_type": "code",
   "execution_count": null,
   "metadata": {},
   "outputs": [],
   "source": [
    "model = modelModule.getModel()\n",
    "p_orig = np.array(model.getParameters())\n",
    "model.setParameterScale(amici.AMICI_SCALING_NONE)\n",
    "model.setTimepoints(amici.DoubleVector(np.linspace(0, 10, 11))) \n",
    "solver = model.getSolver()\n",
    "solver.setMaxSteps(10**4)\n",
    "\n",
    "# simulate time-course for artificial data\n",
    "rdata = amici.runAmiciSimulation(model, solver)\n",
    "edata = amici.ExpData(model.get())\n",
    "edata.fixedParameters = model.getFixedParameters()\n",
    "edata.my = amici.DoubleVector(rdata['y'].flatten())\n",
    "# set sigma to 1.0 except for observable 5, so that p[7] is used instead\n",
    "sigmay = np.ones(shape=rdata['y'].shape)\n",
    "sigmay[:, 5] = np.nan\n",
    "edata.sigmay = amici.DoubleVector(sigmay.flatten())\n",
    "\n",
    "# enable sensitivities\n",
    "solver.setSensitivityMethod(amici.AMICI_SENSI_ASA)\n",
    "solver.setSensitivityOrder(amici.AMICI_SENSI_ORDER_FIRST)\n",
    "model.requireSensitivitiesForAllParameters()\n",
    "\n",
    "# compute adjoint sensitivities\n",
    "rdata = amici.runAmiciSimulation(model, solver, edata)\n",
    "print('Noise-free: llh: %f, sllh: %s' % (rdata['llh'], rdata['sllh']))\n",
    "\n",
    "# Add some noise\n",
    "edata.my = amici.DoubleVector(np.multiply(rdata['y'], np.random.normal(0.0, 0.01, rdata['y'].shape)).flatten())\n",
    "#edata.my = amici.DoubleVector((rdata['y'] * 1.1).flatten())\n",
    "rdata = amici.runAmiciSimulation(model, solver, edata)\n",
    "print('Some noise: llh: %f, sllh: %s' % (rdata['llh'], rdata['sllh']))\n",
    "\n",
    "# Check llh sensitivity w.r.t. sigma parameter: \n",
    "p = p_orig.copy()\n",
    "p[7] = 2\n",
    "model.setParameters(amici.DoubleVector(p.flatten()))\n",
    "rdata = amici.runAmiciSimulation(model, solver, edata)\n",
    "print('Some noise: llh: %f, sllh: %s' % (rdata['llh'], rdata['sllh']))"
   ]
  },
  {
   "cell_type": "markdown",
   "metadata": {},
   "source": [
    "## Finite differences gradient check"
   ]
  },
  {
   "cell_type": "code",
   "execution_count": null,
   "metadata": {},
   "outputs": [],
   "source": [
    "from scipy.optimize import check_grad\n",
    "def func(x0, symbol='llh', x0full=None, plist=[], verbose=False):\n",
    "    p = x0[:]\n",
    "    if len(plist):\n",
    "        p = x0full[:]\n",
    "        p[plist] = x0\n",
    "    verbose and print('f: p=%s' % p)\n",
    "    \n",
    "    old_parameters = model.getParameters()\n",
    "    solver.setSensitivityOrder(amici.AMICI_SENSI_ORDER_NONE)\n",
    "    model.setParameters(amici.DoubleVector(p))\n",
    "    rdata = amici.runAmiciSimulation(model, solver, edata)\n",
    "    \n",
    "    model.setParameters(old_parameters)\n",
    "    \n",
    "    res = np.sum(rdata[symbol])\n",
    "    verbose and print(res)\n",
    "    return res\n",
    "\n",
    "def grad(x0, symbol='llh', x0full=None, plist=[], verbose=False):\n",
    "    p = x0[:]\n",
    "    if len(plist):\n",
    "        model.setParameterList(amici.IntVector(plist))\n",
    "        p = x0full[:]\n",
    "        p[plist] = x0\n",
    "    else:\n",
    "        model.requireSensitivitiesForAllParameters()\n",
    "    verbose and print('g: p=%s' % p)\n",
    "    \n",
    "    old_parameters = model.getParameters()\n",
    "    solver.setSensitivityMethod(amici.AMICI_SENSI_FSA)\n",
    "    solver.setSensitivityOrder(amici.AMICI_SENSI_ORDER_FIRST)\n",
    "    model.setParameters(amici.DoubleVector(p))\n",
    "    rdata = amici.runAmiciSimulation(model, solver, edata)\n",
    "    \n",
    "    model.setParameters(old_parameters)\n",
    "\n",
    "    res = rdata['s%s' % symbol]\n",
    "    if not isinstance(res, float):\n",
    "        if len(res.shape) == 3:\n",
    "            res = np.sum(res, axis=(0, 2))\n",
    "    verbose and print(res)\n",
    "    return res\n",
    "\n",
    "err_norm = check_grad(func, grad, p, 'llh')\n",
    "print('sllh: |error|_2: %f' % err_norm)\n",
    "# assert err_norm < 1e-6\n",
    "print()\n",
    "\n",
    "for ip in range(model.np()):\n",
    "    plist = [ip]\n",
    "    p = p_orig.copy()\n",
    "    err_norm = check_grad(func, grad, p[plist], 'llh', p, [ip])\n",
    "    print('sllh: p[%d]: |error|_2: %f' % (ip, err_norm))\n",
    "\n",
    "print()\n",
    "for ip in range(model.np()):\n",
    "    plist = [ip]\n",
    "    p = p_orig.copy()\n",
    "    err_norm = check_grad(func, grad, p[plist], 'y', p, [ip])\n",
    "    print('sy: p[%d]: |error|_2: %f' % (ip, err_norm))\n",
    "\n",
    "print()\n",
    "for ip in range(model.np()):\n",
    "    plist = [ip]\n",
    "    p = p_orig.copy()\n",
    "    err_norm = check_grad(func, grad, p[plist], 'x', p, [ip])\n",
    "    print('sx: p[%d]: |error|_2: %f' % (ip, err_norm))\n",
    "\n",
    "print()\n",
    "for ip in range(model.np()):\n",
    "    plist = [ip]\n",
    "    p = p_orig.copy()\n",
    "    err_norm = check_grad(func, grad, p[plist], 'sigmay', p, [ip])\n",
    "    print('ssigmay: p[%d]: |error|_2: %f' % (ip, err_norm))\n"
   ]
  },
  {
   "cell_type": "code",
   "execution_count": null,
   "metadata": {},
   "outputs": [],
   "source": []
  },
  {
   "cell_type": "code",
   "execution_count": null,
   "metadata": {},
   "outputs": [],
   "source": []
  }
 ],
 "metadata": {
  "kernelspec": {
   "display_name": "Python 3",
   "language": "python",
   "name": "python3"
  },
  "language_info": {
   "codemirror_mode": {
    "name": "ipython",
    "version": 3
   },
   "file_extension": ".py",
   "mimetype": "text/x-python",
   "name": "python",
   "nbconvert_exporter": "python",
   "pygments_lexer": "ipython3",
   "version": "3.6.3"
  }
 },
 "nbformat": 4,
 "nbformat_minor": 2
}
