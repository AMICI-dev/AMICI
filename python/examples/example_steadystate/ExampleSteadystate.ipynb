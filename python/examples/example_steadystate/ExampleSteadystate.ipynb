{
 "cells": [
  {
   "cell_type": "markdown",
   "metadata": {},
   "source": [
    "# AMICI Python example \"steadystate\"\n",
    "\n",
    "This is an example using the [model_steadystate_scaled.sbml] model to demonstrate and test SBML import and AMICI Python interface."
   ]
  },
  {
   "cell_type": "code",
   "execution_count": 1,
   "metadata": {},
   "outputs": [],
   "source": [
    "# SBML model we want to import\n",
    "sbml_file = 'model_steadystate_scaled.xml'\n",
    "# Name of the model that will also be the name of the python module\n",
    "model_name = 'model_steadystate_scaled'\n",
    "# Directory to which the generated model code is written\n",
    "model_output_dir = model_name\n",
    "\n",
    "import libsbml\n",
    "import importlib\n",
    "import amici\n",
    "import os\n",
    "import sys\n",
    "import numpy as np\n",
    "import matplotlib.pyplot as plt"
   ]
  },
  {
   "cell_type": "markdown",
   "metadata": {},
   "source": [
    "## The example model\n",
    "\n",
    "Here we use `libsbml` to show the reactions and species described by the model (this is independent of AMICI)."
   ]
  },
  {
   "cell_type": "code",
   "execution_count": 2,
   "metadata": {},
   "outputs": [
    {
     "name": "stdout",
     "output_type": "stream",
     "text": [
      "Species:  ['x1', 'x2', 'x3']\n\nReactions:\n r1:       2 x1  ->        x2\t\t[p1 * x1^2]\n r2:   x1 +  x2  ->        x3\t\t[p2 * x1 * x2]\n r3:         x2  ->      2 x1\t\t[p3 * x2]\n r4:         x3  ->  x1 +  x2\t\t[p4 * x3]\n r5:         x3  ->          \t\t[k4 * x3]\n r6:             ->        x1\t\t[p5]\n"
     ]
    }
   ],
   "source": [
    "sbml_reader = libsbml.SBMLReader()\n",
    "sbml_doc = sbml_reader.readSBML(sbml_file)\n",
    "sbml_model = sbml_doc.getModel()\n",
    "dir(sbml_doc)\n",
    "\n",
    "print('Species: ', [s.getId() for s in sbml_model.getListOfSpecies()])\n",
    "\n",
    "print('\\nReactions:')\n",
    "for reaction in sbml_model.getListOfReactions():\n",
    "    reactants = ' + '.join(['%s %s'%(int(r.getStoichiometry()) if r.getStoichiometry() > 1 else '', r.getSpecies()) for r in reaction.getListOfReactants()])\n",
    "    products  = ' + '.join(['%s %s'%(int(r.getStoichiometry()) if r.getStoichiometry() > 1 else '', r.getSpecies()) for r in reaction.getListOfProducts()])\n",
    "    reversible = '<' if reaction.getReversible() else ''\n",
    "    print('%3s: %10s %1s->%10s\\t\\t[%s]' % (reaction.getId(), \n",
    "                        reactants,\n",
    "                        reversible,\n",
    "                         products,\n",
    "                        libsbml.formulaToL3String(reaction.getKineticLaw().getMath())))\n"
   ]
  },
  {
   "cell_type": "markdown",
   "metadata": {},
   "source": [
    "## Importing an SBML model, compiling and generating an AMICI module\n",
    "\n",
    "Before we can use AMICI to simulate our model, the SBML model needs to be translated to C++ code. This is done by `amici.SbmlImporter`."
   ]
  },
  {
   "cell_type": "code",
   "execution_count": 3,
   "metadata": {},
   "outputs": [],
   "source": [
    "# Create an SbmlImporter instance for our SBML model\n",
    "sbml_importer = amici.SbmlImporter(sbml_file)"
   ]
  },
  {
   "cell_type": "markdown",
   "metadata": {},
   "source": [
    "In this example, we want to specify fixed parameters, observables and a $\\sigma$ parameter. Unfortunately, the latter two are not part of the [SBML standard](http://sbml.org/). However, they can be provided to `amici.SbmlImporter.sbml2amici` as demonstrated in the following."
   ]
  },
  {
   "cell_type": "markdown",
   "metadata": {},
   "source": [
    "### Constant parameters\n",
    "\n",
    "Constant parameters, i.e. parameters with respect to which no sensitivities are to be computed (these are often parameters specifying a certain experimental condition) are provided as a list of parameter names."
   ]
  },
  {
   "cell_type": "code",
   "execution_count": 4,
   "metadata": {},
   "outputs": [],
   "source": [
    "constantParameters = ['k4']"
   ]
  },
  {
   "cell_type": "markdown",
   "metadata": {},
   "source": [
    "### Observables\n",
    "\n",
    "We used SBML's [`AssignmentRule`](http://sbml.org/Software/libSBML/5.13.0/docs//python-api/classlibsbml_1_1_rule.html) as a non-standard way to specify *Model outputs* within the SBML file. These rules need to be removed prior to the model import (AMICI does at this time not support these Rules). This can be easily done using `amici.assignmentRules2observables()`.\n",
    "\n",
    "In this example, we introduced parameters named `observable_*` as targets of the observable AssignmentRules. Where applicable we have `observable_*_sigma` parameters for $\\sigma$ parameters (see below)."
   ]
  },
  {
   "cell_type": "code",
   "execution_count": 5,
   "metadata": {},
   "outputs": [
    {
     "name": "stdout",
     "output_type": "stream",
     "text": [
      "Observables: {'observable_x1': 'x1', 'observable_x2': 'x2', 'observable_x3': 'x3', 'observable_x1_scaled': 'scaling_x1 * x1', 'observable_x2_offsetted': 'offset_x2 + x2', 'observable_x1withsigma': 'x1'}\n"
     ]
    }
   ],
   "source": [
    "# Retrieve model output names and formulae from AssignmentRules and remove the respective rules\n",
    "observables = amici.assignmentRules2observables(\n",
    "        sbml_importer.sbml, # the libsbml model object\n",
    "        filter=lambda variableId: variableId.startswith('observable_') and not variableId.endswith('_sigma')\n",
    "    )\n",
    "print('Observables:', observables)"
   ]
  },
  {
   "cell_type": "markdown",
   "metadata": {},
   "source": [
    "### $\\sigma$ parameters\n",
    "\n",
    "To specify measurement noise as a parameter, we simply provide a dictionary with (preexisting) parameter names as keys and a list of observable names as values to indicate which sigma parameter is to be used for which observable."
   ]
  },
  {
   "cell_type": "code",
   "execution_count": 6,
   "metadata": {},
   "outputs": [],
   "source": [
    "sigmas = {'observable_x1withsigma': 'observable_x1withsigma_sigma'}"
   ]
  },
  {
   "cell_type": "markdown",
   "metadata": {},
   "source": [
    "### Generating the module\n",
    "\n",
    "Now we can generate the python module for our model. `amici.SbmlImporter.sbml2amici` will symbolically derive the sensitivity equations, generate C++ code for model simulation, and assemble the python module."
   ]
  },
  {
   "cell_type": "code",
   "execution_count": 7,
   "metadata": {},
   "outputs": [],
   "source": [
    "sbml_importer.sbml2amici(model_name, \n",
    "                         model_output_dir, \n",
    "                         verbose=False,\n",
    "                         observables=observables,\n",
    "                         constantParameters=constantParameters,\n",
    "                         sigmas=sigmas)"
   ]
  },
  {
   "cell_type": "markdown",
   "metadata": {},
   "source": [
    "### Importing the module and loading the model\n",
    "\n",
    "If everything went well, we need to add the previously selected model output directory to our PYTHON_PATH and are then ready to load newly generated model:"
   ]
  },
  {
   "cell_type": "code",
   "execution_count": 8,
   "metadata": {},
   "outputs": [],
   "source": [
    "sys.path.insert(0, os.path.abspath(model_output_dir))\n",
    "model_module = importlib.import_module(model_name)"
   ]
  },
  {
   "cell_type": "markdown",
   "metadata": {},
   "source": [
    "And get an instance of our model from which we can retrieve information such as parameter names:"
   ]
  },
  {
   "cell_type": "code",
   "execution_count": 9,
   "metadata": {},
   "outputs": [
    {
     "name": "stdout",
     "output_type": "stream",
     "text": [
      "Model parameters: ['p1', 'p2', 'p3', 'p4', 'p5', 'scaling_x1', 'offset_x2', 'observable_x1withsigma_sigma']\nModel outputs:    ['observable_x1', 'observable_x2', 'observable_x3', 'observable_x1_scaled', 'observable_x2_offsetted', 'observable_x1withsigma']\nModel states:     ['x1', 'x2', 'x3']\n"
     ]
    }
   ],
   "source": [
    "model = model_module.getModel()\n",
    "\n",
    "print(\"Model parameters:\", list(model.getParameterNames()))\n",
    "print(\"Model outputs:   \", list(model.getObservableNames()))\n",
    "print(\"Model states:    \", list(model.getStateNames()))"
   ]
  },
  {
   "cell_type": "markdown",
   "metadata": {},
   "source": [
    "### Using the python-generated AMICI model from Matlab\n",
    "\n",
    "It is also possible to use a Python-AMICI imported model from Matlab. You might want to do this because:\n",
    "- you don't have the Symbolic Math Toolbox available\n",
    "- model generation using the AMICI Python interface can be significantly faster\n",
    "- python SBML import has some extra features that are not available through the matlab interface\n",
    "- model equations will differ between Python- and Matlab-import"
   ]
  },
  {
   "cell_type": "code",
   "execution_count": 10,
   "metadata": {},
   "outputs": [
    {
     "name": "stdout",
     "output_type": "stream",
     "text": [
      "To use python-generated model in Matlab, ensure you added AMICI to your matlab path and run:\n\nmodelName = 'model_steadystate_scaled';\nmodelDir = '/Users/ffroehlich/Documents/GitHub/AMICI/python/examples/example_steadystate/model_steadystate_scaled';\namimodel.compileAndLinkModel(modelName, modelDir, [], [], [], []);\namimodel.generateMatlabWrapper(3, 6, 8, 1, 0, 0, [], [ modelDir '/simulate_' modelName '.m'], modelName, 'lin', 1, 1);\n\n"
     ]
    }
   ],
   "source": [
    "print('''To use python-generated model in Matlab, ensure you added AMICI to your matlab path and run:\n",
    "\n",
    "modelName = '{model_name}';\n",
    "modelDir = '{model_output_dir}';\n",
    "amimodel.compileAndLinkModel(modelName, modelDir, [], [], [], []);\n",
    "amimodel.generateMatlabWrapper({nx}, {ny}, {np}, {nk}, {nz}, {o2flag}, [], [ modelDir '/simulate_' modelName '.m'], modelName, 'lin', 1, 1);\n",
    "'''.format(model_name=model_name, \n",
    "           model_output_dir=os.path.abspath(model_output_dir),\n",
    "           nx = model.nxtrue,\n",
    "           ny = model.nytrue,\n",
    "           np = model.np(),\n",
    "           nk = model.nk(),\n",
    "           nz = model.nz,\n",
    "           o2flag = model.o2mode\n",
    "          ))"
   ]
  },
  {
   "cell_type": "markdown",
   "metadata": {},
   "source": [
    "This will use the matlab compiler to generate a mex file and will create a Matlab wrapper script. You have to run this only once after generating the Python model. Afterwards you can use the model from Matlab just as if it was generted using `amiwrap.m` directly."
   ]
  },
  {
   "cell_type": "markdown",
   "metadata": {},
   "source": [
    "## Running simulations and analyzing results\n",
    "\n",
    "After importing the model, we can run simulations using `amici.runAmiciSimulation`. This requires a `Model` instance and a `Solver` instance. Optionally you can provide measurements inside an `ExpData` instance, as shown later in this notebook."
   ]
  },
  {
   "cell_type": "code",
   "execution_count": 11,
   "metadata": {
    "scrolled": true
   },
   "outputs": [],
   "source": [
    "# Create Model instance\n",
    "model = model_module.getModel()\n",
    "\n",
    "# set timepoints for which we want to simulate the model\n",
    "model.setTimepoints(amici.DoubleVector(np.linspace(0, 60, 60))) \n",
    "\n",
    "# Create solver instance\n",
    "solver = model.getSolver()\n",
    "\n",
    "# Run simulation using default model parameters and solver options\n",
    "rdata = amici.runAmiciSimulation(model, solver)"
   ]
  },
  {
   "cell_type": "code",
   "execution_count": 12,
   "metadata": {},
   "outputs": [
    {
     "name": "stdout",
     "output_type": "stream",
     "text": [
      "Simulation was run using model default parameters as specified in the SBML model:\n[1.  0.5 0.4 2.  0.1 1.  1.  1. ]\n"
     ]
    }
   ],
   "source": [
    "print('Simulation was run using model default parameters as specified in the SBML model:')\n",
    "print(np.array(model.getParameters()))"
   ]
  },
  {
   "cell_type": "markdown",
   "metadata": {},
   "source": [
    "Simulation results are provided as `numpy.ndarray`s in the returned dictionary:"
   ]
  },
  {
   "cell_type": "code",
   "execution_count": 13,
   "metadata": {},
   "outputs": [
    {
     "name": "stdout",
     "output_type": "stream",
     "text": [
      "           t:  [ 0.          1.01694915  2.03389831  3.05084746  4.06779661  5.08474576\n  6.10169492  7.11864407  8.13559322  9.15254237 10.16949153 11.18644068\n 12.20338983 13.22033898 14.23728814 15.25423729 16.27118644 17.28813559\n 18.30508475 19.3220339  20.33898305 21.3559322  22.37288136 23.38983051\n 24.40677966 25.42372881 26.44067797 27.45762712 28.47457627 29.49152542\n 30.50847458 31.52542373 32.54237288 33.55932203 34.57627119 35.59322034\n 36.61016949 37.62711864 38.6440678  39.66101695 40.6779661  41.69491525\n 42.71186441 43.72881356 44.74576271 45.76271186 46.77966102 47.79661017\n 48.81355932 49.83050847 50.84745763 51.86440678 52.88135593 53.89830508\n 54.91525424 55.93220339 56.94915254 57.96610169 58.98305085 60.        ]\n           x:  [[0.1        0.4        0.7       ]\n [0.57995051 0.73365809 0.0951589 ]\n [0.55996496 0.71470091 0.0694127 ]\n [0.5462855  0.68030366 0.06349394]\n [0.53561883 0.64937432 0.05923555]\n [0.52636487 0.62259567 0.05568686]\n [0.51822014 0.59943346 0.05268079]\n [0.51103767 0.57935661 0.05012037]\n [0.5047003  0.56191593 0.04793052]\n [0.49910666 0.54673518 0.0460508 ]\n [0.49416809 0.53349812 0.04443206]\n [0.48980688 0.52193768 0.043034  ]\n [0.48595477 0.51182733 0.04182339]\n [0.48255177 0.50297415 0.04077267]\n [0.47954512 0.49521321 0.03985882]\n [0.47688834 0.48840307 0.03906254]\n [0.4745405  0.48242201 0.03836756]\n [0.47246548 0.47716503 0.0377601 ]\n [0.47063147 0.4725413  0.03722844]\n [0.46901037 0.46847203 0.03676259]\n [0.4675774  0.46488882 0.03635397]\n [0.46631066 0.46173208 0.03599523]\n [0.46519082 0.45894988 0.03568002]\n [0.46420083 0.45649685 0.03540285]\n [0.4633256  0.45433333 0.03515899]\n [0.46255181 0.45242458 0.0349443 ]\n [0.46186769 0.45074017 0.0347552 ]\n [0.46126283 0.44925338 0.03458856]\n [0.46072804 0.44794076 0.03444166]\n [0.46025521 0.44678169 0.03431212]\n [0.45983714 0.44575805 0.03419785]\n [0.4594675  0.44485389 0.03409701]\n [0.45914066 0.44405515 0.03400802]\n [0.45885167 0.44334948 0.03392946]\n [0.45859615 0.44272595 0.03386009]\n [0.45837021 0.44217497 0.03379883]\n [0.45817044 0.44168806 0.03374473]\n [0.45799379 0.44125773 0.03369693]\n [0.4578376  0.44087739 0.03365471]\n [0.45769949 0.44054121 0.0336174 ]\n [0.45757737 0.44024405 0.03358444]\n [0.45746939 0.43998138 0.03355531]\n [0.45737391 0.43974917 0.03352956]\n [0.45728949 0.4395439  0.03350681]\n [0.45721483 0.43936243 0.0334867 ]\n [0.45714882 0.43920199 0.03346892]\n [0.45709046 0.43906015 0.03345321]\n [0.45703884 0.43893475 0.03343932]\n [0.45699321 0.43882387 0.03342704]\n [0.45695285 0.43872585 0.03341618]\n [0.45691717 0.43863918 0.03340658]\n [0.45688562 0.43856255 0.0333981 ]\n [0.45685772 0.43849479 0.0333906 ]\n [0.45683305 0.43843488 0.03338397]\n [0.45681123 0.43838191 0.0333781 ]\n [0.45679194 0.43833508 0.03337292]\n [0.45677489 0.43829366 0.03336833]\n [0.4567598  0.43825705 0.03336428]\n [0.45674647 0.43822467 0.0333607 ]\n [0.45673468 0.43819604 0.03335753]]\n          x0:  [0.1 0.4 0.7]\n          sx:  None\n         sx0:  None\n           y:  [[0.1        0.4        0.7        0.1        1.4        0.1       ]\n [0.57995051 0.73365809 0.0951589  0.57995051 1.73365809 0.57995051]\n [0.55996496 0.71470091 0.0694127  0.55996496 1.71470091 0.55996496]\n [0.5462855  0.68030366 0.06349394 0.5462855  1.68030366 0.5462855 ]\n [0.53561883 0.64937432 0.05923555 0.53561883 1.64937432 0.53561883]\n [0.52636487 0.62259567 0.05568686 0.52636487 1.62259567 0.52636487]\n [0.51822014 0.59943346 0.05268079 0.51822014 1.59943346 0.51822014]\n [0.51103767 0.57935661 0.05012037 0.51103767 1.57935661 0.51103767]\n [0.5047003  0.56191593 0.04793052 0.5047003  1.56191593 0.5047003 ]\n [0.49910666 0.54673518 0.0460508  0.49910666 1.54673518 0.49910666]\n [0.49416809 0.53349812 0.04443206 0.49416809 1.53349812 0.49416809]\n [0.48980688 0.52193768 0.043034   0.48980688 1.52193768 0.48980688]\n [0.48595477 0.51182733 0.04182339 0.48595477 1.51182733 0.48595477]\n [0.48255177 0.50297415 0.04077267 0.48255177 1.50297415 0.48255177]\n [0.47954512 0.49521321 0.03985882 0.47954512 1.49521321 0.47954512]\n [0.47688834 0.48840307 0.03906254 0.47688834 1.48840307 0.47688834]\n [0.4745405  0.48242201 0.03836756 0.4745405  1.48242201 0.4745405 ]\n [0.47246548 0.47716503 0.0377601  0.47246548 1.47716503 0.47246548]\n [0.47063147 0.4725413  0.03722844 0.47063147 1.4725413  0.47063147]\n [0.46901037 0.46847203 0.03676259 0.46901037 1.46847203 0.46901037]\n [0.4675774  0.46488882 0.03635397 0.4675774  1.46488882 0.4675774 ]\n [0.46631066 0.46173208 0.03599523 0.46631066 1.46173208 0.46631066]\n [0.46519082 0.45894988 0.03568002 0.46519082 1.45894988 0.46519082]\n [0.46420083 0.45649685 0.03540285 0.46420083 1.45649685 0.46420083]\n [0.4633256  0.45433333 0.03515899 0.4633256  1.45433333 0.4633256 ]\n [0.46255181 0.45242458 0.0349443  0.46255181 1.45242458 0.46255181]\n [0.46186769 0.45074017 0.0347552  0.46186769 1.45074017 0.46186769]\n [0.46126283 0.44925338 0.03458856 0.46126283 1.44925338 0.46126283]\n [0.46072804 0.44794076 0.03444166 0.46072804 1.44794076 0.46072804]\n [0.46025521 0.44678169 0.03431212 0.46025521 1.44678169 0.46025521]\n [0.45983714 0.44575805 0.03419785 0.45983714 1.44575805 0.45983714]\n [0.4594675  0.44485389 0.03409701 0.4594675  1.44485389 0.4594675 ]\n [0.45914066 0.44405515 0.03400802 0.45914066 1.44405515 0.45914066]\n [0.45885167 0.44334948 0.03392946 0.45885167 1.44334948 0.45885167]\n [0.45859615 0.44272595 0.03386009 0.45859615 1.44272595 0.45859615]\n [0.45837021 0.44217497 0.03379883 0.45837021 1.44217497 0.45837021]\n [0.45817044 0.44168806 0.03374473 0.45817044 1.44168806 0.45817044]\n [0.45799379 0.44125773 0.03369693 0.45799379 1.44125773 0.45799379]\n [0.4578376  0.44087739 0.03365471 0.4578376  1.44087739 0.4578376 ]\n [0.45769949 0.44054121 0.0336174  0.45769949 1.44054121 0.45769949]\n [0.45757737 0.44024405 0.03358444 0.45757737 1.44024405 0.45757737]\n [0.45746939 0.43998138 0.03355531 0.45746939 1.43998138 0.45746939]\n [0.45737391 0.43974917 0.03352956 0.45737391 1.43974917 0.45737391]\n [0.45728949 0.4395439  0.03350681 0.45728949 1.4395439  0.45728949]\n [0.45721483 0.43936243 0.0334867  0.45721483 1.43936243 0.45721483]\n [0.45714882 0.43920199 0.03346892 0.45714882 1.43920199 0.45714882]\n [0.45709046 0.43906015 0.03345321 0.45709046 1.43906015 0.45709046]\n [0.45703884 0.43893475 0.03343932 0.45703884 1.43893475 0.45703884]\n [0.45699321 0.43882387 0.03342704 0.45699321 1.43882387 0.45699321]\n [0.45695285 0.43872585 0.03341618 0.45695285 1.43872585 0.45695285]\n [0.45691717 0.43863918 0.03340658 0.45691717 1.43863918 0.45691717]\n [0.45688562 0.43856255 0.0333981  0.45688562 1.43856255 0.45688562]\n [0.45685772 0.43849479 0.0333906  0.45685772 1.43849479 0.45685772]\n [0.45683305 0.43843488 0.03338397 0.45683305 1.43843488 0.45683305]\n [0.45681123 0.43838191 0.0333781  0.45681123 1.43838191 0.45681123]\n [0.45679194 0.43833508 0.03337292 0.45679194 1.43833508 0.45679194]\n [0.45677489 0.43829366 0.03336833 0.45677489 1.43829366 0.45677489]\n [0.4567598  0.43825705 0.03336428 0.4567598  1.43825705 0.4567598 ]\n [0.45674647 0.43822467 0.0333607  0.45674647 1.43822467 0.45674647]\n [0.45673468 0.43819604 0.03335753 0.45673468 1.43819604 0.45673468]]\n      sigmay:  [[1. 1. 1. 1. 1. 1.]\n [1. 1. 1. 1. 1. 1.]\n [1. 1. 1. 1. 1. 1.]\n [1. 1. 1. 1. 1. 1.]\n [1. 1. 1. 1. 1. 1.]\n [1. 1. 1. 1. 1. 1.]\n [1. 1. 1. 1. 1. 1.]\n [1. 1. 1. 1. 1. 1.]\n [1. 1. 1. 1. 1. 1.]\n [1. 1. 1. 1. 1. 1.]\n [1. 1. 1. 1. 1. 1.]\n [1. 1. 1. 1. 1. 1.]\n [1. 1. 1. 1. 1. 1.]\n [1. 1. 1. 1. 1. 1.]\n [1. 1. 1. 1. 1. 1.]\n [1. 1. 1. 1. 1. 1.]\n [1. 1. 1. 1. 1. 1.]\n [1. 1. 1. 1. 1. 1.]\n [1. 1. 1. 1. 1. 1.]\n [1. 1. 1. 1. 1. 1.]\n [1. 1. 1. 1. 1. 1.]\n [1. 1. 1. 1. 1. 1.]\n [1. 1. 1. 1. 1. 1.]\n [1. 1. 1. 1. 1. 1.]\n [1. 1. 1. 1. 1. 1.]\n [1. 1. 1. 1. 1. 1.]\n [1. 1. 1. 1. 1. 1.]\n [1. 1. 1. 1. 1. 1.]\n [1. 1. 1. 1. 1. 1.]\n [1. 1. 1. 1. 1. 1.]\n [1. 1. 1. 1. 1. 1.]\n [1. 1. 1. 1. 1. 1.]\n [1. 1. 1. 1. 1. 1.]\n [1. 1. 1. 1. 1. 1.]\n [1. 1. 1. 1. 1. 1.]\n [1. 1. 1. 1. 1. 1.]\n [1. 1. 1. 1. 1. 1.]\n [1. 1. 1. 1. 1. 1.]\n [1. 1. 1. 1. 1. 1.]\n [1. 1. 1. 1. 1. 1.]\n [1. 1. 1. 1. 1. 1.]\n [1. 1. 1. 1. 1. 1.]\n [1. 1. 1. 1. 1. 1.]\n [1. 1. 1. 1. 1. 1.]\n [1. 1. 1. 1. 1. 1.]\n [1. 1. 1. 1. 1. 1.]\n [1. 1. 1. 1. 1. 1.]\n [1. 1. 1. 1. 1. 1.]\n [1. 1. 1. 1. 1. 1.]\n [1. 1. 1. 1. 1. 1.]\n [1. 1. 1. 1. 1. 1.]\n [1. 1. 1. 1. 1. 1.]\n [1. 1. 1. 1. 1. 1.]\n [1. 1. 1. 1. 1. 1.]\n [1. 1. 1. 1. 1. 1.]\n [1. 1. 1. 1. 1. 1.]\n [1. 1. 1. 1. 1. 1.]\n [1. 1. 1. 1. 1. 1.]\n [1. 1. 1. 1. 1. 1.]\n [1. 1. 1. 1. 1. 1.]]\n          sy:  None\n     ssigmay:  None\n           z:  None\n          rz:  None\n      sigmaz:  None\n          sz:  None\n         srz:  None\n     ssigmaz:  None\n        sllh:  []\n       s2llh:  None\n           J:  [[-2.04603672  0.69437133  0.21909802]\n [ 0.57163266 -0.62836734  0.22836734]\n [ 2.          2.         -3.        ]]\n        xdot:  [-1.08973588e-05 -2.64550670e-05 -2.92781904e-06]\n      status:  0.0\n         llh:  nan\n        chi2:  nan\nnewton_numlinsteps:  None\nnewton_numsteps:  [[0 0]]\n    numsteps:  [  0 100 145 172 188 199 206 210 214 217 221 224 226 229 231 233 236 238\n 240 243 245 248 250 252 255 256 258 259 261 262 264 265 267 269 270 272\n 273 275 276 278 279 281 282 283 284 285 286 287 288 289 290 291 292 293\n 294 295 296 297 298 299]\n numrhsevals:  [  0 115 161 189 206 218 226 232 236 239 243 247 250 253 255 257 260 262\n 264 267 269 272 274 276 279 281 283 284 286 287 289 290 292 294 295 297\n 298 300 301 303 304 307 308 309 310 311 312 313 314 315 316 317 318 319\n 320 321 322 323 324 325]\nnumerrtestfails:  [0 1 1 1 1 1 1 1 1 1 1 1 1 1 1 1 1 1 1 1 1 1 1 1 1 1 1 1 1 1 1 1 1 1 1 1 1\n 1 1 1 1 1 1 1 1 1 1 1 1 1 1 1 1 1 1 1 1 1 1 1]\nnumnonlinsolvconvfails:  [0 0 0 0 0 0 0 0 0 0 0 0 0 0 0 0 0 0 0 0 0 0 0 0 0 0 0 0 0 0 0 0 0 0 0 0 0\n 0 0 0 0 0 0 0 0 0 0 0 0 0 0 0 0 0 0 0 0 0 0 0]\n       order:  [0 5 5 5 5 5 5 5 5 5 5 5 5 5 5 5 5 5 5 5 5 5 5 5 5 5 5 5 5 5 5 5 5 5 5 5 5\n 5 5 5 5 5 5 5 5 5 5 5 5 5 5 5 5 5 5 5 5 5 5 5]\n   numstepsB:  []\nnumrhsevalsB:  []\nnumerrtestfailsB:  []\nnumnonlinsolvconvfailsB:  []\n"
     ]
    }
   ],
   "source": [
    "#np.set_printoptions(threshold=8, edgeitems=2)\n",
    "for key, value in rdata.items():\n",
    "    print('%12s: ' % key, value)"
   ]
  },
  {
   "cell_type": "markdown",
   "metadata": {},
   "source": [
    "### A note on datatypes\n",
    "\n",
    "You might have wondered about expression such as `amici.DoubleVector`, `np.array(model.getParameters())`, `rdata['y'].flatten()` or `amici.ExpData(model.get())`. This is currently required to convert between Python data types and internal C++ datatypes. The [SWIG](http://swig.org/) interface does not yet do this conversion automatically. This is [planned](https://github.com/ICB-DCM/AMICI/issues/341) to be simplified in a future AMICI release.\n",
    "\n",
    "If you stumble across unexpected outputs such as\n",
    "```\n",
    "<amici.amici.DoubleVector; proxy of <Swig Object of type 'std::vector< realtype > *' at 0x7fecb67bd8d0> >\n",
    "```\n",
    "you probably need to put your expression into `np.array()` or `list()`, e.g.:"
   ]
  },
  {
   "cell_type": "code",
   "execution_count": 14,
   "metadata": {},
   "outputs": [
    {
     "name": "stdout",
     "output_type": "stream",
     "text": [
      "<amici.amici.DoubleVector; proxy of <Swig Object of type 'std::vector< realtype > *' at 0x11382efc0> >\n[1.  0.5 0.4 2.  0.1 1.  1.  1. ]\n[1.0, 0.5, 0.4, 2.0, 0.1, 1.0, 1.0, 1.0]\n"
     ]
    }
   ],
   "source": [
    "print(model.getParameters())\n",
    "print(np.array(model.getParameters()))\n",
    "print(list(model.getParameters()))"
   ]
  },
  {
   "cell_type": "markdown",
   "metadata": {},
   "source": [
    "### Plotting tractories\n",
    "\n",
    "The simulation results above did not look too appealing. Let's plot the trajectories of the model states and outputs  them using `matplotlib.pyplot`:"
   ]
  },
  {
   "cell_type": "code",
   "execution_count": 15,
   "metadata": {},
   "outputs": [
    {
     "data": {
      "image/png": "[encoded data removed]",
      "text/plain": [
       "<matplotlib.figure.Figure at 0x1137f40f0>"
      ]
     },
     "metadata": {},
     "output_type": "display_data"
    },
    {
     "data": {
      "image/png": "[encoded data removed]",
      "text/plain": [
       "<matplotlib.figure.Figure at 0x1137f4160>"
      ]
     },
     "metadata": {},
     "output_type": "display_data"
    }
   ],
   "source": [
    "import amici.plotting\n",
    "amici.plotting.plotStateTrajectories(rdata)\n",
    "amici.plotting.plotObservableTrajectories(rdata)"
   ]
  },
  {
   "cell_type": "markdown",
   "metadata": {},
   "source": [
    "### Computing likelihood\n",
    "\n",
    "Often model parameters need to be inferred from experimental data. This is commonly done by maximizing the likelihood of of observing the data given to current model parameters. AMICI will compute this likelihood if experimental data is provided to `amici.runAmiciSimulation` as optional third argument. Measurements along with their standard deviations are provided through an `amici.ExpData` instance."
   ]
  },
  {
   "cell_type": "code",
   "execution_count": 16,
   "metadata": {},
   "outputs": [
    {
     "name": "stdout",
     "output_type": "stream",
     "text": [
      "Log-likelihood -60.649943\n"
     ]
    }
   ],
   "source": [
    "# Create model instance and set time points for simulation\n",
    "model = model_module.getModel()\n",
    "model.setTimepoints(amici.DoubleVector(np.linspace(0, 10, 11))) \n",
    "\n",
    "# Create solver instance, keep default options\n",
    "solver = model.getSolver()\n",
    "\n",
    "# Run simulation without experimental data\n",
    "rdata = amici.runAmiciSimulation(model, solver)\n",
    "\n",
    "# Create ExpData instance\n",
    "edata = amici.ExpData(model.get())\n",
    "# Set simulated trajectory as measurement\n",
    "edata.my = amici.DoubleVector(rdata['y'].flatten())\n",
    "# Set standard deviation for all measurements to 1.0\n",
    "edata.sigmay = amici.DoubleVector(np.ones(shape=rdata['y'].shape).flatten())\n",
    "\n",
    "# Re-run simulation, this time passing \"experimental data\"\n",
    "rdata = amici.runAmiciSimulation(model, solver, edata)\n",
    "\n",
    "print('Log-likelihood %f' % rdata['llh'])"
   ]
  },
  {
   "cell_type": "markdown",
   "metadata": {},
   "source": [
    "## Sensitivity analysis\n",
    "\n",
    "AMICI can provide first- and second-order sensitivities using the forward- or adjoint-method. The respective options are set on the Model and Solver objects."
   ]
  },
  {
   "cell_type": "markdown",
   "metadata": {},
   "source": [
    "### Forward sensitivity analysis"
   ]
  },
  {
   "cell_type": "code",
   "execution_count": 17,
   "metadata": {},
   "outputs": [
    {
     "name": "stdout",
     "output_type": "stream",
     "text": [
      "          sx:  [[[ 0.00000000e+00  0.00000000e+00  0.00000000e+00]\n  [ 0.00000000e+00  0.00000000e+00  0.00000000e+00]\n  [ 0.00000000e+00  0.00000000e+00  0.00000000e+00]\n  [ 0.00000000e+00  0.00000000e+00  0.00000000e+00]\n  [ 0.00000000e+00  0.00000000e+00  0.00000000e+00]\n  [ 0.00000000e+00  0.00000000e+00  0.00000000e+00]\n  [ 0.00000000e+00  0.00000000e+00  0.00000000e+00]\n  [ 0.00000000e+00  0.00000000e+00  0.00000000e+00]]\n\n [[-2.00747250e-01  1.19873139e-01 -9.44167985e-03]\n  [-1.02561396e-01 -1.88820454e-01  1.01855972e-01]\n  [ 4.66193077e-01 -2.86365372e-01  2.39662449e-02]\n  [ 4.52560294e-02  1.14631370e-01 -3.34067919e-02]\n  [ 4.00672911e-01  1.92564093e-01  4.98877759e-02]\n  [ 0.00000000e+00  0.00000000e+00  0.00000000e+00]\n  [ 0.00000000e+00  0.00000000e+00  0.00000000e+00]\n  [ 0.00000000e+00  0.00000000e+00  0.00000000e+00]]\n\n [[-2.23007240e-01  1.53979022e-01 -1.26885280e-02]\n  [-1.33426939e-01 -3.15955239e-01  9.49575030e-02]\n  [ 5.03470377e-01 -3.52731535e-01  2.81567412e-02]\n  [ 3.93630714e-02  1.10770683e-01 -1.05673869e-02]\n  [ 5.09580304e-01  4.65255489e-01  9.24843702e-02]\n  [ 0.00000000e+00  0.00000000e+00  0.00000000e+00]\n  [ 0.00000000e+00  0.00000000e+00  0.00000000e+00]\n  [ 0.00000000e+00  0.00000000e+00  0.00000000e+00]]\n\n [[-2.14278104e-01  1.63465064e-01 -1.03268418e-02]\n  [-1.60981967e-01 -4.00490452e-01  7.54810648e-02]\n  [ 4.87746419e-01 -3.76014315e-01  2.30919334e-02]\n  [ 4.28733680e-02  1.15473583e-01 -6.63571687e-03]\n  [ 6.05168647e-01  7.07226039e-01  1.23870914e-01]\n  [ 0.00000000e+00  0.00000000e+00  0.00000000e+00]\n  [ 0.00000000e+00  0.00000000e+00  0.00000000e+00]\n  [ 0.00000000e+00  0.00000000e+00  0.00000000e+00]]\n\n [[-2.05888038e-01  1.69308689e-01 -7.93085660e-03]\n  [-1.84663809e-01 -4.65451966e-01  5.95026117e-02]\n  [ 4.66407064e-01 -3.87612079e-01  1.76410128e-02]\n  [ 4.52451104e-02  1.19865712e-01 -4.73313094e-03]\n  [ 6.90798449e-01  9.20396633e-01  1.49475827e-01]\n  [ 0.00000000e+00  0.00000000e+00  0.00000000e+00]\n  [ 0.00000000e+00  0.00000000e+00  0.00000000e+00]\n  [ 0.00000000e+00  0.00000000e+00  0.00000000e+00]]\n\n [[-1.98803165e-01  1.73327268e-01 -6.03008179e-03]\n  [-2.04303740e-01 -5.16111388e-01  4.68785776e-02]\n  [ 4.47070326e-01 -3.94304029e-01  1.32107437e-02]\n  [ 4.69732048e-02  1.22961727e-01 -3.35899442e-03]\n  [ 7.68998995e-01  1.10844286e+00  1.70889328e-01]\n  [ 0.00000000e+00  0.00000000e+00  0.00000000e+00]\n  [ 0.00000000e+00  0.00000000e+00  0.00000000e+00]\n  [ 0.00000000e+00  0.00000000e+00  0.00000000e+00]]\n\n [[-1.92789113e-01  1.75978657e-01 -4.54517629e-03]\n  [-2.20500138e-01 -5.55540705e-01  3.68776526e-02]\n  [ 4.30424855e-01 -3.97907706e-01  9.75257113e-03]\n  [ 4.82793652e-02  1.24952071e-01 -2.30991637e-03]\n  [ 8.40805131e-01  1.27504628e+00  1.89020151e-01]\n  [ 0.00000000e+00  0.00000000e+00  0.00000000e+00]\n  [ 0.00000000e+00  0.00000000e+00  0.00000000e+00]\n  [ 0.00000000e+00  0.00000000e+00  0.00000000e+00]]\n\n [[-1.87672774e-01  1.77588334e-01 -3.38318222e-03]\n  [-2.33807210e-01 -5.86081383e-01  2.89236334e-02]\n  [ 4.16201399e-01 -3.99295277e-01  7.06598588e-03]\n  [ 4.92546648e-02  1.26089711e-01 -1.50412006e-03]\n  [ 9.06806543e-01  1.42334018e+00  2.04522708e-01]\n  [ 0.00000000e+00  0.00000000e+00  0.00000000e+00]\n  [ 0.00000000e+00  0.00000000e+00  0.00000000e+00]\n  [ 0.00000000e+00  0.00000000e+00  0.00000000e+00]]\n\n [[-1.83320440e-01  1.78410042e-01 -2.47240692e-03]\n  [-2.44690164e-01 -6.09568485e-01  2.25774266e-02]\n  [ 4.04061655e-01 -3.99063012e-01  4.97908386e-03]\n  [ 4.99612484e-02  1.26581014e-01 -8.85891342e-04]\n  [ 9.67473970e-01  1.55589415e+00  2.17895305e-01]\n  [ 0.00000000e+00  0.00000000e+00  0.00000000e+00]\n  [ 0.00000000e+00  0.00000000e+00  0.00000000e+00]\n  [ 0.00000000e+00  0.00000000e+00  0.00000000e+00]]\n\n [[-1.79620591e-01  1.78640114e-01 -1.75822439e-03]\n  [-2.53540123e-01 -6.27448857e-01  1.75019839e-02]\n  [ 3.93704970e-01 -3.97656641e-01  3.35895484e-03]\n  [ 5.04492282e-02  1.26586733e-01 -4.13401240e-04]\n  [ 1.02322336e+00  1.67481439e+00  2.29524046e-01]\n  [ 0.00000000e+00  0.00000000e+00  0.00000000e+00]\n  [ 0.00000000e+00  0.00000000e+00  0.00000000e+00]\n  [ 0.00000000e+00  0.00000000e+00  0.00000000e+00]]\n\n [[-1.76478441e-01  1.78430281e-01 -1.19867662e-03]\n  [-2.60686971e-01 -6.40868686e-01  1.34365068e-02]\n  [ 3.84873835e-01 -3.95414931e-01  2.10369522e-03]\n  [ 5.07601805e-02  1.26231631e-01 -5.46465317e-05]\n  [ 1.07443160e+00  1.78183962e+00  2.39710937e-01]\n  [ 0.00000000e+00  0.00000000e+00  0.00000000e+00]\n  [ 0.00000000e+00  0.00000000e+00  0.00000000e+00]\n  [ 0.00000000e+00  0.00000000e+00  0.00000000e+00]]]\n         sx0:  [[0. 0. 0.]\n [0. 0. 0.]\n [0. 0. 0.]\n [0. 0. 0.]\n [0. 0. 0.]\n [0. 0. 0.]\n [0. 0. 0.]\n [0. 0. 0.]]\n      sigmay:  [[1. 1. 1. 1. 1. 1.]\n [1. 1. 1. 1. 1. 1.]\n [1. 1. 1. 1. 1. 1.]\n [1. 1. 1. 1. 1. 1.]\n [1. 1. 1. 1. 1. 1.]\n [1. 1. 1. 1. 1. 1.]\n [1. 1. 1. 1. 1. 1.]\n [1. 1. 1. 1. 1. 1.]\n [1. 1. 1. 1. 1. 1.]\n [1. 1. 1. 1. 1. 1.]\n [1. 1. 1. 1. 1. 1.]]\n          sy:  [[[ 0.00000000e+00  0.00000000e+00  0.00000000e+00  0.00000000e+00\n    0.00000000e+00  0.00000000e+00]\n  [ 0.00000000e+00  0.00000000e+00  0.00000000e+00  0.00000000e+00\n    0.00000000e+00  0.00000000e+00]\n  [ 0.00000000e+00  0.00000000e+00  0.00000000e+00  0.00000000e+00\n    0.00000000e+00  0.00000000e+00]\n  [ 0.00000000e+00  0.00000000e+00  0.00000000e+00  0.00000000e+00\n    0.00000000e+00  0.00000000e+00]\n  [ 0.00000000e+00  0.00000000e+00  0.00000000e+00  0.00000000e+00\n    0.00000000e+00  0.00000000e+00]\n  [ 0.00000000e+00  0.00000000e+00  0.00000000e+00  1.00000000e-01\n    0.00000000e+00  0.00000000e+00]\n  [ 0.00000000e+00  0.00000000e+00  0.00000000e+00  0.00000000e+00\n    1.00000000e+00  0.00000000e+00]\n  [ 0.00000000e+00  0.00000000e+00  0.00000000e+00  0.00000000e+00\n    0.00000000e+00  0.00000000e+00]]\n\n [[-2.00747250e-01  1.19873139e-01 -9.44167985e-03 -2.00747250e-01\n    1.19873139e-01 -2.00747250e-01]\n  [-1.02561396e-01 -1.88820454e-01  1.01855972e-01 -1.02561396e-01\n   -1.88820454e-01 -1.02561396e-01]\n  [ 4.66193077e-01 -2.86365372e-01  2.39662449e-02  4.66193077e-01\n   -2.86365372e-01  4.66193077e-01]\n  [ 4.52560294e-02  1.14631370e-01 -3.34067919e-02  4.52560294e-02\n    1.14631370e-01  4.52560294e-02]\n  [ 4.00672911e-01  1.92564093e-01  4.98877759e-02  4.00672911e-01\n    1.92564093e-01  4.00672911e-01]\n  [ 0.00000000e+00  0.00000000e+00  0.00000000e+00  5.80072436e-01\n    0.00000000e+00  0.00000000e+00]\n  [ 0.00000000e+00  0.00000000e+00  0.00000000e+00  0.00000000e+00\n    1.00000000e+00  0.00000000e+00]\n  [ 0.00000000e+00  0.00000000e+00  0.00000000e+00  0.00000000e+00\n    0.00000000e+00  0.00000000e+00]]\n\n [[-2.23007240e-01  1.53979022e-01 -1.26885280e-02 -2.23007240e-01\n    1.53979022e-01 -2.23007240e-01]\n  [-1.33426939e-01 -3.15955239e-01  9.49575030e-02 -1.33426939e-01\n   -3.15955239e-01 -1.33426939e-01]\n  [ 5.03470377e-01 -3.52731535e-01  2.81567412e-02  5.03470377e-01\n   -3.52731535e-01  5.03470377e-01]\n  [ 3.93630714e-02  1.10770683e-01 -1.05673869e-02  3.93630714e-02\n    1.10770683e-01  3.93630714e-02]\n  [ 5.09580304e-01  4.65255489e-01  9.24843702e-02  5.09580304e-01\n    4.65255489e-01  5.09580304e-01]\n  [ 0.00000000e+00  0.00000000e+00  0.00000000e+00  5.60534516e-01\n    0.00000000e+00  0.00000000e+00]\n  [ 0.00000000e+00  0.00000000e+00  0.00000000e+00  0.00000000e+00\n    1.00000000e+00  0.00000000e+00]\n  [ 0.00000000e+00  0.00000000e+00  0.00000000e+00  0.00000000e+00\n    0.00000000e+00  0.00000000e+00]]\n\n [[-2.14278104e-01  1.63465064e-01 -1.03268418e-02 -2.14278104e-01\n    1.63465064e-01 -2.14278104e-01]\n  [-1.60981967e-01 -4.00490452e-01  7.54810648e-02 -1.60981967e-01\n   -4.00490452e-01 -1.60981967e-01]\n  [ 4.87746419e-01 -3.76014315e-01  2.30919334e-02  4.87746419e-01\n   -3.76014315e-01  4.87746419e-01]\n  [ 4.28733680e-02  1.15473583e-01 -6.63571687e-03  4.28733680e-02\n    1.15473583e-01  4.28733680e-02]\n  [ 6.05168647e-01  7.07226039e-01  1.23870914e-01  6.05168647e-01\n    7.07226039e-01  6.05168647e-01]\n  [ 0.00000000e+00  0.00000000e+00  0.00000000e+00  5.46870655e-01\n    0.00000000e+00  0.00000000e+00]\n  [ 0.00000000e+00  0.00000000e+00  0.00000000e+00  0.00000000e+00\n    1.00000000e+00  0.00000000e+00]\n  [ 0.00000000e+00  0.00000000e+00  0.00000000e+00  0.00000000e+00\n    0.00000000e+00  0.00000000e+00]]\n\n [[-2.05888038e-01  1.69308689e-01 -7.93085660e-03 -2.05888038e-01\n    1.69308689e-01 -2.05888038e-01]\n  [-1.84663809e-01 -4.65451966e-01  5.95026117e-02 -1.84663809e-01\n   -4.65451966e-01 -1.84663809e-01]\n  [ 4.66407064e-01 -3.87612079e-01  1.76410128e-02  4.66407064e-01\n   -3.87612079e-01  4.66407064e-01]\n  [ 4.52451104e-02  1.19865712e-01 -4.73313094e-03  4.52451104e-02\n    1.19865712e-01  4.52451104e-02]\n  [ 6.90798449e-01  9.20396633e-01  1.49475827e-01  6.90798449e-01\n    9.20396633e-01  6.90798449e-01]\n  [ 0.00000000e+00  0.00000000e+00  0.00000000e+00  5.36280366e-01\n    0.00000000e+00  0.00000000e+00]\n  [ 0.00000000e+00  0.00000000e+00  0.00000000e+00  0.00000000e+00\n    1.00000000e+00  0.00000000e+00]\n  [ 0.00000000e+00  0.00000000e+00  0.00000000e+00  0.00000000e+00\n    0.00000000e+00  0.00000000e+00]]\n\n [[-1.98803165e-01  1.73327268e-01 -6.03008179e-03 -1.98803165e-01\n    1.73327268e-01 -1.98803165e-01]\n  [-2.04303740e-01 -5.16111388e-01  4.68785776e-02 -2.04303740e-01\n   -5.16111388e-01 -2.04303740e-01]\n  [ 4.47070326e-01 -3.94304029e-01  1.32107437e-02  4.47070326e-01\n   -3.94304029e-01  4.47070326e-01]\n  [ 4.69732048e-02  1.22961727e-01 -3.35899442e-03  4.69732048e-02\n    1.22961727e-01  4.69732048e-02]\n  [ 7.68998995e-01  1.10844286e+00  1.70889328e-01  7.68998995e-01\n    1.10844286e+00  7.68998995e-01]\n  [ 0.00000000e+00  0.00000000e+00  0.00000000e+00  5.27091252e-01\n    0.00000000e+00  0.00000000e+00]\n  [ 0.00000000e+00  0.00000000e+00  0.00000000e+00  0.00000000e+00\n    1.00000000e+00  0.00000000e+00]\n  [ 0.00000000e+00  0.00000000e+00  0.00000000e+00  0.00000000e+00\n    0.00000000e+00  0.00000000e+00]]\n\n [[-1.92789113e-01  1.75978657e-01 -4.54517629e-03 -1.92789113e-01\n    1.75978657e-01 -1.92789113e-01]\n  [-2.20500138e-01 -5.55540705e-01  3.68776526e-02 -2.20500138e-01\n   -5.55540705e-01 -2.20500138e-01]\n  [ 4.30424855e-01 -3.97907706e-01  9.75257113e-03  4.30424855e-01\n   -3.97907706e-01  4.30424855e-01]\n  [ 4.82793652e-02  1.24952071e-01 -2.30991637e-03  4.82793652e-02\n    1.24952071e-01  4.82793652e-02]\n  [ 8.40805131e-01  1.27504628e+00  1.89020151e-01  8.40805131e-01\n    1.27504628e+00  8.40805131e-01]\n  [ 0.00000000e+00  0.00000000e+00  0.00000000e+00  5.18989205e-01\n    0.00000000e+00  0.00000000e+00]\n  [ 0.00000000e+00  0.00000000e+00  0.00000000e+00  0.00000000e+00\n    1.00000000e+00  0.00000000e+00]\n  [ 0.00000000e+00  0.00000000e+00  0.00000000e+00  0.00000000e+00\n    0.00000000e+00  0.00000000e+00]]\n\n [[-1.87672774e-01  1.77588334e-01 -3.38318222e-03 -1.87672774e-01\n    1.77588334e-01 -1.87672774e-01]\n  [-2.33807210e-01 -5.86081383e-01  2.89236334e-02 -2.33807210e-01\n   -5.86081383e-01 -2.33807210e-01]\n  [ 4.16201399e-01 -3.99295277e-01  7.06598588e-03  4.16201399e-01\n   -3.99295277e-01  4.16201399e-01]\n  [ 4.92546648e-02  1.26089711e-01 -1.50412006e-03  4.92546648e-02\n    1.26089711e-01  4.92546648e-02]\n  [ 9.06806543e-01  1.42334018e+00  2.04522708e-01  9.06806543e-01\n    1.42334018e+00  9.06806543e-01]\n  [ 0.00000000e+00  0.00000000e+00  0.00000000e+00  5.11829985e-01\n    0.00000000e+00  0.00000000e+00]\n  [ 0.00000000e+00  0.00000000e+00  0.00000000e+00  0.00000000e+00\n    1.00000000e+00  0.00000000e+00]\n  [ 0.00000000e+00  0.00000000e+00  0.00000000e+00  0.00000000e+00\n    0.00000000e+00  0.00000000e+00]]\n\n [[-1.83320440e-01  1.78410042e-01 -2.47240692e-03 -1.83320440e-01\n    1.78410042e-01 -1.83320440e-01]\n  [-2.44690164e-01 -6.09568485e-01  2.25774266e-02 -2.44690164e-01\n   -6.09568485e-01 -2.44690164e-01]\n  [ 4.04061655e-01 -3.99063012e-01  4.97908386e-03  4.04061655e-01\n   -3.99063012e-01  4.04061655e-01]\n  [ 4.99612484e-02  1.26581014e-01 -8.85891342e-04  4.99612484e-02\n    1.26581014e-01  4.99612484e-02]\n  [ 9.67473970e-01  1.55589415e+00  2.17895305e-01  9.67473970e-01\n    1.55589415e+00  9.67473970e-01]\n  [ 0.00000000e+00  0.00000000e+00  0.00000000e+00  5.05500234e-01\n    0.00000000e+00  0.00000000e+00]\n  [ 0.00000000e+00  0.00000000e+00  0.00000000e+00  0.00000000e+00\n    1.00000000e+00  0.00000000e+00]\n  [ 0.00000000e+00  0.00000000e+00  0.00000000e+00  0.00000000e+00\n    0.00000000e+00  0.00000000e+00]]\n\n [[-1.79620591e-01  1.78640114e-01 -1.75822439e-03 -1.79620591e-01\n    1.78640114e-01 -1.79620591e-01]\n  [-2.53540123e-01 -6.27448857e-01  1.75019839e-02 -2.53540123e-01\n   -6.27448857e-01 -2.53540123e-01]\n  [ 3.93704970e-01 -3.97656641e-01  3.35895484e-03  3.93704970e-01\n   -3.97656641e-01  3.93704970e-01]\n  [ 5.04492282e-02  1.26586733e-01 -4.13401240e-04  5.04492282e-02\n    1.26586733e-01  5.04492282e-02]\n  [ 1.02322336e+00  1.67481439e+00  2.29524046e-01  1.02322336e+00\n    1.67481439e+00  1.02322336e+00]\n  [ 0.00000000e+00  0.00000000e+00  0.00000000e+00  4.99901907e-01\n    0.00000000e+00  0.00000000e+00]\n  [ 0.00000000e+00  0.00000000e+00  0.00000000e+00  0.00000000e+00\n    1.00000000e+00  0.00000000e+00]\n  [ 0.00000000e+00  0.00000000e+00  0.00000000e+00  0.00000000e+00\n    0.00000000e+00  0.00000000e+00]]\n\n [[-1.76478441e-01  1.78430281e-01 -1.19867662e-03 -1.76478441e-01\n    1.78430281e-01 -1.76478441e-01]\n  [-2.60686971e-01 -6.40868686e-01  1.34365068e-02 -2.60686971e-01\n   -6.40868686e-01 -2.60686971e-01]\n  [ 3.84873835e-01 -3.95414931e-01  2.10369522e-03  3.84873835e-01\n   -3.95414931e-01  3.84873835e-01]\n  [ 5.07601805e-02  1.26231631e-01 -5.46465317e-05  5.07601805e-02\n    1.26231631e-01  5.07601805e-02]\n  [ 1.07443160e+00  1.78183962e+00  2.39710937e-01  1.07443160e+00\n    1.78183962e+00  1.07443160e+00]\n  [ 0.00000000e+00  0.00000000e+00  0.00000000e+00  4.94949118e-01\n    0.00000000e+00  0.00000000e+00]\n  [ 0.00000000e+00  0.00000000e+00  0.00000000e+00  0.00000000e+00\n    1.00000000e+00  0.00000000e+00]\n  [ 0.00000000e+00  0.00000000e+00  0.00000000e+00  0.00000000e+00\n    0.00000000e+00  0.00000000e+00]]]\n     ssigmay:  [[[0. 0. 0. 0. 0. 0.]\n  [0. 0. 0. 0. 0. 0.]\n  [0. 0. 0. 0. 0. 0.]\n  [0. 0. 0. 0. 0. 0.]\n  [0. 0. 0. 0. 0. 0.]\n  [0. 0. 0. 0. 0. 0.]\n  [0. 0. 0. 0. 0. 0.]\n  [0. 0. 0. 0. 0. 0.]]\n\n [[0. 0. 0. 0. 0. 0.]\n  [0. 0. 0. 0. 0. 0.]\n  [0. 0. 0. 0. 0. 0.]\n  [0. 0. 0. 0. 0. 0.]\n  [0. 0. 0. 0. 0. 0.]\n  [0. 0. 0. 0. 0. 0.]\n  [0. 0. 0. 0. 0. 0.]\n  [0. 0. 0. 0. 0. 0.]]\n\n [[0. 0. 0. 0. 0. 0.]\n  [0. 0. 0. 0. 0. 0.]\n  [0. 0. 0. 0. 0. 0.]\n  [0. 0. 0. 0. 0. 0.]\n  [0. 0. 0. 0. 0. 0.]\n  [0. 0. 0. 0. 0. 0.]\n  [0. 0. 0. 0. 0. 0.]\n  [0. 0. 0. 0. 0. 0.]]\n\n [[0. 0. 0. 0. 0. 0.]\n  [0. 0. 0. 0. 0. 0.]\n  [0. 0. 0. 0. 0. 0.]\n  [0. 0. 0. 0. 0. 0.]\n  [0. 0. 0. 0. 0. 0.]\n  [0. 0. 0. 0. 0. 0.]\n  [0. 0. 0. 0. 0. 0.]\n  [0. 0. 0. 0. 0. 0.]]\n\n [[0. 0. 0. 0. 0. 0.]\n  [0. 0. 0. 0. 0. 0.]\n  [0. 0. 0. 0. 0. 0.]\n  [0. 0. 0. 0. 0. 0.]\n  [0. 0. 0. 0. 0. 0.]\n  [0. 0. 0. 0. 0. 0.]\n  [0. 0. 0. 0. 0. 0.]\n  [0. 0. 0. 0. 0. 0.]]\n\n [[0. 0. 0. 0. 0. 0.]\n  [0. 0. 0. 0. 0. 0.]\n  [0. 0. 0. 0. 0. 0.]\n  [0. 0. 0. 0. 0. 0.]\n  [0. 0. 0. 0. 0. 0.]\n  [0. 0. 0. 0. 0. 0.]\n  [0. 0. 0. 0. 0. 0.]\n  [0. 0. 0. 0. 0. 0.]]\n\n [[0. 0. 0. 0. 0. 0.]\n  [0. 0. 0. 0. 0. 0.]\n  [0. 0. 0. 0. 0. 0.]\n  [0. 0. 0. 0. 0. 0.]\n  [0. 0. 0. 0. 0. 0.]\n  [0. 0. 0. 0. 0. 0.]\n  [0. 0. 0. 0. 0. 0.]\n  [0. 0. 0. 0. 0. 0.]]\n\n [[0. 0. 0. 0. 0. 0.]\n  [0. 0. 0. 0. 0. 0.]\n  [0. 0. 0. 0. 0. 0.]\n  [0. 0. 0. 0. 0. 0.]\n  [0. 0. 0. 0. 0. 0.]\n  [0. 0. 0. 0. 0. 0.]\n  [0. 0. 0. 0. 0. 0.]\n  [0. 0. 0. 0. 0. 0.]]\n\n [[0. 0. 0. 0. 0. 0.]\n  [0. 0. 0. 0. 0. 0.]\n  [0. 0. 0. 0. 0. 0.]\n  [0. 0. 0. 0. 0. 0.]\n  [0. 0. 0. 0. 0. 0.]\n  [0. 0. 0. 0. 0. 0.]\n  [0. 0. 0. 0. 0. 0.]\n  [0. 0. 0. 0. 0. 0.]]\n\n [[0. 0. 0. 0. 0. 0.]\n  [0. 0. 0. 0. 0. 0.]\n  [0. 0. 0. 0. 0. 0.]\n  [0. 0. 0. 0. 0. 0.]\n  [0. 0. 0. 0. 0. 0.]\n  [0. 0. 0. 0. 0. 0.]\n  [0. 0. 0. 0. 0. 0.]\n  [0. 0. 0. 0. 0. 0.]]\n\n [[0. 0. 0. 0. 0. 0.]\n  [0. 0. 0. 0. 0. 0.]\n  [0. 0. 0. 0. 0. 0.]\n  [0. 0. 0. 0. 0. 0.]\n  [0. 0. 0. 0. 0. 0.]\n  [0. 0. 0. 0. 0. 0.]\n  [0. 0. 0. 0. 0. 0.]\n  [0. 0. 0. 0. 0. 0.]]]\n      sigmaz:  None\n          sz:  None\n         srz:  None\n     ssigmaz:  None\n        sllh:  [nan nan nan nan nan nan nan nan]\n       s2llh:  None\n      status:  0.0\n"
     ]
    }
   ],
   "source": [
    "model = model_module.getModel()\n",
    "model.setTimepoints(amici.DoubleVector(np.linspace(0, 10, 11))) \n",
    "model.requireSensitivitiesForAllParameters()              # sensitivities w.r.t. all parameters\n",
    "# model.setParameterList(amici.IntVector([1, 2]))         # sensitivities w.r.t. the specified parameters\n",
    "model.setParameterScale(amici.AMICI_SCALING_NONE)         # parameters are used as-is (not log-transformed)\n",
    "\n",
    "solver = model.getSolver()\n",
    "solver.setSensitivityMethod(amici.AMICI_SENSI_FSA)        # forward sensitivity analysis\n",
    "solver.setSensitivityOrder(amici.AMICI_SENSI_ORDER_FIRST) # first-order sensitivities\n",
    "\n",
    "rdata = amici.runAmiciSimulation(model, solver)\n",
    "\n",
    "# print sensitivity-related results\n",
    "for key, value in rdata.items():\n",
    "    if key.startswith('s'):\n",
    "        print('%12s: ' % key, value)"
   ]
  },
  {
   "cell_type": "markdown",
   "metadata": {},
   "source": [
    "## Adjoint sensitivity analysis"
   ]
  },
  {
   "cell_type": "code",
   "execution_count": 18,
   "metadata": {
    "scrolled": true
   },
   "outputs": [
    {
     "name": "stdout",
     "output_type": "stream",
     "text": [
      "Log-likelihood: -143.163545\nGradient: [ 1.01578623 -1.02600676 -2.58843951  0.09515319  4.87280939 -3.01100032\n  4.08494304  0.        ]\n"
     ]
    }
   ],
   "source": [
    "# Set model options\n",
    "model = model_module.getModel()\n",
    "p_orig = np.array(model.getParameters())\n",
    "p_orig[list(model.getParameterNames()).index('observable_x1withsigma_sigma')] = 0.1 # Change default parameter\n",
    "model.setParameters(amici.DoubleVector(p_orig.flatten()))\n",
    "model.setParameterScale(amici.AMICI_SCALING_NONE)\n",
    "model.setTimepoints(amici.DoubleVector(np.linspace(0, 10, 21))) \n",
    "\n",
    "solver = model.getSolver()\n",
    "solver.setMaxSteps(10**4) # Set maximum number of steps for the solver\n",
    "\n",
    "# simulate time-course to get artificial data\n",
    "rdata = amici.runAmiciSimulation(model, solver)\n",
    "edata = amici.ExpData(model.get())\n",
    "edata.fixedParameters = model.getFixedParameters()\n",
    "edata.my = amici.DoubleVector(rdata['y'].flatten())\n",
    "sigmay = rdata['sigmay']\n",
    "# set sigma to 1.0 except for observable 5, so that p[7] is used instead\n",
    "# (if we have sigma parameterized, the corresponding ExpData entries must NaN, otherwise they will override the parameter)\n",
    "sigmay[:, list(model.getObservableNames()).index('observable_x1withsigma')] = np.nan \n",
    "edata.my = amici.DoubleVector(np.random.normal(rdata['y'], sigmay).flatten())\n",
    "edata.sigmay = amici.DoubleVector(sigmay.flatten())\n",
    "\n",
    "# enable sensitivities\n",
    "solver.setSensitivityOrder(amici.AMICI_SENSI_ORDER_FIRST) # First-order ...\n",
    "solver.setSensitivityMethod(amici.AMICI_SENSI_ASA)        # ... adjoint sensitivities\n",
    "model.requireSensitivitiesForAllParameters()              # ... w.r.t. all parameters\n",
    "\n",
    "# compute adjoint sensitivities\n",
    "rdata = amici.runAmiciSimulation(model, solver, edata)\n",
    "#print(rdata['sigmay'])\n",
    "print('Log-likelihood: %f\\nGradient: %s' % (rdata['llh'], rdata['sllh']))\n"
   ]
  },
  {
   "cell_type": "markdown",
   "metadata": {},
   "source": [
    "## Finite differences gradient check\n",
    "\n",
    "Compare AMICI-computed gradient with finite differences"
   ]
  },
  {
   "cell_type": "code",
   "execution_count": 19,
   "metadata": {},
   "outputs": [
    {
     "name": "stdout",
     "output_type": "stream",
     "text": [
      "sllh: |error|_2: 0.000010\n\nsllh: p[0]: |error|_2: 0.000005\nsllh: p[1]: |error|_2: 0.000006\nsllh: p[2]: |error|_2: 0.000004\nsllh: p[3]: |error|_2: 0.000001\nsllh: p[4]: |error|_2: 0.000005\nsllh: p[5]: |error|_2: 0.000003\nsllh: p[6]: |error|_2: 0.000001\nsllh: p[7]: |error|_2: 0.000000\n\nsy: p[0]: |error|_2: 0.000005\nsy: p[1]: |error|_2: 0.000003\nsy: p[2]: |error|_2: 0.000003\nsy: p[3]: |error|_2: 0.000000\nsy: p[4]: |error|_2: 0.000004\nsy: p[5]: |error|_2: 0.000001\nsy: p[6]: |error|_2: 0.000000\nsy: p[7]: |error|_2: 0.000000\n\nsx: p[0]: |error|_2: 0.000001\nsx: p[1]: |error|_2: 0.000000\nsx: p[2]: |error|_2: 0.000001\nsx: p[3]: |error|_2: 0.000000\nsx: p[4]: |error|_2: 0.000001\nsx: p[5]: |error|_2: 0.000000\nsx: p[6]: |error|_2: 0.000000\nsx: p[7]: |error|_2: 0.000000\n\nssigmay: p[0]: |error|_2: 0.000000\nssigmay: p[1]: |error|_2: 0.000000\nssigmay: p[2]: |error|_2: 0.000000\nssigmay: p[3]: |error|_2: 0.000000\n"
     ]
    },
    {
     "name": "stdout",
     "output_type": "stream",
     "text": [
      "ssigmay: p[4]: |error|_2: 0.000000\nssigmay: p[5]: |error|_2: 0.000000\nssigmay: p[6]: |error|_2: 0.000000\nssigmay: p[7]: |error|_2: 0.000000\n"
     ]
    }
   ],
   "source": [
    "from scipy.optimize import check_grad\n",
    "\n",
    "def func(x0, symbol='llh', x0full=None, plist=[], verbose=False):\n",
    "    p = x0[:]\n",
    "    if len(plist):\n",
    "        p = x0full[:]\n",
    "        p[plist] = x0\n",
    "    verbose and print('f: p=%s' % p)\n",
    "    \n",
    "    old_parameters = model.getParameters()\n",
    "    solver.setSensitivityOrder(amici.AMICI_SENSI_ORDER_NONE)\n",
    "    model.setParameters(amici.DoubleVector(p))\n",
    "    rdata = amici.runAmiciSimulation(model, solver, edata)\n",
    "    \n",
    "    model.setParameters(old_parameters)\n",
    "    \n",
    "    res = np.sum(rdata[symbol])\n",
    "    verbose and print(res)\n",
    "    return res\n",
    "\n",
    "def grad(x0, symbol='llh', x0full=None, plist=[], verbose=False):\n",
    "    p = x0[:]\n",
    "    if len(plist):\n",
    "        model.setParameterList(amici.IntVector(plist))\n",
    "        p = x0full[:]\n",
    "        p[plist] = x0\n",
    "    else:\n",
    "        model.requireSensitivitiesForAllParameters()\n",
    "    verbose and print('g: p=%s' % p)\n",
    "    \n",
    "    old_parameters = model.getParameters()\n",
    "    solver.setSensitivityMethod(amici.AMICI_SENSI_FSA)\n",
    "    solver.setSensitivityOrder(amici.AMICI_SENSI_ORDER_FIRST)\n",
    "    model.setParameters(amici.DoubleVector(p))\n",
    "    rdata = amici.runAmiciSimulation(model, solver, edata)\n",
    "    \n",
    "    model.setParameters(old_parameters)\n",
    "\n",
    "    res = rdata['s%s' % symbol]\n",
    "    if not isinstance(res, float):\n",
    "        if len(res.shape) == 3:\n",
    "            res = np.sum(res, axis=(0, 2))\n",
    "    verbose and print(res)\n",
    "    return res\n",
    "\n",
    "err_norm = check_grad(func, grad, p_orig, 'llh')\n",
    "print('sllh: |error|_2: %f' % err_norm)\n",
    "# assert err_norm < 1e-6\n",
    "print()\n",
    "\n",
    "for ip in range(model.np()):\n",
    "    plist = [ip]\n",
    "    p = p_orig.copy()\n",
    "    err_norm = check_grad(func, grad, p[plist], 'llh', p, [ip])\n",
    "    print('sllh: p[%d]: |error|_2: %f' % (ip, err_norm))\n",
    "\n",
    "print()\n",
    "for ip in range(model.np()):\n",
    "    plist = [ip]\n",
    "    p = p_orig.copy()\n",
    "    err_norm = check_grad(func, grad, p[plist], 'y', p, [ip])\n",
    "    print('sy: p[%d]: |error|_2: %f' % (ip, err_norm))\n",
    "\n",
    "print()\n",
    "for ip in range(model.np()):\n",
    "    plist = [ip]\n",
    "    p = p_orig.copy()\n",
    "    err_norm = check_grad(func, grad, p[plist], 'x', p, [ip])\n",
    "    print('sx: p[%d]: |error|_2: %f' % (ip, err_norm))\n",
    "\n",
    "print()\n",
    "for ip in range(model.np()):\n",
    "    plist = [ip]\n",
    "    p = p_orig.copy()\n",
    "    err_norm = check_grad(func, grad, p[plist], 'sigmay', p, [ip])\n",
    "    print('ssigmay: p[%d]: |error|_2: %f' % (ip, err_norm))\n"
   ]
  },
  {
   "cell_type": "code",
   "execution_count": 20,
   "metadata": {},
   "outputs": [],
   "source": []
  },
  {
   "cell_type": "code",
   "execution_count": null,
   "metadata": {},
   "outputs": [],
   "source": []
  }
 ],
 "metadata": {
  "kernelspec": {
   "display_name": "Python 3",
   "language": "python",
   "name": "python3"
  },
  "language_info": {
   "codemirror_mode": {
    "name": "ipython",
    "version": 3
   },
   "file_extension": ".py",
   "mimetype": "text/x-python",
   "name": "python",
   "nbconvert_exporter": "python",
   "pygments_lexer": "ipython3",
   "version": "3.6.5"
  }
 },
 "nbformat": 4,
 "nbformat_minor": 2
}
