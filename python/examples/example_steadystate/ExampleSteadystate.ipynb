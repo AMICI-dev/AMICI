{
 "cells": [
  {
   "cell_type": "markdown",
   "metadata": {},
   "source": [
    "# AMICI Python example \"steadystate\"\n",
    "\n",
    "This is an example using the [model_steadystate_scaled.sbml] model to demonstrate and test SBML import and AMICI Python interface."
   ]
  },
  {
   "cell_type": "code",
   "execution_count": 1,
   "metadata": {},
   "outputs": [],
   "source": [
    "# SBML model we want to import\n",
    "sbml_file = 'model_steadystate_scaled.xml'\n",
    "# Name of the model that will also be the name of the python module\n",
    "model_name = 'model_steadystate_scaled'\n",
    "# Directory to which the generated model code is written\n",
    "model_output_dir = model_name\n",
    "\n",
    "import libsbml\n",
    "import importlib\n",
    "import amici\n",
    "import os\n",
    "import sys\n",
    "import numpy as np\n",
    "import matplotlib.pyplot as plt"
   ]
  },
  {
   "cell_type": "markdown",
   "metadata": {},
   "source": [
    "## The example model\n",
    "\n",
    "Here we use `libsbml` to show the reactions and species described by the model (this is independent of AMICI)."
   ]
  },
  {
   "cell_type": "code",
   "execution_count": 2,
   "metadata": {},
   "outputs": [
    {
     "name": "stdout",
     "output_type": "stream",
     "text": [
      "Species:  ['x1', 'x2', 'x3']\n",
      "\n",
      "Reactions:\n",
      " r1:       2 x1  ->        x2\t\t[p1 * x1^2]\n",
      " r2:   x1 +  x2  ->        x3\t\t[p2 * x1 * x2]\n",
      " r3:         x2  ->      2 x1\t\t[p3 * x2]\n",
      " r4:         x3  ->  x1 +  x2\t\t[p4 * x3]\n",
      " r5:         x3  ->          \t\t[k0 * x3]\n",
      " r6:             ->        x1\t\t[p5]\n"
     ]
    }
   ],
   "source": [
    "sbml_reader = libsbml.SBMLReader()\n",
    "sbml_doc = sbml_reader.readSBML(sbml_file)\n",
    "sbml_model = sbml_doc.getModel()\n",
    "dir(sbml_doc)\n",
    "\n",
    "print('Species: ', [s.getId() for s in sbml_model.getListOfSpecies()])\n",
    "\n",
    "print('\\nReactions:')\n",
    "for reaction in sbml_model.getListOfReactions():\n",
    "    reactants = ' + '.join(['%s %s'%(int(r.getStoichiometry()) if r.getStoichiometry() > 1 else '', r.getSpecies()) for r in reaction.getListOfReactants()])\n",
    "    products  = ' + '.join(['%s %s'%(int(r.getStoichiometry()) if r.getStoichiometry() > 1 else '', r.getSpecies()) for r in reaction.getListOfProducts()])\n",
    "    reversible = '<' if reaction.getReversible() else ''\n",
    "    print('%3s: %10s %1s->%10s\\t\\t[%s]' % (reaction.getId(), \n",
    "                        reactants,\n",
    "                        reversible,\n",
    "                         products,\n",
    "                        libsbml.formulaToL3String(reaction.getKineticLaw().getMath())))\n"
   ]
  },
  {
   "cell_type": "markdown",
   "metadata": {},
   "source": [
    "## Importing an SBML model, compiling and generating an AMICI module\n",
    "\n",
    "Before we can use AMICI to simulate our model, the SBML model needs to be translated to C++ code. This is done by `amici.SbmlImporter`."
   ]
  },
  {
   "cell_type": "code",
   "execution_count": 3,
   "metadata": {},
   "outputs": [],
   "source": [
    "# Create an SbmlImporter instance for our SBML model\n",
    "sbml_importer = amici.SbmlImporter(sbml_file)"
   ]
  },
  {
   "cell_type": "markdown",
   "metadata": {},
   "source": [
    "In this example, we want to specify fixed parameters, observables and a $\\sigma$ parameter. Unfortunately, the latter two are not part of the [SBML standard](http://sbml.org/). However, they can be provided to `amici.SbmlImporter.sbml2amici` as demonstrated in the following."
   ]
  },
  {
   "cell_type": "markdown",
   "metadata": {},
   "source": [
    "### Constant parameters\n",
    "\n",
    "Constant parameters, i.e. parameters with respect to which no sensitivities are to be computed (these are often parameters specifying a certain experimental condition) are provided as a list of parameter names."
   ]
  },
  {
   "cell_type": "code",
   "execution_count": 4,
   "metadata": {},
   "outputs": [],
   "source": [
    "constantParameters = ['k0']"
   ]
  },
  {
   "cell_type": "markdown",
   "metadata": {},
   "source": [
    "### Observables\n",
    "\n",
    "We used SBML's [`AssignmentRule`](http://sbml.org/Software/libSBML/5.13.0/docs//python-api/classlibsbml_1_1_rule.html) as a non-standard way to specify *Model outputs* within the SBML file. These rules need to be removed prior to the model import (AMICI does at this time not support these Rules). This can be easily done using `amici.assignmentRules2observables()`.\n",
    "\n",
    "In this example, we introduced parameters named `observable_*` as targets of the observable AssignmentRules. Where applicable we have `observable_*_sigma` parameters for $\\sigma$ parameters (see below)."
   ]
  },
  {
   "cell_type": "code",
   "execution_count": 5,
   "metadata": {},
   "outputs": [
    {
     "name": "stdout",
     "output_type": "stream",
     "text": [
      "Observables: {'observable_x1': {'name': '', 'formula': 'x1'}, 'observable_x2': {'name': '', 'formula': 'x2'}, 'observable_x3': {'name': '', 'formula': 'x3'}, 'observable_x1_scaled': {'name': '', 'formula': 'scaling_x1 * x1'}, 'observable_x2_offsetted': {'name': '', 'formula': 'offset_x2 + x2'}, 'observable_x1withsigma': {'name': '', 'formula': 'x1'}}\n"
     ]
    }
   ],
   "source": [
    "# Retrieve model output names and formulae from AssignmentRules and remove the respective rules\n",
    "observables = amici.assignmentRules2observables(\n",
    "        sbml_importer.sbml, # the libsbml model object\n",
    "        filter_function=lambda variable: variable.getId().startswith('observable_') and not variable.getId().endswith('_sigma')\n",
    "    )\n",
    "print('Observables:', observables)"
   ]
  },
  {
   "cell_type": "markdown",
   "metadata": {},
   "source": [
    "### $\\sigma$ parameters\n",
    "\n",
    "To specify measurement noise as a parameter, we simply provide a dictionary with (preexisting) parameter names as keys and a list of observable names as values to indicate which sigma parameter is to be used for which observable."
   ]
  },
  {
   "cell_type": "code",
   "execution_count": 6,
   "metadata": {},
   "outputs": [],
   "source": [
    "sigmas = {'observable_x1withsigma': 'observable_x1withsigma_sigma'}"
   ]
  },
  {
   "cell_type": "markdown",
   "metadata": {},
   "source": [
    "### Generating the module\n",
    "\n",
    "Now we can generate the python module for our model. `amici.SbmlImporter.sbml2amici` will symbolically derive the sensitivity equations, generate C++ code for model simulation, and assemble the python module."
   ]
  },
  {
   "cell_type": "code",
   "execution_count": 7,
   "metadata": {},
   "outputs": [],
   "source": [
    "sbml_importer.sbml2amici(model_name, \n",
    "                         model_output_dir, \n",
    "                         verbose=False,\n",
    "                         observables=observables,\n",
    "                         constantParameters=constantParameters,\n",
    "                         sigmas=sigmas)"
   ]
  },
  {
   "cell_type": "markdown",
   "metadata": {},
   "source": [
    "### Importing the module and loading the model\n",
    "\n",
    "If everything went well, we need to add the previously selected model output directory to our PYTHON_PATH and are then ready to load newly generated model:"
   ]
  },
  {
   "cell_type": "code",
   "execution_count": 8,
   "metadata": {},
   "outputs": [],
   "source": [
    "sys.path.insert(0, os.path.abspath(model_output_dir))\n",
    "model_module = importlib.import_module(model_name)"
   ]
  },
  {
   "cell_type": "markdown",
   "metadata": {},
   "source": [
    "And get an instance of our model from which we can retrieve information such as parameter names:"
   ]
  },
  {
   "cell_type": "code",
   "execution_count": 9,
   "metadata": {},
   "outputs": [
    {
     "name": "stdout",
     "output_type": "stream",
     "text": [
      "Model parameters: <amici.amici.StringVector; proxy of <Swig Object of type 'std::vector< std::string > *' at 0x7fe1cd524600> >\n",
      "Model outputs:    <amici.amici.StringVector; proxy of <Swig Object of type 'std::vector< std::string > *' at 0x7fe1cd524600> >\n",
      "Model states:     <amici.amici.StringVector; proxy of <Swig Object of type 'std::vector< std::string > *' at 0x7fe1cd524600> >\n"
     ]
    }
   ],
   "source": [
    "model = model_module.getModel()\n",
    "\n",
    "print(\"Model parameters:\", model.getParameterIds())\n",
    "print(\"Model outputs:   \", model.getObservableIds())\n",
    "print(\"Model states:    \", model.getStateIds())"
   ]
  },
  {
   "cell_type": "markdown",
   "metadata": {},
   "source": [
    "### Using the python-generated AMICI model from Matlab\n",
    "\n",
    "It is also possible to use a Python-AMICI imported model from Matlab. You might want to do this because:\n",
    "- you don't have the Symbolic Math Toolbox available\n",
    "- model generation using the AMICI Python interface can be significantly faster\n",
    "- python SBML import has some extra features that are not available through the matlab interface\n",
    "- model equations will differ between Python- and Matlab-import"
   ]
  },
  {
   "cell_type": "code",
   "execution_count": 10,
   "metadata": {},
   "outputs": [
    {
     "name": "stdout",
     "output_type": "stream",
     "text": [
      "To use python-generated model in Matlab, ensure you added AMICI to your matlab path and run:\n",
      "\n",
      "modelName = 'model_steadystate_scaled';\n",
      "modelDir = '/home/dweindl/src/AMICI-devel/python/examples/example_steadystate/model_steadystate_scaled';\n",
      "amimodel.compileAndLinkModel(modelName, modelDir, [], [], [], []);\n",
      "amimodel.generateMatlabWrapper(3, 6, 8, 1, 0, 0, [], [ modelDir '/simulate_' modelName '.m'], modelName, 'lin', 1, 1);\n",
      "\n"
     ]
    }
   ],
   "source": [
    "print('''To use python-generated model in Matlab, ensure you added AMICI to your matlab path and run:\n",
    "\n",
    "modelName = '{model_name}';\n",
    "modelDir = '{model_output_dir}';\n",
    "amimodel.compileAndLinkModel(modelName, modelDir, [], [], [], []);\n",
    "amimodel.generateMatlabWrapper({nx}, {ny}, {np}, {nk}, {nz}, {o2flag}, [], [ modelDir '/simulate_' modelName '.m'], modelName, 'lin', 1, 1);\n",
    "'''.format(model_name=model_name, \n",
    "           model_output_dir=os.path.abspath(model_output_dir),\n",
    "           nx = model.nxtrue_rdata,\n",
    "           ny = model.nytrue,\n",
    "           np = model.np(),\n",
    "           nk = model.nk(),\n",
    "           nz = model.nz,\n",
    "           o2flag = model.o2mode\n",
    "          ))"
   ]
  },
  {
   "cell_type": "markdown",
   "metadata": {},
   "source": [
    "This will use the matlab compiler to generate a mex file and will create a Matlab wrapper script. You have to run this only once after generating the Python model. Afterwards you can use the model from Matlab just as if it was generted using `amiwrap.m` directly."
   ]
  },
  {
   "cell_type": "markdown",
   "metadata": {},
   "source": [
    "## Running simulations and analyzing results\n",
    "\n",
    "After importing the model, we can run simulations using `amici.runAmiciSimulation`. This requires a `Model` instance and a `Solver` instance. Optionally you can provide measurements inside an `ExpData` instance, as shown later in this notebook."
   ]
  },
  {
   "cell_type": "code",
   "execution_count": 11,
   "metadata": {
    "scrolled": true
   },
   "outputs": [
    {
     "ename": "NameError",
     "evalue": "name 'rdataToNumPyArrays' is not defined",
     "output_type": "error",
     "traceback": [
      "\u001b[0;31m---------------------------------------------------------------------------\u001b[0m",
      "\u001b[0;31mNameError\u001b[0m                                 Traceback (most recent call last)",
      "\u001b[0;32m<ipython-input-11-4d0c79290f31>\u001b[0m in \u001b[0;36m<module>\u001b[0;34m\u001b[0m\n\u001b[1;32m      9\u001b[0m \u001b[0;34m\u001b[0m\u001b[0m\n\u001b[1;32m     10\u001b[0m \u001b[0;31m# Run simulation using default model parameters and solver options\u001b[0m\u001b[0;34m\u001b[0m\u001b[0;34m\u001b[0m\u001b[0;34m\u001b[0m\u001b[0m\n\u001b[0;32m---> 11\u001b[0;31m \u001b[0mrdata\u001b[0m \u001b[0;34m=\u001b[0m \u001b[0mamici\u001b[0m\u001b[0;34m.\u001b[0m\u001b[0mrunAmiciSimulation\u001b[0m\u001b[0;34m(\u001b[0m\u001b[0mmodel\u001b[0m\u001b[0;34m,\u001b[0m \u001b[0msolver\u001b[0m\u001b[0;34m)\u001b[0m\u001b[0;34m\u001b[0m\u001b[0;34m\u001b[0m\u001b[0m\n\u001b[0m",
      "\u001b[0;32m~/src/AMICI-devel/python/sdist/amici/__init__.py\u001b[0m in \u001b[0;36mrunAmiciSimulation\u001b[0;34m(model, solver, edata)\u001b[0m\n\u001b[1;32m    128\u001b[0m     \u001b[0;32mwith\u001b[0m \u001b[0mcapture_cstdout\u001b[0m\u001b[0;34m(\u001b[0m\u001b[0;34m)\u001b[0m\u001b[0;34m:\u001b[0m\u001b[0;34m\u001b[0m\u001b[0;34m\u001b[0m\u001b[0m\n\u001b[1;32m    129\u001b[0m         \u001b[0mrdata\u001b[0m \u001b[0;34m=\u001b[0m \u001b[0mamici\u001b[0m\u001b[0;34m.\u001b[0m\u001b[0mrunAmiciSimulation\u001b[0m\u001b[0;34m(\u001b[0m\u001b[0msolver\u001b[0m\u001b[0;34m.\u001b[0m\u001b[0mget\u001b[0m\u001b[0;34m(\u001b[0m\u001b[0;34m)\u001b[0m\u001b[0;34m,\u001b[0m \u001b[0medata\u001b[0m\u001b[0;34m,\u001b[0m \u001b[0mmodel\u001b[0m\u001b[0;34m.\u001b[0m\u001b[0mget\u001b[0m\u001b[0;34m(\u001b[0m\u001b[0;34m)\u001b[0m\u001b[0;34m)\u001b[0m\u001b[0;34m\u001b[0m\u001b[0;34m\u001b[0m\u001b[0m\n\u001b[0;32m--> 130\u001b[0;31m     \u001b[0;32mreturn\u001b[0m \u001b[0mrdataToNumPyArrays\u001b[0m\u001b[0;34m(\u001b[0m\u001b[0mrdata\u001b[0m\u001b[0;34m)\u001b[0m\u001b[0;34m\u001b[0m\u001b[0;34m\u001b[0m\u001b[0m\n\u001b[0m\u001b[1;32m    131\u001b[0m \u001b[0;34m\u001b[0m\u001b[0m\n\u001b[1;32m    132\u001b[0m \u001b[0;34m\u001b[0m\u001b[0m\n",
      "\u001b[0;31mNameError\u001b[0m: name 'rdataToNumPyArrays' is not defined"
     ]
    }
   ],
   "source": [
    "# Create Model instance\n",
    "model = model_module.getModel()\n",
    "\n",
    "# set timepoints for which we want to simulate the model\n",
    "model.setTimepoints(np.linspace(0, 60, 60)) \n",
    "\n",
    "# Create solver instance\n",
    "solver = model.getSolver()\n",
    "\n",
    "# Run simulation using default model parameters and solver options\n",
    "rdata = amici.runAmiciSimulation(model, solver)"
   ]
  },
  {
   "cell_type": "code",
   "execution_count": null,
   "metadata": {},
   "outputs": [],
   "source": [
    "print('Simulation was run using model default parameters as specified in the SBML model:')\n",
    "print(model.getParameters())"
   ]
  },
  {
   "cell_type": "markdown",
   "metadata": {},
   "source": [
    "Simulation results are provided as `numpy.ndarray`s in the returned dictionary:"
   ]
  },
  {
   "cell_type": "code",
   "execution_count": null,
   "metadata": {},
   "outputs": [],
   "source": [
    "#np.set_printoptions(threshold=8, edgeitems=2)\n",
    "for key, value in rdata.items():\n",
    "    print('%12s: ' % key, value)"
   ]
  },
  {
   "cell_type": "markdown",
   "metadata": {},
   "source": [
    "### A note on datatypes\n",
    "\n",
    "You might have wondered about expression such as `rdata['y'].flatten()` or `amici.ExpData(model.get())`. This is currently required to convert between Python data types and internal C++ datatypes. The [SWIG](http://swig.org/) interface does not yet do this conversion automatically."
   ]
  },
  {
   "cell_type": "code",
   "execution_count": null,
   "metadata": {},
   "outputs": [],
   "source": [
    "print(model.getParameters())"
   ]
  },
  {
   "cell_type": "markdown",
   "metadata": {},
   "source": [
    "### Plotting tractories\n",
    "\n",
    "The simulation results above did not look too appealing. Let's plot the trajectories of the model states and outputs  them using `matplotlib.pyplot`:"
   ]
  },
  {
   "cell_type": "code",
   "execution_count": null,
   "metadata": {},
   "outputs": [],
   "source": [
    "import amici.plotting\n",
    "amici.plotting.plotStateTrajectories(rdata)\n",
    "amici.plotting.plotObservableTrajectories(rdata)"
   ]
  },
  {
   "cell_type": "markdown",
   "metadata": {},
   "source": [
    "### Computing likelihood\n",
    "\n",
    "Often model parameters need to be inferred from experimental data. This is commonly done by maximizing the likelihood of of observing the data given to current model parameters. AMICI will compute this likelihood if experimental data is provided to `amici.runAmiciSimulation` as optional third argument. Measurements along with their standard deviations are provided through an `amici.ExpData` instance."
   ]
  },
  {
   "cell_type": "code",
   "execution_count": null,
   "metadata": {},
   "outputs": [],
   "source": [
    "# Create model instance and set time points for simulation\n",
    "model = model_module.getModel()\n",
    "model.setTimepoints(np.linspace(0, 10, 11)) \n",
    "\n",
    "# Create solver instance, keep default options\n",
    "solver = model.getSolver()\n",
    "\n",
    "# Run simulation without experimental data\n",
    "rdata = amici.runAmiciSimulation(model, solver)\n",
    "\n",
    "# Create ExpData instance from simulation results\n",
    "edata = amici.ExpData(rdata, 1.0, 0.0)\n",
    "\n",
    "# Re-run simulation, this time passing \"experimental data\"\n",
    "rdata = amici.runAmiciSimulation(model, solver, edata)\n",
    "\n",
    "print('Log-likelihood %f' % rdata['llh'])"
   ]
  },
  {
   "cell_type": "markdown",
   "metadata": {},
   "source": [
    "## Sensitivity analysis\n",
    "\n",
    "AMICI can provide first- and second-order sensitivities using the forward- or adjoint-method. The respective options are set on the Model and Solver objects."
   ]
  },
  {
   "cell_type": "markdown",
   "metadata": {},
   "source": [
    "### Forward sensitivity analysis"
   ]
  },
  {
   "cell_type": "code",
   "execution_count": null,
   "metadata": {},
   "outputs": [],
   "source": [
    "model = model_module.getModel()\n",
    "model.setTimepoints(np.linspace(0, 10, 11)) \n",
    "model.requireSensitivitiesForAllParameters()              # sensitivities w.r.t. all parameters\n",
    "# model.setParameterList([1, 2])                          # sensitivities \n",
    "# w.r.t. the specified parameters\n",
    "model.setParameterScale(amici.ParameterScaling_none)         # parameters are used as-is (not log-transformed)\n",
    "\n",
    "solver = model.getSolver()\n",
    "solver.setSensitivityMethod(amici.SensitivityMethod_forward)        # forward sensitivity analysis\n",
    "solver.setSensitivityOrder(amici.SensitivityOrder_first) # first-order sensitivities\n",
    "\n",
    "rdata = amici.runAmiciSimulation(model, solver)\n",
    "\n",
    "# print sensitivity-related results\n",
    "for key, value in rdata.items():\n",
    "    if key.startswith('s'):\n",
    "        print('%12s: ' % key, value)"
   ]
  },
  {
   "cell_type": "markdown",
   "metadata": {},
   "source": [
    "## Adjoint sensitivity analysis"
   ]
  },
  {
   "cell_type": "code",
   "execution_count": null,
   "metadata": {
    "scrolled": true
   },
   "outputs": [],
   "source": [
    "# Set model options\n",
    "model = model_module.getModel()\n",
    "p_orig = np.array(model.getParameters())\n",
    "p_orig[list(model.getParameterIds()).index('observable_x1withsigma_sigma')] = 0.1 # Change default parameter\n",
    "model.setParameters(p_orig.flatten())\n",
    "model.setParameterScale(amici.ParameterScaling_none)\n",
    "model.setTimepoints(np.linspace(0, 10, 21)) \n",
    "\n",
    "solver = model.getSolver()\n",
    "solver.setMaxSteps(10**4) # Set maximum number of steps for the solver\n",
    "\n",
    "# simulate time-course to get artificial data\n",
    "rdata = amici.runAmiciSimulation(model, solver)\n",
    "edata = amici.ExpData(rdata, 1.0, 0)\n",
    "edata.fixedParameters = model.getFixedParameters()\n",
    "# set sigma to 1.0 except for observable 5, so that p[7] is used instead\n",
    "# (if we have sigma parameterized, the corresponding ExpData entries must NaN, otherwise they will override the parameter)\n",
    "edata.setObservedDataStdDev(rdata['t']*0+np.nan,\n",
    "                            list(model.getObservableIds()).index('observable_x1withsigma'))\n",
    "\n",
    "# enable sensitivities\n",
    "solver.setSensitivityOrder(amici.SensitivityOrder_first) # First-order ...\n",
    "solver.setSensitivityMethod(amici.SensitivityMethod_adjoint)        # ... adjoint sensitivities\n",
    "model.requireSensitivitiesForAllParameters()              # ... w.r.t. all parameters\n",
    "\n",
    "# compute adjoint sensitivities\n",
    "rdata = amici.runAmiciSimulation(model, solver, edata)\n",
    "#print(rdata['sigmay'])\n",
    "print('Log-likelihood: %f\\nGradient: %s' % (rdata['llh'], rdata['sllh']))\n"
   ]
  },
  {
   "cell_type": "markdown",
   "metadata": {},
   "source": [
    "## Finite differences gradient check\n",
    "\n",
    "Compare AMICI-computed gradient with finite differences"
   ]
  },
  {
   "cell_type": "code",
   "execution_count": null,
   "metadata": {},
   "outputs": [],
   "source": [
    "from scipy.optimize import check_grad\n",
    "\n",
    "def func(x0, symbol='llh', x0full=None, plist=[], verbose=False):\n",
    "    p = x0[:]\n",
    "    if len(plist):\n",
    "        p = x0full[:]\n",
    "        p[plist] = x0\n",
    "    verbose and print('f: p=%s' % p)\n",
    "    \n",
    "    old_parameters = model.getParameters()\n",
    "    solver.setSensitivityOrder(amici.SensitivityOrder_none)\n",
    "    model.setParameters(p)\n",
    "    rdata = amici.runAmiciSimulation(model, solver, edata)\n",
    "    \n",
    "    model.setParameters(old_parameters)\n",
    "    \n",
    "    res = np.sum(rdata[symbol])\n",
    "    verbose and print(res)\n",
    "    return res\n",
    "\n",
    "def grad(x0, symbol='llh', x0full=None, plist=[], verbose=False):\n",
    "    p = x0[:]\n",
    "    if len(plist):\n",
    "        model.setParameterList(plist)\n",
    "        p = x0full[:]\n",
    "        p[plist] = x0\n",
    "    else:\n",
    "        model.requireSensitivitiesForAllParameters()\n",
    "    verbose and print('g: p=%s' % p)\n",
    "    \n",
    "    old_parameters = model.getParameters()\n",
    "    solver.setSensitivityMethod(amici.SensitivityMethod_forward)\n",
    "    solver.setSensitivityOrder(amici.SensitivityOrder_first)\n",
    "    model.setParameters(p)\n",
    "    rdata = amici.runAmiciSimulation(model, solver, edata)\n",
    "    \n",
    "    model.setParameters(old_parameters)\n",
    "\n",
    "    res = rdata['s%s' % symbol]\n",
    "    if not isinstance(res, float):\n",
    "        if len(res.shape) == 3:\n",
    "            res = np.sum(res, axis=(0, 2))\n",
    "    verbose and print(res)\n",
    "    return res\n",
    "\n",
    "err_norm = check_grad(func, grad, p_orig, 'llh')\n",
    "print('sllh: |error|_2: %f' % err_norm)\n",
    "# assert err_norm < 1e-6\n",
    "print()\n",
    "\n",
    "for ip in range(model.np()):\n",
    "    plist = [ip]\n",
    "    p = p_orig.copy()\n",
    "    err_norm = check_grad(func, grad, p[plist], 'llh', p, [ip])\n",
    "    print('sllh: p[%d]: |error|_2: %f' % (ip, err_norm))\n",
    "\n",
    "print()\n",
    "for ip in range(model.np()):\n",
    "    plist = [ip]\n",
    "    p = p_orig.copy()\n",
    "    err_norm = check_grad(func, grad, p[plist], 'y', p, [ip])\n",
    "    print('sy: p[%d]: |error|_2: %f' % (ip, err_norm))\n",
    "\n",
    "print()\n",
    "for ip in range(model.np()):\n",
    "    plist = [ip]\n",
    "    p = p_orig.copy()\n",
    "    err_norm = check_grad(func, grad, p[plist], 'x', p, [ip])\n",
    "    print('sx: p[%d]: |error|_2: %f' % (ip, err_norm))\n",
    "\n",
    "print()\n",
    "for ip in range(model.np()):\n",
    "    plist = [ip]\n",
    "    p = p_orig.copy()\n",
    "    err_norm = check_grad(func, grad, p[plist], 'sigmay', p, [ip])\n",
    "    print('ssigmay: p[%d]: |error|_2: %f' % (ip, err_norm))\n"
   ]
  },
  {
   "cell_type": "markdown",
   "metadata": {},
   "source": [
    "## Export as DataFrame\n",
    "\n",
    "Experimental data and simulation results can both be exported as pandas Dataframe to allow for an easier inspection of numeric values"
   ]
  },
  {
   "cell_type": "code",
   "execution_count": null,
   "metadata": {},
   "outputs": [],
   "source": [
    "# run the simulation\n",
    "rdata = amici.runAmiciSimulation(model, solver, edata)"
   ]
  },
  {
   "cell_type": "code",
   "execution_count": null,
   "metadata": {},
   "outputs": [],
   "source": [
    "# look at the ExpData as DataFrame \n",
    "df = amici.getDataObservablesAsDataFrame(model, [edata])\n",
    "df"
   ]
  },
  {
   "cell_type": "code",
   "execution_count": null,
   "metadata": {},
   "outputs": [],
   "source": [
    "# from the exported dataframe, we can actually reconstruct a copy of the ExpData instace\n",
    "reconstructed_edata = amici.getEdataFromDataFrame(model, df)"
   ]
  },
  {
   "cell_type": "code",
   "execution_count": null,
   "metadata": {},
   "outputs": [],
   "source": [
    "# look at the States in rdata as DataFrame \n",
    "amici.getResidualsAsDataFrame(model, [edata], [rdata])"
   ]
  },
  {
   "cell_type": "code",
   "execution_count": null,
   "metadata": {},
   "outputs": [],
   "source": [
    "# look at the Observables in rdata as DataFrame \n",
    "amici.getSimulationObservablesAsDataFrame(model, [edata], [rdata])"
   ]
  },
  {
   "cell_type": "code",
   "execution_count": null,
   "metadata": {},
   "outputs": [],
   "source": [
    "# look at the States in rdata as DataFrame \n",
    "amici.getSimulationStatesAsDataFrame(model, [edata], [rdata])"
   ]
  },
  {
   "cell_type": "code",
   "execution_count": null,
   "metadata": {},
   "outputs": [],
   "source": []
  },
  {
   "cell_type": "code",
   "execution_count": null,
   "metadata": {},
   "outputs": [],
   "source": []
  }
 ],
 "metadata": {
  "kernelspec": {
   "display_name": "Python 3",
   "language": "python",
   "name": "python3"
  },
  "language_info": {
   "codemirror_mode": {
    "name": "ipython",
    "version": 3
   },
   "file_extension": ".py",
   "mimetype": "text/x-python",
   "name": "python",
   "nbconvert_exporter": "python",
   "pygments_lexer": "ipython3",
   "version": "3.6.7"
  },
  "toc": {
   "base_numbering": 1,
   "nav_menu": {},
   "number_sections": true,
   "sideBar": true,
   "skip_h1_title": false,
   "title_cell": "Table of Contents",
   "title_sidebar": "Contents",
   "toc_cell": false,
   "toc_position": {},
   "toc_section_display": true,
   "toc_window_display": false
  }
 },
 "nbformat": 4,
 "nbformat_minor": 2
}
