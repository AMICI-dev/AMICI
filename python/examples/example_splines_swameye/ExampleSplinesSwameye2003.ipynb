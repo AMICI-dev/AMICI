{
 "cells": [
  {
   "cell_type": "markdown",
   "id": "c10af447-e4f1-46e1-bf60-910dc67f5d77",
   "metadata": {
    "tags": []
   },
   "source": [
    "# Spline implementation of JAK2-STAT5 signaling pathway\n",
    "In this notebook a practical example of the usage of AMICI spline functionalities is shown.\n",
    "The model under consideration is the JAK2-STAT5 signaling pathway ([Swameye et al., 2003](https://doi.org/10.1073/pnas.0237333100)),\n",
    "in which the dynamics of the system depend on a measured input function (the quantity `pEpoR` in the model).\n",
    "\n",
    "Following the approach of ([Schelker et al., 2012](https://doi.org/10.1093/bioinformatics/bts393)), a continuous approximation of this input function is estimated together with the other parameters.\n",
    "As in the original paper, we will use a spline with logarithmic parameterization in order to enforce the positivity constraint.\n",
    "\n",
    "The model of the signaling pathway will be implemented in SBML using AMICI's spline annotations, experimental data integrated using the PEtab format and parameter estimation will be carried out using the [pyPESTO](https://pypesto.readthedocs.io/) library."
   ]
  },
  {
   "cell_type": "code",
   "execution_count": 1,
   "id": "7323a4fb",
   "metadata": {},
   "outputs": [
    {
     "name": "stdout",
     "output_type": "stream",
     "text": [
      "Requirement already satisfied: pypesto in /home/dweindl/src/AMICI-devel/py38/lib/python3.8/site-packages (0.2.16)\n",
      "Requirement already satisfied: numpy!=1.24.0,>=1.19.1 in /home/dweindl/src/AMICI-devel/py38/lib/python3.8/site-packages (from pypesto) (1.24.3)\n",
      "Requirement already satisfied: scipy>=1.5.2 in /home/dweindl/src/AMICI-devel/py38/lib/python3.8/site-packages (from pypesto) (1.10.1)\n",
      "Requirement already satisfied: pandas>=1.5.0 in /home/dweindl/src/AMICI-devel/py38/lib/python3.8/site-packages (from pypesto) (2.0.0)\n",
      "Requirement already satisfied: cloudpickle>=1.5.0 in /home/dweindl/src/AMICI-devel/py38/lib/python3.8/site-packages (from pypesto) (2.2.1)\n",
      "Requirement already satisfied: matplotlib>=3.6.2 in /home/dweindl/src/AMICI-devel/py38/lib/python3.8/site-packages (from pypesto) (3.7.1)\n",
      "Requirement already satisfied: more-itertools>=9.0.0 in /home/dweindl/src/AMICI-devel/py38/lib/python3.8/site-packages (from pypesto) (9.1.0)\n",
      "Requirement already satisfied: seaborn>=0.11.2 in /home/dweindl/src/AMICI-devel/py38/lib/python3.8/site-packages (from pypesto) (0.12.2)\n",
      "Requirement already satisfied: h5py>=3.1.0 in /home/dweindl/src/AMICI-devel/py38/lib/python3.8/site-packages (from pypesto) (3.8.0)\n",
      "Requirement already satisfied: tqdm>=4.46.0 in /home/dweindl/src/AMICI-devel/py38/lib/python3.8/site-packages (from pypesto) (4.65.0)\n",
      "Requirement already satisfied: tabulate>=0.8.10 in /home/dweindl/src/AMICI-devel/py38/lib/python3.8/site-packages (from pypesto) (0.9.0)\n",
      "Requirement already satisfied: contourpy>=1.0.1 in /home/dweindl/src/AMICI-devel/py38/lib/python3.8/site-packages (from matplotlib>=3.6.2->pypesto) (1.0.7)\n",
      "Requirement already satisfied: cycler>=0.10 in /home/dweindl/src/AMICI-devel/py38/lib/python3.8/site-packages (from matplotlib>=3.6.2->pypesto) (0.11.0)\n",
      "Requirement already satisfied: fonttools>=4.22.0 in /home/dweindl/src/AMICI-devel/py38/lib/python3.8/site-packages (from matplotlib>=3.6.2->pypesto) (4.39.3)\n",
      "Requirement already satisfied: kiwisolver>=1.0.1 in /home/dweindl/src/AMICI-devel/py38/lib/python3.8/site-packages (from matplotlib>=3.6.2->pypesto) (1.4.4)\n",
      "Requirement already satisfied: packaging>=20.0 in /home/dweindl/src/AMICI-devel/py38/lib/python3.8/site-packages (from matplotlib>=3.6.2->pypesto) (23.1)\n",
      "Requirement already satisfied: pillow>=6.2.0 in /home/dweindl/src/AMICI-devel/py38/lib/python3.8/site-packages (from matplotlib>=3.6.2->pypesto) (9.5.0)\n",
      "Requirement already satisfied: pyparsing>=2.3.1 in /home/dweindl/src/AMICI-devel/py38/lib/python3.8/site-packages (from matplotlib>=3.6.2->pypesto) (3.0.9)\n",
      "Requirement already satisfied: python-dateutil>=2.7 in /home/dweindl/src/AMICI-devel/py38/lib/python3.8/site-packages (from matplotlib>=3.6.2->pypesto) (2.8.2)\n",
      "Requirement already satisfied: importlib-resources>=3.2.0 in /home/dweindl/src/AMICI-devel/py38/lib/python3.8/site-packages (from matplotlib>=3.6.2->pypesto) (5.12.0)\n",
      "Requirement already satisfied: pytz>=2020.1 in /home/dweindl/src/AMICI-devel/py38/lib/python3.8/site-packages (from pandas>=1.5.0->pypesto) (2023.3)\n",
      "Requirement already satisfied: tzdata>=2022.1 in /home/dweindl/src/AMICI-devel/py38/lib/python3.8/site-packages (from pandas>=1.5.0->pypesto) (2023.3)\n",
      "Requirement already satisfied: zipp>=3.1.0 in /home/dweindl/src/AMICI-devel/py38/lib/python3.8/site-packages (from importlib-resources>=3.2.0->matplotlib>=3.6.2->pypesto) (3.15.0)\n",
      "Requirement already satisfied: six>=1.5 in /home/dweindl/src/AMICI-devel/py38/lib/python3.8/site-packages (from python-dateutil>=2.7->matplotlib>=3.6.2->pypesto) (1.16.0)\n",
      "Note: you may need to restart the kernel to use updated packages.\n"
     ]
    }
   ],
   "source": [
    "%pip install pypesto"
   ]
  },
  {
   "cell_type": "code",
   "execution_count": 2,
   "id": "78dbeefe",
   "metadata": {},
   "outputs": [
    {
     "name": "stdout",
     "output_type": "stream",
     "text": [
      "Requirement already satisfied: fides in /home/dweindl/src/AMICI-devel/py38/lib/python3.8/site-packages (0.7.6)\n",
      "Requirement already satisfied: numpy>=1.19.2 in /home/dweindl/src/AMICI-devel/py38/lib/python3.8/site-packages (from fides) (1.24.3)\n",
      "Requirement already satisfied: scipy>=1.5.2 in /home/dweindl/src/AMICI-devel/py38/lib/python3.8/site-packages (from fides) (1.10.1)\n",
      "Requirement already satisfied: h5py>=3.5.0 in /home/dweindl/src/AMICI-devel/py38/lib/python3.8/site-packages (from fides) (3.8.0)\n",
      "Note: you may need to restart the kernel to use updated packages.\n"
     ]
    }
   ],
   "source": [
    "%pip install fides"
   ]
  },
  {
   "cell_type": "code",
   "execution_count": 3,
   "id": "5f94310d-d95c-4fb5-bd1e-a29bb1c92a30",
   "metadata": {
    "tags": []
   },
   "outputs": [],
   "source": [
    "import os\n",
    "import math\n",
    "import logging\n",
    "import contextlib\n",
    "import multiprocessing\n",
    "import copy\n",
    "\n",
    "import numpy as np\n",
    "import sympy as sp\n",
    "import pandas as pd\n",
    "from matplotlib import pyplot as plt\n",
    "\n",
    "import libsbml\n",
    "import amici\n",
    "import petab\n",
    "import pypesto\n",
    "import pypesto.petab"
   ]
  },
  {
   "cell_type": "code",
   "execution_count": 4,
   "id": "02162090-1008-4eb7-b954-c10370aae9c5",
   "metadata": {
    "tags": []
   },
   "outputs": [],
   "source": [
    "# Number of multi-starts for MAP estimation\n",
    "n_starts = 150\n",
    "# n_starts = 0 # when loading results"
   ]
  },
  {
   "cell_type": "code",
   "execution_count": 5,
   "id": "c2a366ac",
   "metadata": {
    "tags": []
   },
   "outputs": [
    {
     "name": "stderr",
     "output_type": "stream",
     "text": [
      "Engine set up to use up to 8 processes in total. The number was automatically determined and might not be appropriate on some systems.\n"
     ]
    }
   ],
   "source": [
    "# Set default pypesto engine/optimizer\n",
    "pypesto_optimizer = pypesto.optimize.FidesOptimizer(verbose=logging.WARNING)\n",
    "pypesto_engine = pypesto.engine.MultiProcessEngine()"
   ]
  },
  {
   "cell_type": "code",
   "execution_count": 6,
   "id": "21eca425",
   "metadata": {
    "tags": []
   },
   "outputs": [],
   "source": [
    "# If running as a Github action, just do the minimal amount of work required to check whether the code is working\n",
    "if os.getenv('GITHUB_ACTIONS') is not None:\n",
    "    n_starts = 20\n",
    "    pypesto_optimizer = pypesto.optimize.FidesOptimizer(verbose=logging.WARNING, options=dict(maxiter=10))\n",
    "    pypesto_engine = pypesto.engine.SingleCoreEngine()"
   ]
  },
  {
   "cell_type": "code",
   "execution_count": 7,
   "id": "ff552b79-96a1-42b4-a5cb-a9f2143f10bb",
   "metadata": {
    "tags": []
   },
   "outputs": [],
   "source": [
    "# A dictionary to store different approaches for a final comparison\n",
    "all_results = {}"
   ]
  },
  {
   "cell_type": "markdown",
   "id": "3ab1206d-f0dd-4b77-a668-be3076c28fa3",
   "metadata": {
    "tags": []
   },
   "source": [
    "## Spline approximation with few nodes, using finite differences for the derivatives\n",
    "As a first attempt, we fix a small amount of nodes, create new parameters for the values of the splines at the nodes and let AMICI compute the derivative at the nodes by using finite differences."
   ]
  },
  {
   "cell_type": "markdown",
   "id": "5684adb0-4c66-48d3-9076-270839a77a5f",
   "metadata": {},
   "source": [
    "### Creating the PEtab model"
   ]
  },
  {
   "cell_type": "code",
   "execution_count": 8,
   "id": "c796cf8b-d7e9-473a-a368-b8919ef93efe",
   "metadata": {
    "tags": []
   },
   "outputs": [],
   "source": [
    "# Problem name\n",
    "name = \"Swameye_PNAS2003_5nodes_FD\""
   ]
  },
  {
   "cell_type": "markdown",
   "id": "c684a2e4-e4e8-4f4a-aa06-c1c9378a3bce",
   "metadata": {},
   "source": [
    "First, we create a spline to represent the input function `pEpoR`, parametrized by its values at the nodes.\n",
    "Since the value of the input function reaches its steady state by the end of the experiment, we extrapolate constantly after that (useful if we need to simulate the model after the last spline node)."
   ]
  },
  {
   "cell_type": "code",
   "execution_count": 9,
   "id": "68562fc1-7213-4dac-9177-61fba454f9d4",
   "metadata": {
    "tags": []
   },
   "outputs": [],
   "source": [
    "# Create spline for pEpoR\n",
    "nodes = [0, 5, 10, 20, 60]\n",
    "values_at_nodes = [sp.Symbol(f\"pEpoR_t{str(t).replace('.', '_dot_')}\") for t in nodes] # new parameter symbols for spline values\n",
    "spline = amici.splines.CubicHermiteSpline(\n",
    "    sbml_id='pEpoR', # matches name of species in SBML model\n",
    "    evaluate_at=amici.sbml_utils.amici_time_symbol, # the spline is evaluated at the current time\n",
    "    nodes=nodes,\n",
    "    values_at_nodes=values_at_nodes, # values at the nodes (in linear scale)\n",
    "    extrapolate=(None, \"constant\"), # because steady state is reached\n",
    "    bc=\"auto\", # automatically determined from extrapolate (bc at right end will be 'zero_derivative')\n",
    "    logarithmic_parametrization=True,\n",
    ")"
   ]
  },
  {
   "cell_type": "markdown",
   "id": "4a3de7bd-3157-4950-a264-cf8ff8f2250e",
   "metadata": {},
   "source": [
    "We can then add the spline to a skeleton SBML model based on the d2d implementation by (Schelker et al., 2012).\n",
    "The skeleton SBML model defines a species `pEpoR` which interacts with the other species,\n",
    "but has no reactions or rate rules of its own.\n",
    "The code below creates an assignment rule for `pEpoR` using the spline formula, completing the model.\n",
    "The parameters `pEpoR_t*` are automatically added to the SBML model too (using nominal values of `0.1` and declaring them to be constant)."
   ]
  },
  {
   "cell_type": "code",
   "execution_count": 10,
   "id": "118feb66-b3d3-46d9-9b4b-5a3f43586a64",
   "metadata": {
    "tags": []
   },
   "outputs": [],
   "source": [
    "# Add spline formula to SBML model\n",
    "sbml_doc = libsbml.SBMLReader().readSBML(os.path.join('Swameye_PNAS2003', 'swameye2003_model.xml'))\n",
    "sbml_model = sbml_doc.getModel()\n",
    "spline.add_to_sbml_model(sbml_model, auto_add=True, y_nominal=0.1, y_constant=True)"
   ]
  },
  {
   "cell_type": "markdown",
   "id": "dedc2418-dc8b-4f54-84f3-22dc26f2846b",
   "metadata": {},
   "source": [
    "A skeleton PEtab problem is provided, containing parameter bounds, observable definitions and experimental data.\n",
    "Of particular relevance is the noise model used for the measurements of `pEpoR`, normal additive noise with standard deviation equal to `0.0274 + 0.1 * pEpoR`;\n",
    "this is the same choice used in (Schelker et al., 2012), where it was estimated from experimental replicates.\n",
    "\n",
    "However, the parameters associated to the spline are to be added too.\n",
    "The code below defines parameter bounds for them according to the PEtab format and then creates a full PEtab problem integrating them together with the edited SBML file.\n",
    "The condition, measurement and observable PEtab tables do not require additional modification and can be used as they are."
   ]
  },
  {
   "cell_type": "code",
   "execution_count": 11,
   "id": "5c2f1c0b-72fe-4df4-b25c-525e36f66514",
   "metadata": {
    "tags": []
   },
   "outputs": [],
   "source": [
    "# Extra parameters associated to the spline\n",
    "spline_parameters_df = pd.DataFrame(\n",
    "    dict(parameterScale='log', lowerBound=0.001, upperBound=10, nominalValue=0.1, estimate=1),\n",
    "    index=pd.Series(list(map(str, values_at_nodes)), name=\"parameterId\"),\n",
    ")"
   ]
  },
  {
   "cell_type": "code",
   "execution_count": 12,
   "id": "f832bfe0-ddda-48fc-9a73-6e62db19b445",
   "metadata": {
    "tags": []
   },
   "outputs": [],
   "source": [
    "# Create PEtab problem\n",
    "petab_problem = petab.Problem(\n",
    "    sbml_model,\n",
    "    condition_df=petab.conditions.get_condition_df(os.path.join('Swameye_PNAS2003', 'swameye2003_conditions.tsv')),\n",
    "    measurement_df=petab.measurements.get_measurement_df(os.path.join('Swameye_PNAS2003', 'swameye2003_measurements.tsv')),\n",
    "    parameter_df=petab.core.concat_tables(\n",
    "        [os.path.join('Swameye_PNAS2003', 'swameye2003_parameters.tsv'), spline_parameters_df],\n",
    "        petab.parameters.get_parameter_df\n",
    "    ),\n",
    "    observable_df=petab.observables.get_observable_df(os.path.join('Swameye_PNAS2003', 'swameye2003_observables.tsv')),\n",
    ")"
   ]
  },
  {
   "cell_type": "markdown",
   "id": "c69bc77d-3efc-4ac5-bde4-c0e43219f560",
   "metadata": {},
   "source": [
    "The resulting PEtab problem can be checked for errors and exported to disk if needed."
   ]
  },
  {
   "cell_type": "code",
   "execution_count": 13,
   "id": "3c10e6ad-c891-43ff-b1d7-199943bdfa4b",
   "metadata": {
    "tags": []
   },
   "outputs": [],
   "source": [
    "# Check whether PEtab model is valid\n",
    "assert not petab.lint_problem(petab_problem)"
   ]
  },
  {
   "cell_type": "code",
   "execution_count": 14,
   "id": "0f2ec7eb-b4af-46ac-a96e-6e484f774883",
   "metadata": {
    "tags": []
   },
   "outputs": [],
   "source": [
    "# Save PEtab problem to disk\n",
    "# import shutil\n",
    "# shutil.rmtree(name, ignore_errors=True)\n",
    "# os.mkdir(name)\n",
    "# petab_problem.to_files_generic(prefix_path=name)"
   ]
  },
  {
   "cell_type": "markdown",
   "id": "7ebcbcc9-82d9-44cf-a0ad-2a80711cb382",
   "metadata": {},
   "source": [
    "### Creating the pyPESTO problem\n",
    "We can now create a pyPESTO problem directly from the PEtab problem.\n",
    "Due to technical limitations in AMICI, currently the PEtab problem has to be \"flattened\" before it can be simulated from, but such operation is merely syntactical and thus does not change the essence of the model."
   ]
  },
  {
   "cell_type": "code",
   "execution_count": 15,
   "id": "5a46a020-c670-4f52-9bc7-a1dd74faedd0",
   "metadata": {
    "tags": []
   },
   "outputs": [],
   "source": [
    "# Problem must be \"flattened\" to be used with AMICI\n",
    "petab.core.flatten_timepoint_specific_output_overrides(petab_problem)"
   ]
  },
  {
   "cell_type": "code",
   "execution_count": 16,
   "id": "fab8bd39-eb26-4462-b158-0fae8a8ba027",
   "metadata": {
    "tags": []
   },
   "outputs": [],
   "source": [
    "# Check whether simulation from the PEtab problem works\n",
    "# import amici.petab_simulate\n",
    "# simulator = amici.petab_simulate.PetabSimulator(petab_problem)\n",
    "# simulator.simulate(noise=False)"
   ]
  },
  {
   "cell_type": "code",
   "execution_count": 17,
   "id": "1beb3a3e-6966-4d3e-acc5-546c1932df9f",
   "metadata": {
    "tags": []
   },
   "outputs": [
    {
     "name": "stderr",
     "output_type": "stream",
     "text": [
      "Compiling amici model to folder /home/dweindl/src/AMICI-devel/python/examples/example_splines_swameye/amici_models/Swameye_PNAS2003_5nodes_FD.\n",
      "2023-04-24 08:57:48.938 - amici.petab_import - INFO - Importing model ...\n",
      "2023-04-24 08:57:48.940 - amici.petab_import - INFO - Validating PEtab problem ...\n",
      "2023-04-24 08:57:49.760 - amici.petab_import - INFO - Model name is 'Swameye_PNAS2003_5nodes_FD'.\n",
      "Writing model code to '/home/dweindl/src/AMICI-devel/python/examples/example_splines_swameye/amici_models/Swameye_PNAS2003_5nodes_FD'.\n",
      "2023-04-24 08:57:49.764 - amici.petab_import - INFO - Species: 14\n",
      "2023-04-24 08:57:49.767 - amici.petab_import - INFO - Global parameters: 9\n",
      "2023-04-24 08:57:49.770 - amici.petab_import - INFO - Reactions: 13\n",
      "2023-04-24 08:57:50.137 - amici.petab_import - INFO - Observables: 26\n",
      "2023-04-24 08:57:50.142 - amici.petab_import - INFO - Sigmas: 26\n",
      "2023-04-24 08:57:50.379 - amici.petab_import - DEBUG - Adding output parameters to model: ['scale_pSTAT5', 'scale_tSTAT5', 'sigma_pEpoR_abs', 'sigma_pEpoR_rel', 'noiseParameter1_pSTAT5_au__0_04__condition1', 'noiseParameter1_pSTAT5_au__0_044__condition1', 'noiseParameter1_pSTAT5_au__0_048__condition1', 'noiseParameter1_pSTAT5_au__0_05__condition1', 'noiseParameter1_pSTAT5_au__0_051__condition1', 'noiseParameter1_pSTAT5_au__0_052__condition1', 'noiseParameter1_pSTAT5_au__0_053__condition1', 'noiseParameter1_pSTAT5_au__0_054__condition1', 'noiseParameter1_pSTAT5_au__0_055__condition1', 'noiseParameter1_pSTAT5_au__0_065__condition1', 'noiseParameter1_pSTAT5_au__0_066__condition1', 'noiseParameter1_pSTAT5_au__0_07__condition1', 'noiseParameter1_pSTAT5_au__0_071__condition1', 'noiseParameter1_tSTAT5_au__0_028__condition1', 'noiseParameter1_tSTAT5_au__0_03__condition1', 'noiseParameter1_tSTAT5_au__0_031__condition1', 'noiseParameter1_tSTAT5_au__0_032__condition1', 'noiseParameter1_tSTAT5_au__0_033__condition1', 'noiseParameter1_tSTAT5_au__0_037__condition1', 'noiseParameter1_tSTAT5_au__0_038__condition1', 'noiseParameter1_tSTAT5_au__0_039__condition1', 'noiseParameter1_tSTAT5_au__0_04__condition1', 'noiseParameter1_tSTAT5_au__0_046__condition1', 'noiseParameter1_tSTAT5_au__0_082__condition1', 'noiseParameter1_tSTAT5_au__0_084__condition1']\n",
      "2023-04-24 08:57:50.386 - amici.petab_import - DEBUG - Adding initial assignments for []\n",
      "2023-04-24 08:57:50.674 - amici.petab_import - DEBUG - Condition table: (1, 1)\n",
      "2023-04-24 08:57:50.678 - amici.petab_import - WARNING - Parameter or species 'sigma_pEpoR_abs' provided in condition table but not present in model. Ignoring.\n",
      "2023-04-24 08:57:50.681 - amici.petab_import - WARNING - Parameter or species 'sigma_pEpoR_rel' provided in condition table but not present in model. Ignoring.\n",
      "2023-04-24 08:57:50.692 - amici.petab_import - DEBUG - Fixed parameters are []\n",
      "2023-04-24 08:57:50.696 - amici.petab_import - INFO - Overall fixed parameters: 0\n",
      "2023-04-24 08:57:50.700 - amici.petab_import - INFO - Variable parameters: 38\n",
      "2023-04-24 08:57:50.738 - amici.sbml_import - DEBUG - Finished processing SBML annotations        ++ (1.36E-03s)\n",
      "2023-04-24 08:57:50.881 - amici.sbml_import - DEBUG - Finished gathering local SBML symbols       ++ (1.22E-01s)\n",
      "2023-04-24 08:57:50.904 - amici.sbml_import - DEBUG - Finished processing SBML parameters         ++ (4.64E-03s)\n",
      "2023-04-24 08:57:50.929 - amici.sbml_import - DEBUG - Finished processing SBML compartments       ++ (7.95E-04s)\n",
      "2023-04-24 08:57:54.137 - amici.sbml_import - DEBUG - Finished processing SBML species initials  +++ (9.15E-03s)\n",
      "2023-04-24 08:57:54.153 - amici.sbml_import - DEBUG - Finished processing SBML rate rules        +++ (9.97E-05s)\n",
      "2023-04-24 08:57:54.156 - amici.sbml_import - DEBUG - Finished processing SBML species            ++ (3.21E+00s)\n",
      "2023-04-24 08:57:54.186 - amici.sbml_import - DEBUG - Finished processing SBML reactions          ++ (1.35E-02s)\n",
      "2023-04-24 08:57:54.299 - amici.sbml_import - DEBUG - Finished processing SBML rules              ++ (9.54E-02s)\n",
      "2023-04-24 08:57:54.315 - amici.sbml_import - DEBUG - Finished processing SBML initial assignments++ (8.85E-05s)\n",
      "2023-04-24 08:57:54.334 - amici.sbml_import - DEBUG - Finished processing SBML species references ++ (3.39E-03s)\n",
      "2023-04-24 08:57:54.356 - amici.sbml_import - DEBUG - Finished processing SBML events             ++ (1.46E-03s)\n",
      "2023-04-24 08:57:54.360 - amici.sbml_import - DEBUG - Finished importing SBML                      + (3.64E+00s)\n",
      "2023-04-24 08:57:55.894 - amici.sbml_import - DEBUG - Finished processing SBML observables         + (1.52E+00s)\n",
      "2023-04-24 08:57:55.916 - amici.sbml_import - DEBUG - Finished processing SBML event observables   + (7.17E-06s)\n",
      "2023-04-24 08:57:56.248 - amici.de_export - DEBUG - Finished running smart_multiply               ++ (1.98E-02s)\n",
      "2023-04-24 08:57:56.680 - amici.de_export - DEBUG - Finished importing SbmlImporter                + (4.72E-01s)\n",
      "2023-04-24 08:57:57.914 - amici.de_export - DEBUG - Finished simplifying Jy                     ++++ (1.18E+00s)\n",
      "2023-04-24 08:57:57.917 - amici.de_export - DEBUG - Finished computing Jy                        +++ (1.19E+00s)\n",
      "2023-04-24 08:57:58.043 - amici.de_export - DEBUG - Finished simplifying y                      ++++ (9.66E-02s)\n",
      "2023-04-24 08:57:58.047 - amici.de_export - DEBUG - Finished computing y                         +++ (1.12E-01s)\n",
      "2023-04-24 08:57:58.082 - amici.de_export - DEBUG - Finished simplifying sigmay                 ++++ (4.95E-03s)\n",
      "2023-04-24 08:57:58.085 - amici.de_export - DEBUG - Finished computing sigmay                    +++ (2.03E-02s)\n",
      "2023-04-24 08:57:58.845 - amici.de_export - DEBUG - Finished writing Jy.cpp                       ++ (2.13E+00s)\n",
      "2023-04-24 08:58:00.051 - amici.de_export - DEBUG - Finished running smart_jacobian             ++++ (1.16E+00s)\n",
      "2023-04-24 08:58:00.670 - amici.de_export - DEBUG - Finished simplifying dJydsigma              ++++ (6.00E-01s)\n",
      "2023-04-24 08:58:00.672 - amici.de_export - DEBUG - Finished computing dJydsigma                 +++ (1.80E+00s)\n",
      "2023-04-24 08:58:00.904 - amici.de_export - DEBUG - Finished writing dJydsigma.cpp                ++ (2.04E+00s)\n",
      "2023-04-24 08:58:01.711 - amici.de_export - DEBUG - Finished running smart_jacobian             ++++ (7.60E-01s)\n",
      "2023-04-24 08:58:02.497 - amici.de_export - DEBUG - Finished simplifying dJydy                  ++++ (7.66E-01s)\n",
      "2023-04-24 08:58:02.500 - amici.de_export - DEBUG - Finished computing dJydy                     +++ (1.56E+00s)\n",
      "2023-04-24 08:58:02.819 - amici.de_export - DEBUG - Finished writing dJydy.cpp                    ++ (1.90E+00s)\n",
      "2023-04-24 08:58:02.869 - amici.de_export - DEBUG - Finished simplifying Jz                     ++++ (3.44E-04s)\n",
      "2023-04-24 08:58:02.871 - amici.de_export - DEBUG - Finished computing Jz                        +++ (1.79E-02s)\n",
      "2023-04-24 08:58:02.892 - amici.de_export - DEBUG - Finished computing z                         +++ (4.78E-04s)\n",
      "2023-04-24 08:58:02.925 - amici.de_export - DEBUG - Finished simplifying sigmaz                 ++++ (3.31E-04s)\n",
      "2023-04-24 08:58:02.928 - amici.de_export - DEBUG - Finished computing sigmaz                    +++ (1.74E-02s)\n",
      "2023-04-24 08:58:02.931 - amici.de_export - DEBUG - Finished writing Jz.cpp                       ++ (9.08E-02s)\n",
      "2023-04-24 08:58:02.976 - amici.de_export - DEBUG - Finished running smart_jacobian             ++++ (2.81E-04s)\n",
      "2023-04-24 08:58:03.000 - amici.de_export - DEBUG - Finished simplifying dJzdsigma              ++++ (4.30E-04s)\n",
      "2023-04-24 08:58:03.006 - amici.de_export - DEBUG - Finished computing dJzdsigma                 +++ (4.31E-02s)\n",
      "2023-04-24 08:58:03.011 - amici.de_export - DEBUG - Finished writing dJzdsigma.cpp                ++ (6.12E-02s)\n",
      "2023-04-24 08:58:03.064 - amici.de_export - DEBUG - Finished running smart_jacobian             ++++ (2.14E-04s)\n",
      "2023-04-24 08:58:03.085 - amici.de_export - DEBUG - Finished simplifying dJzdz                  ++++ (3.39E-04s)\n",
      "2023-04-24 08:58:03.089 - amici.de_export - DEBUG - Finished computing dJzdz                     +++ (4.06E-02s)\n",
      "2023-04-24 08:58:03.095 - amici.de_export - DEBUG - Finished writing dJzdz.cpp                    ++ (6.16E-02s)\n",
      "2023-04-24 08:58:03.146 - amici.de_export - DEBUG - Finished simplifying Jrz                    ++++ (4.79E-04s)\n"
     ]
    },
    {
     "name": "stderr",
     "output_type": "stream",
     "text": [
      "2023-04-24 08:58:03.150 - amici.de_export - DEBUG - Finished computing Jrz                       +++ (2.15E-02s)\n",
      "2023-04-24 08:58:03.170 - amici.de_export - DEBUG - Finished computing rz                        +++ (4.72E-04s)\n",
      "2023-04-24 08:58:03.174 - amici.de_export - DEBUG - Finished writing Jrz.cpp                      ++ (5.92E-02s)\n",
      "2023-04-24 08:58:03.225 - amici.de_export - DEBUG - Finished running smart_jacobian             ++++ (4.16E-04s)\n",
      "2023-04-24 08:58:03.245 - amici.de_export - DEBUG - Finished simplifying dJrzdsigma             ++++ (3.67E-04s)\n",
      "2023-04-24 08:58:03.249 - amici.de_export - DEBUG - Finished computing dJrzdsigma                +++ (3.96E-02s)\n",
      "2023-04-24 08:58:03.255 - amici.de_export - DEBUG - Finished writing dJrzdsigma.cpp               ++ (6.04E-02s)\n",
      "2023-04-24 08:58:03.302 - amici.de_export - DEBUG - Finished running smart_jacobian             ++++ (3.88E-04s)\n",
      "2023-04-24 08:58:03.321 - amici.de_export - DEBUG - Finished simplifying dJrzdz                 ++++ (3.54E-04s)\n",
      "2023-04-24 08:58:03.324 - amici.de_export - DEBUG - Finished computing dJrzdz                    +++ (3.83E-02s)\n",
      "2023-04-24 08:58:03.328 - amici.de_export - DEBUG - Finished writing dJrzdz.cpp                   ++ (5.60E-02s)\n",
      "2023-04-24 08:58:03.379 - amici.de_export - DEBUG - Finished simplifying root                   ++++ (3.56E-04s)\n",
      "2023-04-24 08:58:03.382 - amici.de_export - DEBUG - Finished computing root                      +++ (1.98E-02s)\n",
      "2023-04-24 08:58:03.387 - amici.de_export - DEBUG - Finished writing root.cpp                     ++ (3.92E-02s)\n",
      "2023-04-24 08:58:03.552 - amici.de_export - DEBUG - Finished simplifying w                     +++++ (9.17E-02s)\n",
      "2023-04-24 08:58:03.558 - amici.de_export - DEBUG - Finished computing w                        ++++ (1.14E-01s)\n",
      "2023-04-24 08:58:03.812 - amici.de_export - DEBUG - Finished running smart_jacobian             ++++ (2.35E-01s)\n",
      "2023-04-24 08:58:03.874 - amici.de_export - DEBUG - Finished simplifying dwdp                   ++++ (4.68E-02s)\n",
      "2023-04-24 08:58:03.876 - amici.de_export - DEBUG - Finished computing dwdp                      +++ (4.52E-01s)\n",
      "2023-04-24 08:58:03.926 - amici.de_export - DEBUG - Finished simplifying spl                    ++++ (4.36E-04s)\n",
      "2023-04-24 08:58:03.930 - amici.de_export - DEBUG - Finished computing spl                       +++ (1.67E-02s)\n",
      "2023-04-24 08:58:03.965 - amici.de_export - DEBUG - Finished simplifying sspl                   ++++ (1.81E-03s)\n",
      "2023-04-24 08:58:03.969 - amici.de_export - DEBUG - Finished computing sspl                      +++ (1.98E-02s)\n",
      "2023-04-24 08:58:04.024 - amici.de_export - DEBUG - Finished writing dwdp.cpp                     ++ (6.17E-01s)\n",
      "2023-04-24 08:58:04.155 - amici.de_export - DEBUG - Finished running smart_jacobian             ++++ (7.77E-02s)\n",
      "2023-04-24 08:58:04.198 - amici.de_export - DEBUG - Finished simplifying dwdx                   ++++ (2.60E-02s)\n",
      "2023-04-24 08:58:04.201 - amici.de_export - DEBUG - Finished computing dwdx                      +++ (1.41E-01s)\n",
      "2023-04-24 08:58:04.245 - amici.de_export - DEBUG - Finished writing dwdx.cpp                     ++ (2.01E-01s)\n",
      "2023-04-24 08:58:04.268 - amici.de_export - DEBUG - Finished writing create_splines.cpp           ++ (2.15E-03s)\n",
      "2023-04-24 08:58:04.333 - amici.de_export - DEBUG - Finished simplifying spline_values         +++++ (6.38E-04s)\n",
      "2023-04-24 08:58:04.337 - amici.de_export - DEBUG - Finished computing spline_values            ++++ (2.01E-02s)\n",
      "2023-04-24 08:58:04.365 - amici.de_export - DEBUG - Finished running smart_jacobian             ++++ (1.09E-02s)\n",
      "2023-04-24 08:58:04.387 - amici.de_export - DEBUG - Finished simplifying dspline_valuesdp       ++++ (6.01E-04s)\n",
      "2023-04-24 08:58:04.390 - amici.de_export - DEBUG - Finished computing dspline_valuesdp          +++ (8.93E-02s)\n",
      "2023-04-24 08:58:04.410 - amici.de_export - DEBUG - Finished writing dspline_valuesdp.cpp         ++ (1.24E-01s)\n",
      "2023-04-24 08:58:04.478 - amici.de_export - DEBUG - Finished simplifying spline_slopes         +++++ (6.63E-04s)\n",
      "2023-04-24 08:58:04.482 - amici.de_export - DEBUG - Finished computing spline_slopes            ++++ (2.24E-02s)\n",
      "2023-04-24 08:58:04.503 - amici.de_export - DEBUG - Finished running smart_jacobian             ++++ (3.42E-04s)\n",
      "2023-04-24 08:58:04.524 - amici.de_export - DEBUG - Finished simplifying dspline_slopesdp       ++++ (3.44E-04s)\n",
      "2023-04-24 08:58:04.528 - amici.de_export - DEBUG - Finished computing dspline_slopesdp          +++ (8.43E-02s)\n",
      "2023-04-24 08:58:04.536 - amici.de_export - DEBUG - Finished writing dspline_slopesdp.cpp         ++ (1.07E-01s)\n",
      "2023-04-24 08:58:04.612 - amici.de_export - DEBUG - Finished running smart_jacobian             ++++ (2.71E-02s)\n",
      "2023-04-24 08:58:04.636 - amici.de_export - DEBUG - Finished simplifying dwdw                   ++++ (3.23E-04s)\n",
      "2023-04-24 08:58:04.639 - amici.de_export - DEBUG - Finished computing dwdw                      +++ (7.12E-02s)\n",
      "2023-04-24 08:58:04.648 - amici.de_export - DEBUG - Finished writing dwdw.cpp                     ++ (9.27E-02s)\n",
      "2023-04-24 08:58:04.797 - amici.de_export - DEBUG - Finished simplifying xdot                  +++++ (7.86E-02s)\n",
      "2023-04-24 08:58:04.800 - amici.de_export - DEBUG - Finished computing xdot                     ++++ (1.01E-01s)\n",
      "2023-04-24 08:58:04.901 - amici.de_export - DEBUG - Finished running smart_jacobian             ++++ (8.33E-02s)\n",
      "2023-04-24 08:58:04.918 - amici.de_export - DEBUG - Finished simplifying dxdotdw                ++++ (1.37E-03s)\n",
      "2023-04-24 08:58:04.921 - amici.de_export - DEBUG - Finished computing dxdotdw                   +++ (2.36E-01s)\n",
      "2023-04-24 08:58:05.010 - amici.de_export - DEBUG - Finished writing dxdotdw.cpp                  ++ (3.40E-01s)\n",
      "2023-04-24 08:58:05.061 - amici.de_export - DEBUG - Finished running smart_jacobian             ++++ (8.99E-03s)\n",
      "2023-04-24 08:58:05.079 - amici.de_export - DEBUG - Finished simplifying dxdotdx_explicit       ++++ (3.51E-04s)\n",
      "2023-04-24 08:58:05.081 - amici.de_export - DEBUG - Finished computing dxdotdx_explicit          +++ (4.26E-02s)\n",
      "2023-04-24 08:58:05.090 - amici.de_export - DEBUG - Finished writing dxdotdx_explicit.cpp         ++ (6.31E-02s)\n",
      "2023-04-24 08:58:05.164 - amici.de_export - DEBUG - Finished running smart_jacobian             ++++ (3.14E-02s)\n",
      "2023-04-24 08:58:05.181 - amici.de_export - DEBUG - Finished simplifying dxdotdp_explicit       ++++ (2.32E-04s)\n",
      "2023-04-24 08:58:05.184 - amici.de_export - DEBUG - Finished computing dxdotdp_explicit          +++ (6.57E-02s)\n",
      "2023-04-24 08:58:05.196 - amici.de_export - DEBUG - Finished writing dxdotdp_explicit.cpp         ++ (8.92E-02s)\n",
      "2023-04-24 08:58:05.324 - amici.de_export - DEBUG - Finished running smart_jacobian            +++++ (6.77E-02s)\n",
      "2023-04-24 08:58:05.364 - amici.de_export - DEBUG - Finished simplifying dydx                  +++++ (2.39E-02s)\n",
      "2023-04-24 08:58:05.367 - amici.de_export - DEBUG - Finished computing dydx                     ++++ (1.26E-01s)\n",
      "2023-04-24 08:58:05.407 - amici.de_export - DEBUG - Finished running smart_jacobian            +++++ (6.47E-03s)\n",
      "2023-04-24 08:58:05.425 - amici.de_export - DEBUG - Finished running smart_multiply            +++++ (2.82E-04s)\n",
      "2023-04-24 08:58:05.442 - amici.de_export - DEBUG - Finished simplifying dydw                  +++++ (5.02E-04s)\n",
      "2023-04-24 08:58:05.444 - amici.de_export - DEBUG - Finished computing dydw                     ++++ (5.62E-02s)\n",
      "2023-04-24 08:58:05.464 - amici.de_export - DEBUG - Finished running smart_multiply             ++++ (2.57E-03s)\n",
      "2023-04-24 08:58:05.503 - amici.de_export - DEBUG - Finished simplifying dydx                   ++++ (2.37E-02s)\n",
      "2023-04-24 08:58:05.505 - amici.de_export - DEBUG - Finished computing dydx                      +++ (2.79E-01s)\n",
      "2023-04-24 08:58:05.543 - amici.de_export - DEBUG - Finished writing dydx.cpp                     ++ (3.30E-01s)\n",
      "2023-04-24 08:58:05.631 - amici.de_export - DEBUG - Finished running smart_jacobian            +++++ (3.00E-02s)\n",
      "2023-04-24 08:58:05.666 - amici.de_export - DEBUG - Finished simplifying dydp                  +++++ (1.82E-02s)\n",
      "2023-04-24 08:58:05.670 - amici.de_export - DEBUG - Finished computing dydp                     ++++ (8.24E-02s)\n"
     ]
    },
    {
     "name": "stderr",
     "output_type": "stream",
     "text": [
      "2023-04-24 08:58:05.698 - amici.de_export - DEBUG - Finished running smart_multiply             ++++ (9.14E-03s)\n",
      "2023-04-24 08:58:05.739 - amici.de_export - DEBUG - Finished simplifying dydp                   ++++ (2.26E-02s)\n",
      "2023-04-24 08:58:05.742 - amici.de_export - DEBUG - Finished computing dydp                      +++ (1.70E-01s)\n",
      "2023-04-24 08:58:05.821 - amici.de_export - DEBUG - Finished writing dydp.cpp                     ++ (2.60E-01s)\n",
      "2023-04-24 08:58:05.854 - amici.de_export - DEBUG - Finished computing dzdx                      +++ (4.82E-04s)\n",
      "2023-04-24 08:58:05.857 - amici.de_export - DEBUG - Finished writing dzdx.cpp                     ++ (1.66E-02s)\n",
      "2023-04-24 08:58:05.887 - amici.de_export - DEBUG - Finished computing dzdp                      +++ (5.03E-04s)\n",
      "2023-04-24 08:58:05.890 - amici.de_export - DEBUG - Finished writing dzdp.cpp                     ++ (1.60E-02s)\n",
      "2023-04-24 08:58:05.920 - amici.de_export - DEBUG - Finished computing drzdx                     +++ (5.25E-04s)\n",
      "2023-04-24 08:58:05.924 - amici.de_export - DEBUG - Finished writing drzdx.cpp                    ++ (1.74E-02s)\n",
      "2023-04-24 08:58:05.959 - amici.de_export - DEBUG - Finished computing drzdp                     +++ (4.86E-04s)\n",
      "2023-04-24 08:58:05.962 - amici.de_export - DEBUG - Finished writing drzdp.cpp                    ++ (1.90E-02s)\n",
      "2023-04-24 08:58:06.027 - amici.de_export - DEBUG - Finished running smart_jacobian             ++++ (2.70E-02s)\n",
      "2023-04-24 08:58:06.044 - amici.de_export - DEBUG - Finished simplifying dsigmaydy              ++++ (3.85E-04s)\n",
      "2023-04-24 08:58:06.047 - amici.de_export - DEBUG - Finished computing dsigmaydy                 +++ (5.78E-02s)\n",
      "2023-04-24 08:58:06.064 - amici.de_export - DEBUG - Finished writing dsigmaydy.cpp                ++ (8.63E-02s)\n",
      "2023-04-24 08:58:06.180 - amici.de_export - DEBUG - Finished running smart_jacobian             ++++ (6.79E-02s)\n",
      "2023-04-24 08:58:06.203 - amici.de_export - DEBUG - Finished simplifying dsigmaydp              ++++ (1.61E-03s)\n",
      "2023-04-24 08:58:06.207 - amici.de_export - DEBUG - Finished computing dsigmaydp                 +++ (1.10E-01s)\n",
      "2023-04-24 08:58:06.276 - amici.de_export - DEBUG - Finished writing dsigmaydp.cpp                ++ (1.95E-01s)\n",
      "2023-04-24 08:58:06.313 - amici.de_export - DEBUG - Finished writing sigmay.cpp                   ++ (1.81E-02s)\n",
      "2023-04-24 08:58:06.354 - amici.de_export - DEBUG - Finished running smart_jacobian             ++++ (2.09E-04s)\n",
      "2023-04-24 08:58:06.372 - amici.de_export - DEBUG - Finished simplifying dsigmazdp              ++++ (2.88E-04s)\n",
      "2023-04-24 08:58:06.375 - amici.de_export - DEBUG - Finished computing dsigmazdp                 +++ (3.36E-02s)\n",
      "2023-04-24 08:58:06.378 - amici.de_export - DEBUG - Finished writing dsigmazdp.cpp                ++ (5.00E-02s)\n",
      "2023-04-24 08:58:06.395 - amici.de_export - DEBUG - Finished writing sigmaz.cpp                   ++ (2.28E-04s)\n",
      "2023-04-24 08:58:06.430 - amici.de_export - DEBUG - Finished computing stau                      +++ (5.87E-04s)\n",
      "2023-04-24 08:58:06.434 - amici.de_export - DEBUG - Finished writing stau.cpp                     ++ (2.08E-02s)\n",
      "2023-04-24 08:58:06.472 - amici.de_export - DEBUG - Finished computing deltax                    +++ (4.89E-04s)\n",
      "2023-04-24 08:58:06.476 - amici.de_export - DEBUG - Finished writing deltax.cpp                   ++ (2.19E-02s)\n",
      "2023-04-24 08:58:06.514 - amici.de_export - DEBUG - Finished computing deltasx                   +++ (5.72E-04s)\n",
      "2023-04-24 08:58:06.518 - amici.de_export - DEBUG - Finished writing deltasx.cpp                  ++ (2.17E-02s)\n",
      "2023-04-24 08:58:06.565 - amici.de_export - DEBUG - Finished writing w.cpp                        ++ (2.60E-02s)\n",
      "2023-04-24 08:58:06.615 - amici.de_export - DEBUG - Finished simplifying x0                     ++++ (1.07E-03s)\n",
      "2023-04-24 08:58:06.619 - amici.de_export - DEBUG - Finished computing x0                        +++ (2.36E-02s)\n",
      "2023-04-24 08:58:06.626 - amici.de_export - DEBUG - Finished writing x0.cpp                       ++ (4.59E-02s)\n",
      "2023-04-24 08:58:06.670 - amici.de_export - DEBUG - Finished simplifying x0_fixedParameters     ++++ (3.34E-04s)\n",
      "2023-04-24 08:58:06.673 - amici.de_export - DEBUG - Finished computing x0_fixedParameters        +++ (1.63E-02s)\n",
      "2023-04-24 08:58:06.675 - amici.de_export - DEBUG - Finished writing x0_fixedParameters.cpp       ++ (3.16E-02s)\n",
      "2023-04-24 08:58:06.738 - amici.de_export - DEBUG - Finished running smart_jacobian             ++++ (1.05E-02s)\n",
      "2023-04-24 08:58:06.759 - amici.de_export - DEBUG - Finished simplifying sx0                    ++++ (3.04E-04s)\n",
      "2023-04-24 08:58:06.765 - amici.de_export - DEBUG - Finished computing sx0                       +++ (5.23E-02s)\n",
      "2023-04-24 08:58:06.777 - amici.de_export - DEBUG - Finished writing sx0.cpp                      ++ (8.03E-02s)\n",
      "2023-04-24 08:58:06.837 - amici.de_export - DEBUG - Finished running smart_jacobian             ++++ (2.54E-04s)\n",
      "2023-04-24 08:58:06.857 - amici.de_export - DEBUG - Finished running smart_jacobian             ++++ (2.72E-04s)\n",
      "2023-04-24 08:58:06.877 - amici.de_export - DEBUG - Finished simplifying sx0_fixedParameters    ++++ (3.34E-04s)\n",
      "2023-04-24 08:58:06.882 - amici.de_export - DEBUG - Finished computing sx0_fixedParameters       +++ (6.38E-02s)\n",
      "2023-04-24 08:58:06.886 - amici.de_export - DEBUG - Finished writing sx0_fixedParameters.cpp      ++ (8.64E-02s)\n",
      "2023-04-24 08:58:06.962 - amici.de_export - DEBUG - Finished writing xdot.cpp                     ++ (6.05E-02s)\n",
      "2023-04-24 08:58:07.039 - amici.de_export - DEBUG - Finished writing y.cpp                        ++ (5.96E-02s)\n",
      "2023-04-24 08:58:07.081 - amici.de_export - DEBUG - Finished simplifying x_rdata                ++++ (8.04E-04s)\n",
      "2023-04-24 08:58:07.087 - amici.de_export - DEBUG - Finished computing x_rdata                   +++ (1.94E-02s)\n",
      "2023-04-24 08:58:07.097 - amici.de_export - DEBUG - Finished writing x_rdata.cpp                  ++ (4.02E-02s)\n",
      "2023-04-24 08:58:07.153 - amici.de_export - DEBUG - Finished simplifying total_cl               ++++ (3.51E-04s)\n",
      "2023-04-24 08:58:07.157 - amici.de_export - DEBUG - Finished computing total_cl                  +++ (2.21E-02s)\n",
      "2023-04-24 08:58:07.161 - amici.de_export - DEBUG - Finished writing total_cl.cpp                 ++ (4.27E-02s)\n",
      "2023-04-24 08:58:07.214 - amici.de_export - DEBUG - Finished running smart_jacobian             ++++ (2.69E-04s)\n",
      "2023-04-24 08:58:07.235 - amici.de_export - DEBUG - Finished simplifying dtotal_cldp            ++++ (3.41E-04s)\n",
      "2023-04-24 08:58:07.239 - amici.de_export - DEBUG - Finished computing dtotal_cldp               +++ (4.15E-02s)\n",
      "2023-04-24 08:58:07.243 - amici.de_export - DEBUG - Finished writing dtotal_cldp.cpp              ++ (6.27E-02s)\n",
      "2023-04-24 08:58:07.296 - amici.de_export - DEBUG - Finished simplifying dtotal_cldx_rdata      ++++ (4.87E-04s)\n",
      "2023-04-24 08:58:07.312 - amici.de_export - DEBUG - Finished computing dtotal_cldx_rdata         +++ (3.31E-02s)\n",
      "2023-04-24 08:58:07.318 - amici.de_export - DEBUG - Finished writing dtotal_cldx_rdata.cpp        ++ (5.59E-02s)\n",
      "2023-04-24 08:58:07.365 - amici.de_export - DEBUG - Finished simplifying x_solver               ++++ (7.13E-04s)\n",
      "2023-04-24 08:58:07.371 - amici.de_export - DEBUG - Finished computing x_solver                  +++ (2.24E-02s)\n",
      "2023-04-24 08:58:07.380 - amici.de_export - DEBUG - Finished writing x_solver.cpp                 ++ (4.21E-02s)\n",
      "2023-04-24 08:58:07.430 - amici.de_export - DEBUG - Finished simplifying dx_rdatadx_solver      ++++ (7.42E-03s)\n",
      "2023-04-24 08:58:07.436 - amici.de_export - DEBUG - Finished computing dx_rdatadx_solver         +++ (2.62E-02s)\n",
      "2023-04-24 08:58:07.446 - amici.de_export - DEBUG - Finished writing dx_rdatadx_solver.cpp        ++ (4.82E-02s)\n",
      "2023-04-24 08:58:07.496 - amici.de_export - DEBUG - Finished simplifying dx_rdatadp             ++++ (1.40E-02s)\n",
      "2023-04-24 08:58:07.500 - amici.de_export - DEBUG - Finished computing dx_rdatadp                +++ (3.04E-02s)\n",
      "2023-04-24 08:58:07.513 - amici.de_export - DEBUG - Finished writing dx_rdatadp.cpp               ++ (5.14E-02s)\n",
      "2023-04-24 08:58:07.561 - amici.de_export - DEBUG - Finished running smart_jacobian             ++++ (2.95E-04s)\n"
     ]
    },
    {
     "name": "stderr",
     "output_type": "stream",
     "text": [
      "2023-04-24 08:58:07.580 - amici.de_export - DEBUG - Finished simplifying dx_rdatadtcl           ++++ (3.30E-04s)\n",
      "2023-04-24 08:58:07.583 - amici.de_export - DEBUG - Finished computing dx_rdatadtcl              +++ (3.54E-02s)\n",
      "2023-04-24 08:58:07.590 - amici.de_export - DEBUG - Finished writing dx_rdatadtcl.cpp             ++ (5.62E-02s)\n",
      "2023-04-24 08:58:07.608 - amici.de_export - DEBUG - Finished writing z.cpp                        ++ (1.59E-04s)\n",
      "2023-04-24 08:58:07.626 - amici.de_export - DEBUG - Finished writing rz.cpp                       ++ (1.64E-04s)\n",
      "2023-04-24 08:58:07.756 - amici.de_export - DEBUG - Finished generating cpp code                   + (1.11E+01s)\n",
      "2023-04-24 08:59:38.738 - amici.de_export - DEBUG - Finished compiling cpp code                    + (9.10E+01s)\n",
      "2023-04-24 08:59:38.780 - amici.petab_import - INFO - Finished Importing PEtab model                 (1.10E+02s)\n"
     ]
    },
    {
     "name": "stdout",
     "output_type": "stream",
     "text": [
      "running AmiciInstall\n",
      "running build_ext\n",
      "-- The C compiler identification is GNU 12.2.0\n",
      "-- The CXX compiler identification is GNU 12.2.0\n",
      "-- Detecting C compiler ABI info\n",
      "-- Detecting C compiler ABI info - done\n",
      "-- Check for working C compiler: /usr/bin/cc - skipped\n",
      "-- Detecting C compile features\n",
      "-- Detecting C compile features - done\n",
      "-- Detecting CXX compiler ABI info\n",
      "-- Detecting CXX compiler ABI info - done\n",
      "-- Check for working CXX compiler: /usr/bin/c++ - skipped\n",
      "-- Detecting CXX compile features\n",
      "-- Detecting CXX compile features - done\n",
      "-- Performing Test -Wall\n",
      "-- Performing Test -Wall - Failed\n",
      "-- Performing Test -Wno-unused-function\n",
      "-- Performing Test -Wno-unused-function - Failed\n",
      "-- Performing Test -Wno-unused-variable\n",
      "-- Performing Test -Wno-unused-variable - Failed\n",
      "-- Performing Test -Wno-unused-but-set-variable\n",
      "-- Performing Test -Wno-unused-but-set-variable - Failed\n",
      "-- Found OpenMP_C: -fopenmp (found version \"4.5\") \n",
      "-- Found OpenMP_CXX: -fopenmp (found version \"4.5\") \n",
      "-- Found OpenMP: TRUE (found version \"4.5\")  \n",
      "-- original library suffixes: .so;.a\n",
      "-- revised for static search: .a;.so;.a\n",
      "-- major: #define SUITESPARSE_MAIN_VERSION    7\n",
      "-- minor: #define SUITESPARSE_SUB_VERSION     0\n",
      "-- patch: #define SUITESPARSE_SUBSUB_VERSION  1\n",
      "-- Found SuiteSparse_config: /home/dweindl/src/AMICI-devel/py38/lib/python3.8/site-packages/amici/lib/libsuitesparseconfig.so (found version \"7.0.1\") \n",
      "-- result: \n",
      "-- SuiteSparse_config version: 7.0.1\n",
      "-- SuiteSparse_config include: /home/dweindl/src/AMICI-devel/py38/lib/python3.8/site-packages/amici/include\n",
      "-- SuiteSparse_config library: /home/dweindl/src/AMICI-devel/py38/lib/python3.8/site-packages/amici/lib/libsuitesparseconfig.so\n",
      "-- SuiteSparse_config static:  /home/dweindl/src/AMICI-devel/py38/lib/python3.8/site-packages/amici/lib/libsuitesparseconfig.a\n",
      "-- major: #define AMD_MAIN_VERSION   3\n",
      "-- minor: #define AMD_SUB_VERSION    0\n",
      "-- patch: #define AMD_SUBSUB_VERSION 3\n",
      "-- Found AMD: /home/dweindl/src/AMICI-devel/py38/lib/python3.8/site-packages/amici/lib/libamd.so (found version \"3.0.3\") \n",
      "-- AMD version: 3.0.3\n",
      "-- AMD include: /home/dweindl/src/AMICI-devel/py38/lib/python3.8/site-packages/amici/include\n",
      "-- AMD library: /home/dweindl/src/AMICI-devel/py38/lib/python3.8/site-packages/amici/lib/libamd.so\n",
      "-- AMD static:  /home/dweindl/src/AMICI-devel/py38/lib/python3.8/site-packages/amici/lib/libamd.a\n",
      "-- major: #define BTF_MAIN_VERSION   2\n",
      "-- minor: #define BTF_SUB_VERSION    0\n",
      "-- patch: #define BTF_SUBSUB_VERSION 3\n",
      "-- Found BTF: /home/dweindl/src/AMICI-devel/py38/lib/python3.8/site-packages/amici/lib/libbtf.so (found version \"2.0.3\") \n",
      "-- BTF version: 2.0.3\n",
      "-- BTF include: /home/dweindl/src/AMICI-devel/py38/lib/python3.8/site-packages/amici/include\n",
      "-- BTF library: /home/dweindl/src/AMICI-devel/py38/lib/python3.8/site-packages/amici/lib/libbtf.so\n",
      "-- BTF static:  /home/dweindl/src/AMICI-devel/py38/lib/python3.8/site-packages/amici/lib/libbtf.a\n",
      "-- major: #define COLAMD_MAIN_VERSION   3\n",
      "-- minor: #define COLAMD_SUB_VERSION    0\n",
      "-- patch: #define COLAMD_SUBSUB_VERSION 3\n",
      "-- Found COLAMD: /home/dweindl/src/AMICI-devel/py38/lib/python3.8/site-packages/amici/lib/libcolamd.so (found version \"3.0.3\") \n",
      "-- COLAMD version: 3.0.3\n",
      "-- COLAMD include: /home/dweindl/src/AMICI-devel/py38/lib/python3.8/site-packages/amici/include\n",
      "-- COLAMD library: /home/dweindl/src/AMICI-devel/py38/lib/python3.8/site-packages/amici/lib/libcolamd.so\n",
      "-- COLAMD static:  /home/dweindl/src/AMICI-devel/py38/lib/python3.8/site-packages/amici/lib/libcolamd.a\n",
      "-- major: #define KLU_MAIN_VERSION   2\n",
      "-- minor: #define KLU_SUB_VERSION    0\n",
      "-- patch: #define KLU_SUBSUB_VERSION 3\n",
      "-- Found KLU: /home/dweindl/src/AMICI-devel/py38/lib/python3.8/site-packages/amici/lib/libklu.so (found version \"2.0.3\") \n",
      "-- KLU version: 2.0.3\n",
      "-- KLU include: /home/dweindl/src/AMICI-devel/py38/lib/python3.8/site-packages/amici/include\n",
      "-- KLU library: /home/dweindl/src/AMICI-devel/py38/lib/python3.8/site-packages/amici/lib/libklu.so\n",
      "-- KLU static:  /home/dweindl/src/AMICI-devel/py38/lib/python3.8/site-packages/amici/lib/libklu.a\n",
      "-- Found Boost: /usr/lib/x86_64-linux-gnu/cmake/Boost-1.74.0/BoostConfig.cmake (found version \"1.74.0\") found components: chrono \n",
      "-- Found HDF5: /usr/lib/x86_64-linux-gnu/hdf5/serial/libhdf5.so;/usr/lib/x86_64-linux-gnu/libcrypto.so;/usr/lib/x86_64-linux-gnu/libcurl.so;/usr/lib/x86_64-linux-gnu/libpthread.so;/usr/lib/x86_64-linux-gnu/libsz.so;/usr/lib/x86_64-linux-gnu/libz.so;/usr/lib/x86_64-linux-gnu/libdl.so;/usr/lib/x86_64-linux-gnu/libm.so;/usr/lib/x86_64-linux-gnu/hdf5/serial/libhdf5_cpp.so;/usr/lib/x86_64-linux-gnu/hdf5/serial/libhdf5.so;/usr/lib/x86_64-linux-gnu/libcrypto.so;/usr/lib/x86_64-linux-gnu/libcurl.so;/usr/lib/x86_64-linux-gnu/libpthread.so;/usr/lib/x86_64-linux-gnu/libsz.so;/usr/lib/x86_64-linux-gnu/libz.so;/usr/lib/x86_64-linux-gnu/libdl.so;/usr/lib/x86_64-linux-gnu/libm.so (found version \"1.10.8\") found components: C HL CXX \n",
      "-- Found AMICI /home/dweindl/src/AMICI-devel/py38/lib/python3.8/site-packages/amici/lib/cmake/Amici\n",
      "-- Found Boost: /usr/lib/x86_64-linux-gnu/cmake/Boost-1.74.0/BoostConfig.cmake (found version \"1.74.0\")  \n",
      "-- Found SWIG: /home/dweindl/src/AMICI-devel/ThirdParty/swig-4.0.2/install/bin/swig (found version \"4.0.2\")  \n",
      "-- Found Python3: /home/dweindl/src/AMICI-devel/py38/bin/python3.8 (found version \"3.8.16\") found components: Interpreter Development Development.Module Development.Embed \n",
      "-- Python extension suffix is .cpython-38-x86_64-linux-gnu.so\n",
      "-- Configuring done (21.0s)\n",
      "-- Generating done (0.1s)\n",
      "-- Build files have been written to: /home/dweindl/src/AMICI-devel/python/examples/example_splines_swameye/amici_models/Swameye_PNAS2003_5nodes_FD/build_model_ext\n",
      "[1/33] /usr/bin/c++ -DBOOST_ALL_NO_LIB -DBOOST_CHRONO_DYN_LINK -DHDF_NO_NAMESPACE -DNO_STATIC_CAST -DOLD_HEADER_FILENAME -I/home/dweindl/src/AMICI-devel/python/examples/example_splines_swameye/amici_models/Swameye_PNAS2003_5nodes_FD -isystem /home/dweindl/src/AMICI-devel/py38/lib/python3.8/site-packages/amici/include -isystem /home/dweindl/src/AMICI-devel/py38/lib/python3.8/site-packages/amici/share/amici/swig -isystem /usr/include/hdf5/serial -O3 -DNDEBUG -std=gnu++17 -fPIC -fopenmp -MD -MT CMakeFiles/Swameye_PNAS2003_5nodes_FD.dir/x_rdata.cpp.o -MF CMakeFiles/Swameye_PNAS2003_5nodes_FD.dir/x_rdata.cpp.o.d -o CMakeFiles/Swameye_PNAS2003_5nodes_FD.dir/x_rdata.cpp.o -c /home/dweindl/src/AMICI-devel/python/examples/example_splines_swameye/amici_models/Swameye_PNAS2003_5nodes_FD/x_rdata.cpp\n",
      "[2/33] /usr/bin/c++ -DBOOST_ALL_NO_LIB -DBOOST_CHRONO_DYN_LINK -DHDF_NO_NAMESPACE -DNO_STATIC_CAST -DOLD_HEADER_FILENAME -I/home/dweindl/src/AMICI-devel/python/examples/example_splines_swameye/amici_models/Swameye_PNAS2003_5nodes_FD -isystem /home/dweindl/src/AMICI-devel/py38/lib/python3.8/site-packages/amici/include -isystem /home/dweindl/src/AMICI-devel/py38/lib/python3.8/site-packages/amici/share/amici/swig -isystem /usr/include/hdf5/serial -O3 -DNDEBUG -std=gnu++17 -fPIC -fopenmp -MD -MT CMakeFiles/Swameye_PNAS2003_5nodes_FD.dir/dwdp_rowvals.cpp.o -MF CMakeFiles/Swameye_PNAS2003_5nodes_FD.dir/dwdp_rowvals.cpp.o.d -o CMakeFiles/Swameye_PNAS2003_5nodes_FD.dir/dwdp_rowvals.cpp.o -c /home/dweindl/src/AMICI-devel/python/examples/example_splines_swameye/amici_models/Swameye_PNAS2003_5nodes_FD/dwdp_rowvals.cpp\n",
      "[3/33] /usr/bin/c++ -DBOOST_ALL_NO_LIB -DBOOST_CHRONO_DYN_LINK -DHDF_NO_NAMESPACE -DNO_STATIC_CAST -DOLD_HEADER_FILENAME -I/home/dweindl/src/AMICI-devel/python/examples/example_splines_swameye/amici_models/Swameye_PNAS2003_5nodes_FD -isystem /home/dweindl/src/AMICI-devel/py38/lib/python3.8/site-packages/amici/include -isystem /home/dweindl/src/AMICI-devel/py38/lib/python3.8/site-packages/amici/share/amici/swig -isystem /usr/include/hdf5/serial -O3 -DNDEBUG -std=gnu++17 -fPIC -fopenmp -MD -MT CMakeFiles/Swameye_PNAS2003_5nodes_FD.dir/dwdx.cpp.o -MF CMakeFiles/Swameye_PNAS2003_5nodes_FD.dir/dwdx.cpp.o.d -o CMakeFiles/Swameye_PNAS2003_5nodes_FD.dir/dwdx.cpp.o -c /home/dweindl/src/AMICI-devel/python/examples/example_splines_swameye/amici_models/Swameye_PNAS2003_5nodes_FD/dwdx.cpp\n",
      "[4/33] /usr/bin/c++ -DBOOST_ALL_NO_LIB -DBOOST_CHRONO_DYN_LINK -DHDF_NO_NAMESPACE -DNO_STATIC_CAST -DOLD_HEADER_FILENAME -I/home/dweindl/src/AMICI-devel/python/examples/example_splines_swameye/amici_models/Swameye_PNAS2003_5nodes_FD -isystem /home/dweindl/src/AMICI-devel/py38/lib/python3.8/site-packages/amici/include -isystem /home/dweindl/src/AMICI-devel/py38/lib/python3.8/site-packages/amici/share/amici/swig -isystem /usr/include/hdf5/serial -O3 -DNDEBUG -std=gnu++17 -fPIC -fopenmp -MD -MT CMakeFiles/Swameye_PNAS2003_5nodes_FD.dir/xdot.cpp.o -MF CMakeFiles/Swameye_PNAS2003_5nodes_FD.dir/xdot.cpp.o.d -o CMakeFiles/Swameye_PNAS2003_5nodes_FD.dir/xdot.cpp.o -c /home/dweindl/src/AMICI-devel/python/examples/example_splines_swameye/amici_models/Swameye_PNAS2003_5nodes_FD/xdot.cpp\n",
      "[5/33] /usr/bin/c++ -DBOOST_ALL_NO_LIB -DBOOST_CHRONO_DYN_LINK -DHDF_NO_NAMESPACE -DNO_STATIC_CAST -DOLD_HEADER_FILENAME -I/home/dweindl/src/AMICI-devel/python/examples/example_splines_swameye/amici_models/Swameye_PNAS2003_5nodes_FD -isystem /home/dweindl/src/AMICI-devel/py38/lib/python3.8/site-packages/amici/include -isystem /home/dweindl/src/AMICI-devel/py38/lib/python3.8/site-packages/amici/share/amici/swig -isystem /usr/include/hdf5/serial -O3 -DNDEBUG -std=gnu++17 -fPIC -fopenmp -MD -MT CMakeFiles/Swameye_PNAS2003_5nodes_FD.dir/create_splines.cpp.o -MF CMakeFiles/Swameye_PNAS2003_5nodes_FD.dir/create_splines.cpp.o.d -o CMakeFiles/Swameye_PNAS2003_5nodes_FD.dir/create_splines.cpp.o -c /home/dweindl/src/AMICI-devel/python/examples/example_splines_swameye/amici_models/Swameye_PNAS2003_5nodes_FD/create_splines.cpp\n",
      "[6/33] /usr/bin/c++ -DBOOST_ALL_NO_LIB -DBOOST_CHRONO_DYN_LINK -DHDF_NO_NAMESPACE -DNO_STATIC_CAST -DOLD_HEADER_FILENAME -I/home/dweindl/src/AMICI-devel/python/examples/example_splines_swameye/amici_models/Swameye_PNAS2003_5nodes_FD -isystem /home/dweindl/src/AMICI-devel/py38/lib/python3.8/site-packages/amici/include -isystem /home/dweindl/src/AMICI-devel/py38/lib/python3.8/site-packages/amici/share/amici/swig -isystem /usr/include/hdf5/serial -O3 -DNDEBUG -std=gnu++17 -fPIC -fopenmp -MD -MT CMakeFiles/Swameye_PNAS2003_5nodes_FD.dir/dsigmaydp.cpp.o -MF CMakeFiles/Swameye_PNAS2003_5nodes_FD.dir/dsigmaydp.cpp.o.d -o CMakeFiles/Swameye_PNAS2003_5nodes_FD.dir/dsigmaydp.cpp.o -c /home/dweindl/src/AMICI-devel/python/examples/example_splines_swameye/amici_models/Swameye_PNAS2003_5nodes_FD/dsigmaydp.cpp\n",
      "[7/33] /usr/bin/c++ -DBOOST_ALL_NO_LIB -DBOOST_CHRONO_DYN_LINK -DHDF_NO_NAMESPACE -DNO_STATIC_CAST -DOLD_HEADER_FILENAME -I/home/dweindl/src/AMICI-devel/python/examples/example_splines_swameye/amici_models/Swameye_PNAS2003_5nodes_FD -isystem /home/dweindl/src/AMICI-devel/py38/lib/python3.8/site-packages/amici/include -isystem /home/dweindl/src/AMICI-devel/py38/lib/python3.8/site-packages/amici/share/amici/swig -isystem /usr/include/hdf5/serial -O3 -DNDEBUG -std=gnu++17 -fPIC -fopenmp -MD -MT CMakeFiles/Swameye_PNAS2003_5nodes_FD.dir/Jy.cpp.o -MF CMakeFiles/Swameye_PNAS2003_5nodes_FD.dir/Jy.cpp.o.d -o CMakeFiles/Swameye_PNAS2003_5nodes_FD.dir/Jy.cpp.o -c /home/dweindl/src/AMICI-devel/python/examples/example_splines_swameye/amici_models/Swameye_PNAS2003_5nodes_FD/Jy.cpp\n",
      "[8/33] /usr/bin/c++ -DBOOST_ALL_NO_LIB -DBOOST_CHRONO_DYN_LINK -DHDF_NO_NAMESPACE -DNO_STATIC_CAST -DOLD_HEADER_FILENAME -I/home/dweindl/src/AMICI-devel/python/examples/example_splines_swameye/amici_models/Swameye_PNAS2003_5nodes_FD -isystem /home/dweindl/src/AMICI-devel/py38/lib/python3.8/site-packages/amici/include -isystem /home/dweindl/src/AMICI-devel/py38/lib/python3.8/site-packages/amici/share/amici/swig -isystem /usr/include/hdf5/serial -O3 -DNDEBUG -std=gnu++17 -fPIC -fopenmp -MD -MT CMakeFiles/Swameye_PNAS2003_5nodes_FD.dir/dJydy_colptrs.cpp.o -MF CMakeFiles/Swameye_PNAS2003_5nodes_FD.dir/dJydy_colptrs.cpp.o.d -o CMakeFiles/Swameye_PNAS2003_5nodes_FD.dir/dJydy_colptrs.cpp.o -c /home/dweindl/src/AMICI-devel/python/examples/example_splines_swameye/amici_models/Swameye_PNAS2003_5nodes_FD/dJydy_colptrs.cpp\n",
      "[9/33] /usr/bin/c++ -DBOOST_ALL_NO_LIB -DBOOST_CHRONO_DYN_LINK -DHDF_NO_NAMESPACE -DNO_STATIC_CAST -DOLD_HEADER_FILENAME -I/home/dweindl/src/AMICI-devel/python/examples/example_splines_swameye/amici_models/Swameye_PNAS2003_5nodes_FD -isystem /home/dweindl/src/AMICI-devel/py38/lib/python3.8/site-packages/amici/include -isystem /home/dweindl/src/AMICI-devel/py38/lib/python3.8/site-packages/amici/share/amici/swig -isystem /usr/include/hdf5/serial -O3 -DNDEBUG -std=gnu++17 -fPIC -fopenmp -MD -MT CMakeFiles/Swameye_PNAS2003_5nodes_FD.dir/Swameye_PNAS2003_5nodes_FD.cpp.o -MF CMakeFiles/Swameye_PNAS2003_5nodes_FD.dir/Swameye_PNAS2003_5nodes_FD.cpp.o.d -o CMakeFiles/Swameye_PNAS2003_5nodes_FD.dir/Swameye_PNAS2003_5nodes_FD.cpp.o -c /home/dweindl/src/AMICI-devel/python/examples/example_splines_swameye/amici_models/Swameye_PNAS2003_5nodes_FD/Swameye_PNAS2003_5nodes_FD.cpp\n",
      "[10/33] /usr/bin/c++ -DBOOST_ALL_NO_LIB -DBOOST_CHRONO_DYN_LINK -DHDF_NO_NAMESPACE -DNO_STATIC_CAST -DOLD_HEADER_FILENAME -I/home/dweindl/src/AMICI-devel/python/examples/example_splines_swameye/amici_models/Swameye_PNAS2003_5nodes_FD -isystem /home/dweindl/src/AMICI-devel/py38/lib/python3.8/site-packages/amici/include -isystem /home/dweindl/src/AMICI-devel/py38/lib/python3.8/site-packages/amici/share/amici/swig -isystem /usr/include/hdf5/serial -O3 -DNDEBUG -std=gnu++17 -fPIC -fopenmp -MD -MT CMakeFiles/Swameye_PNAS2003_5nodes_FD.dir/dwdp_colptrs.cpp.o -MF CMakeFiles/Swameye_PNAS2003_5nodes_FD.dir/dwdp_colptrs.cpp.o.d -o CMakeFiles/Swameye_PNAS2003_5nodes_FD.dir/dwdp_colptrs.cpp.o -c /home/dweindl/src/AMICI-devel/python/examples/example_splines_swameye/amici_models/Swameye_PNAS2003_5nodes_FD/dwdp_colptrs.cpp\n",
      "[11/33] /usr/bin/c++ -DBOOST_ALL_NO_LIB -DBOOST_CHRONO_DYN_LINK -DHDF_NO_NAMESPACE -DNO_STATIC_CAST -DOLD_HEADER_FILENAME -I/home/dweindl/src/AMICI-devel/python/examples/example_splines_swameye/amici_models/Swameye_PNAS2003_5nodes_FD -isystem /home/dweindl/src/AMICI-devel/py38/lib/python3.8/site-packages/amici/include -isystem /home/dweindl/src/AMICI-devel/py38/lib/python3.8/site-packages/amici/share/amici/swig -isystem /usr/include/hdf5/serial -O3 -DNDEBUG -std=gnu++17 -fPIC -fopenmp -MD -MT CMakeFiles/Swameye_PNAS2003_5nodes_FD.dir/dspline_valuesdp.cpp.o -MF CMakeFiles/Swameye_PNAS2003_5nodes_FD.dir/dspline_valuesdp.cpp.o.d -o CMakeFiles/Swameye_PNAS2003_5nodes_FD.dir/dspline_valuesdp.cpp.o -c /home/dweindl/src/AMICI-devel/python/examples/example_splines_swameye/amici_models/Swameye_PNAS2003_5nodes_FD/dspline_valuesdp.cpp\n",
      "[12/33] /usr/bin/c++ -DBOOST_ALL_NO_LIB -DBOOST_CHRONO_DYN_LINK -DHDF_NO_NAMESPACE -DNO_STATIC_CAST -DOLD_HEADER_FILENAME -I/home/dweindl/src/AMICI-devel/python/examples/example_splines_swameye/amici_models/Swameye_PNAS2003_5nodes_FD -isystem /home/dweindl/src/AMICI-devel/py38/lib/python3.8/site-packages/amici/include -isystem /home/dweindl/src/AMICI-devel/py38/lib/python3.8/site-packages/amici/share/amici/swig -isystem /usr/include/hdf5/serial -O3 -DNDEBUG -std=gnu++17 -fPIC -fopenmp -MD -MT CMakeFiles/Swameye_PNAS2003_5nodes_FD.dir/sigmay.cpp.o -MF CMakeFiles/Swameye_PNAS2003_5nodes_FD.dir/sigmay.cpp.o.d -o CMakeFiles/Swameye_PNAS2003_5nodes_FD.dir/sigmay.cpp.o -c /home/dweindl/src/AMICI-devel/python/examples/example_splines_swameye/amici_models/Swameye_PNAS2003_5nodes_FD/sigmay.cpp\n",
      "[13/33] /usr/bin/c++ -DBOOST_ALL_NO_LIB -DBOOST_CHRONO_DYN_LINK -DHDF_NO_NAMESPACE -DNO_STATIC_CAST -DOLD_HEADER_FILENAME -I/home/dweindl/src/AMICI-devel/python/examples/example_splines_swameye/amici_models/Swameye_PNAS2003_5nodes_FD -isystem /home/dweindl/src/AMICI-devel/py38/lib/python3.8/site-packages/amici/include -isystem /home/dweindl/src/AMICI-devel/py38/lib/python3.8/site-packages/amici/share/amici/swig -isystem /usr/include/hdf5/serial -O3 -DNDEBUG -std=gnu++17 -fPIC -fopenmp -MD -MT CMakeFiles/Swameye_PNAS2003_5nodes_FD.dir/x_solver.cpp.o -MF CMakeFiles/Swameye_PNAS2003_5nodes_FD.dir/x_solver.cpp.o.d -o CMakeFiles/Swameye_PNAS2003_5nodes_FD.dir/x_solver.cpp.o -c /home/dweindl/src/AMICI-devel/python/examples/example_splines_swameye/amici_models/Swameye_PNAS2003_5nodes_FD/x_solver.cpp\n",
      "[14/33] /usr/bin/c++ -DBOOST_ALL_NO_LIB -DBOOST_CHRONO_DYN_LINK -DHDF_NO_NAMESPACE -DNO_STATIC_CAST -DOLD_HEADER_FILENAME -I/home/dweindl/src/AMICI-devel/python/examples/example_splines_swameye/amici_models/Swameye_PNAS2003_5nodes_FD -isystem /home/dweindl/src/AMICI-devel/py38/lib/python3.8/site-packages/amici/include -isystem /home/dweindl/src/AMICI-devel/py38/lib/python3.8/site-packages/amici/share/amici/swig -isystem /usr/include/hdf5/serial -O3 -DNDEBUG -std=gnu++17 -fPIC -fopenmp -MD -MT CMakeFiles/Swameye_PNAS2003_5nodes_FD.dir/dJydy.cpp.o -MF CMakeFiles/Swameye_PNAS2003_5nodes_FD.dir/dJydy.cpp.o.d -o CMakeFiles/Swameye_PNAS2003_5nodes_FD.dir/dJydy.cpp.o -c /home/dweindl/src/AMICI-devel/python/examples/example_splines_swameye/amici_models/Swameye_PNAS2003_5nodes_FD/dJydy.cpp\n",
      "[15/33] /usr/bin/c++ -DBOOST_ALL_NO_LIB -DBOOST_CHRONO_DYN_LINK -DHDF_NO_NAMESPACE -DNO_STATIC_CAST -DOLD_HEADER_FILENAME -I/home/dweindl/src/AMICI-devel/python/examples/example_splines_swameye/amici_models/Swameye_PNAS2003_5nodes_FD -isystem /home/dweindl/src/AMICI-devel/py38/lib/python3.8/site-packages/amici/include -isystem /home/dweindl/src/AMICI-devel/py38/lib/python3.8/site-packages/amici/share/amici/swig -isystem /usr/include/hdf5/serial -O3 -DNDEBUG -std=gnu++17 -fPIC -fopenmp -MD -MT CMakeFiles/Swameye_PNAS2003_5nodes_FD.dir/dxdotdw_colptrs.cpp.o -MF CMakeFiles/Swameye_PNAS2003_5nodes_FD.dir/dxdotdw_colptrs.cpp.o.d -o CMakeFiles/Swameye_PNAS2003_5nodes_FD.dir/dxdotdw_colptrs.cpp.o -c /home/dweindl/src/AMICI-devel/python/examples/example_splines_swameye/amici_models/Swameye_PNAS2003_5nodes_FD/dxdotdw_colptrs.cpp\n",
      "[16/33] /usr/bin/c++ -DBOOST_ALL_NO_LIB -DBOOST_CHRONO_DYN_LINK -DHDF_NO_NAMESPACE -DNO_STATIC_CAST -DOLD_HEADER_FILENAME -I/home/dweindl/src/AMICI-devel/python/examples/example_splines_swameye/amici_models/Swameye_PNAS2003_5nodes_FD -isystem /home/dweindl/src/AMICI-devel/py38/lib/python3.8/site-packages/amici/include -isystem /home/dweindl/src/AMICI-devel/py38/lib/python3.8/site-packages/amici/share/amici/swig -isystem /usr/include/hdf5/serial -O3 -DNDEBUG -std=gnu++17 -fPIC -fopenmp -MD -MT CMakeFiles/Swameye_PNAS2003_5nodes_FD.dir/x0.cpp.o -MF CMakeFiles/Swameye_PNAS2003_5nodes_FD.dir/x0.cpp.o.d -o CMakeFiles/Swameye_PNAS2003_5nodes_FD.dir/x0.cpp.o -c /home/dweindl/src/AMICI-devel/python/examples/example_splines_swameye/amici_models/Swameye_PNAS2003_5nodes_FD/x0.cpp\n",
      "[17/33] /usr/bin/c++ -DBOOST_ALL_NO_LIB -DBOOST_CHRONO_DYN_LINK -DHDF_NO_NAMESPACE -DNO_STATIC_CAST -DOLD_HEADER_FILENAME -I/home/dweindl/src/AMICI-devel/python/examples/example_splines_swameye/amici_models/Swameye_PNAS2003_5nodes_FD -isystem /home/dweindl/src/AMICI-devel/py38/lib/python3.8/site-packages/amici/include -isystem /home/dweindl/src/AMICI-devel/py38/lib/python3.8/site-packages/amici/share/amici/swig -isystem /usr/include/hdf5/serial -O3 -DNDEBUG -std=gnu++17 -fPIC -fopenmp -MD -MT CMakeFiles/Swameye_PNAS2003_5nodes_FD.dir/dydp.cpp.o -MF CMakeFiles/Swameye_PNAS2003_5nodes_FD.dir/dydp.cpp.o.d -o CMakeFiles/Swameye_PNAS2003_5nodes_FD.dir/dydp.cpp.o -c /home/dweindl/src/AMICI-devel/python/examples/example_splines_swameye/amici_models/Swameye_PNAS2003_5nodes_FD/dydp.cpp\n",
      "[18/33] /usr/bin/c++ -DBOOST_ALL_NO_LIB -DBOOST_CHRONO_DYN_LINK -DHDF_NO_NAMESPACE -DNO_STATIC_CAST -DOLD_HEADER_FILENAME -I/home/dweindl/src/AMICI-devel/python/examples/example_splines_swameye/amici_models/Swameye_PNAS2003_5nodes_FD -isystem /home/dweindl/src/AMICI-devel/py38/lib/python3.8/site-packages/amici/include -isystem /home/dweindl/src/AMICI-devel/py38/lib/python3.8/site-packages/amici/share/amici/swig -isystem /usr/include/hdf5/serial -O3 -DNDEBUG -std=gnu++17 -fPIC -fopenmp -MD -MT CMakeFiles/Swameye_PNAS2003_5nodes_FD.dir/dwdx_rowvals.cpp.o -MF CMakeFiles/Swameye_PNAS2003_5nodes_FD.dir/dwdx_rowvals.cpp.o.d -o CMakeFiles/Swameye_PNAS2003_5nodes_FD.dir/dwdx_rowvals.cpp.o -c /home/dweindl/src/AMICI-devel/python/examples/example_splines_swameye/amici_models/Swameye_PNAS2003_5nodes_FD/dwdx_rowvals.cpp\n",
      "[19/33] /usr/bin/c++ -DBOOST_ALL_NO_LIB -DBOOST_CHRONO_DYN_LINK -DHDF_NO_NAMESPACE -DNO_STATIC_CAST -DOLD_HEADER_FILENAME -I/home/dweindl/src/AMICI-devel/python/examples/example_splines_swameye/amici_models/Swameye_PNAS2003_5nodes_FD -isystem /home/dweindl/src/AMICI-devel/py38/lib/python3.8/site-packages/amici/include -isystem /home/dweindl/src/AMICI-devel/py38/lib/python3.8/site-packages/amici/share/amici/swig -isystem /usr/include/hdf5/serial -O3 -DNDEBUG -std=gnu++17 -fPIC -fopenmp -MD -MT CMakeFiles/Swameye_PNAS2003_5nodes_FD.dir/dwdx_colptrs.cpp.o -MF CMakeFiles/Swameye_PNAS2003_5nodes_FD.dir/dwdx_colptrs.cpp.o.d -o CMakeFiles/Swameye_PNAS2003_5nodes_FD.dir/dwdx_colptrs.cpp.o -c /home/dweindl/src/AMICI-devel/python/examples/example_splines_swameye/amici_models/Swameye_PNAS2003_5nodes_FD/dwdx_colptrs.cpp\n",
      "[20/33] /usr/bin/c++ -DBOOST_ALL_NO_LIB -DBOOST_CHRONO_DYN_LINK -DHDF_NO_NAMESPACE -DNO_STATIC_CAST -DOLD_HEADER_FILENAME -I/home/dweindl/src/AMICI-devel/python/examples/example_splines_swameye/amici_models/Swameye_PNAS2003_5nodes_FD -isystem /home/dweindl/src/AMICI-devel/py38/lib/python3.8/site-packages/amici/include -isystem /home/dweindl/src/AMICI-devel/py38/lib/python3.8/site-packages/amici/share/amici/swig -isystem /usr/include/hdf5/serial -O3 -DNDEBUG -std=gnu++17 -fPIC -fopenmp -MD -MT CMakeFiles/Swameye_PNAS2003_5nodes_FD.dir/y.cpp.o -MF CMakeFiles/Swameye_PNAS2003_5nodes_FD.dir/y.cpp.o.d -o CMakeFiles/Swameye_PNAS2003_5nodes_FD.dir/y.cpp.o -c /home/dweindl/src/AMICI-devel/python/examples/example_splines_swameye/amici_models/Swameye_PNAS2003_5nodes_FD/y.cpp\n",
      "[21/33] /usr/bin/c++ -DBOOST_ALL_NO_LIB -DBOOST_CHRONO_DYN_LINK -DHDF_NO_NAMESPACE -DNO_STATIC_CAST -DOLD_HEADER_FILENAME -I/home/dweindl/src/AMICI-devel/python/examples/example_splines_swameye/amici_models/Swameye_PNAS2003_5nodes_FD -isystem /home/dweindl/src/AMICI-devel/py38/lib/python3.8/site-packages/amici/include -isystem /home/dweindl/src/AMICI-devel/py38/lib/python3.8/site-packages/amici/share/amici/swig -isystem /usr/include/hdf5/serial -O3 -DNDEBUG -std=gnu++17 -fPIC -fopenmp -MD -MT CMakeFiles/Swameye_PNAS2003_5nodes_FD.dir/dxdotdw.cpp.o -MF CMakeFiles/Swameye_PNAS2003_5nodes_FD.dir/dxdotdw.cpp.o.d -o CMakeFiles/Swameye_PNAS2003_5nodes_FD.dir/dxdotdw.cpp.o -c /home/dweindl/src/AMICI-devel/python/examples/example_splines_swameye/amici_models/Swameye_PNAS2003_5nodes_FD/dxdotdw.cpp\n",
      "[22/33] /usr/bin/c++ -DBOOST_ALL_NO_LIB -DBOOST_CHRONO_DYN_LINK -DHDF_NO_NAMESPACE -DNO_STATIC_CAST -DOLD_HEADER_FILENAME -I/home/dweindl/src/AMICI-devel/python/examples/example_splines_swameye/amici_models/Swameye_PNAS2003_5nodes_FD -isystem /home/dweindl/src/AMICI-devel/py38/lib/python3.8/site-packages/amici/include -isystem /home/dweindl/src/AMICI-devel/py38/lib/python3.8/site-packages/amici/share/amici/swig -isystem /usr/include/hdf5/serial -O3 -DNDEBUG -std=gnu++17 -fPIC -fopenmp -MD -MT CMakeFiles/Swameye_PNAS2003_5nodes_FD.dir/dJydsigma.cpp.o -MF CMakeFiles/Swameye_PNAS2003_5nodes_FD.dir/dJydsigma.cpp.o.d -o CMakeFiles/Swameye_PNAS2003_5nodes_FD.dir/dJydsigma.cpp.o -c /home/dweindl/src/AMICI-devel/python/examples/example_splines_swameye/amici_models/Swameye_PNAS2003_5nodes_FD/dJydsigma.cpp\n",
      "[23/33] /usr/bin/c++ -DBOOST_ALL_NO_LIB -DBOOST_CHRONO_DYN_LINK -DHDF_NO_NAMESPACE -DNO_STATIC_CAST -DOLD_HEADER_FILENAME -I/home/dweindl/src/AMICI-devel/python/examples/example_splines_swameye/amici_models/Swameye_PNAS2003_5nodes_FD -isystem /home/dweindl/src/AMICI-devel/py38/lib/python3.8/site-packages/amici/include -isystem /home/dweindl/src/AMICI-devel/py38/lib/python3.8/site-packages/amici/share/amici/swig -isystem /usr/include/hdf5/serial -O3 -DNDEBUG -std=gnu++17 -fPIC -fopenmp -MD -MT CMakeFiles/Swameye_PNAS2003_5nodes_FD.dir/dwdp.cpp.o -MF CMakeFiles/Swameye_PNAS2003_5nodes_FD.dir/dwdp.cpp.o.d -o CMakeFiles/Swameye_PNAS2003_5nodes_FD.dir/dwdp.cpp.o -c /home/dweindl/src/AMICI-devel/python/examples/example_splines_swameye/amici_models/Swameye_PNAS2003_5nodes_FD/dwdp.cpp\n",
      "[24/33] /usr/bin/c++ -DBOOST_ALL_NO_LIB -DBOOST_CHRONO_DYN_LINK -DHDF_NO_NAMESPACE -DNO_STATIC_CAST -DOLD_HEADER_FILENAME -I/home/dweindl/src/AMICI-devel/python/examples/example_splines_swameye/amici_models/Swameye_PNAS2003_5nodes_FD -isystem /home/dweindl/src/AMICI-devel/py38/lib/python3.8/site-packages/amici/include -isystem /home/dweindl/src/AMICI-devel/py38/lib/python3.8/site-packages/amici/share/amici/swig -isystem /usr/include/hdf5/serial -O3 -DNDEBUG -std=gnu++17 -fPIC -fopenmp -MD -MT CMakeFiles/Swameye_PNAS2003_5nodes_FD.dir/dydx.cpp.o -MF CMakeFiles/Swameye_PNAS2003_5nodes_FD.dir/dydx.cpp.o.d -o CMakeFiles/Swameye_PNAS2003_5nodes_FD.dir/dydx.cpp.o -c /home/dweindl/src/AMICI-devel/python/examples/example_splines_swameye/amici_models/Swameye_PNAS2003_5nodes_FD/dydx.cpp\n",
      "[25/33] /usr/bin/c++ -DBOOST_ALL_NO_LIB -DBOOST_CHRONO_DYN_LINK -DHDF_NO_NAMESPACE -DNO_STATIC_CAST -DOLD_HEADER_FILENAME -I/home/dweindl/src/AMICI-devel/python/examples/example_splines_swameye/amici_models/Swameye_PNAS2003_5nodes_FD -isystem /home/dweindl/src/AMICI-devel/py38/lib/python3.8/site-packages/amici/include -isystem /home/dweindl/src/AMICI-devel/py38/lib/python3.8/site-packages/amici/share/amici/swig -isystem /usr/include/hdf5/serial -O3 -DNDEBUG -std=gnu++17 -fPIC -fopenmp -MD -MT CMakeFiles/Swameye_PNAS2003_5nodes_FD.dir/dsigmaydy.cpp.o -MF CMakeFiles/Swameye_PNAS2003_5nodes_FD.dir/dsigmaydy.cpp.o.d -o CMakeFiles/Swameye_PNAS2003_5nodes_FD.dir/dsigmaydy.cpp.o -c /home/dweindl/src/AMICI-devel/python/examples/example_splines_swameye/amici_models/Swameye_PNAS2003_5nodes_FD/dsigmaydy.cpp\n",
      "[26/33] /usr/bin/c++ -DBOOST_ALL_NO_LIB -DBOOST_CHRONO_DYN_LINK -DHDF_NO_NAMESPACE -DNO_STATIC_CAST -DOLD_HEADER_FILENAME -I/home/dweindl/src/AMICI-devel/python/examples/example_splines_swameye/amici_models/Swameye_PNAS2003_5nodes_FD -isystem /home/dweindl/src/AMICI-devel/py38/lib/python3.8/site-packages/amici/include -isystem /home/dweindl/src/AMICI-devel/py38/lib/python3.8/site-packages/amici/share/amici/swig -isystem /usr/include/hdf5/serial -O3 -DNDEBUG -std=gnu++17 -fPIC -fopenmp -MD -MT CMakeFiles/Swameye_PNAS2003_5nodes_FD.dir/dJydy_rowvals.cpp.o -MF CMakeFiles/Swameye_PNAS2003_5nodes_FD.dir/dJydy_rowvals.cpp.o.d -o CMakeFiles/Swameye_PNAS2003_5nodes_FD.dir/dJydy_rowvals.cpp.o -c /home/dweindl/src/AMICI-devel/python/examples/example_splines_swameye/amici_models/Swameye_PNAS2003_5nodes_FD/dJydy_rowvals.cpp\n",
      "[27/33] /usr/bin/c++ -DBOOST_ALL_NO_LIB -DBOOST_CHRONO_DYN_LINK -DHDF_NO_NAMESPACE -DNO_STATIC_CAST -DOLD_HEADER_FILENAME -I/home/dweindl/src/AMICI-devel/python/examples/example_splines_swameye/amici_models/Swameye_PNAS2003_5nodes_FD -isystem /home/dweindl/src/AMICI-devel/py38/lib/python3.8/site-packages/amici/include -isystem /home/dweindl/src/AMICI-devel/py38/lib/python3.8/site-packages/amici/share/amici/swig -isystem /usr/include/hdf5/serial -O3 -DNDEBUG -std=gnu++17 -fPIC -fopenmp -MD -MT CMakeFiles/Swameye_PNAS2003_5nodes_FD.dir/w.cpp.o -MF CMakeFiles/Swameye_PNAS2003_5nodes_FD.dir/w.cpp.o.d -o CMakeFiles/Swameye_PNAS2003_5nodes_FD.dir/w.cpp.o -c /home/dweindl/src/AMICI-devel/python/examples/example_splines_swameye/amici_models/Swameye_PNAS2003_5nodes_FD/w.cpp\n",
      "[28/33] /usr/bin/c++ -DBOOST_ALL_NO_LIB -DBOOST_CHRONO_DYN_LINK -DHDF_NO_NAMESPACE -DNO_STATIC_CAST -DOLD_HEADER_FILENAME -I/home/dweindl/src/AMICI-devel/python/examples/example_splines_swameye/amici_models/Swameye_PNAS2003_5nodes_FD -isystem /home/dweindl/src/AMICI-devel/py38/lib/python3.8/site-packages/amici/include -isystem /home/dweindl/src/AMICI-devel/py38/lib/python3.8/site-packages/amici/share/amici/swig -isystem /usr/include/hdf5/serial -O3 -DNDEBUG -std=gnu++17 -fPIC -fopenmp -MD -MT CMakeFiles/Swameye_PNAS2003_5nodes_FD.dir/dxdotdw_rowvals.cpp.o -MF CMakeFiles/Swameye_PNAS2003_5nodes_FD.dir/dxdotdw_rowvals.cpp.o.d -o CMakeFiles/Swameye_PNAS2003_5nodes_FD.dir/dxdotdw_rowvals.cpp.o -c /home/dweindl/src/AMICI-devel/python/examples/example_splines_swameye/amici_models/Swameye_PNAS2003_5nodes_FD/dxdotdw_rowvals.cpp\n",
      "[29/33] /usr/bin/c++ -DBOOST_ALL_NO_LIB -DBOOST_CHRONO_DYN_LINK -DHDF_NO_NAMESPACE -DNO_STATIC_CAST -DOLD_HEADER_FILENAME -I/home/dweindl/src/AMICI-devel/python/examples/example_splines_swameye/amici_models/Swameye_PNAS2003_5nodes_FD -isystem /home/dweindl/src/AMICI-devel/py38/lib/python3.8/site-packages/amici/include -isystem /home/dweindl/src/AMICI-devel/py38/lib/python3.8/site-packages/amici/share/amici/swig -isystem /usr/include/hdf5/serial -O3 -DNDEBUG -std=gnu++17 -fPIC -fopenmp -MD -MT CMakeFiles/Swameye_PNAS2003_5nodes_FD.dir/wrapfunctions.cpp.o -MF CMakeFiles/Swameye_PNAS2003_5nodes_FD.dir/wrapfunctions.cpp.o.d -o CMakeFiles/Swameye_PNAS2003_5nodes_FD.dir/wrapfunctions.cpp.o -c /home/dweindl/src/AMICI-devel/python/examples/example_splines_swameye/amici_models/Swameye_PNAS2003_5nodes_FD/wrapfunctions.cpp\n",
      "[30/33] : && /home/dweindl/src/AMICI-devel/py38/lib/python3.8/site-packages/cmake/data/bin/cmake -E rm -f libSwameye_PNAS2003_5nodes_FD.a && /usr/bin/ar qc libSwameye_PNAS2003_5nodes_FD.a  CMakeFiles/Swameye_PNAS2003_5nodes_FD.dir/dJydy_colptrs.cpp.o CMakeFiles/Swameye_PNAS2003_5nodes_FD.dir/x_rdata.cpp.o CMakeFiles/Swameye_PNAS2003_5nodes_FD.dir/create_splines.cpp.o CMakeFiles/Swameye_PNAS2003_5nodes_FD.dir/dsigmaydp.cpp.o CMakeFiles/Swameye_PNAS2003_5nodes_FD.dir/xdot.cpp.o CMakeFiles/Swameye_PNAS2003_5nodes_FD.dir/dwdp_rowvals.cpp.o CMakeFiles/Swameye_PNAS2003_5nodes_FD.dir/dwdx.cpp.o CMakeFiles/Swameye_PNAS2003_5nodes_FD.dir/Jy.cpp.o CMakeFiles/Swameye_PNAS2003_5nodes_FD.dir/dwdp_colptrs.cpp.o CMakeFiles/Swameye_PNAS2003_5nodes_FD.dir/dspline_valuesdp.cpp.o CMakeFiles/Swameye_PNAS2003_5nodes_FD.dir/Swameye_PNAS2003_5nodes_FD.cpp.o CMakeFiles/Swameye_PNAS2003_5nodes_FD.dir/sigmay.cpp.o CMakeFiles/Swameye_PNAS2003_5nodes_FD.dir/x0.cpp.o CMakeFiles/Swameye_PNAS2003_5nodes_FD.dir/dxdotdw_colptrs.cpp.o CMakeFiles/Swameye_PNAS2003_5nodes_FD.dir/dydp.cpp.o CMakeFiles/Swameye_PNAS2003_5nodes_FD.dir/dJydy.cpp.o CMakeFiles/Swameye_PNAS2003_5nodes_FD.dir/dwdx_rowvals.cpp.o CMakeFiles/Swameye_PNAS2003_5nodes_FD.dir/x_solver.cpp.o CMakeFiles/Swameye_PNAS2003_5nodes_FD.dir/dwdx_colptrs.cpp.o CMakeFiles/Swameye_PNAS2003_5nodes_FD.dir/wrapfunctions.cpp.o CMakeFiles/Swameye_PNAS2003_5nodes_FD.dir/dJydsigma.cpp.o CMakeFiles/Swameye_PNAS2003_5nodes_FD.dir/dwdp.cpp.o CMakeFiles/Swameye_PNAS2003_5nodes_FD.dir/y.cpp.o CMakeFiles/Swameye_PNAS2003_5nodes_FD.dir/dydx.cpp.o CMakeFiles/Swameye_PNAS2003_5nodes_FD.dir/dxdotdw.cpp.o CMakeFiles/Swameye_PNAS2003_5nodes_FD.dir/dJydy_rowvals.cpp.o CMakeFiles/Swameye_PNAS2003_5nodes_FD.dir/dsigmaydy.cpp.o CMakeFiles/Swameye_PNAS2003_5nodes_FD.dir/w.cpp.o CMakeFiles/Swameye_PNAS2003_5nodes_FD.dir/dxdotdw_rowvals.cpp.o && /usr/bin/ranlib libSwameye_PNAS2003_5nodes_FD.a && :\n",
      "[31/33] cd /home/dweindl/src/AMICI-devel/python/examples/example_splines_swameye/amici_models/Swameye_PNAS2003_5nodes_FD/build_model_ext/swig && /home/dweindl/src/AMICI-devel/py38/lib/python3.8/site-packages/cmake/data/bin/cmake -E make_directory /home/dweindl/src/AMICI-devel/python/examples/example_splines_swameye/amici_models/Swameye_PNAS2003_5nodes_FD/build_model_ext/swig/CMakeFiles/_Swameye_PNAS2003_5nodes_FD.dir /home/dweindl/src/AMICI-devel/python/examples/example_splines_swameye/amici_models/Swameye_PNAS2003_5nodes_FD/build_model_ext/swig /home/dweindl/src/AMICI-devel/python/examples/example_splines_swameye/amici_models/Swameye_PNAS2003_5nodes_FD/build_model_ext/swig/CMakeFiles/_Swameye_PNAS2003_5nodes_FD.dir && /home/dweindl/src/AMICI-devel/py38/lib/python3.8/site-packages/cmake/data/bin/cmake -E env SWIG_LIB=/home/dweindl/src/AMICI-devel/ThirdParty/swig-4.0.2/install/share/swig/4.0.2 /home/dweindl/src/AMICI-devel/ThirdParty/swig-4.0.2/install/bin/swig -python -I/usr/include/python3.8 -I/home/dweindl/src/AMICI-devel/py38/lib/python3.8/site-packages/amici/include -I/home/dweindl/src/AMICI-devel/py38/lib/python3.8/site-packages/amici/share/amici/swig -I/home/dweindl/src/AMICI-devel/python/examples/example_splines_swameye/amici_models/Swameye_PNAS2003_5nodes_FD/swig/.. -I/home/dweindl/src/AMICI-devel/py38/lib/python3.8/site-packages/amici/include/../swig -I/home/dweindl/src/AMICI-devel/python/examples/example_splines_swameye/amici_models/Swameye_PNAS2003_5nodes_FD -I/usr/include -I/usr/include/hdf5/serial -outdir /home/dweindl/src/AMICI-devel/python/examples/example_splines_swameye/amici_models/Swameye_PNAS2003_5nodes_FD/build_model_ext/swig -c++ -interface _Swameye_PNAS2003_5nodes_FD -I/usr/include/python3.8 -I/home/dweindl/src/AMICI-devel/py38/lib/python3.8/site-packages/amici/include -I/home/dweindl/src/AMICI-devel/py38/lib/python3.8/site-packages/amici/share/amici/swig -I/home/dweindl/src/AMICI-devel/python/examples/example_splines_swameye/amici_models/Swameye_PNAS2003_5nodes_FD/swig/.. -I/home/dweindl/src/AMICI-devel/py38/lib/python3.8/site-packages/amici/include/../swig -o /home/dweindl/src/AMICI-devel/python/examples/example_splines_swameye/amici_models/Swameye_PNAS2003_5nodes_FD/build_model_ext/swig/CMakeFiles/_Swameye_PNAS2003_5nodes_FD.dir/Swameye_PNAS2003_5nodes_FDPYTHON_wrap.cxx /home/dweindl/src/AMICI-devel/python/examples/example_splines_swameye/amici_models/Swameye_PNAS2003_5nodes_FD/swig/Swameye_PNAS2003_5nodes_FD.i\n",
      "[32/33] /usr/bin/c++ -DBOOST_ALL_NO_LIB -DBOOST_CHRONO_DYN_LINK -DHDF_NO_NAMESPACE -DNO_STATIC_CAST -DOLD_HEADER_FILENAME -D_Swameye_PNAS2003_5nodes_FD_EXPORTS -I/usr/include/python3.8 -I/home/dweindl/src/AMICI-devel/python/examples/example_splines_swameye/amici_models/Swameye_PNAS2003_5nodes_FD/swig/.. -I/home/dweindl/src/AMICI-devel/py38/lib/python3.8/site-packages/amici/include/../swig -I/home/dweindl/src/AMICI-devel/python/examples/example_splines_swameye/amici_models/Swameye_PNAS2003_5nodes_FD -isystem /home/dweindl/src/AMICI-devel/py38/lib/python3.8/site-packages/amici/include -isystem /home/dweindl/src/AMICI-devel/py38/lib/python3.8/site-packages/amici/share/amici/swig -isystem /usr/include/hdf5/serial -O3 -DNDEBUG -std=gnu++17 -fPIC -fopenmp -MD -MT swig/CMakeFiles/_Swameye_PNAS2003_5nodes_FD.dir/CMakeFiles/_Swameye_PNAS2003_5nodes_FD.dir/Swameye_PNAS2003_5nodes_FDPYTHON_wrap.cxx.o -MF swig/CMakeFiles/_Swameye_PNAS2003_5nodes_FD.dir/CMakeFiles/_Swameye_PNAS2003_5nodes_FD.dir/Swameye_PNAS2003_5nodes_FDPYTHON_wrap.cxx.o.d -o swig/CMakeFiles/_Swameye_PNAS2003_5nodes_FD.dir/CMakeFiles/_Swameye_PNAS2003_5nodes_FD.dir/Swameye_PNAS2003_5nodes_FDPYTHON_wrap.cxx.o -c /home/dweindl/src/AMICI-devel/python/examples/example_splines_swameye/amici_models/Swameye_PNAS2003_5nodes_FD/build_model_ext/swig/CMakeFiles/_Swameye_PNAS2003_5nodes_FD.dir/Swameye_PNAS2003_5nodes_FDPYTHON_wrap.cxx\n",
      "[33/33] : && /usr/bin/c++ -fPIC -O3 -DNDEBUG   -shared  -o swig/_Swameye_PNAS2003_5nodes_FD.cpython-38-x86_64-linux-gnu.so swig/CMakeFiles/_Swameye_PNAS2003_5nodes_FD.dir/CMakeFiles/_Swameye_PNAS2003_5nodes_FD.dir/Swameye_PNAS2003_5nodes_FDPYTHON_wrap.cxx.o  -Wl,-rpath,/usr/lib/x86_64-linux-gnu/hdf5/serial  /usr/lib/x86_64-linux-gnu/libpython3.8.so  libSwameye_PNAS2003_5nodes_FD.a  /home/dweindl/src/AMICI-devel/py38/lib/python3.8/site-packages/amici/lib/libamici.a  /home/dweindl/src/AMICI-devel/py38/lib/python3.8/site-packages/amici/lib/libsundials_generic.a  /home/dweindl/src/AMICI-devel/py38/lib/python3.8/site-packages/amici/lib/libsundials_nvecserial.a  /home/dweindl/src/AMICI-devel/py38/lib/python3.8/site-packages/amici/lib/libsundials_sunlinsolband.a  /home/dweindl/src/AMICI-devel/py38/lib/python3.8/site-packages/amici/lib/libsundials_sunmatrixband.a  /home/dweindl/src/AMICI-devel/py38/lib/python3.8/site-packages/amici/lib/libsundials_sunlinsoldense.a  /home/dweindl/src/AMICI-devel/py38/lib/python3.8/site-packages/amici/lib/libsundials_sunmatrixdense.a  /home/dweindl/src/AMICI-devel/py38/lib/python3.8/site-packages/amici/lib/libsundials_sunlinsolpcg.a  /home/dweindl/src/AMICI-devel/py38/lib/python3.8/site-packages/amici/lib/libsundials_sunlinsolspbcgs.a  /home/dweindl/src/AMICI-devel/py38/lib/python3.8/site-packages/amici/lib/libsundials_sunlinsolspfgmr.a  /home/dweindl/src/AMICI-devel/py38/lib/python3.8/site-packages/amici/lib/libsundials_sunlinsolspgmr.a  /home/dweindl/src/AMICI-devel/py38/lib/python3.8/site-packages/amici/lib/libsundials_sunlinsolsptfqmr.a  /home/dweindl/src/AMICI-devel/py38/lib/python3.8/site-packages/amici/lib/libsundials_sunlinsolklu.a  /home/dweindl/src/AMICI-devel/py38/lib/python3.8/site-packages/amici/lib/libsundials_sunmatrixsparse.a  /home/dweindl/src/AMICI-devel/py38/lib/python3.8/site-packages/amici/lib/libklu.a  /home/dweindl/src/AMICI-devel/py38/lib/python3.8/site-packages/amici/lib/libcolamd.a  /home/dweindl/src/AMICI-devel/py38/lib/python3.8/site-packages/amici/lib/libbtf.a  /home/dweindl/src/AMICI-devel/py38/lib/python3.8/site-packages/amici/lib/libamd.a  /home/dweindl/src/AMICI-devel/py38/lib/python3.8/site-packages/amici/lib/libsuitesparseconfig.a  /home/dweindl/src/AMICI-devel/py38/lib/python3.8/site-packages/amici/lib/libsundials_sunnonlinsolnewton.a  /home/dweindl/src/AMICI-devel/py38/lib/python3.8/site-packages/amici/lib/libsundials_sunnonlinsolfixedpoint.a  /home/dweindl/src/AMICI-devel/py38/lib/python3.8/site-packages/amici/lib/libsundials_cvodes.a  /home/dweindl/src/AMICI-devel/py38/lib/python3.8/site-packages/amici/lib/libsundials_idas.a  -lm  -lcblas  /usr/lib/x86_64-linux-gnu/libboost_chrono.so.1.74.0  /usr/lib/gcc/x86_64-linux-gnu/12/libgomp.so  /usr/lib/x86_64-linux-gnu/libpthread.so  -ldl  /usr/lib/x86_64-linux-gnu/hdf5/serial/libhdf5_hl_cpp.so  /usr/lib/x86_64-linux-gnu/hdf5/serial/libhdf5_hl.so  /usr/lib/x86_64-linux-gnu/hdf5/serial/libhdf5_cpp.so  /usr/lib/x86_64-linux-gnu/hdf5/serial/libhdf5.so && :\n",
      "-- Install configuration: \"Release\"\n",
      "-- Installing: /home/dweindl/src/AMICI-devel/python/examples/example_splines_swameye/amici_models/Swameye_PNAS2003_5nodes_FD/Swameye_PNAS2003_5nodes_FD/./Swameye_PNAS2003_5nodes_FD.py\n",
      "-- Installing: /home/dweindl/src/AMICI-devel/python/examples/example_splines_swameye/amici_models/Swameye_PNAS2003_5nodes_FD/Swameye_PNAS2003_5nodes_FD/./_Swameye_PNAS2003_5nodes_FD.cpython-38-x86_64-linux-gnu.so\n",
      "-- Installing: /home/dweindl/src/AMICI-devel/python/examples/example_splines_swameye/amici_models/Swameye_PNAS2003_5nodes_FD/Swameye_PNAS2003_5nodes_FD/lib/libSwameye_PNAS2003_5nodes_FD.a\n",
      "------------------------------ model_ext ------------------------------\n",
      "------------------------------ model_ext ------------------------------\n",
      "running AmiciBuildCMakeExtension\n",
      "\n",
      "==> Configuring:\n",
      "$ cmake -S /home/dweindl/src/AMICI-devel/python/examples/example_splines_swameye/amici_models/Swameye_PNAS2003_5nodes_FD -B /home/dweindl/src/AMICI-devel/python/examples/example_splines_swameye/amici_models/Swameye_PNAS2003_5nodes_FD/build_model_ext -GNinja -DCMAKE_BUILD_TYPE=Release -DCMAKE_INSTALL_PREFIX:PATH=/home/dweindl/src/AMICI-devel/python/examples/example_splines_swameye/amici_models/Swameye_PNAS2003_5nodes_FD/Swameye_PNAS2003_5nodes_FD -DCMAKE_MAKE_PROGRAM=/home/dweindl/src/AMICI-devel/py38/bin/ninja -DCMAKE_VERBOSE_MAKEFILE=ON -DCMAKE_MODULE_PATH=/home/dweindl/src/AMICI-devel/py38/lib/python3.8/site-packages/amici/lib/cmake/SuiteSparse;/home/dweindl/src/AMICI-devel/py38/lib/python3.8/site-packages/amici/lib64/cmake/SuiteSparse -DKLU_ROOT=/home/dweindl/src/AMICI-devel/py38/lib/python3.8/site-packages/amici -DAMICI_PYTHON_BUILD_EXT_ONLY=ON\n",
      "\n",
      "==> Building:\n",
      "$ cmake --build /home/dweindl/src/AMICI-devel/python/examples/example_splines_swameye/amici_models/Swameye_PNAS2003_5nodes_FD/build_model_ext --config Release\n",
      "\n",
      "==> Installing:\n",
      "$ cmake --install /home/dweindl/src/AMICI-devel/python/examples/example_splines_swameye/amici_models/Swameye_PNAS2003_5nodes_FD/build_model_ext\n",
      "\n",
      "\n"
     ]
    }
   ],
   "source": [
    "# Import PEtab problem into pyPESTO\n",
    "pypesto_problem = pypesto.petab.PetabImporter(petab_problem, model_name=name).create_problem()"
   ]
  },
  {
   "cell_type": "markdown",
   "id": "715a8a22-878c-4c37-98e8-7f3898a2a2dc",
   "metadata": {},
   "source": [
    "### Maximum Likelihood estimation\n",
    "Using pyPESTO we can optimize for the parameter vector that maximizes the probability of observing the experimental data (maximum likelihood estimation).\n",
    "\n",
    "A multistart method with local gradient-based optimization is used and the results of each multistart can be visualized in a waterfall plot. "
   ]
  },
  {
   "cell_type": "markdown",
   "id": "ec09ff5d-d370-4fac-ab90-6806a2d5945a",
   "metadata": {
    "tags": []
   },
   "source": [
    "## Spline approximation with many nodes, using finite differences for the derivatives\n",
    "Five nodes is arguably not enough to represent all plausible input choices. Increasing the number of nodes would give the spline more freedom and it can be done with minimal changes to the example above. However, more degrees of freedom mean more chance of overfitting. Thus, following (Schelker et al., 2012), we will add a regularization term consisting in the squared L2 norm of the spline's curvature, which promotes smoother and less oscillating functions. The value for the regularization strength $\\lambda$ is chosen by comparing the sum of squared normalized residuals with its expected value, which can be computing by assuming it is roughly $\\chi^2$-distributed."
   ]
  },
  {
   "cell_type": "markdown",
   "id": "f0e8d4ef-33f4-4e4a-8754-539251aa4d11",
   "metadata": {},
   "source": [
    "### Creating the PEtab model"
   ]
  },
  {
   "cell_type": "code",
   "execution_count": 28,
   "id": "9ea0c348-88d1-4d0e-845f-dd1dc1a43edc",
   "metadata": {
    "tags": []
   },
   "outputs": [],
   "source": [
    "# Problem name\n",
    "name = \"Swameye_PNAS2003_15nodes_FD\""
   ]
  },
  {
   "cell_type": "code",
   "execution_count": 29,
   "id": "cefd1af3-dac6-4e0d-92a0-33016dce168d",
   "metadata": {
    "tags": []
   },
   "outputs": [],
   "source": [
    "# Create spline for pEpoR\n",
    "nodes = [0, 2.5, 5.0, 7.5, 10.0, 12.5, 15.0, 17.5, 20, 25, 30, 35, 40, 50, 60]\n",
    "values_at_nodes = [sp.Symbol(f\"pEpoR_t{str(t).replace('.', '_dot_')}\") for t in nodes]\n",
    "spline = amici.splines.CubicHermiteSpline(\n",
    "    sbml_id='pEpoR',\n",
    "    evaluate_at=amici.sbml_utils.amici_time_symbol,\n",
    "    nodes=nodes,\n",
    "    values_at_nodes=values_at_nodes,\n",
    "    extrapolate=(None, \"constant\"),\n",
    "    bc=\"auto\",\n",
    "    logarithmic_parametrization=True,\n",
    ")"
   ]
  },
  {
   "cell_type": "markdown",
   "id": "0851dd99-83e8-4e7c-8678-7f0914d2bf01",
   "metadata": {},
   "source": [
    "The regularization term can be easily computed by symbolic manipulation of the spline expression using AMICI and SymPy. Since it is very commonly used, we already provide a function for it in AMICI. Note: we regularize the curvature of the spline, which for positivity-enforcing spline is the logarithm of the function.\n",
    "\n",
    "In order add the regularization term to the PEtab likelihood, a dummy observable has to be created."
   ]
  },
  {
   "cell_type": "code",
   "execution_count": 30,
   "id": "525ed7b4-999d-40ad-9383-8f5c1157088f",
   "metadata": {
    "tags": []
   },
   "outputs": [],
   "source": [
    "# Compute L2 norm of the curvature of pEpoR\n",
    "regularization = spline.squared_L2_norm_of_curvature()"
   ]
  },
  {
   "cell_type": "code",
   "execution_count": 31,
   "id": "46182f2e-a8a4-4a7f-8072-e8034ed09c1a",
   "metadata": {
    "tags": []
   },
   "outputs": [],
   "source": [
    "# Add a parameter for regularization strength\n",
    "reg_parameters_df = pd.DataFrame(\n",
    "    dict(parameterScale='log10', lowerBound=1e-6, upperBound=1e6, nominalValue=1.0, estimate=0),\n",
    "    index=pd.Series(['regularization_strength'], name=\"parameterId\"),\n",
    ")\n",
    "# Encode regularization term as an additional observable\n",
    "reg_observables_df = pd.DataFrame(\n",
    "    dict(observableFormula=str(regularization).replace('**', '^'), observableTransformation='lin', noiseFormula='1/regularization_strength', noiseDistribution='normal'),\n",
    "    index=pd.Series(['regularization'], name=\"observableId\"),\n",
    ")\n",
    "# and correspoding measurement\n",
    "reg_measurements_df = pd.DataFrame(\n",
    "    dict(observableId='regularization', simulationConditionId='condition1', measurement=0, time=0, observableTransformation='lin'),\n",
    "    index=pd.Series([0]),\n",
    ")"
   ]
  },
  {
   "cell_type": "code",
   "execution_count": 32,
   "id": "c8214d30-1cb8-4575-9fef-2e485cabf319",
   "metadata": {
    "tags": []
   },
   "outputs": [],
   "source": [
    "# Add spline formula to SBML model\n",
    "sbml_doc = libsbml.SBMLReader().readSBML(os.path.join('Swameye_PNAS2003', 'swameye2003_model.xml'))\n",
    "sbml_model = sbml_doc.getModel()\n",
    "spline.add_to_sbml_model(sbml_model, auto_add=True, y_nominal=0.1, y_constant=True)"
   ]
  },
  {
   "cell_type": "code",
   "execution_count": 33,
   "id": "a75cf7db-918e-4048-a77b-082cab06dcb8",
   "metadata": {
    "tags": []
   },
   "outputs": [],
   "source": [
    "# Extra parameters associated to the spline\n",
    "spline_parameters_df = pd.DataFrame(\n",
    "    dict(parameterScale='log', lowerBound=0.001, upperBound=10, nominalValue=0.1, estimate=1),\n",
    "    index=pd.Series(list(map(str, values_at_nodes)), name=\"parameterId\"),\n",
    ")"
   ]
  },
  {
   "cell_type": "code",
   "execution_count": 34,
   "id": "4fdd82f8-adc5-471f-aa80-6856834e6913",
   "metadata": {
    "tags": []
   },
   "outputs": [],
   "source": [
    "# Create PEtab problem\n",
    "petab_problem = petab.Problem(\n",
    "    sbml_model,\n",
    "    condition_df=petab.conditions.get_condition_df(os.path.join('Swameye_PNAS2003', 'swameye2003_conditions.tsv')),\n",
    "    measurement_df=petab.core.concat_tables(\n",
    "        [os.path.join('Swameye_PNAS2003', 'swameye2003_measurements.tsv'), reg_measurements_df],\n",
    "        petab.measurements.get_measurement_df\n",
    "    ).reset_index(drop=True),\n",
    "    parameter_df=petab.core.concat_tables(\n",
    "        [os.path.join('Swameye_PNAS2003', 'swameye2003_parameters.tsv'), spline_parameters_df, reg_parameters_df],\n",
    "        petab.parameters.get_parameter_df\n",
    "    ),\n",
    "    observable_df=petab.core.concat_tables(\n",
    "        [os.path.join('Swameye_PNAS2003', 'swameye2003_observables.tsv'), reg_observables_df],\n",
    "        petab.observables.get_observable_df\n",
    "    ),\n",
    ")"
   ]
  },
  {
   "cell_type": "code",
   "execution_count": 35,
   "id": "43e47476-8f75-4d63-a57d-09b9b55f086b",
   "metadata": {
    "tags": []
   },
   "outputs": [],
   "source": [
    "# Check whether PEtab model is valid\n",
    "assert not petab.lint_problem(petab_problem)"
   ]
  },
  {
   "cell_type": "code",
   "execution_count": 36,
   "id": "e4f9f7a8-dcab-431e-8f80-e10605bdb69c",
   "metadata": {
    "tags": []
   },
   "outputs": [],
   "source": [
    "# Save PEtab problem to disk\n",
    "# import shutil\n",
    "# shutil.rmtree(name, ignore_errors=True)\n",
    "# os.mkdir(name)\n",
    "# petab_problem.to_files_generic(prefix_path=name)"
   ]
  },
  {
   "cell_type": "markdown",
   "id": "784aebee-b501-4fa8-808e-ff6277c9432c",
   "metadata": {},
   "source": [
    "### Creating the pyPESTO problem"
   ]
  },
  {
   "cell_type": "code",
   "execution_count": 37,
   "id": "19654099-93d0-469e-bb03-82f1d9319419",
   "metadata": {
    "tags": []
   },
   "outputs": [],
   "source": [
    "# Problem must be \"flattened\" to be used with AMICI\n",
    "petab.core.flatten_timepoint_specific_output_overrides(petab_problem)"
   ]
  },
  {
   "cell_type": "code",
   "execution_count": 38,
   "id": "fd8e3502-f9de-457e-9652-95bea94c0972",
   "metadata": {
    "tags": []
   },
   "outputs": [],
   "source": [
    "# Check whether simulation from the PEtab problem works\n",
    "# import amici.petab_simulate\n",
    "# simulator = amici.petab_simulate.PetabSimulator(petab_problem)\n",
    "# simulator.simulate(noise=False)"
   ]
  },
  {
   "cell_type": "code",
   "execution_count": 39,
   "id": "a7104b34-d33c-46d8-afa5-1278070d6af1",
   "metadata": {
    "tags": []
   },
   "outputs": [
    {
     "name": "stderr",
     "output_type": "stream",
     "text": [
      "Compiling amici model to folder /home/dweindl/src/AMICI-devel/python/examples/example_splines_swameye/amici_models/Swameye_PNAS2003_15nodes_FD.\n",
      "2023-04-24 09:10:54.803 - amici.petab_import - INFO - Importing model ...\n",
      "2023-04-24 09:10:54.807 - amici.petab_import - INFO - Validating PEtab problem ...\n",
      "2023-04-24 09:10:56.512 - amici.petab_import - INFO - Model name is 'Swameye_PNAS2003_15nodes_FD'.\n",
      "Writing model code to '/home/dweindl/src/AMICI-devel/python/examples/example_splines_swameye/amici_models/Swameye_PNAS2003_15nodes_FD'.\n",
      "2023-04-24 09:10:56.519 - amici.petab_import - INFO - Species: 14\n",
      "2023-04-24 09:10:56.522 - amici.petab_import - INFO - Global parameters: 19\n",
      "2023-04-24 09:10:56.528 - amici.petab_import - INFO - Reactions: 13\n",
      "2023-04-24 09:10:56.557 - amici.sbml_import - DEBUG - Finished validating SBML                    ++ (7.15E-03s)\n",
      "2023-04-24 09:10:56.570 - amici.sbml_import - DEBUG - Finished converting SBML local parameters   ++ (1.02E-04s)\n",
      "2023-04-24 09:10:56.585 - amici.sbml_import - DEBUG - Finished loading SBML                        + (4.28E-02s)\n",
      "2023-04-24 09:10:57.187 - amici.petab_import - INFO - Observables: 27\n",
      "2023-04-24 09:10:57.204 - amici.petab_import - INFO - Sigmas: 27\n",
      "2023-04-24 09:10:57.644 - amici.petab_import - DEBUG - Adding output parameters to model: ['scale_pSTAT5', 'scale_tSTAT5', 'sigma_pEpoR_abs', 'sigma_pEpoR_rel', 'noiseParameter1_pSTAT5_au__0_04__condition1', 'noiseParameter1_pSTAT5_au__0_044__condition1', 'noiseParameter1_pSTAT5_au__0_048__condition1', 'noiseParameter1_pSTAT5_au__0_05__condition1', 'noiseParameter1_pSTAT5_au__0_051__condition1', 'noiseParameter1_pSTAT5_au__0_052__condition1', 'noiseParameter1_pSTAT5_au__0_053__condition1', 'noiseParameter1_pSTAT5_au__0_054__condition1', 'noiseParameter1_pSTAT5_au__0_055__condition1', 'noiseParameter1_pSTAT5_au__0_065__condition1', 'noiseParameter1_pSTAT5_au__0_066__condition1', 'noiseParameter1_pSTAT5_au__0_07__condition1', 'noiseParameter1_pSTAT5_au__0_071__condition1', 'regularization_strength', 'noiseParameter1_tSTAT5_au__0_028__condition1', 'noiseParameter1_tSTAT5_au__0_03__condition1', 'noiseParameter1_tSTAT5_au__0_031__condition1', 'noiseParameter1_tSTAT5_au__0_032__condition1', 'noiseParameter1_tSTAT5_au__0_033__condition1', 'noiseParameter1_tSTAT5_au__0_037__condition1', 'noiseParameter1_tSTAT5_au__0_038__condition1', 'noiseParameter1_tSTAT5_au__0_039__condition1', 'noiseParameter1_tSTAT5_au__0_04__condition1', 'noiseParameter1_tSTAT5_au__0_046__condition1', 'noiseParameter1_tSTAT5_au__0_082__condition1', 'noiseParameter1_tSTAT5_au__0_084__condition1']\n",
      "2023-04-24 09:10:57.649 - amici.petab_import - DEBUG - Adding initial assignments for []\n",
      "2023-04-24 09:10:58.130 - amici.petab_import - DEBUG - Condition table: (1, 1)\n",
      "2023-04-24 09:10:58.134 - amici.petab_import - WARNING - Parameter or species 'regularization_strength' provided in condition table but not present in model. Ignoring.\n",
      "2023-04-24 09:10:58.139 - amici.petab_import - WARNING - Parameter or species 'sigma_pEpoR_abs' provided in condition table but not present in model. Ignoring.\n",
      "2023-04-24 09:10:58.143 - amici.petab_import - WARNING - Parameter or species 'sigma_pEpoR_rel' provided in condition table but not present in model. Ignoring.\n",
      "2023-04-24 09:10:58.146 - amici.petab_import - DEBUG - Fixed parameters are []\n",
      "2023-04-24 09:10:58.149 - amici.petab_import - INFO - Overall fixed parameters: 0\n",
      "2023-04-24 09:10:58.153 - amici.petab_import - INFO - Variable parameters: 49\n",
      "2023-04-24 09:10:58.186 - amici.sbml_import - DEBUG - Finished processing SBML annotations        ++ (9.47E-04s)\n",
      "2023-04-24 09:10:58.272 - amici.sbml_import - DEBUG - Finished gathering local SBML symbols       ++ (7.04E-02s)\n",
      "2023-04-24 09:10:58.291 - amici.sbml_import - DEBUG - Finished processing SBML parameters         ++ (4.75E-03s)\n",
      "2023-04-24 09:10:58.307 - amici.sbml_import - DEBUG - Finished processing SBML compartments       ++ (1.05E-03s)\n",
      "2023-04-24 09:11:08.500 - amici.sbml_import - DEBUG - Finished processing SBML species initials  +++ (8.74E-03s)\n",
      "2023-04-24 09:11:08.517 - amici.sbml_import - DEBUG - Finished processing SBML rate rules        +++ (1.22E-04s)\n",
      "2023-04-24 09:11:08.519 - amici.sbml_import - DEBUG - Finished processing SBML species            ++ (1.02E+01s)\n",
      "2023-04-24 09:11:08.553 - amici.sbml_import - DEBUG - Finished processing SBML reactions          ++ (1.52E-02s)\n",
      "2023-04-24 09:11:08.778 - amici.sbml_import - DEBUG - Finished processing SBML rules              ++ (2.09E-01s)\n",
      "2023-04-24 09:11:08.796 - amici.sbml_import - DEBUG - Finished processing SBML initial assignments++ (1.10E-04s)\n",
      "2023-04-24 09:11:08.815 - amici.sbml_import - DEBUG - Finished processing SBML species references ++ (3.39E-03s)\n",
      "2023-04-24 09:11:08.829 - amici.sbml_import - DEBUG - Finished processing SBML events             ++ (1.29E-03s)\n",
      "2023-04-24 09:11:08.831 - amici.sbml_import - DEBUG - Finished importing SBML                      + (1.07E+01s)\n",
      "2023-04-24 09:11:13.299 - amici.sbml_import - DEBUG - Finished processing SBML observables         + (4.45E+00s)\n",
      "2023-04-24 09:11:13.315 - amici.sbml_import - DEBUG - Finished processing SBML event observables   + (8.14E-06s)\n",
      "2023-04-24 09:11:13.955 - amici.de_export - DEBUG - Finished running smart_multiply               ++ (1.16E-02s)\n",
      "2023-04-24 09:11:14.297 - amici.de_export - DEBUG - Finished importing SbmlImporter                + (3.66E-01s)\n",
      "2023-04-24 09:11:15.332 - amici.de_export - DEBUG - Finished simplifying Jy                     ++++ (9.79E-01s)\n",
      "2023-04-24 09:11:15.337 - amici.de_export - DEBUG - Finished computing Jy                        +++ (9.95E-01s)\n",
      "2023-04-24 09:11:17.422 - amici.de_export - DEBUG - Finished simplifying y                      ++++ (2.05E+00s)\n",
      "2023-04-24 09:11:17.426 - amici.de_export - DEBUG - Finished computing y                         +++ (2.07E+00s)\n",
      "2023-04-24 09:11:17.475 - amici.de_export - DEBUG - Finished simplifying sigmay                 ++++ (2.09E-02s)\n",
      "2023-04-24 09:11:17.479 - amici.de_export - DEBUG - Finished computing sigmay                    +++ (3.59E-02s)\n",
      "2023-04-24 09:11:18.497 - amici.de_export - DEBUG - Finished writing Jy.cpp                       ++ (4.17E+00s)\n",
      "2023-04-24 09:11:19.905 - amici.de_export - DEBUG - Finished running smart_jacobian             ++++ (1.36E+00s)\n",
      "2023-04-24 09:11:20.480 - amici.de_export - DEBUG - Finished simplifying dJydsigma              ++++ (5.57E-01s)\n",
      "2023-04-24 09:11:20.482 - amici.de_export - DEBUG - Finished computing dJydsigma                 +++ (1.96E+00s)\n",
      "2023-04-24 09:11:20.641 - amici.de_export - DEBUG - Finished writing dJydsigma.cpp                ++ (2.13E+00s)\n",
      "2023-04-24 09:11:21.543 - amici.de_export - DEBUG - Finished running smart_jacobian             ++++ (8.65E-01s)\n",
      "2023-04-24 09:11:22.145 - amici.de_export - DEBUG - Finished simplifying dJydy                  ++++ (5.88E-01s)\n",
      "2023-04-24 09:11:22.147 - amici.de_export - DEBUG - Finished computing dJydy                     +++ (1.48E+00s)\n",
      "2023-04-24 09:11:22.410 - amici.de_export - DEBUG - Finished writing dJydy.cpp                    ++ (1.75E+00s)\n",
      "2023-04-24 09:11:22.456 - amici.de_export - DEBUG - Finished simplifying Jz                     ++++ (2.25E-04s)\n",
      "2023-04-24 09:11:22.458 - amici.de_export - DEBUG - Finished computing Jz                        +++ (1.34E-02s)\n",
      "2023-04-24 09:11:22.468 - amici.de_export - DEBUG - Finished computing z                         +++ (3.20E-04s)\n",
      "2023-04-24 09:11:22.492 - amici.de_export - DEBUG - Finished simplifying sigmaz                 ++++ (3.64E-04s)\n",
      "2023-04-24 09:11:22.495 - amici.de_export - DEBUG - Finished computing sigmaz                    +++ (1.32E-02s)\n",
      "2023-04-24 09:11:22.498 - amici.de_export - DEBUG - Finished writing Jz.cpp                       ++ (6.79E-02s)\n",
      "2023-04-24 09:11:22.541 - amici.de_export - DEBUG - Finished running smart_jacobian             ++++ (2.22E-04s)\n",
      "2023-04-24 09:11:22.556 - amici.de_export - DEBUG - Finished simplifying dJzdsigma              ++++ (2.30E-04s)\n",
      "2023-04-24 09:11:22.558 - amici.de_export - DEBUG - Finished computing dJzdsigma                 +++ (2.82E-02s)\n",
      "2023-04-24 09:11:22.560 - amici.de_export - DEBUG - Finished writing dJzdsigma.cpp                ++ (4.33E-02s)\n"
     ]
    },
    {
     "name": "stderr",
     "output_type": "stream",
     "text": [
      "2023-04-24 09:11:22.594 - amici.de_export - DEBUG - Finished running smart_jacobian             ++++ (2.14E-04s)\n",
      "2023-04-24 09:11:22.609 - amici.de_export - DEBUG - Finished simplifying dJzdz                  ++++ (2.76E-04s)\n",
      "2023-04-24 09:11:22.611 - amici.de_export - DEBUG - Finished computing dJzdz                     +++ (2.68E-02s)\n",
      "2023-04-24 09:11:22.614 - amici.de_export - DEBUG - Finished writing dJzdz.cpp                    ++ (3.91E-02s)\n",
      "2023-04-24 09:11:22.645 - amici.de_export - DEBUG - Finished simplifying Jrz                    ++++ (2.41E-04s)\n",
      "2023-04-24 09:11:22.647 - amici.de_export - DEBUG - Finished computing Jrz                       +++ (1.08E-02s)\n",
      "2023-04-24 09:11:22.661 - amici.de_export - DEBUG - Finished computing rz                        +++ (4.47E-04s)\n",
      "2023-04-24 09:11:22.664 - amici.de_export - DEBUG - Finished writing Jrz.cpp                      ++ (3.51E-02s)\n",
      "2023-04-24 09:11:22.697 - amici.de_export - DEBUG - Finished running smart_jacobian             ++++ (1.71E-04s)\n",
      "2023-04-24 09:11:22.709 - amici.de_export - DEBUG - Finished simplifying dJrzdsigma             ++++ (2.94E-04s)\n",
      "2023-04-24 09:11:22.713 - amici.de_export - DEBUG - Finished computing dJrzdsigma                +++ (2.64E-02s)\n",
      "2023-04-24 09:11:22.716 - amici.de_export - DEBUG - Finished writing dJrzdsigma.cpp               ++ (3.74E-02s)\n",
      "2023-04-24 09:11:22.751 - amici.de_export - DEBUG - Finished running smart_jacobian             ++++ (1.99E-04s)\n",
      "2023-04-24 09:11:22.764 - amici.de_export - DEBUG - Finished simplifying dJrzdz                 ++++ (2.11E-04s)\n",
      "2023-04-24 09:11:22.765 - amici.de_export - DEBUG - Finished computing dJrzdz                    +++ (2.55E-02s)\n",
      "2023-04-24 09:11:22.768 - amici.de_export - DEBUG - Finished writing dJrzdz.cpp                   ++ (3.72E-02s)\n",
      "2023-04-24 09:11:22.801 - amici.de_export - DEBUG - Finished simplifying root                   ++++ (3.03E-04s)\n",
      "2023-04-24 09:11:22.803 - amici.de_export - DEBUG - Finished computing root                      +++ (1.13E-02s)\n",
      "2023-04-24 09:11:22.806 - amici.de_export - DEBUG - Finished writing root.cpp                     ++ (2.31E-02s)\n",
      "2023-04-24 09:11:22.896 - amici.de_export - DEBUG - Finished simplifying w                     +++++ (4.98E-02s)\n",
      "2023-04-24 09:11:22.898 - amici.de_export - DEBUG - Finished computing w                        ++++ (6.11E-02s)\n",
      "2023-04-24 09:11:23.167 - amici.de_export - DEBUG - Finished running smart_jacobian             ++++ (2.56E-01s)\n",
      "2023-04-24 09:11:23.270 - amici.de_export - DEBUG - Finished simplifying dwdp                   ++++ (8.76E-02s)\n",
      "2023-04-24 09:11:23.272 - amici.de_export - DEBUG - Finished computing dwdp                      +++ (4.44E-01s)\n",
      "2023-04-24 09:11:23.315 - amici.de_export - DEBUG - Finished simplifying spl                    ++++ (3.35E-04s)\n",
      "2023-04-24 09:11:23.318 - amici.de_export - DEBUG - Finished computing spl                       +++ (1.31E-02s)\n",
      "2023-04-24 09:11:23.346 - amici.de_export - DEBUG - Finished simplifying sspl                   ++++ (2.03E-03s)\n",
      "2023-04-24 09:11:23.349 - amici.de_export - DEBUG - Finished computing sspl                      +++ (1.53E-02s)\n",
      "2023-04-24 09:11:23.470 - amici.de_export - DEBUG - Finished writing dwdp.cpp                     ++ (6.50E-01s)\n",
      "2023-04-24 09:11:23.591 - amici.de_export - DEBUG - Finished running smart_jacobian             ++++ (6.27E-02s)\n",
      "2023-04-24 09:11:23.627 - amici.de_export - DEBUG - Finished simplifying dwdx                   ++++ (2.10E-02s)\n",
      "2023-04-24 09:11:23.629 - amici.de_export - DEBUG - Finished computing dwdx                      +++ (1.18E-01s)\n",
      "2023-04-24 09:11:23.663 - amici.de_export - DEBUG - Finished writing dwdx.cpp                     ++ (1.68E-01s)\n",
      "2023-04-24 09:11:23.687 - amici.de_export - DEBUG - Finished writing create_splines.cpp           ++ (4.38E-03s)\n",
      "2023-04-24 09:11:23.749 - amici.de_export - DEBUG - Finished simplifying spline_values         +++++ (9.78E-04s)\n",
      "2023-04-24 09:11:23.752 - amici.de_export - DEBUG - Finished computing spline_values            ++++ (2.02E-02s)\n",
      "2023-04-24 09:11:23.825 - amici.de_export - DEBUG - Finished running smart_jacobian             ++++ (5.30E-02s)\n",
      "2023-04-24 09:11:23.841 - amici.de_export - DEBUG - Finished simplifying dspline_valuesdp       ++++ (7.13E-04s)\n",
      "2023-04-24 09:11:23.843 - amici.de_export - DEBUG - Finished computing dspline_valuesdp          +++ (1.26E-01s)\n",
      "2023-04-24 09:11:23.875 - amici.de_export - DEBUG - Finished writing dspline_valuesdp.cpp         ++ (1.69E-01s)\n",
      "2023-04-24 09:11:23.949 - amici.de_export - DEBUG - Finished simplifying spline_slopes         +++++ (1.18E-03s)\n",
      "2023-04-24 09:11:23.952 - amici.de_export - DEBUG - Finished computing spline_slopes            ++++ (2.20E-02s)\n",
      "2023-04-24 09:11:23.968 - amici.de_export - DEBUG - Finished running smart_jacobian             ++++ (3.25E-04s)\n",
      "2023-04-24 09:11:23.988 - amici.de_export - DEBUG - Finished simplifying dspline_slopesdp       ++++ (3.34E-04s)\n",
      "2023-04-24 09:11:23.991 - amici.de_export - DEBUG - Finished computing dspline_slopesdp          +++ (7.78E-02s)\n",
      "2023-04-24 09:11:23.998 - amici.de_export - DEBUG - Finished writing dspline_slopesdp.cpp         ++ (1.02E-01s)\n",
      "2023-04-24 09:11:24.041 - amici.de_export - DEBUG - Finished running smart_jacobian             ++++ (1.15E-02s)\n",
      "2023-04-24 09:11:24.057 - amici.de_export - DEBUG - Finished simplifying dwdw                   ++++ (2.18E-04s)\n",
      "2023-04-24 09:11:24.059 - amici.de_export - DEBUG - Finished computing dwdw                      +++ (3.84E-02s)\n",
      "2023-04-24 09:11:24.066 - amici.de_export - DEBUG - Finished writing dwdw.cpp                     ++ (5.26E-02s)\n",
      "2023-04-24 09:11:24.225 - amici.de_export - DEBUG - Finished simplifying xdot                  +++++ (8.88E-02s)\n",
      "2023-04-24 09:11:24.229 - amici.de_export - DEBUG - Finished computing xdot                     ++++ (1.09E-01s)\n",
      "2023-04-24 09:11:24.331 - amici.de_export - DEBUG - Finished running smart_jacobian             ++++ (8.57E-02s)\n",
      "2023-04-24 09:11:24.345 - amici.de_export - DEBUG - Finished simplifying dxdotdw                ++++ (1.30E-03s)\n",
      "2023-04-24 09:11:24.346 - amici.de_export - DEBUG - Finished computing dxdotdw                   +++ (2.44E-01s)\n",
      "2023-04-24 09:11:24.418 - amici.de_export - DEBUG - Finished writing dxdotdw.cpp                  ++ (3.30E-01s)\n",
      "2023-04-24 09:11:24.471 - amici.de_export - DEBUG - Finished running smart_jacobian             ++++ (1.09E-02s)\n",
      "2023-04-24 09:11:24.489 - amici.de_export - DEBUG - Finished simplifying dxdotdx_explicit       ++++ (2.89E-04s)\n",
      "2023-04-24 09:11:24.492 - amici.de_export - DEBUG - Finished computing dxdotdx_explicit          +++ (4.29E-02s)\n",
      "2023-04-24 09:11:24.501 - amici.de_export - DEBUG - Finished writing dxdotdx_explicit.cpp         ++ (6.55E-02s)\n",
      "2023-04-24 09:11:24.576 - amici.de_export - DEBUG - Finished running smart_jacobian             ++++ (3.18E-02s)\n",
      "2023-04-24 09:11:24.597 - amici.de_export - DEBUG - Finished simplifying dxdotdp_explicit       ++++ (5.55E-04s)\n",
      "2023-04-24 09:11:24.600 - amici.de_export - DEBUG - Finished computing dxdotdp_explicit          +++ (7.10E-02s)\n",
      "2023-04-24 09:11:24.616 - amici.de_export - DEBUG - Finished writing dxdotdp_explicit.cpp         ++ (9.59E-02s)\n",
      "2023-04-24 09:11:24.768 - amici.de_export - DEBUG - Finished running smart_jacobian            +++++ (9.84E-02s)\n",
      "2023-04-24 09:11:24.802 - amici.de_export - DEBUG - Finished simplifying dydx                  +++++ (1.90E-02s)\n",
      "2023-04-24 09:11:24.806 - amici.de_export - DEBUG - Finished computing dydx                     ++++ (1.47E-01s)\n",
      "2023-04-24 09:11:24.869 - amici.de_export - DEBUG - Finished running smart_jacobian            +++++ (3.80E-02s)\n",
      "2023-04-24 09:11:24.883 - amici.de_export - DEBUG - Finished running smart_multiply            +++++ (2.17E-04s)\n",
      "2023-04-24 09:11:24.898 - amici.de_export - DEBUG - Finished simplifying dydw                  +++++ (4.99E-04s)\n",
      "2023-04-24 09:11:24.901 - amici.de_export - DEBUG - Finished computing dydw                     ++++ (7.87E-02s)\n",
      "2023-04-24 09:11:24.922 - amici.de_export - DEBUG - Finished running smart_multiply             ++++ (2.69E-03s)\n",
      "2023-04-24 09:11:24.960 - amici.de_export - DEBUG - Finished simplifying dydx                   ++++ (2.03E-02s)\n"
     ]
    },
    {
     "name": "stderr",
     "output_type": "stream",
     "text": [
      "2023-04-24 09:11:24.962 - amici.de_export - DEBUG - Finished computing dydx                      +++ (3.16E-01s)\n",
      "2023-04-24 09:11:24.987 - amici.de_export - DEBUG - Finished writing dydx.cpp                     ++ (3.54E-01s)\n",
      "2023-04-24 09:11:30.053 - amici.de_export - DEBUG - Finished running smart_jacobian            +++++ (5.03E+00s)\n",
      "2023-04-24 09:11:33.130 - amici.de_export - DEBUG - Finished simplifying dydp                  +++++ (3.06E+00s)\n",
      "2023-04-24 09:11:33.132 - amici.de_export - DEBUG - Finished computing dydp                     ++++ (8.12E+00s)\n",
      "2023-04-24 09:11:33.147 - amici.de_export - DEBUG - Finished running smart_multiply             ++++ (6.52E-03s)\n",
      "2023-04-24 09:11:35.790 - amici.de_export - DEBUG - Finished simplifying dydp                   ++++ (2.63E+00s)\n",
      "2023-04-24 09:11:35.792 - amici.de_export - DEBUG - Finished computing dydp                      +++ (1.08E+01s)\n",
      "2023-04-24 09:11:36.450 - amici.de_export - DEBUG - Finished writing dydp.cpp                     ++ (1.14E+01s)\n",
      "2023-04-24 09:11:36.478 - amici.de_export - DEBUG - Finished computing dzdx                      +++ (5.13E-04s)\n",
      "2023-04-24 09:11:36.480 - amici.de_export - DEBUG - Finished writing dzdx.cpp                     ++ (1.46E-02s)\n",
      "2023-04-24 09:11:36.503 - amici.de_export - DEBUG - Finished computing dzdp                      +++ (4.22E-04s)\n",
      "2023-04-24 09:11:36.506 - amici.de_export - DEBUG - Finished writing dzdp.cpp                     ++ (1.11E-02s)\n",
      "2023-04-24 09:11:36.527 - amici.de_export - DEBUG - Finished computing drzdx                     +++ (4.10E-04s)\n",
      "2023-04-24 09:11:36.530 - amici.de_export - DEBUG - Finished writing drzdx.cpp                    ++ (1.16E-02s)\n",
      "2023-04-24 09:11:36.554 - amici.de_export - DEBUG - Finished computing drzdp                     +++ (3.42E-04s)\n",
      "2023-04-24 09:11:36.556 - amici.de_export - DEBUG - Finished writing drzdp.cpp                    ++ (1.04E-02s)\n",
      "2023-04-24 09:11:36.628 - amici.de_export - DEBUG - Finished running smart_jacobian             ++++ (2.60E-02s)\n",
      "2023-04-24 09:11:36.641 - amici.de_export - DEBUG - Finished simplifying dsigmaydy              ++++ (3.24E-04s)\n",
      "2023-04-24 09:11:36.643 - amici.de_export - DEBUG - Finished computing dsigmaydy                 +++ (5.47E-02s)\n",
      "2023-04-24 09:11:36.657 - amici.de_export - DEBUG - Finished writing dsigmaydy.cpp                ++ (8.27E-02s)\n",
      "2023-04-24 09:11:36.732 - amici.de_export - DEBUG - Finished running smart_jacobian             ++++ (4.05E-02s)\n",
      "2023-04-24 09:11:36.752 - amici.de_export - DEBUG - Finished simplifying dsigmaydp              ++++ (7.10E-03s)\n",
      "2023-04-24 09:11:36.755 - amici.de_export - DEBUG - Finished computing dsigmaydp                 +++ (7.30E-02s)\n",
      "2023-04-24 09:11:36.793 - amici.de_export - DEBUG - Finished writing dsigmaydp.cpp                ++ (1.24E-01s)\n",
      "2023-04-24 09:11:36.815 - amici.de_export - DEBUG - Finished writing sigmay.cpp                   ++ (9.93E-03s)\n",
      "2023-04-24 09:11:36.840 - amici.de_export - DEBUG - Finished running smart_jacobian             ++++ (1.49E-04s)\n",
      "2023-04-24 09:11:36.853 - amici.de_export - DEBUG - Finished simplifying dsigmazdp              ++++ (2.17E-04s)\n",
      "2023-04-24 09:11:36.855 - amici.de_export - DEBUG - Finished computing dsigmazdp                 +++ (2.14E-02s)\n",
      "2023-04-24 09:11:36.857 - amici.de_export - DEBUG - Finished writing dsigmazdp.cpp                ++ (3.01E-02s)\n",
      "2023-04-24 09:11:36.869 - amici.de_export - DEBUG - Finished writing sigmaz.cpp                   ++ (1.44E-04s)\n",
      "2023-04-24 09:11:36.886 - amici.de_export - DEBUG - Finished computing stau                      +++ (3.23E-04s)\n",
      "2023-04-24 09:11:36.889 - amici.de_export - DEBUG - Finished writing stau.cpp                     ++ (9.38E-03s)\n",
      "2023-04-24 09:11:36.906 - amici.de_export - DEBUG - Finished computing deltax                    +++ (3.09E-04s)\n",
      "2023-04-24 09:11:36.908 - amici.de_export - DEBUG - Finished writing deltax.cpp                   ++ (8.66E-03s)\n",
      "2023-04-24 09:11:36.926 - amici.de_export - DEBUG - Finished computing deltasx                   +++ (4.43E-04s)\n",
      "2023-04-24 09:11:36.928 - amici.de_export - DEBUG - Finished writing deltasx.cpp                  ++ (9.71E-03s)\n",
      "2023-04-24 09:11:36.961 - amici.de_export - DEBUG - Finished writing w.cpp                        ++ (1.84E-02s)\n",
      "2023-04-24 09:11:36.989 - amici.de_export - DEBUG - Finished simplifying x0                     ++++ (7.40E-04s)\n",
      "2023-04-24 09:11:36.992 - amici.de_export - DEBUG - Finished computing x0                        +++ (1.27E-02s)\n",
      "2023-04-24 09:11:36.998 - amici.de_export - DEBUG - Finished writing x0.cpp                       ++ (2.54E-02s)\n",
      "2023-04-24 09:11:37.026 - amici.de_export - DEBUG - Finished simplifying x0_fixedParameters     ++++ (1.95E-04s)\n",
      "2023-04-24 09:11:37.028 - amici.de_export - DEBUG - Finished computing x0_fixedParameters        +++ (1.06E-02s)\n",
      "2023-04-24 09:11:37.031 - amici.de_export - DEBUG - Finished writing x0_fixedParameters.cpp       ++ (2.02E-02s)\n",
      "2023-04-24 09:11:37.066 - amici.de_export - DEBUG - Finished running smart_jacobian             ++++ (6.45E-03s)\n",
      "2023-04-24 09:11:37.081 - amici.de_export - DEBUG - Finished simplifying sx0                    ++++ (3.15E-04s)\n",
      "2023-04-24 09:11:37.083 - amici.de_export - DEBUG - Finished computing sx0                       +++ (3.08E-02s)\n",
      "2023-04-24 09:11:37.089 - amici.de_export - DEBUG - Finished writing sx0.cpp                      ++ (4.34E-02s)\n",
      "2023-04-24 09:11:37.114 - amici.de_export - DEBUG - Finished running smart_jacobian             ++++ (1.55E-04s)\n",
      "2023-04-24 09:11:37.124 - amici.de_export - DEBUG - Finished running smart_jacobian             ++++ (1.64E-04s)\n",
      "2023-04-24 09:11:37.135 - amici.de_export - DEBUG - Finished simplifying sx0_fixedParameters    ++++ (2.06E-04s)\n",
      "2023-04-24 09:11:37.137 - amici.de_export - DEBUG - Finished computing sx0_fixedParameters       +++ (2.91E-02s)\n",
      "2023-04-24 09:11:37.139 - amici.de_export - DEBUG - Finished writing sx0_fixedParameters.cpp      ++ (3.74E-02s)\n",
      "2023-04-24 09:11:37.193 - amici.de_export - DEBUG - Finished writing xdot.cpp                     ++ (4.22E-02s)\n",
      "2023-04-24 09:11:37.564 - amici.de_export - DEBUG - Finished writing y.cpp                        ++ (3.61E-01s)\n",
      "2023-04-24 09:11:37.598 - amici.de_export - DEBUG - Finished simplifying x_rdata                ++++ (4.95E-04s)\n",
      "2023-04-24 09:11:37.600 - amici.de_export - DEBUG - Finished computing x_rdata                   +++ (9.62E-03s)\n",
      "2023-04-24 09:11:37.607 - amici.de_export - DEBUG - Finished writing x_rdata.cpp                  ++ (2.81E-02s)\n",
      "2023-04-24 09:11:37.632 - amici.de_export - DEBUG - Finished simplifying total_cl               ++++ (2.07E-04s)\n",
      "2023-04-24 09:11:37.634 - amici.de_export - DEBUG - Finished computing total_cl                  +++ (8.37E-03s)\n",
      "2023-04-24 09:11:37.636 - amici.de_export - DEBUG - Finished writing total_cl.cpp                 ++ (1.72E-02s)\n",
      "2023-04-24 09:11:37.660 - amici.de_export - DEBUG - Finished running smart_jacobian             ++++ (1.51E-04s)\n",
      "2023-04-24 09:11:37.668 - amici.de_export - DEBUG - Finished simplifying dtotal_cldp            ++++ (1.89E-04s)\n",
      "2023-04-24 09:11:37.670 - amici.de_export - DEBUG - Finished computing dtotal_cldp               +++ (1.68E-02s)\n",
      "2023-04-24 09:11:37.672 - amici.de_export - DEBUG - Finished writing dtotal_cldp.cpp              ++ (2.52E-02s)\n",
      "2023-04-24 09:11:37.697 - amici.de_export - DEBUG - Finished simplifying dtotal_cldx_rdata      ++++ (2.00E-04s)\n",
      "2023-04-24 09:11:37.700 - amici.de_export - DEBUG - Finished computing dtotal_cldx_rdata         +++ (9.60E-03s)\n",
      "2023-04-24 09:11:37.702 - amici.de_export - DEBUG - Finished writing dtotal_cldx_rdata.cpp        ++ (1.91E-02s)\n",
      "2023-04-24 09:11:37.727 - amici.de_export - DEBUG - Finished simplifying x_solver               ++++ (4.28E-04s)\n",
      "2023-04-24 09:11:37.730 - amici.de_export - DEBUG - Finished computing x_solver                  +++ (9.48E-03s)\n",
      "2023-04-24 09:11:37.737 - amici.de_export - DEBUG - Finished writing x_solver.cpp                 ++ (2.29E-02s)\n",
      "2023-04-24 09:11:37.764 - amici.de_export - DEBUG - Finished simplifying dx_rdatadx_solver      ++++ (2.97E-03s)\n",
      "2023-04-24 09:11:37.765 - amici.de_export - DEBUG - Finished computing dx_rdatadx_solver         +++ (1.14E-02s)\n"
     ]
    },
    {
     "name": "stderr",
     "output_type": "stream",
     "text": [
      "2023-04-24 09:11:37.770 - amici.de_export - DEBUG - Finished writing dx_rdatadx_solver.cpp        ++ (2.31E-02s)\n",
      "2023-04-24 09:11:37.801 - amici.de_export - DEBUG - Finished simplifying dx_rdatadp             ++++ (9.79E-03s)\n",
      "2023-04-24 09:11:37.802 - amici.de_export - DEBUG - Finished computing dx_rdatadp                +++ (1.78E-02s)\n",
      "2023-04-24 09:11:37.807 - amici.de_export - DEBUG - Finished writing dx_rdatadp.cpp               ++ (2.81E-02s)\n",
      "2023-04-24 09:11:37.828 - amici.de_export - DEBUG - Finished running smart_jacobian             ++++ (1.37E-04s)\n",
      "2023-04-24 09:11:37.839 - amici.de_export - DEBUG - Finished simplifying dx_rdatadtcl           ++++ (1.91E-04s)\n",
      "2023-04-24 09:11:37.840 - amici.de_export - DEBUG - Finished computing dx_rdatadtcl              +++ (1.81E-02s)\n",
      "2023-04-24 09:11:37.842 - amici.de_export - DEBUG - Finished writing dx_rdatadtcl.cpp             ++ (2.55E-02s)\n",
      "2023-04-24 09:11:37.851 - amici.de_export - DEBUG - Finished writing z.cpp                        ++ (9.78E-05s)\n",
      "2023-04-24 09:11:37.860 - amici.de_export - DEBUG - Finished writing rz.cpp                       ++ (1.21E-04s)\n",
      "2023-04-24 09:11:37.933 - amici.de_export - DEBUG - Finished generating cpp code                   + (2.36E+01s)\n",
      "2023-04-24 09:12:45.021 - amici.de_export - DEBUG - Finished compiling cpp code                    + (6.71E+01s)\n",
      "2023-04-24 09:12:45.072 - amici.petab_import - INFO - Finished Importing PEtab model                 (1.10E+02s)\n"
     ]
    },
    {
     "name": "stdout",
     "output_type": "stream",
     "text": [
      "running AmiciInstall\n",
      "running build_ext\n",
      "-- The C compiler identification is GNU 12.2.0\n",
      "-- The CXX compiler identification is GNU 12.2.0\n",
      "-- Detecting C compiler ABI info\n",
      "-- Detecting C compiler ABI info - done\n",
      "-- Check for working C compiler: /usr/bin/cc - skipped\n",
      "-- Detecting C compile features\n",
      "-- Detecting C compile features - done\n",
      "-- Detecting CXX compiler ABI info\n",
      "-- Detecting CXX compiler ABI info - done\n",
      "-- Check for working CXX compiler: /usr/bin/c++ - skipped\n",
      "-- Detecting CXX compile features\n",
      "-- Detecting CXX compile features - done\n",
      "-- Performing Test -Wall\n",
      "-- Performing Test -Wall - Failed\n",
      "-- Performing Test -Wno-unused-function\n",
      "-- Performing Test -Wno-unused-function - Failed\n",
      "-- Performing Test -Wno-unused-variable\n",
      "-- Performing Test -Wno-unused-variable - Failed\n",
      "-- Performing Test -Wno-unused-but-set-variable\n",
      "-- Performing Test -Wno-unused-but-set-variable - Failed\n",
      "-- Found OpenMP_C: -fopenmp (found version \"4.5\") \n",
      "-- Found OpenMP_CXX: -fopenmp (found version \"4.5\") \n",
      "-- Found OpenMP: TRUE (found version \"4.5\")  \n",
      "-- original library suffixes: .so;.a\n",
      "-- revised for static search: .a;.so;.a\n",
      "-- major: #define SUITESPARSE_MAIN_VERSION    7\n",
      "-- minor: #define SUITESPARSE_SUB_VERSION     0\n",
      "-- patch: #define SUITESPARSE_SUBSUB_VERSION  1\n",
      "-- Found SuiteSparse_config: /home/dweindl/src/AMICI-devel/py38/lib/python3.8/site-packages/amici/lib/libsuitesparseconfig.so (found version \"7.0.1\") \n",
      "-- result: \n",
      "-- SuiteSparse_config version: 7.0.1\n",
      "-- SuiteSparse_config include: /home/dweindl/src/AMICI-devel/py38/lib/python3.8/site-packages/amici/include\n",
      "-- SuiteSparse_config library: /home/dweindl/src/AMICI-devel/py38/lib/python3.8/site-packages/amici/lib/libsuitesparseconfig.so\n",
      "-- SuiteSparse_config static:  /home/dweindl/src/AMICI-devel/py38/lib/python3.8/site-packages/amici/lib/libsuitesparseconfig.a\n",
      "-- major: #define AMD_MAIN_VERSION   3\n",
      "-- minor: #define AMD_SUB_VERSION    0\n",
      "-- patch: #define AMD_SUBSUB_VERSION 3\n",
      "-- Found AMD: /home/dweindl/src/AMICI-devel/py38/lib/python3.8/site-packages/amici/lib/libamd.so (found version \"3.0.3\") \n",
      "-- AMD version: 3.0.3\n",
      "-- AMD include: /home/dweindl/src/AMICI-devel/py38/lib/python3.8/site-packages/amici/include\n",
      "-- AMD library: /home/dweindl/src/AMICI-devel/py38/lib/python3.8/site-packages/amici/lib/libamd.so\n",
      "-- AMD static:  /home/dweindl/src/AMICI-devel/py38/lib/python3.8/site-packages/amici/lib/libamd.a\n",
      "-- major: #define BTF_MAIN_VERSION   2\n",
      "-- minor: #define BTF_SUB_VERSION    0\n",
      "-- patch: #define BTF_SUBSUB_VERSION 3\n",
      "-- Found BTF: /home/dweindl/src/AMICI-devel/py38/lib/python3.8/site-packages/amici/lib/libbtf.so (found version \"2.0.3\") \n",
      "-- BTF version: 2.0.3\n",
      "-- BTF include: /home/dweindl/src/AMICI-devel/py38/lib/python3.8/site-packages/amici/include\n",
      "-- BTF library: /home/dweindl/src/AMICI-devel/py38/lib/python3.8/site-packages/amici/lib/libbtf.so\n",
      "-- BTF static:  /home/dweindl/src/AMICI-devel/py38/lib/python3.8/site-packages/amici/lib/libbtf.a\n",
      "-- major: #define COLAMD_MAIN_VERSION   3\n",
      "-- minor: #define COLAMD_SUB_VERSION    0\n",
      "-- patch: #define COLAMD_SUBSUB_VERSION 3\n",
      "-- Found COLAMD: /home/dweindl/src/AMICI-devel/py38/lib/python3.8/site-packages/amici/lib/libcolamd.so (found version \"3.0.3\") \n",
      "-- COLAMD version: 3.0.3\n",
      "-- COLAMD include: /home/dweindl/src/AMICI-devel/py38/lib/python3.8/site-packages/amici/include\n",
      "-- COLAMD library: /home/dweindl/src/AMICI-devel/py38/lib/python3.8/site-packages/amici/lib/libcolamd.so\n",
      "-- COLAMD static:  /home/dweindl/src/AMICI-devel/py38/lib/python3.8/site-packages/amici/lib/libcolamd.a\n",
      "-- major: #define KLU_MAIN_VERSION   2\n",
      "-- minor: #define KLU_SUB_VERSION    0\n",
      "-- patch: #define KLU_SUBSUB_VERSION 3\n",
      "-- Found KLU: /home/dweindl/src/AMICI-devel/py38/lib/python3.8/site-packages/amici/lib/libklu.so (found version \"2.0.3\") \n",
      "-- KLU version: 2.0.3\n",
      "-- KLU include: /home/dweindl/src/AMICI-devel/py38/lib/python3.8/site-packages/amici/include\n",
      "-- KLU library: /home/dweindl/src/AMICI-devel/py38/lib/python3.8/site-packages/amici/lib/libklu.so\n",
      "-- KLU static:  /home/dweindl/src/AMICI-devel/py38/lib/python3.8/site-packages/amici/lib/libklu.a\n",
      "-- Found Boost: /usr/lib/x86_64-linux-gnu/cmake/Boost-1.74.0/BoostConfig.cmake (found version \"1.74.0\") found components: chrono \n",
      "-- Found HDF5: /usr/lib/x86_64-linux-gnu/hdf5/serial/libhdf5.so;/usr/lib/x86_64-linux-gnu/libcrypto.so;/usr/lib/x86_64-linux-gnu/libcurl.so;/usr/lib/x86_64-linux-gnu/libpthread.so;/usr/lib/x86_64-linux-gnu/libsz.so;/usr/lib/x86_64-linux-gnu/libz.so;/usr/lib/x86_64-linux-gnu/libdl.so;/usr/lib/x86_64-linux-gnu/libm.so;/usr/lib/x86_64-linux-gnu/hdf5/serial/libhdf5_cpp.so;/usr/lib/x86_64-linux-gnu/hdf5/serial/libhdf5.so;/usr/lib/x86_64-linux-gnu/libcrypto.so;/usr/lib/x86_64-linux-gnu/libcurl.so;/usr/lib/x86_64-linux-gnu/libpthread.so;/usr/lib/x86_64-linux-gnu/libsz.so;/usr/lib/x86_64-linux-gnu/libz.so;/usr/lib/x86_64-linux-gnu/libdl.so;/usr/lib/x86_64-linux-gnu/libm.so (found version \"1.10.8\") found components: C HL CXX \n",
      "-- Found AMICI /home/dweindl/src/AMICI-devel/py38/lib/python3.8/site-packages/amici/lib/cmake/Amici\n",
      "-- Found Boost: /usr/lib/x86_64-linux-gnu/cmake/Boost-1.74.0/BoostConfig.cmake (found version \"1.74.0\")  \n",
      "-- Found SWIG: /home/dweindl/src/AMICI-devel/ThirdParty/swig-4.0.2/install/bin/swig (found version \"4.0.2\")  \n",
      "-- Found Python3: /home/dweindl/src/AMICI-devel/py38/bin/python3.8 (found version \"3.8.16\") found components: Interpreter Development Development.Module Development.Embed \n",
      "-- Python extension suffix is .cpython-38-x86_64-linux-gnu.so\n",
      "-- Configuring done (14.2s)\n",
      "-- Generating done (0.0s)\n",
      "-- Build files have been written to: /home/dweindl/src/AMICI-devel/python/examples/example_splines_swameye/amici_models/Swameye_PNAS2003_15nodes_FD/build_model_ext\n",
      "[1/33] /usr/bin/c++ -DBOOST_ALL_NO_LIB -DBOOST_CHRONO_DYN_LINK -DHDF_NO_NAMESPACE -DNO_STATIC_CAST -DOLD_HEADER_FILENAME -I/home/dweindl/src/AMICI-devel/python/examples/example_splines_swameye/amici_models/Swameye_PNAS2003_15nodes_FD -isystem /home/dweindl/src/AMICI-devel/py38/lib/python3.8/site-packages/amici/include -isystem /home/dweindl/src/AMICI-devel/py38/lib/python3.8/site-packages/amici/share/amici/swig -isystem /usr/include/hdf5/serial -O3 -DNDEBUG -std=gnu++17 -fPIC -fopenmp -MD -MT CMakeFiles/Swameye_PNAS2003_15nodes_FD.dir/x_rdata.cpp.o -MF CMakeFiles/Swameye_PNAS2003_15nodes_FD.dir/x_rdata.cpp.o.d -o CMakeFiles/Swameye_PNAS2003_15nodes_FD.dir/x_rdata.cpp.o -c /home/dweindl/src/AMICI-devel/python/examples/example_splines_swameye/amici_models/Swameye_PNAS2003_15nodes_FD/x_rdata.cpp\n",
      "[2/33] /usr/bin/c++ -DBOOST_ALL_NO_LIB -DBOOST_CHRONO_DYN_LINK -DHDF_NO_NAMESPACE -DNO_STATIC_CAST -DOLD_HEADER_FILENAME -I/home/dweindl/src/AMICI-devel/python/examples/example_splines_swameye/amici_models/Swameye_PNAS2003_15nodes_FD -isystem /home/dweindl/src/AMICI-devel/py38/lib/python3.8/site-packages/amici/include -isystem /home/dweindl/src/AMICI-devel/py38/lib/python3.8/site-packages/amici/share/amici/swig -isystem /usr/include/hdf5/serial -O3 -DNDEBUG -std=gnu++17 -fPIC -fopenmp -MD -MT CMakeFiles/Swameye_PNAS2003_15nodes_FD.dir/dJydy_colptrs.cpp.o -MF CMakeFiles/Swameye_PNAS2003_15nodes_FD.dir/dJydy_colptrs.cpp.o.d -o CMakeFiles/Swameye_PNAS2003_15nodes_FD.dir/dJydy_colptrs.cpp.o -c /home/dweindl/src/AMICI-devel/python/examples/example_splines_swameye/amici_models/Swameye_PNAS2003_15nodes_FD/dJydy_colptrs.cpp\n",
      "[3/33] /usr/bin/c++ -DBOOST_ALL_NO_LIB -DBOOST_CHRONO_DYN_LINK -DHDF_NO_NAMESPACE -DNO_STATIC_CAST -DOLD_HEADER_FILENAME -I/home/dweindl/src/AMICI-devel/python/examples/example_splines_swameye/amici_models/Swameye_PNAS2003_15nodes_FD -isystem /home/dweindl/src/AMICI-devel/py38/lib/python3.8/site-packages/amici/include -isystem /home/dweindl/src/AMICI-devel/py38/lib/python3.8/site-packages/amici/share/amici/swig -isystem /usr/include/hdf5/serial -O3 -DNDEBUG -std=gnu++17 -fPIC -fopenmp -MD -MT CMakeFiles/Swameye_PNAS2003_15nodes_FD.dir/dsigmaydp.cpp.o -MF CMakeFiles/Swameye_PNAS2003_15nodes_FD.dir/dsigmaydp.cpp.o.d -o CMakeFiles/Swameye_PNAS2003_15nodes_FD.dir/dsigmaydp.cpp.o -c /home/dweindl/src/AMICI-devel/python/examples/example_splines_swameye/amici_models/Swameye_PNAS2003_15nodes_FD/dsigmaydp.cpp\n",
      "[4/33] /usr/bin/c++ -DBOOST_ALL_NO_LIB -DBOOST_CHRONO_DYN_LINK -DHDF_NO_NAMESPACE -DNO_STATIC_CAST -DOLD_HEADER_FILENAME -I/home/dweindl/src/AMICI-devel/python/examples/example_splines_swameye/amici_models/Swameye_PNAS2003_15nodes_FD -isystem /home/dweindl/src/AMICI-devel/py38/lib/python3.8/site-packages/amici/include -isystem /home/dweindl/src/AMICI-devel/py38/lib/python3.8/site-packages/amici/share/amici/swig -isystem /usr/include/hdf5/serial -O3 -DNDEBUG -std=gnu++17 -fPIC -fopenmp -MD -MT CMakeFiles/Swameye_PNAS2003_15nodes_FD.dir/xdot.cpp.o -MF CMakeFiles/Swameye_PNAS2003_15nodes_FD.dir/xdot.cpp.o.d -o CMakeFiles/Swameye_PNAS2003_15nodes_FD.dir/xdot.cpp.o -c /home/dweindl/src/AMICI-devel/python/examples/example_splines_swameye/amici_models/Swameye_PNAS2003_15nodes_FD/xdot.cpp\n",
      "[5/33] /usr/bin/c++ -DBOOST_ALL_NO_LIB -DBOOST_CHRONO_DYN_LINK -DHDF_NO_NAMESPACE -DNO_STATIC_CAST -DOLD_HEADER_FILENAME -I/home/dweindl/src/AMICI-devel/python/examples/example_splines_swameye/amici_models/Swameye_PNAS2003_15nodes_FD -isystem /home/dweindl/src/AMICI-devel/py38/lib/python3.8/site-packages/amici/include -isystem /home/dweindl/src/AMICI-devel/py38/lib/python3.8/site-packages/amici/share/amici/swig -isystem /usr/include/hdf5/serial -O3 -DNDEBUG -std=gnu++17 -fPIC -fopenmp -MD -MT CMakeFiles/Swameye_PNAS2003_15nodes_FD.dir/create_splines.cpp.o -MF CMakeFiles/Swameye_PNAS2003_15nodes_FD.dir/create_splines.cpp.o.d -o CMakeFiles/Swameye_PNAS2003_15nodes_FD.dir/create_splines.cpp.o -c /home/dweindl/src/AMICI-devel/python/examples/example_splines_swameye/amici_models/Swameye_PNAS2003_15nodes_FD/create_splines.cpp\n",
      "[6/33] /usr/bin/c++ -DBOOST_ALL_NO_LIB -DBOOST_CHRONO_DYN_LINK -DHDF_NO_NAMESPACE -DNO_STATIC_CAST -DOLD_HEADER_FILENAME -I/home/dweindl/src/AMICI-devel/python/examples/example_splines_swameye/amici_models/Swameye_PNAS2003_15nodes_FD -isystem /home/dweindl/src/AMICI-devel/py38/lib/python3.8/site-packages/amici/include -isystem /home/dweindl/src/AMICI-devel/py38/lib/python3.8/site-packages/amici/share/amici/swig -isystem /usr/include/hdf5/serial -O3 -DNDEBUG -std=gnu++17 -fPIC -fopenmp -MD -MT CMakeFiles/Swameye_PNAS2003_15nodes_FD.dir/dwdp_rowvals.cpp.o -MF CMakeFiles/Swameye_PNAS2003_15nodes_FD.dir/dwdp_rowvals.cpp.o.d -o CMakeFiles/Swameye_PNAS2003_15nodes_FD.dir/dwdp_rowvals.cpp.o -c /home/dweindl/src/AMICI-devel/python/examples/example_splines_swameye/amici_models/Swameye_PNAS2003_15nodes_FD/dwdp_rowvals.cpp\n",
      "[7/33] /usr/bin/c++ -DBOOST_ALL_NO_LIB -DBOOST_CHRONO_DYN_LINK -DHDF_NO_NAMESPACE -DNO_STATIC_CAST -DOLD_HEADER_FILENAME -I/home/dweindl/src/AMICI-devel/python/examples/example_splines_swameye/amici_models/Swameye_PNAS2003_15nodes_FD -isystem /home/dweindl/src/AMICI-devel/py38/lib/python3.8/site-packages/amici/include -isystem /home/dweindl/src/AMICI-devel/py38/lib/python3.8/site-packages/amici/share/amici/swig -isystem /usr/include/hdf5/serial -O3 -DNDEBUG -std=gnu++17 -fPIC -fopenmp -MD -MT CMakeFiles/Swameye_PNAS2003_15nodes_FD.dir/dwdx.cpp.o -MF CMakeFiles/Swameye_PNAS2003_15nodes_FD.dir/dwdx.cpp.o.d -o CMakeFiles/Swameye_PNAS2003_15nodes_FD.dir/dwdx.cpp.o -c /home/dweindl/src/AMICI-devel/python/examples/example_splines_swameye/amici_models/Swameye_PNAS2003_15nodes_FD/dwdx.cpp\n",
      "[8/33] /usr/bin/c++ -DBOOST_ALL_NO_LIB -DBOOST_CHRONO_DYN_LINK -DHDF_NO_NAMESPACE -DNO_STATIC_CAST -DOLD_HEADER_FILENAME -I/home/dweindl/src/AMICI-devel/python/examples/example_splines_swameye/amici_models/Swameye_PNAS2003_15nodes_FD -isystem /home/dweindl/src/AMICI-devel/py38/lib/python3.8/site-packages/amici/include -isystem /home/dweindl/src/AMICI-devel/py38/lib/python3.8/site-packages/amici/share/amici/swig -isystem /usr/include/hdf5/serial -O3 -DNDEBUG -std=gnu++17 -fPIC -fopenmp -MD -MT CMakeFiles/Swameye_PNAS2003_15nodes_FD.dir/Jy.cpp.o -MF CMakeFiles/Swameye_PNAS2003_15nodes_FD.dir/Jy.cpp.o.d -o CMakeFiles/Swameye_PNAS2003_15nodes_FD.dir/Jy.cpp.o -c /home/dweindl/src/AMICI-devel/python/examples/example_splines_swameye/amici_models/Swameye_PNAS2003_15nodes_FD/Jy.cpp\n",
      "[9/33] /usr/bin/c++ -DBOOST_ALL_NO_LIB -DBOOST_CHRONO_DYN_LINK -DHDF_NO_NAMESPACE -DNO_STATIC_CAST -DOLD_HEADER_FILENAME -I/home/dweindl/src/AMICI-devel/python/examples/example_splines_swameye/amici_models/Swameye_PNAS2003_15nodes_FD -isystem /home/dweindl/src/AMICI-devel/py38/lib/python3.8/site-packages/amici/include -isystem /home/dweindl/src/AMICI-devel/py38/lib/python3.8/site-packages/amici/share/amici/swig -isystem /usr/include/hdf5/serial -O3 -DNDEBUG -std=gnu++17 -fPIC -fopenmp -MD -MT CMakeFiles/Swameye_PNAS2003_15nodes_FD.dir/Swameye_PNAS2003_15nodes_FD.cpp.o -MF CMakeFiles/Swameye_PNAS2003_15nodes_FD.dir/Swameye_PNAS2003_15nodes_FD.cpp.o.d -o CMakeFiles/Swameye_PNAS2003_15nodes_FD.dir/Swameye_PNAS2003_15nodes_FD.cpp.o -c /home/dweindl/src/AMICI-devel/python/examples/example_splines_swameye/amici_models/Swameye_PNAS2003_15nodes_FD/Swameye_PNAS2003_15nodes_FD.cpp\n",
      "[10/33] /usr/bin/c++ -DBOOST_ALL_NO_LIB -DBOOST_CHRONO_DYN_LINK -DHDF_NO_NAMESPACE -DNO_STATIC_CAST -DOLD_HEADER_FILENAME -I/home/dweindl/src/AMICI-devel/python/examples/example_splines_swameye/amici_models/Swameye_PNAS2003_15nodes_FD -isystem /home/dweindl/src/AMICI-devel/py38/lib/python3.8/site-packages/amici/include -isystem /home/dweindl/src/AMICI-devel/py38/lib/python3.8/site-packages/amici/share/amici/swig -isystem /usr/include/hdf5/serial -O3 -DNDEBUG -std=gnu++17 -fPIC -fopenmp -MD -MT CMakeFiles/Swameye_PNAS2003_15nodes_FD.dir/sigmay.cpp.o -MF CMakeFiles/Swameye_PNAS2003_15nodes_FD.dir/sigmay.cpp.o.d -o CMakeFiles/Swameye_PNAS2003_15nodes_FD.dir/sigmay.cpp.o -c /home/dweindl/src/AMICI-devel/python/examples/example_splines_swameye/amici_models/Swameye_PNAS2003_15nodes_FD/sigmay.cpp\n",
      "[11/33] /usr/bin/c++ -DBOOST_ALL_NO_LIB -DBOOST_CHRONO_DYN_LINK -DHDF_NO_NAMESPACE -DNO_STATIC_CAST -DOLD_HEADER_FILENAME -I/home/dweindl/src/AMICI-devel/python/examples/example_splines_swameye/amici_models/Swameye_PNAS2003_15nodes_FD -isystem /home/dweindl/src/AMICI-devel/py38/lib/python3.8/site-packages/amici/include -isystem /home/dweindl/src/AMICI-devel/py38/lib/python3.8/site-packages/amici/share/amici/swig -isystem /usr/include/hdf5/serial -O3 -DNDEBUG -std=gnu++17 -fPIC -fopenmp -MD -MT CMakeFiles/Swameye_PNAS2003_15nodes_FD.dir/dxdotdw_colptrs.cpp.o -MF CMakeFiles/Swameye_PNAS2003_15nodes_FD.dir/dxdotdw_colptrs.cpp.o.d -o CMakeFiles/Swameye_PNAS2003_15nodes_FD.dir/dxdotdw_colptrs.cpp.o -c /home/dweindl/src/AMICI-devel/python/examples/example_splines_swameye/amici_models/Swameye_PNAS2003_15nodes_FD/dxdotdw_colptrs.cpp\n",
      "[12/33] /usr/bin/c++ -DBOOST_ALL_NO_LIB -DBOOST_CHRONO_DYN_LINK -DHDF_NO_NAMESPACE -DNO_STATIC_CAST -DOLD_HEADER_FILENAME -I/home/dweindl/src/AMICI-devel/python/examples/example_splines_swameye/amici_models/Swameye_PNAS2003_15nodes_FD -isystem /home/dweindl/src/AMICI-devel/py38/lib/python3.8/site-packages/amici/include -isystem /home/dweindl/src/AMICI-devel/py38/lib/python3.8/site-packages/amici/share/amici/swig -isystem /usr/include/hdf5/serial -O3 -DNDEBUG -std=gnu++17 -fPIC -fopenmp -MD -MT CMakeFiles/Swameye_PNAS2003_15nodes_FD.dir/dwdp_colptrs.cpp.o -MF CMakeFiles/Swameye_PNAS2003_15nodes_FD.dir/dwdp_colptrs.cpp.o.d -o CMakeFiles/Swameye_PNAS2003_15nodes_FD.dir/dwdp_colptrs.cpp.o -c /home/dweindl/src/AMICI-devel/python/examples/example_splines_swameye/amici_models/Swameye_PNAS2003_15nodes_FD/dwdp_colptrs.cpp\n",
      "[13/33] /usr/bin/c++ -DBOOST_ALL_NO_LIB -DBOOST_CHRONO_DYN_LINK -DHDF_NO_NAMESPACE -DNO_STATIC_CAST -DOLD_HEADER_FILENAME -I/home/dweindl/src/AMICI-devel/python/examples/example_splines_swameye/amici_models/Swameye_PNAS2003_15nodes_FD -isystem /home/dweindl/src/AMICI-devel/py38/lib/python3.8/site-packages/amici/include -isystem /home/dweindl/src/AMICI-devel/py38/lib/python3.8/site-packages/amici/share/amici/swig -isystem /usr/include/hdf5/serial -O3 -DNDEBUG -std=gnu++17 -fPIC -fopenmp -MD -MT CMakeFiles/Swameye_PNAS2003_15nodes_FD.dir/dspline_valuesdp.cpp.o -MF CMakeFiles/Swameye_PNAS2003_15nodes_FD.dir/dspline_valuesdp.cpp.o.d -o CMakeFiles/Swameye_PNAS2003_15nodes_FD.dir/dspline_valuesdp.cpp.o -c /home/dweindl/src/AMICI-devel/python/examples/example_splines_swameye/amici_models/Swameye_PNAS2003_15nodes_FD/dspline_valuesdp.cpp\n",
      "[14/33] /usr/bin/c++ -DBOOST_ALL_NO_LIB -DBOOST_CHRONO_DYN_LINK -DHDF_NO_NAMESPACE -DNO_STATIC_CAST -DOLD_HEADER_FILENAME -I/home/dweindl/src/AMICI-devel/python/examples/example_splines_swameye/amici_models/Swameye_PNAS2003_15nodes_FD -isystem /home/dweindl/src/AMICI-devel/py38/lib/python3.8/site-packages/amici/include -isystem /home/dweindl/src/AMICI-devel/py38/lib/python3.8/site-packages/amici/share/amici/swig -isystem /usr/include/hdf5/serial -O3 -DNDEBUG -std=gnu++17 -fPIC -fopenmp -MD -MT CMakeFiles/Swameye_PNAS2003_15nodes_FD.dir/x0.cpp.o -MF CMakeFiles/Swameye_PNAS2003_15nodes_FD.dir/x0.cpp.o.d -o CMakeFiles/Swameye_PNAS2003_15nodes_FD.dir/x0.cpp.o -c /home/dweindl/src/AMICI-devel/python/examples/example_splines_swameye/amici_models/Swameye_PNAS2003_15nodes_FD/x0.cpp\n",
      "[15/33] /usr/bin/c++ -DBOOST_ALL_NO_LIB -DBOOST_CHRONO_DYN_LINK -DHDF_NO_NAMESPACE -DNO_STATIC_CAST -DOLD_HEADER_FILENAME -I/home/dweindl/src/AMICI-devel/python/examples/example_splines_swameye/amici_models/Swameye_PNAS2003_15nodes_FD -isystem /home/dweindl/src/AMICI-devel/py38/lib/python3.8/site-packages/amici/include -isystem /home/dweindl/src/AMICI-devel/py38/lib/python3.8/site-packages/amici/share/amici/swig -isystem /usr/include/hdf5/serial -O3 -DNDEBUG -std=gnu++17 -fPIC -fopenmp -MD -MT CMakeFiles/Swameye_PNAS2003_15nodes_FD.dir/dJydy.cpp.o -MF CMakeFiles/Swameye_PNAS2003_15nodes_FD.dir/dJydy.cpp.o.d -o CMakeFiles/Swameye_PNAS2003_15nodes_FD.dir/dJydy.cpp.o -c /home/dweindl/src/AMICI-devel/python/examples/example_splines_swameye/amici_models/Swameye_PNAS2003_15nodes_FD/dJydy.cpp\n",
      "[16/33] /usr/bin/c++ -DBOOST_ALL_NO_LIB -DBOOST_CHRONO_DYN_LINK -DHDF_NO_NAMESPACE -DNO_STATIC_CAST -DOLD_HEADER_FILENAME -I/home/dweindl/src/AMICI-devel/python/examples/example_splines_swameye/amici_models/Swameye_PNAS2003_15nodes_FD -isystem /home/dweindl/src/AMICI-devel/py38/lib/python3.8/site-packages/amici/include -isystem /home/dweindl/src/AMICI-devel/py38/lib/python3.8/site-packages/amici/share/amici/swig -isystem /usr/include/hdf5/serial -O3 -DNDEBUG -std=gnu++17 -fPIC -fopenmp -MD -MT CMakeFiles/Swameye_PNAS2003_15nodes_FD.dir/dydp.cpp.o -MF CMakeFiles/Swameye_PNAS2003_15nodes_FD.dir/dydp.cpp.o.d -o CMakeFiles/Swameye_PNAS2003_15nodes_FD.dir/dydp.cpp.o -c /home/dweindl/src/AMICI-devel/python/examples/example_splines_swameye/amici_models/Swameye_PNAS2003_15nodes_FD/dydp.cpp\n",
      "[17/33] /usr/bin/c++ -DBOOST_ALL_NO_LIB -DBOOST_CHRONO_DYN_LINK -DHDF_NO_NAMESPACE -DNO_STATIC_CAST -DOLD_HEADER_FILENAME -I/home/dweindl/src/AMICI-devel/python/examples/example_splines_swameye/amici_models/Swameye_PNAS2003_15nodes_FD -isystem /home/dweindl/src/AMICI-devel/py38/lib/python3.8/site-packages/amici/include -isystem /home/dweindl/src/AMICI-devel/py38/lib/python3.8/site-packages/amici/share/amici/swig -isystem /usr/include/hdf5/serial -O3 -DNDEBUG -std=gnu++17 -fPIC -fopenmp -MD -MT CMakeFiles/Swameye_PNAS2003_15nodes_FD.dir/dwdx_rowvals.cpp.o -MF CMakeFiles/Swameye_PNAS2003_15nodes_FD.dir/dwdx_rowvals.cpp.o.d -o CMakeFiles/Swameye_PNAS2003_15nodes_FD.dir/dwdx_rowvals.cpp.o -c /home/dweindl/src/AMICI-devel/python/examples/example_splines_swameye/amici_models/Swameye_PNAS2003_15nodes_FD/dwdx_rowvals.cpp\n",
      "[18/33] /usr/bin/c++ -DBOOST_ALL_NO_LIB -DBOOST_CHRONO_DYN_LINK -DHDF_NO_NAMESPACE -DNO_STATIC_CAST -DOLD_HEADER_FILENAME -I/home/dweindl/src/AMICI-devel/python/examples/example_splines_swameye/amici_models/Swameye_PNAS2003_15nodes_FD -isystem /home/dweindl/src/AMICI-devel/py38/lib/python3.8/site-packages/amici/include -isystem /home/dweindl/src/AMICI-devel/py38/lib/python3.8/site-packages/amici/share/amici/swig -isystem /usr/include/hdf5/serial -O3 -DNDEBUG -std=gnu++17 -fPIC -fopenmp -MD -MT CMakeFiles/Swameye_PNAS2003_15nodes_FD.dir/dwdx_colptrs.cpp.o -MF CMakeFiles/Swameye_PNAS2003_15nodes_FD.dir/dwdx_colptrs.cpp.o.d -o CMakeFiles/Swameye_PNAS2003_15nodes_FD.dir/dwdx_colptrs.cpp.o -c /home/dweindl/src/AMICI-devel/python/examples/example_splines_swameye/amici_models/Swameye_PNAS2003_15nodes_FD/dwdx_colptrs.cpp\n",
      "[19/33] /usr/bin/c++ -DBOOST_ALL_NO_LIB -DBOOST_CHRONO_DYN_LINK -DHDF_NO_NAMESPACE -DNO_STATIC_CAST -DOLD_HEADER_FILENAME -I/home/dweindl/src/AMICI-devel/python/examples/example_splines_swameye/amici_models/Swameye_PNAS2003_15nodes_FD -isystem /home/dweindl/src/AMICI-devel/py38/lib/python3.8/site-packages/amici/include -isystem /home/dweindl/src/AMICI-devel/py38/lib/python3.8/site-packages/amici/share/amici/swig -isystem /usr/include/hdf5/serial -O3 -DNDEBUG -std=gnu++17 -fPIC -fopenmp -MD -MT CMakeFiles/Swameye_PNAS2003_15nodes_FD.dir/x_solver.cpp.o -MF CMakeFiles/Swameye_PNAS2003_15nodes_FD.dir/x_solver.cpp.o.d -o CMakeFiles/Swameye_PNAS2003_15nodes_FD.dir/x_solver.cpp.o -c /home/dweindl/src/AMICI-devel/python/examples/example_splines_swameye/amici_models/Swameye_PNAS2003_15nodes_FD/x_solver.cpp\n",
      "[20/33] /usr/bin/c++ -DBOOST_ALL_NO_LIB -DBOOST_CHRONO_DYN_LINK -DHDF_NO_NAMESPACE -DNO_STATIC_CAST -DOLD_HEADER_FILENAME -I/home/dweindl/src/AMICI-devel/python/examples/example_splines_swameye/amici_models/Swameye_PNAS2003_15nodes_FD -isystem /home/dweindl/src/AMICI-devel/py38/lib/python3.8/site-packages/amici/include -isystem /home/dweindl/src/AMICI-devel/py38/lib/python3.8/site-packages/amici/share/amici/swig -isystem /usr/include/hdf5/serial -O3 -DNDEBUG -std=gnu++17 -fPIC -fopenmp -MD -MT CMakeFiles/Swameye_PNAS2003_15nodes_FD.dir/dJydsigma.cpp.o -MF CMakeFiles/Swameye_PNAS2003_15nodes_FD.dir/dJydsigma.cpp.o.d -o CMakeFiles/Swameye_PNAS2003_15nodes_FD.dir/dJydsigma.cpp.o -c /home/dweindl/src/AMICI-devel/python/examples/example_splines_swameye/amici_models/Swameye_PNAS2003_15nodes_FD/dJydsigma.cpp\n",
      "[21/33] /usr/bin/c++ -DBOOST_ALL_NO_LIB -DBOOST_CHRONO_DYN_LINK -DHDF_NO_NAMESPACE -DNO_STATIC_CAST -DOLD_HEADER_FILENAME -I/home/dweindl/src/AMICI-devel/python/examples/example_splines_swameye/amici_models/Swameye_PNAS2003_15nodes_FD -isystem /home/dweindl/src/AMICI-devel/py38/lib/python3.8/site-packages/amici/include -isystem /home/dweindl/src/AMICI-devel/py38/lib/python3.8/site-packages/amici/share/amici/swig -isystem /usr/include/hdf5/serial -O3 -DNDEBUG -std=gnu++17 -fPIC -fopenmp -MD -MT CMakeFiles/Swameye_PNAS2003_15nodes_FD.dir/dwdp.cpp.o -MF CMakeFiles/Swameye_PNAS2003_15nodes_FD.dir/dwdp.cpp.o.d -o CMakeFiles/Swameye_PNAS2003_15nodes_FD.dir/dwdp.cpp.o -c /home/dweindl/src/AMICI-devel/python/examples/example_splines_swameye/amici_models/Swameye_PNAS2003_15nodes_FD/dwdp.cpp\n",
      "[22/33] /usr/bin/c++ -DBOOST_ALL_NO_LIB -DBOOST_CHRONO_DYN_LINK -DHDF_NO_NAMESPACE -DNO_STATIC_CAST -DOLD_HEADER_FILENAME -I/home/dweindl/src/AMICI-devel/python/examples/example_splines_swameye/amici_models/Swameye_PNAS2003_15nodes_FD -isystem /home/dweindl/src/AMICI-devel/py38/lib/python3.8/site-packages/amici/include -isystem /home/dweindl/src/AMICI-devel/py38/lib/python3.8/site-packages/amici/share/amici/swig -isystem /usr/include/hdf5/serial -O3 -DNDEBUG -std=gnu++17 -fPIC -fopenmp -MD -MT CMakeFiles/Swameye_PNAS2003_15nodes_FD.dir/y.cpp.o -MF CMakeFiles/Swameye_PNAS2003_15nodes_FD.dir/y.cpp.o.d -o CMakeFiles/Swameye_PNAS2003_15nodes_FD.dir/y.cpp.o -c /home/dweindl/src/AMICI-devel/python/examples/example_splines_swameye/amici_models/Swameye_PNAS2003_15nodes_FD/y.cpp\n",
      "[23/33] /usr/bin/c++ -DBOOST_ALL_NO_LIB -DBOOST_CHRONO_DYN_LINK -DHDF_NO_NAMESPACE -DNO_STATIC_CAST -DOLD_HEADER_FILENAME -I/home/dweindl/src/AMICI-devel/python/examples/example_splines_swameye/amici_models/Swameye_PNAS2003_15nodes_FD -isystem /home/dweindl/src/AMICI-devel/py38/lib/python3.8/site-packages/amici/include -isystem /home/dweindl/src/AMICI-devel/py38/lib/python3.8/site-packages/amici/share/amici/swig -isystem /usr/include/hdf5/serial -O3 -DNDEBUG -std=gnu++17 -fPIC -fopenmp -MD -MT CMakeFiles/Swameye_PNAS2003_15nodes_FD.dir/dxdotdw.cpp.o -MF CMakeFiles/Swameye_PNAS2003_15nodes_FD.dir/dxdotdw.cpp.o.d -o CMakeFiles/Swameye_PNAS2003_15nodes_FD.dir/dxdotdw.cpp.o -c /home/dweindl/src/AMICI-devel/python/examples/example_splines_swameye/amici_models/Swameye_PNAS2003_15nodes_FD/dxdotdw.cpp\n",
      "[24/33] /usr/bin/c++ -DBOOST_ALL_NO_LIB -DBOOST_CHRONO_DYN_LINK -DHDF_NO_NAMESPACE -DNO_STATIC_CAST -DOLD_HEADER_FILENAME -I/home/dweindl/src/AMICI-devel/python/examples/example_splines_swameye/amici_models/Swameye_PNAS2003_15nodes_FD -isystem /home/dweindl/src/AMICI-devel/py38/lib/python3.8/site-packages/amici/include -isystem /home/dweindl/src/AMICI-devel/py38/lib/python3.8/site-packages/amici/share/amici/swig -isystem /usr/include/hdf5/serial -O3 -DNDEBUG -std=gnu++17 -fPIC -fopenmp -MD -MT CMakeFiles/Swameye_PNAS2003_15nodes_FD.dir/dydx.cpp.o -MF CMakeFiles/Swameye_PNAS2003_15nodes_FD.dir/dydx.cpp.o.d -o CMakeFiles/Swameye_PNAS2003_15nodes_FD.dir/dydx.cpp.o -c /home/dweindl/src/AMICI-devel/python/examples/example_splines_swameye/amici_models/Swameye_PNAS2003_15nodes_FD/dydx.cpp\n",
      "[25/33] /usr/bin/c++ -DBOOST_ALL_NO_LIB -DBOOST_CHRONO_DYN_LINK -DHDF_NO_NAMESPACE -DNO_STATIC_CAST -DOLD_HEADER_FILENAME -I/home/dweindl/src/AMICI-devel/python/examples/example_splines_swameye/amici_models/Swameye_PNAS2003_15nodes_FD -isystem /home/dweindl/src/AMICI-devel/py38/lib/python3.8/site-packages/amici/include -isystem /home/dweindl/src/AMICI-devel/py38/lib/python3.8/site-packages/amici/share/amici/swig -isystem /usr/include/hdf5/serial -O3 -DNDEBUG -std=gnu++17 -fPIC -fopenmp -MD -MT CMakeFiles/Swameye_PNAS2003_15nodes_FD.dir/dsigmaydy.cpp.o -MF CMakeFiles/Swameye_PNAS2003_15nodes_FD.dir/dsigmaydy.cpp.o.d -o CMakeFiles/Swameye_PNAS2003_15nodes_FD.dir/dsigmaydy.cpp.o -c /home/dweindl/src/AMICI-devel/python/examples/example_splines_swameye/amici_models/Swameye_PNAS2003_15nodes_FD/dsigmaydy.cpp\n",
      "[26/33] /usr/bin/c++ -DBOOST_ALL_NO_LIB -DBOOST_CHRONO_DYN_LINK -DHDF_NO_NAMESPACE -DNO_STATIC_CAST -DOLD_HEADER_FILENAME -I/home/dweindl/src/AMICI-devel/python/examples/example_splines_swameye/amici_models/Swameye_PNAS2003_15nodes_FD -isystem /home/dweindl/src/AMICI-devel/py38/lib/python3.8/site-packages/amici/include -isystem /home/dweindl/src/AMICI-devel/py38/lib/python3.8/site-packages/amici/share/amici/swig -isystem /usr/include/hdf5/serial -O3 -DNDEBUG -std=gnu++17 -fPIC -fopenmp -MD -MT CMakeFiles/Swameye_PNAS2003_15nodes_FD.dir/dJydy_rowvals.cpp.o -MF CMakeFiles/Swameye_PNAS2003_15nodes_FD.dir/dJydy_rowvals.cpp.o.d -o CMakeFiles/Swameye_PNAS2003_15nodes_FD.dir/dJydy_rowvals.cpp.o -c /home/dweindl/src/AMICI-devel/python/examples/example_splines_swameye/amici_models/Swameye_PNAS2003_15nodes_FD/dJydy_rowvals.cpp\n",
      "[27/33] /usr/bin/c++ -DBOOST_ALL_NO_LIB -DBOOST_CHRONO_DYN_LINK -DHDF_NO_NAMESPACE -DNO_STATIC_CAST -DOLD_HEADER_FILENAME -I/home/dweindl/src/AMICI-devel/python/examples/example_splines_swameye/amici_models/Swameye_PNAS2003_15nodes_FD -isystem /home/dweindl/src/AMICI-devel/py38/lib/python3.8/site-packages/amici/include -isystem /home/dweindl/src/AMICI-devel/py38/lib/python3.8/site-packages/amici/share/amici/swig -isystem /usr/include/hdf5/serial -O3 -DNDEBUG -std=gnu++17 -fPIC -fopenmp -MD -MT CMakeFiles/Swameye_PNAS2003_15nodes_FD.dir/w.cpp.o -MF CMakeFiles/Swameye_PNAS2003_15nodes_FD.dir/w.cpp.o.d -o CMakeFiles/Swameye_PNAS2003_15nodes_FD.dir/w.cpp.o -c /home/dweindl/src/AMICI-devel/python/examples/example_splines_swameye/amici_models/Swameye_PNAS2003_15nodes_FD/w.cpp\n",
      "[28/33] /usr/bin/c++ -DBOOST_ALL_NO_LIB -DBOOST_CHRONO_DYN_LINK -DHDF_NO_NAMESPACE -DNO_STATIC_CAST -DOLD_HEADER_FILENAME -I/home/dweindl/src/AMICI-devel/python/examples/example_splines_swameye/amici_models/Swameye_PNAS2003_15nodes_FD -isystem /home/dweindl/src/AMICI-devel/py38/lib/python3.8/site-packages/amici/include -isystem /home/dweindl/src/AMICI-devel/py38/lib/python3.8/site-packages/amici/share/amici/swig -isystem /usr/include/hdf5/serial -O3 -DNDEBUG -std=gnu++17 -fPIC -fopenmp -MD -MT CMakeFiles/Swameye_PNAS2003_15nodes_FD.dir/dxdotdw_rowvals.cpp.o -MF CMakeFiles/Swameye_PNAS2003_15nodes_FD.dir/dxdotdw_rowvals.cpp.o.d -o CMakeFiles/Swameye_PNAS2003_15nodes_FD.dir/dxdotdw_rowvals.cpp.o -c /home/dweindl/src/AMICI-devel/python/examples/example_splines_swameye/amici_models/Swameye_PNAS2003_15nodes_FD/dxdotdw_rowvals.cpp\n",
      "[29/33] /usr/bin/c++ -DBOOST_ALL_NO_LIB -DBOOST_CHRONO_DYN_LINK -DHDF_NO_NAMESPACE -DNO_STATIC_CAST -DOLD_HEADER_FILENAME -I/home/dweindl/src/AMICI-devel/python/examples/example_splines_swameye/amici_models/Swameye_PNAS2003_15nodes_FD -isystem /home/dweindl/src/AMICI-devel/py38/lib/python3.8/site-packages/amici/include -isystem /home/dweindl/src/AMICI-devel/py38/lib/python3.8/site-packages/amici/share/amici/swig -isystem /usr/include/hdf5/serial -O3 -DNDEBUG -std=gnu++17 -fPIC -fopenmp -MD -MT CMakeFiles/Swameye_PNAS2003_15nodes_FD.dir/wrapfunctions.cpp.o -MF CMakeFiles/Swameye_PNAS2003_15nodes_FD.dir/wrapfunctions.cpp.o.d -o CMakeFiles/Swameye_PNAS2003_15nodes_FD.dir/wrapfunctions.cpp.o -c /home/dweindl/src/AMICI-devel/python/examples/example_splines_swameye/amici_models/Swameye_PNAS2003_15nodes_FD/wrapfunctions.cpp\n",
      "[30/33] : && /home/dweindl/src/AMICI-devel/py38/lib/python3.8/site-packages/cmake/data/bin/cmake -E rm -f libSwameye_PNAS2003_15nodes_FD.a && /usr/bin/ar qc libSwameye_PNAS2003_15nodes_FD.a  CMakeFiles/Swameye_PNAS2003_15nodes_FD.dir/dJydy_colptrs.cpp.o CMakeFiles/Swameye_PNAS2003_15nodes_FD.dir/x_rdata.cpp.o CMakeFiles/Swameye_PNAS2003_15nodes_FD.dir/create_splines.cpp.o CMakeFiles/Swameye_PNAS2003_15nodes_FD.dir/dsigmaydp.cpp.o CMakeFiles/Swameye_PNAS2003_15nodes_FD.dir/xdot.cpp.o CMakeFiles/Swameye_PNAS2003_15nodes_FD.dir/dwdp_rowvals.cpp.o CMakeFiles/Swameye_PNAS2003_15nodes_FD.dir/dwdx.cpp.o CMakeFiles/Swameye_PNAS2003_15nodes_FD.dir/Jy.cpp.o CMakeFiles/Swameye_PNAS2003_15nodes_FD.dir/dwdp_colptrs.cpp.o CMakeFiles/Swameye_PNAS2003_15nodes_FD.dir/dspline_valuesdp.cpp.o CMakeFiles/Swameye_PNAS2003_15nodes_FD.dir/sigmay.cpp.o CMakeFiles/Swameye_PNAS2003_15nodes_FD.dir/x0.cpp.o CMakeFiles/Swameye_PNAS2003_15nodes_FD.dir/dxdotdw_colptrs.cpp.o CMakeFiles/Swameye_PNAS2003_15nodes_FD.dir/Swameye_PNAS2003_15nodes_FD.cpp.o CMakeFiles/Swameye_PNAS2003_15nodes_FD.dir/dydp.cpp.o CMakeFiles/Swameye_PNAS2003_15nodes_FD.dir/dJydy.cpp.o CMakeFiles/Swameye_PNAS2003_15nodes_FD.dir/dwdx_rowvals.cpp.o CMakeFiles/Swameye_PNAS2003_15nodes_FD.dir/x_solver.cpp.o CMakeFiles/Swameye_PNAS2003_15nodes_FD.dir/dwdx_colptrs.cpp.o CMakeFiles/Swameye_PNAS2003_15nodes_FD.dir/wrapfunctions.cpp.o CMakeFiles/Swameye_PNAS2003_15nodes_FD.dir/dJydsigma.cpp.o CMakeFiles/Swameye_PNAS2003_15nodes_FD.dir/dwdp.cpp.o CMakeFiles/Swameye_PNAS2003_15nodes_FD.dir/y.cpp.o CMakeFiles/Swameye_PNAS2003_15nodes_FD.dir/dydx.cpp.o CMakeFiles/Swameye_PNAS2003_15nodes_FD.dir/dxdotdw.cpp.o CMakeFiles/Swameye_PNAS2003_15nodes_FD.dir/dJydy_rowvals.cpp.o CMakeFiles/Swameye_PNAS2003_15nodes_FD.dir/dsigmaydy.cpp.o CMakeFiles/Swameye_PNAS2003_15nodes_FD.dir/w.cpp.o CMakeFiles/Swameye_PNAS2003_15nodes_FD.dir/dxdotdw_rowvals.cpp.o && /usr/bin/ranlib libSwameye_PNAS2003_15nodes_FD.a && :\n",
      "[31/33] cd /home/dweindl/src/AMICI-devel/python/examples/example_splines_swameye/amici_models/Swameye_PNAS2003_15nodes_FD/build_model_ext/swig && /home/dweindl/src/AMICI-devel/py38/lib/python3.8/site-packages/cmake/data/bin/cmake -E make_directory /home/dweindl/src/AMICI-devel/python/examples/example_splines_swameye/amici_models/Swameye_PNAS2003_15nodes_FD/build_model_ext/swig/CMakeFiles/_Swameye_PNAS2003_15nodes_FD.dir /home/dweindl/src/AMICI-devel/python/examples/example_splines_swameye/amici_models/Swameye_PNAS2003_15nodes_FD/build_model_ext/swig /home/dweindl/src/AMICI-devel/python/examples/example_splines_swameye/amici_models/Swameye_PNAS2003_15nodes_FD/build_model_ext/swig/CMakeFiles/_Swameye_PNAS2003_15nodes_FD.dir && /home/dweindl/src/AMICI-devel/py38/lib/python3.8/site-packages/cmake/data/bin/cmake -E env SWIG_LIB=/home/dweindl/src/AMICI-devel/ThirdParty/swig-4.0.2/install/share/swig/4.0.2 /home/dweindl/src/AMICI-devel/ThirdParty/swig-4.0.2/install/bin/swig -python -I/usr/include/python3.8 -I/home/dweindl/src/AMICI-devel/py38/lib/python3.8/site-packages/amici/include -I/home/dweindl/src/AMICI-devel/py38/lib/python3.8/site-packages/amici/share/amici/swig -I/home/dweindl/src/AMICI-devel/python/examples/example_splines_swameye/amici_models/Swameye_PNAS2003_15nodes_FD/swig/.. -I/home/dweindl/src/AMICI-devel/py38/lib/python3.8/site-packages/amici/include/../swig -I/home/dweindl/src/AMICI-devel/python/examples/example_splines_swameye/amici_models/Swameye_PNAS2003_15nodes_FD -I/usr/include -I/usr/include/hdf5/serial -outdir /home/dweindl/src/AMICI-devel/python/examples/example_splines_swameye/amici_models/Swameye_PNAS2003_15nodes_FD/build_model_ext/swig -c++ -interface _Swameye_PNAS2003_15nodes_FD -I/usr/include/python3.8 -I/home/dweindl/src/AMICI-devel/py38/lib/python3.8/site-packages/amici/include -I/home/dweindl/src/AMICI-devel/py38/lib/python3.8/site-packages/amici/share/amici/swig -I/home/dweindl/src/AMICI-devel/python/examples/example_splines_swameye/amici_models/Swameye_PNAS2003_15nodes_FD/swig/.. -I/home/dweindl/src/AMICI-devel/py38/lib/python3.8/site-packages/amici/include/../swig -o /home/dweindl/src/AMICI-devel/python/examples/example_splines_swameye/amici_models/Swameye_PNAS2003_15nodes_FD/build_model_ext/swig/CMakeFiles/_Swameye_PNAS2003_15nodes_FD.dir/Swameye_PNAS2003_15nodes_FDPYTHON_wrap.cxx /home/dweindl/src/AMICI-devel/python/examples/example_splines_swameye/amici_models/Swameye_PNAS2003_15nodes_FD/swig/Swameye_PNAS2003_15nodes_FD.i\n",
      "[32/33] /usr/bin/c++ -DBOOST_ALL_NO_LIB -DBOOST_CHRONO_DYN_LINK -DHDF_NO_NAMESPACE -DNO_STATIC_CAST -DOLD_HEADER_FILENAME -D_Swameye_PNAS2003_15nodes_FD_EXPORTS -I/usr/include/python3.8 -I/home/dweindl/src/AMICI-devel/python/examples/example_splines_swameye/amici_models/Swameye_PNAS2003_15nodes_FD/swig/.. -I/home/dweindl/src/AMICI-devel/py38/lib/python3.8/site-packages/amici/include/../swig -I/home/dweindl/src/AMICI-devel/python/examples/example_splines_swameye/amici_models/Swameye_PNAS2003_15nodes_FD -isystem /home/dweindl/src/AMICI-devel/py38/lib/python3.8/site-packages/amici/include -isystem /home/dweindl/src/AMICI-devel/py38/lib/python3.8/site-packages/amici/share/amici/swig -isystem /usr/include/hdf5/serial -O3 -DNDEBUG -std=gnu++17 -fPIC -fopenmp -MD -MT swig/CMakeFiles/_Swameye_PNAS2003_15nodes_FD.dir/CMakeFiles/_Swameye_PNAS2003_15nodes_FD.dir/Swameye_PNAS2003_15nodes_FDPYTHON_wrap.cxx.o -MF swig/CMakeFiles/_Swameye_PNAS2003_15nodes_FD.dir/CMakeFiles/_Swameye_PNAS2003_15nodes_FD.dir/Swameye_PNAS2003_15nodes_FDPYTHON_wrap.cxx.o.d -o swig/CMakeFiles/_Swameye_PNAS2003_15nodes_FD.dir/CMakeFiles/_Swameye_PNAS2003_15nodes_FD.dir/Swameye_PNAS2003_15nodes_FDPYTHON_wrap.cxx.o -c /home/dweindl/src/AMICI-devel/python/examples/example_splines_swameye/amici_models/Swameye_PNAS2003_15nodes_FD/build_model_ext/swig/CMakeFiles/_Swameye_PNAS2003_15nodes_FD.dir/Swameye_PNAS2003_15nodes_FDPYTHON_wrap.cxx\n",
      "[33/33] : && /usr/bin/c++ -fPIC -O3 -DNDEBUG   -shared  -o swig/_Swameye_PNAS2003_15nodes_FD.cpython-38-x86_64-linux-gnu.so swig/CMakeFiles/_Swameye_PNAS2003_15nodes_FD.dir/CMakeFiles/_Swameye_PNAS2003_15nodes_FD.dir/Swameye_PNAS2003_15nodes_FDPYTHON_wrap.cxx.o  -Wl,-rpath,/usr/lib/x86_64-linux-gnu/hdf5/serial  /usr/lib/x86_64-linux-gnu/libpython3.8.so  libSwameye_PNAS2003_15nodes_FD.a  /home/dweindl/src/AMICI-devel/py38/lib/python3.8/site-packages/amici/lib/libamici.a  /home/dweindl/src/AMICI-devel/py38/lib/python3.8/site-packages/amici/lib/libsundials_generic.a  /home/dweindl/src/AMICI-devel/py38/lib/python3.8/site-packages/amici/lib/libsundials_nvecserial.a  /home/dweindl/src/AMICI-devel/py38/lib/python3.8/site-packages/amici/lib/libsundials_sunlinsolband.a  /home/dweindl/src/AMICI-devel/py38/lib/python3.8/site-packages/amici/lib/libsundials_sunmatrixband.a  /home/dweindl/src/AMICI-devel/py38/lib/python3.8/site-packages/amici/lib/libsundials_sunlinsoldense.a  /home/dweindl/src/AMICI-devel/py38/lib/python3.8/site-packages/amici/lib/libsundials_sunmatrixdense.a  /home/dweindl/src/AMICI-devel/py38/lib/python3.8/site-packages/amici/lib/libsundials_sunlinsolpcg.a  /home/dweindl/src/AMICI-devel/py38/lib/python3.8/site-packages/amici/lib/libsundials_sunlinsolspbcgs.a  /home/dweindl/src/AMICI-devel/py38/lib/python3.8/site-packages/amici/lib/libsundials_sunlinsolspfgmr.a  /home/dweindl/src/AMICI-devel/py38/lib/python3.8/site-packages/amici/lib/libsundials_sunlinsolspgmr.a  /home/dweindl/src/AMICI-devel/py38/lib/python3.8/site-packages/amici/lib/libsundials_sunlinsolsptfqmr.a  /home/dweindl/src/AMICI-devel/py38/lib/python3.8/site-packages/amici/lib/libsundials_sunlinsolklu.a  /home/dweindl/src/AMICI-devel/py38/lib/python3.8/site-packages/amici/lib/libsundials_sunmatrixsparse.a  /home/dweindl/src/AMICI-devel/py38/lib/python3.8/site-packages/amici/lib/libklu.a  /home/dweindl/src/AMICI-devel/py38/lib/python3.8/site-packages/amici/lib/libcolamd.a  /home/dweindl/src/AMICI-devel/py38/lib/python3.8/site-packages/amici/lib/libbtf.a  /home/dweindl/src/AMICI-devel/py38/lib/python3.8/site-packages/amici/lib/libamd.a  /home/dweindl/src/AMICI-devel/py38/lib/python3.8/site-packages/amici/lib/libsuitesparseconfig.a  /home/dweindl/src/AMICI-devel/py38/lib/python3.8/site-packages/amici/lib/libsundials_sunnonlinsolnewton.a  /home/dweindl/src/AMICI-devel/py38/lib/python3.8/site-packages/amici/lib/libsundials_sunnonlinsolfixedpoint.a  /home/dweindl/src/AMICI-devel/py38/lib/python3.8/site-packages/amici/lib/libsundials_cvodes.a  /home/dweindl/src/AMICI-devel/py38/lib/python3.8/site-packages/amici/lib/libsundials_idas.a  -lm  -lcblas  /usr/lib/x86_64-linux-gnu/libboost_chrono.so.1.74.0  /usr/lib/gcc/x86_64-linux-gnu/12/libgomp.so  /usr/lib/x86_64-linux-gnu/libpthread.so  -ldl  /usr/lib/x86_64-linux-gnu/hdf5/serial/libhdf5_hl_cpp.so  /usr/lib/x86_64-linux-gnu/hdf5/serial/libhdf5_hl.so  /usr/lib/x86_64-linux-gnu/hdf5/serial/libhdf5_cpp.so  /usr/lib/x86_64-linux-gnu/hdf5/serial/libhdf5.so && :\n",
      "-- Install configuration: \"Release\"\n",
      "-- Installing: /home/dweindl/src/AMICI-devel/python/examples/example_splines_swameye/amici_models/Swameye_PNAS2003_15nodes_FD/Swameye_PNAS2003_15nodes_FD/./Swameye_PNAS2003_15nodes_FD.py\n",
      "-- Installing: /home/dweindl/src/AMICI-devel/python/examples/example_splines_swameye/amici_models/Swameye_PNAS2003_15nodes_FD/Swameye_PNAS2003_15nodes_FD/./_Swameye_PNAS2003_15nodes_FD.cpython-38-x86_64-linux-gnu.so\n",
      "-- Installing: /home/dweindl/src/AMICI-devel/python/examples/example_splines_swameye/amici_models/Swameye_PNAS2003_15nodes_FD/Swameye_PNAS2003_15nodes_FD/lib/libSwameye_PNAS2003_15nodes_FD.a\n",
      "------------------------------ model_ext ------------------------------\n",
      "------------------------------ model_ext ------------------------------\n",
      "running AmiciBuildCMakeExtension\n",
      "\n",
      "==> Configuring:\n",
      "$ cmake -S /home/dweindl/src/AMICI-devel/python/examples/example_splines_swameye/amici_models/Swameye_PNAS2003_15nodes_FD -B /home/dweindl/src/AMICI-devel/python/examples/example_splines_swameye/amici_models/Swameye_PNAS2003_15nodes_FD/build_model_ext -GNinja -DCMAKE_BUILD_TYPE=Release -DCMAKE_INSTALL_PREFIX:PATH=/home/dweindl/src/AMICI-devel/python/examples/example_splines_swameye/amici_models/Swameye_PNAS2003_15nodes_FD/Swameye_PNAS2003_15nodes_FD -DCMAKE_MAKE_PROGRAM=/home/dweindl/src/AMICI-devel/py38/bin/ninja -DCMAKE_VERBOSE_MAKEFILE=ON -DCMAKE_MODULE_PATH=/home/dweindl/src/AMICI-devel/py38/lib/python3.8/site-packages/amici/lib/cmake/SuiteSparse;/home/dweindl/src/AMICI-devel/py38/lib/python3.8/site-packages/amici/lib64/cmake/SuiteSparse -DKLU_ROOT=/home/dweindl/src/AMICI-devel/py38/lib/python3.8/site-packages/amici -DAMICI_PYTHON_BUILD_EXT_ONLY=ON\n",
      "\n",
      "==> Building:\n",
      "$ cmake --build /home/dweindl/src/AMICI-devel/python/examples/example_splines_swameye/amici_models/Swameye_PNAS2003_15nodes_FD/build_model_ext --config Release\n",
      "\n",
      "==> Installing:\n",
      "$ cmake --install /home/dweindl/src/AMICI-devel/python/examples/example_splines_swameye/amici_models/Swameye_PNAS2003_15nodes_FD/build_model_ext\n",
      "\n",
      "\n"
     ]
    }
   ],
   "source": [
    "# Import PEtab problem into pyPESTO\n",
    "pypesto_problem = pypesto.petab.PetabImporter(petab_problem, model_name=name).create_problem()"
   ]
  },
  {
   "cell_type": "markdown",
   "id": "0c890937-c9e8-4617-992f-65d39479ed55",
   "metadata": {},
   "source": [
    "### Maximum Likelihood estimation\n",
    "We will optimize the problem for different values of the regularization strength $\\lambda$, then compute the sum of squared normalized residuals for each of the resulting parameter vectors. The one for which such a value is nearest to its expected value of $15$ (the number of observations from the input function) will be chosen as the final estimate."
   ]
  },
  {
   "cell_type": "markdown",
   "id": "3c33c2c6-b299-40a6-83b1-a3724d72dfc8",
   "metadata": {
    "tags": []
   },
   "source": [
    "## Spline approximation with few nodes, optimizing derivatives explicitly\n",
    "An alternative way to achieve higher expressivity, while not increasing the number of nodes, is to optimize the derivatives of the spline at the nodes instead of computing them by finite differencing. The risk of overfitting is still present, so we will include regularization as in the above example."
   ]
  },
  {
   "cell_type": "markdown",
   "id": "8ab36ca3-4555-4fd0-9a98-8ed8fc899fee",
   "metadata": {},
   "source": [
    "### Creating the PEtab model"
   ]
  },
  {
   "cell_type": "code",
   "execution_count": 48,
   "id": "ec220c5d-ec0b-44f3-bfae-129ffe3ee26b",
   "metadata": {
    "tags": []
   },
   "outputs": [],
   "source": [
    "# Problem name\n",
    "name = \"Swameye_PNAS2003_5nodes\""
   ]
  },
  {
   "cell_type": "markdown",
   "id": "a3ef383a-c34c-40cb-bdd9-4012554ba0fe",
   "metadata": {},
   "source": [
    "We now need to create additional parameters for the spline derivatives too."
   ]
  },
  {
   "cell_type": "code",
   "execution_count": 49,
   "id": "e686b762-b485-4624-bbd6-27220bdb9c03",
   "metadata": {
    "tags": []
   },
   "outputs": [],
   "source": [
    "# Create spline for pEpoR\n",
    "nodes = [0, 5, 10, 20, 60]\n",
    "values_at_nodes = [sp.Symbol(f\"pEpoR_t{str(t).replace('.', '_dot_')}\") for t in nodes]\n",
    "derivatives_at_nodes = [sp.Symbol(f\"derivative_pEpoR_t{str(t).replace('.', '_dot_')}\") for t in nodes[:-1]]\n",
    "spline = amici.splines.CubicHermiteSpline(\n",
    "    sbml_id='pEpoR',\n",
    "    evaluate_at=amici.sbml_utils.amici_time_symbol,\n",
    "    nodes=nodes,\n",
    "    values_at_nodes=values_at_nodes,\n",
    "    derivatives_at_nodes=derivatives_at_nodes + [0], # last value is zero because steady state is reached\n",
    "    extrapolate=(None, \"constant\"),\n",
    "    bc=\"auto\",\n",
    "    logarithmic_parametrization=True,\n",
    ")"
   ]
  },
  {
   "cell_type": "code",
   "execution_count": 50,
   "id": "8b0924bf-ec72-4631-a3db-3325945e3ccb",
   "metadata": {
    "tags": []
   },
   "outputs": [],
   "source": [
    "# Compute L2 norm of the curvature of pEpoR\n",
    "regularization = spline.squared_L2_norm_of_curvature()"
   ]
  },
  {
   "cell_type": "code",
   "execution_count": 51,
   "id": "80ca3be0-a3b2-446d-96fc-edbf405215db",
   "metadata": {
    "tags": []
   },
   "outputs": [],
   "source": [
    "# Add a parameter for regularization strength\n",
    "reg_parameters_df = pd.DataFrame(\n",
    "    dict(parameterScale='log10', lowerBound=1e-6, upperBound=1e6, nominalValue=1.0, estimate=0),\n",
    "    index=pd.Series(['regularization_strength'], name=\"parameterId\"),\n",
    ")\n",
    "# Encode regularization term as an additional observable\n",
    "reg_observables_df = pd.DataFrame(\n",
    "    dict(observableFormula=str(regularization).replace('**', '^'), observableTransformation='lin', noiseFormula='1/regularization_strength', noiseDistribution='normal'),\n",
    "    index=pd.Series(['regularization'], name=\"observableId\"),\n",
    ")\n",
    "# and correspoding measurement\n",
    "reg_measurements_df = pd.DataFrame(\n",
    "    dict(observableId='regularization', simulationConditionId='condition1', measurement=0, time=0, observableTransformation='lin'),\n",
    "    index=pd.Series([0]),\n",
    ")"
   ]
  },
  {
   "cell_type": "code",
   "execution_count": 52,
   "id": "6c9af000-624f-46a6-907b-fa1875a87986",
   "metadata": {
    "tags": []
   },
   "outputs": [],
   "source": [
    "# Add spline formula to SBML model\n",
    "sbml_doc = libsbml.SBMLReader().readSBML(os.path.join('Swameye_PNAS2003', 'swameye2003_model.xml'))\n",
    "sbml_model = sbml_doc.getModel()\n",
    "spline.add_to_sbml_model(sbml_model, auto_add=True, y_nominal=0.1, y_constant=True)"
   ]
  },
  {
   "cell_type": "code",
   "execution_count": 53,
   "id": "266ea27b-4eff-4fdf-98db-0009389cca81",
   "metadata": {
    "tags": []
   },
   "outputs": [],
   "source": [
    "# Derivative parameters must be added separately\n",
    "for p in derivatives_at_nodes:\n",
    "    amici.sbml_utils.add_parameter(sbml_model, p, value=0.0, constant=True)"
   ]
  },
  {
   "cell_type": "code",
   "execution_count": 54,
   "id": "223e47a3-6d7b-49af-94ef-f536aeea3e18",
   "metadata": {
    "tags": []
   },
   "outputs": [],
   "source": [
    "# Extra parameters associated to the spline\n",
    "spline_parameters_df1 = pd.DataFrame(\n",
    "    dict(parameterScale='log', lowerBound=0.001, upperBound=10, nominalValue=0.1, estimate=1),\n",
    "    index=pd.Series(list(map(str, values_at_nodes)), name=\"parameterId\"),\n",
    ")\n",
    "spline_parameters_df2 = pd.DataFrame(\n",
    "    dict(parameterScale='lin', lowerBound=-0.666, upperBound=0.666, nominalValue=0.0, estimate=1),\n",
    "    index=pd.Series(list(map(str, derivatives_at_nodes)), name=\"parameterId\"),\n",
    ")"
   ]
  },
  {
   "cell_type": "code",
   "execution_count": 55,
   "id": "5afa675e-0f72-4ff4-b18a-538a8a5f1d4e",
   "metadata": {
    "tags": []
   },
   "outputs": [],
   "source": [
    "# Create PEtab problem\n",
    "petab_problem = petab.Problem(\n",
    "    sbml_model,\n",
    "    condition_df=petab.conditions.get_condition_df(os.path.join('Swameye_PNAS2003', 'swameye2003_conditions.tsv')),\n",
    "    measurement_df=petab.core.concat_tables(\n",
    "        [os.path.join('Swameye_PNAS2003', 'swameye2003_measurements.tsv'), reg_measurements_df],\n",
    "        petab.measurements.get_measurement_df\n",
    "    ).reset_index(drop=True),\n",
    "    parameter_df=petab.core.concat_tables(\n",
    "        [os.path.join('Swameye_PNAS2003', 'swameye2003_parameters.tsv'), spline_parameters_df1, spline_parameters_df2, reg_parameters_df],\n",
    "        petab.parameters.get_parameter_df\n",
    "    ),\n",
    "    observable_df=petab.core.concat_tables(\n",
    "        [os.path.join('Swameye_PNAS2003', 'swameye2003_observables.tsv'), reg_observables_df],\n",
    "        petab.observables.get_observable_df\n",
    "    ),\n",
    ")"
   ]
  },
  {
   "cell_type": "code",
   "execution_count": 56,
   "id": "acb52953-ab44-4beb-9378-3ab8f743c1f8",
   "metadata": {
    "tags": []
   },
   "outputs": [],
   "source": [
    "# Check whether PEtab model is valid\n",
    "assert not petab.lint_problem(petab_problem)"
   ]
  },
  {
   "cell_type": "code",
   "execution_count": 57,
   "id": "2b4d2215-0551-4f9c-a092-c22259405582",
   "metadata": {
    "tags": []
   },
   "outputs": [],
   "source": [
    "# Save PEtab problem to disk\n",
    "# import shutil\n",
    "# shutil.rmtree(name, ignore_errors=True)\n",
    "# os.mkdir(name)\n",
    "# petab_problem.to_files_generic(prefix_path=name)"
   ]
  },
  {
   "cell_type": "markdown",
   "id": "5466e058-089c-4bc7-a7bb-1f88649fb29f",
   "metadata": {},
   "source": [
    "### Creating the pyPESTO problem"
   ]
  },
  {
   "cell_type": "code",
   "execution_count": 58,
   "id": "6fc63a63-d5f3-45a3-b8a2-284e07b229e0",
   "metadata": {
    "tags": []
   },
   "outputs": [],
   "source": [
    "# Problem must be \"flattened\" to be used with AMICI\n",
    "petab.core.flatten_timepoint_specific_output_overrides(petab_problem)"
   ]
  },
  {
   "cell_type": "code",
   "execution_count": 59,
   "id": "4c55449b-b877-451d-8a40-0547c9f88e12",
   "metadata": {
    "tags": []
   },
   "outputs": [],
   "source": [
    "# Check whether simulation from the PEtab problem works\n",
    "# import amici.petab_simulate\n",
    "# simulator = amici.petab_simulate.PetabSimulator(petab_problem)\n",
    "# simulator.simulate(noise=False)"
   ]
  },
  {
   "cell_type": "code",
   "execution_count": 60,
   "id": "bbb28c44-11d3-4a74-996f-cc13870b091b",
   "metadata": {
    "tags": []
   },
   "outputs": [],
   "source": [
    "# Import PEtab problem into pyPESTO\n",
    "pypesto_problem = pypesto.petab.PetabImporter(petab_problem, model_name=name).create_problem()"
   ]
  },
  {
   "cell_type": "markdown",
   "id": "ca2f1ac5-4616-43bd-88ce-3e424461ccd2",
   "metadata": {},
   "source": [
    "### Maximum Likelihood estimation"
   ]
  },
  {
   "cell_type": "markdown",
   "id": "2ced065a-4b15-4403-91c6-6a46dc0b3e66",
   "metadata": {},
   "source": [
    "## Bibliography\n",
    "Schelker, M. et al. (2012). “Comprehensive estimation of input signals and dynamics in biochemical reaction networks”. In: Bioinformatics 28.18, pp. i529–i534. doi: [10.1093/bioinformatics/bts393](https://doi.org/10.1093/bioinformatics/bts393).\n",
    "\n",
    "Swameye, I. et al. (2003). “Identification of nucleocytoplasmic cycling as a remote sensor in cellular signaling by databased modeling”. In: Proceedings of the National Academy of Sciences 100.3, pp. 1028–1033. doi: [10.1073/pnas.0237333100](https://doi.org/10.1073/pnas.0237333100)."
   ]
  }
 ],
 "metadata": {
  "kernelspec": {
   "display_name": "Python 3 (ipykernel)",
   "language": "python",
   "name": "python3"
  },
  "language_info": {
   "codemirror_mode": {
    "name": "ipython",
    "version": 3
   },
   "file_extension": ".py",
   "mimetype": "text/x-python",
   "name": "python",
   "nbconvert_exporter": "python",
   "pygments_lexer": "ipython3",
   "version": "3.8.16"
  },
  "toc": {
   "base_numbering": 1,
   "nav_menu": {},
   "number_sections": true,
   "sideBar": true,
   "skip_h1_title": false,
   "title_cell": "Table of Contents",
   "title_sidebar": "Contents",
   "toc_cell": false,
   "toc_position": {},
   "toc_section_display": true,
   "toc_window_display": false
  }
 },
 "nbformat": 4,
 "nbformat_minor": 5
}
