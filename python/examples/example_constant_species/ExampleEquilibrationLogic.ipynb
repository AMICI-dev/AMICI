{
 "cells": [
  {
   "cell_type": "markdown",
   "metadata": {},
   "source": [
    "# AMICI documentation example of the steady state solver logic\n",
    "\n",
    "This is an example to document the internal logic of the steady state solver, which is used in preequilibration and postequilibration."
   ]
  },
  {
   "cell_type": "markdown",
   "metadata": {},
   "source": [
    "## Steady states of dynamical system\n",
    "\n",
    "Not every dynamical system needs to run into a steady state. Instead, it may exhibit \n",
    " * continuous growth, e.g., $$\\dot{x} = x, \\quad x_0 = 1$$\n",
    " * a finite-time blow up, e.g., $$\\dot{x} = x^2, \\quad x_0 = 1$$\n",
    " * oscillations, e.g., $$\\ddot{x} = -x, \\quad x_0 = 1$$\n",
    " * chaotic beviour, e.g., the Lorentz attractor\n",
    " \n",
    "If the considered dynamical system has a steady state for positive times, then integrating the ODE long enough will equilibrate the system to this steady state. However, this may be computationally more demanding than other approaches and may fail, if the maximum number of integration steps is exceeded before reaching the steady state.\n",
    "\n",
    "In general, Newton's method will find the steady state faster than forward simulation. However, it only convereges if started close enough to the steady state. Moreover, it will not work, if the dynamical system has conserved quantities which are not removed: Conserved quantities will cause singularities in the Jacobian of the right hand side of the system, such that the linear problem within each step of Newton's method can not be solved."
   ]
  },
  {
   "cell_type": "markdown",
   "metadata": {},
   "source": [
    "## Logic of the steady state solver\n",
    "\n",
    "If AMICI has to equilibrate a dynamical system, it can do this either via simulating until the right hand side of the system becomes small, or it can try to find the steady state directly by Newton's method.\n",
    "Amici decides automatically which approach is chosen and how forward or adjoint sensitivities are computed, if requested. However, the user can influence this behavior, if prior knowledge about the dynamical is available.\n",
    "\n",
    "The logic which AMICI will follow to equilibrate the system works as follows:"
   ]
  },
  {
   "cell_type": "code",
   "execution_count": null,
   "metadata": {
    "scrolled": false
   },
   "outputs": [],
   "source": [
    "from IPython.display import Image\n",
    "fig = Image(filename=('../../../documentation/gfx/steadystate_solver_workflow.png'))\n",
    "fig"
   ]
  },
  {
   "cell_type": "markdown",
   "metadata": {},
   "source": [
    "## The example model\n",
    "\n",
    "We will use the example model `model_constant_species.xml`, which has conserved species. Those are automatically removed in the SBML import of AMICI, but they can also be kept in the model to demonstrate the failure of Newton's method due to a singular right hand side Jacobian."
   ]
  },
  {
   "cell_type": "code",
   "execution_count": null,
   "metadata": {},
   "outputs": [],
   "source": [
    "import libsbml\n",
    "import importlib\n",
    "import amici\n",
    "import os\n",
    "import sys\n",
    "import numpy as np\n",
    "import matplotlib.pyplot as plt\n",
    "\n",
    "# SBML model we want to import\n",
    "sbml_file = 'model_constant_species.xml'\n",
    "\n",
    "# Name of the models that will also be the name of the python module\n",
    "model_name = 'model_constant_species'\n",
    "model_reduced_name = model_name + '_reduced'\n",
    "\n",
    "# Directories to which the generated model code is written\n",
    "model_output_dir = model_name\n",
    "model_reduced_output_dir = model_reduced_name\n",
    "\n",
    "# Read the model and give some output\n",
    "sbml_reader = libsbml.SBMLReader()\n",
    "sbml_doc = sbml_reader.readSBML(sbml_file)\n",
    "sbml_model = sbml_doc.getModel()\n",
    "dir(sbml_doc)\n",
    "\n",
    "print('Species: ', [s.getId() for s in sbml_model.getListOfSpecies()])\n",
    "\n",
    "print('\\nReactions:')\n",
    "for reaction in sbml_model.getListOfReactions():\n",
    "    reactants = ' + '.join(['%s %s'%(int(r.getStoichiometry()) if r.getStoichiometry() > 1 else '', r.getSpecies()) for r in reaction.getListOfReactants()])\n",
    "    products  = ' + '.join(['%s %s'%(int(r.getStoichiometry()) if r.getStoichiometry() > 1 else '', r.getSpecies()) for r in reaction.getListOfProducts()])\n",
    "    reversible = '<' if reaction.getReversible() else ''\n",
    "    print('%3s: %10s %1s->%10s\\t\\t[%s]' % (reaction.getId(), \n",
    "                        reactants,\n",
    "                        reversible,\n",
    "                        products,\n",
    "                        libsbml.formulaToL3String(reaction.getKineticLaw().getMath())))\n",
    "\n"
   ]
  },
  {
   "cell_type": "code",
   "execution_count": null,
   "metadata": {},
   "outputs": [],
   "source": [
    "# Create an SbmlImporter instance for our SBML model\n",
    "sbml_importer = amici.SbmlImporter(sbml_file)\n",
    "\n",
    "# specify observables and constant parameters\n",
    "constantParameters = ['init_substrate', 'init_enzyme']\n",
    "observables = {\n",
    "    'observable_product': {'name': '', 'formula': 'product'},\n",
    "    'observable_substrate': {'name': '', 'formula': 'substrate'},\n",
    "}\n",
    "sigmas = {'observable_product': 1.0, 'observable_substrate': 1.0}\n",
    "\n",
    "# import the model\n",
    "sbml_importer.sbml2amici(model_reduced_name,\n",
    "                         model_reduced_output_dir,\n",
    "                         observables=observables,\n",
    "                         constantParameters=constantParameters,\n",
    "                         sigmas=sigmas)\n",
    "sbml_importer.sbml2amici(model_name,\n",
    "                         model_output_dir,\n",
    "                         observables=observables,\n",
    "                         constantParameters=constantParameters,\n",
    "                         sigmas=sigmas,\n",
    "                         compute_conservation_laws=False)"
   ]
  },
  {
   "cell_type": "code",
   "execution_count": null,
   "metadata": {},
   "outputs": [],
   "source": [
    "# import the models and run some test simulations\n",
    "model_reduced_module = amici.import_model_module(model_reduced_name, os.path.abspath(model_reduced_output_dir))\n",
    "model_reduced = model_reduced_module.getModel()\n",
    "\n",
    "model_module = amici.import_model_module(model_name, os.path.abspath(model_output_dir))\n",
    "model = model_module.getModel()\n",
    "\n",
    "\n",
    "# simulate model with conservation laws\n",
    "model_reduced.setTimepoints(np.linspace(0, 2, 100))\n",
    "solver_reduced = model_reduced.getSolver()\n",
    "rdata_reduced = amici.runAmiciSimulation(model_reduced, solver_reduced)\n",
    "\n",
    "# simulate model without conservation laws\n",
    "model.setTimepoints(np.linspace(0, 2, 100))\n",
    "solver = model.getSolver()\n",
    "rdata = amici.runAmiciSimulation(model, solver)\n",
    "\n",
    "# plot trajectories\n",
    "import amici.plotting\n",
    "amici.plotting.plotStateTrajectories(rdata_reduced, model=model_reduced)\n",
    "amici.plotting.plotObservableTrajectories(rdata_reduced, model=model_reduced)\n",
    "\n",
    "amici.plotting.plotStateTrajectories(rdata, model=model)\n",
    "amici.plotting.plotObservableTrajectories(rdata, model=model)"
   ]
  },
  {
   "cell_type": "markdown",
   "metadata": {},
   "source": [
    "## Inferring the steady state of the system (postequilibration)\n",
    "\n",
    "First, we want to demonstrate that Newton's method will fail with the unreduced model due to a singular right hand side Jacobian."
   ]
  },
  {
   "cell_type": "code",
   "execution_count": null,
   "metadata": {
    "scrolled": false
   },
   "outputs": [],
   "source": [
    "# Call postequilibration by setting an infinity timepoint\n",
    "model.setTimepoints(np.full(1, np.inf))\n",
    "\n",
    "# set the solver \n",
    "solver = model.getSolver()\n",
    "solver.setNewtonMaxSteps(10)\n",
    "solver.setMaxSteps(1000)\n",
    "rdata = amici.runAmiciSimulation(model, solver)\n",
    "\n",
    "#np.set_printoptions(threshold=8, edgeitems=2)\n",
    "for key, value in rdata.items():\n",
    "    print('%12s: ' % key, value)"
   ]
  },
  {
   "cell_type": "markdown",
   "metadata": {},
   "source": [
    "The field `posteq_numsteps` in rdata tells us how postequilibration worked:\n",
    " * the first entry informs us about the number of steps in Newton's method (here 0, as Newton's method did not work)\n",
    " * the second entry tells us, how many integration steps were taken until steady state was reached\n",
    " * the third entry informs us about the number of Newton steps in the second launch, after simulation\n",
    "\n",
    "Here, only the second entry contains an integer, which is smaller than the maximum number of steps taken (<1000). Hence steady state was reached via simulation, which corresponds to the simulated time written to `preeq_time`.\n",
    "\n",
    "We want to demonstrate a complete failure if inferring the steady state by reducing the number of integration steps to a lower value:"
   ]
  },
  {
   "cell_type": "code",
   "execution_count": null,
   "metadata": {},
   "outputs": [],
   "source": [
    "# reduce maxsteps for integration\n",
    "solver.setMaxSteps(100)\n",
    "rdata = amici.runAmiciSimulation(model, solver)"
   ]
  },
  {
   "cell_type": "markdown",
   "metadata": {},
   "source": [
    "However, the same logic works, if we use the reduced model.\n",
    "For sufficiently many Newton steps, postequilibration is achieved by Newton's method in the first run. In this specific example, the steady state is found within one step."
   ]
  },
  {
   "cell_type": "code",
   "execution_count": null,
   "metadata": {
    "scrolled": false
   },
   "outputs": [],
   "source": [
    "# Call postequilibration by setting an infinity timepoint\n",
    "model_reduced.setTimepoints(np.full(1, np.inf))\n",
    "\n",
    "# set the solver \n",
    "solver_reduced = model_reduced.getSolver()\n",
    "solver_reduced.setNewtonMaxSteps(10)\n",
    "solver_reduced.setMaxSteps(100)\n",
    "rdata_reduced = amici.runAmiciSimulation(model_reduced, solver_reduced)\n",
    "\n",
    "#np.set_printoptions(threshold=8, edgeitems=2)\n",
    "for key, value in rdata_reduced.items():\n",
    "    print('%12s: ' % key, value)"
   ]
  },
  {
   "cell_type": "markdown",
   "metadata": {},
   "source": [
    "## Postequilibration with sensitivities\n",
    "\n",
    "Currently, postequilibration is only possible with forward sensitivity analysis. However, the possibility to use adjoint sensitivity analysis will soon be implemented.\n",
    "\n",
    "If forward sensitivity analysis is used, then state sensitivities at the timepoint `np.inf` will be computed. This can be done in (currently) two different ways:\n",
    " 1. If the Jacobian $\\nabla_x f$ of the right hand side $f$ is not (close to) singular, the most efficient approach will be solving the linear system of equations, which defines the steady state sensitivities:\n",
    " $$ \n",
    " 0 = \\dot{s}^x = (\\nabla_x f) s^x + \\frac{\\partial f}{\\partial \\theta} \n",
    " \\qquad \\Rightarrow \\qquad\n",
    " (\\nabla_x f) s^x = - \\frac{\\partial f}{\\partial \\theta} \n",
    " $$\n",
    " This approach will always be chosen by AMICI, if the option `model.SteadyStateSensitivityMode` is set to `SteadyStateSensitivityMode.newtonOnly`. Furthermore, it will also be chosen, if the steady state was found by Newton's method, as in this case, the Jacobian is at least not singular. A check for the condition number of the Jacobian is currently missing, but will soon be implemented.\n",
    " 2. If the Jacobian is poorly conditioned or singular, then the only way to obtain a reliable result will be integrating the state variables with state sensitivities until the norm of the right hand side becomes small. This approach will be chosen by AMICI, if the steady state was found by simulation and the option `model.SteadyStateSensitivityMode` is set to `SteadyStateSensitivityMode.simulationFSA`. This approach is numerically more stable, but the computation time for large models may be substantial.\n",
    "\n",
    "Side remark:\n",
    "\n",
    "A possible third way may consist in a (relaxed) Richardson iteration type approach, which interprets the entries of the right hand side $f$ as residuals and minimizes the squared residuals $\\Vert f \\Vert^2$ by a Levenberg-Marquart-type algorithm. This approach would also work for poorly conditioned Jacobians (or could implement additional constraints as Lagrange multipliers) while being faster than a long forward simulation."
   ]
  },
  {
   "cell_type": "markdown",
   "metadata": {},
   "source": [
    "We want to demonstrate both possibilities to find the steady state sensitivities, as well as the failure of their computation if the Jacobian is singular and the `newtonOnly` setting was used."
   ]
  },
  {
   "cell_type": "code",
   "execution_count": null,
   "metadata": {
    "scrolled": false
   },
   "outputs": [],
   "source": [
    "# Call simulation with singular Jacobian and simulationFSA mode\n",
    "model.setTimepoints(np.full(1, np.inf))\n",
    "model.setSteadyStateSensitivityMode(amici.SteadyStateSensitivityMode.simulationFSA)\n",
    "solver = model.getSolver()\n",
    "solver.setNewtonMaxSteps(10)\n",
    "solver.setSensitivityMethod(amici.SensitivityMethod.forward)\n",
    "solver.setSensitivityOrder(amici.SensitivityOrder.first)\n",
    "solver.setMaxSteps(10000)\n",
    "rdata = amici.runAmiciSimulation(model, solver)\n",
    "\n",
    "for key, value in rdata.items():\n",
    "    print('%12s: ' % key, value)"
   ]
  },
  {
   "cell_type": "code",
   "execution_count": null,
   "metadata": {},
   "outputs": [],
   "source": [
    "# Call simulation with singular Jacobian and newtonOnly mode (will fail)\n",
    "model.setTimepoints(np.full(1, np.inf))\n",
    "model.setSteadyStateSensitivityMode(amici.SteadyStateSensitivityMode.newtonOnly)\n",
    "solver = model.getSolver()\n",
    "solver.setSensitivityMethod(amici.SensitivityMethod.forward)\n",
    "solver.setSensitivityOrder(amici.SensitivityOrder.first)\n",
    "solver.setMaxSteps(10000)\n",
    "rdata = amici.runAmiciSimulation(model, solver)\n",
    "\n",
    "for key, value in rdata.items():\n",
    "    print('%12s: ' % key, value)"
   ]
  },
  {
   "cell_type": "code",
   "execution_count": null,
   "metadata": {},
   "outputs": [],
   "source": [
    "# Call postequilibration by setting an infinity timepoint\n",
    "model_reduced.setTimepoints(np.full(1, np.inf))\n",
    "model.setSteadyStateSensitivityMode(amici.SteadyStateSensitivityMode.newtonOnly)\n",
    "solver_reduced = model_reduced.getSolver()\n",
    "solver_reduced.setNewtonMaxSteps(10)\n",
    "solver_reduced.setSensitivityMethod(amici.SensitivityMethod.forward)\n",
    "solver_reduced.setSensitivityOrder(amici.SensitivityOrder.first)\n",
    "solver_reduced.setMaxSteps(1000)\n",
    "rdata_reduced = amici.runAmiciSimulation(model_reduced, solver_reduced)\n",
    "\n",
    "for key, value in rdata_reduced.items():\n",
    "    print('%12s: ' % key, value)"
   ]
  },
  {
   "cell_type": "markdown",
   "metadata": {},
   "source": [
    "## Preequilibrating the model\n",
    "\n",
    "Sometimes, we want to launch a solver run from a steady state which was inferred numerically, i.e., the system was preequilibrated. In order to do this with AMICI, we need to pass an ExpData object, which contains fixed parameter for the acutal simulation and for preequilibration of the model."
   ]
  },
  {
   "cell_type": "code",
   "execution_count": null,
   "metadata": {},
   "outputs": [],
   "source": [
    "# create edat, with 3 timepoints and 2 observables:\n",
    "edata = amici.ExpData(2, 0, 0,\n",
    "                      np.array([0., 0.1, 1.]))\n",
    "edata.setObservedData([1.8] * 6)\n",
    "edata.fixedParameters = np.array([3., 5.])\n",
    "edata.fixedParametersPreequilibration = np.array([0., 2.])\n",
    "edata.reinitializeFixedParameterInitialStates = True"
   ]
  },
  {
   "cell_type": "code",
   "execution_count": null,
   "metadata": {},
   "outputs": [],
   "source": [
    "# create the solver object and run the simulation\n",
    "solver_reduced = model_reduced.getSolver()\n",
    "solver_reduced.setNewtonMaxSteps(10)\n",
    "rdata_reduced = amici.runAmiciSimulation(model_reduced, solver_reduced, edata)\n",
    "\n",
    "amici.plotting.plotStateTrajectories(rdata_reduced, model = model_reduced)\n",
    "amici.plotting.plotObservableTrajectories(rdata_reduced, model = model_reduced)"
   ]
  },
  {
   "cell_type": "markdown",
   "metadata": {},
   "source": [
    "We can alos combine pre- and postequilibration."
   ]
  },
  {
   "cell_type": "code",
   "execution_count": null,
   "metadata": {},
   "outputs": [],
   "source": [
    "# Change the last timepoint to an infinity timepoint.\n",
    "edata.setTimepoints(np.array([0., 0.1, float('inf')]))\n",
    "\n",
    "# run the simulation\n",
    "rdata_reduced = amici.runAmiciSimulation(model_reduced, solver_reduced, edata)"
   ]
  },
  {
   "cell_type": "markdown",
   "metadata": {},
   "source": [
    "## Prequilibration with sensitivities\n",
    "\n",
    "Beyond the need for an ExpData object, the steady state solver logic in preequilibration is the same as in postequilibration, also if sensitivties are requested. The computation will fail for singular Jacobians, if `SteadyStateSensitivityMode` is set to `newtonOnly`, or if not enough steps can be taken.\n",
    "However, if forward simulation with steady state sensitivities is allowed, or if the Jacobian is not singular, it will work."
   ]
  },
  {
   "cell_type": "code",
   "execution_count": null,
   "metadata": {
    "scrolled": false
   },
   "outputs": [],
   "source": [
    "# No postquilibration this time.\n",
    "edata.setTimepoints(np.array([0., 0.1, 1.]))\n",
    "\n",
    "# create the solver object and run the simulation, singular Jacobian, enforce Newton solver for sensitivities\n",
    "model.setSteadyStateSensitivityMode(amici.SteadyStateSensitivityMode.newtonOnly)\n",
    "solver = model.getSolver()\n",
    "solver.setNewtonMaxSteps(10)\n",
    "solver.setSensitivityMethod(amici.SensitivityMethod.forward)\n",
    "solver.setSensitivityOrder(amici.SensitivityOrder.first)\n",
    "rdata = amici.runAmiciSimulation(model, solver, edata)\n",
    "\n",
    "for key, value in rdata.items():\n",
    "    print('%12s: ' % key, value)"
   ]
  },
  {
   "cell_type": "code",
   "execution_count": null,
   "metadata": {
    "scrolled": false
   },
   "outputs": [],
   "source": [
    "# Singluar Jacobian, use simulation\n",
    "model.setSteadyStateSensitivityMode(amici.SteadyStateSensitivityMode.simulationFSA)\n",
    "solver = model.getSolver()\n",
    "solver.setNewtonMaxSteps(10)\n",
    "solver.setSensitivityMethod(amici.SensitivityMethod.forward)\n",
    "solver.setSensitivityOrder(amici.SensitivityOrder.first)\n",
    "rdata = amici.runAmiciSimulation(model, solver, edata)\n",
    "\n",
    "for key, value in rdata.items():\n",
    "    print('%12s: ' % key, value)"
   ]
  },
  {
   "cell_type": "code",
   "execution_count": null,
   "metadata": {},
   "outputs": [],
   "source": [
    "# Non-singular Jacobian, use Newton solver\n",
    "solver_reduced = model_reduced.getSolver()\n",
    "solver_reduced.setNewtonMaxSteps(10)\n",
    "solver_reduced.setSensitivityMethod(amici.SensitivityMethod.forward)\n",
    "solver_reduced.setSensitivityOrder(amici.SensitivityOrder.first)\n",
    "rdata_reduced = amici.runAmiciSimulation(model_reduced, solver_reduced, edata)\n",
    "\n",
    "for key, value in rdata_reduced.items():\n",
    "    print('%12s: ' % key, value)"
   ]
  },
  {
   "cell_type": "markdown",
   "metadata": {},
   "source": [
    "However, for preequilibration, adjoint sensitivity analysis can be used. Preequilibration is a particularly interesting case for the adjoint method, as adjoint sensitivity analysis requires the intial state sensitivities `sx0` to work, at least if data is given for finite (i.e., not exclusively postequilibration) timepoints.\n",
    "\n",
    "Hence, if adjoint sensitivity analysis is called with preequilibration, the initial state sensitivities are computed in just the same way as if this way done for forward sensitivity analysis. The only difference in the internal logic is that, if the steady state gets inferred via simulation, a separate solver object is used in order to ensure that the steady state simulation does not interefere with the snapshotting of the forward trajectory from the actual time course.\n",
    "\n",
    "Side remark:\n",
    "\n",
    "For the near future, a fully adjoint version of preequilibration will be implemented, which also performs adjoint sensitivity analysis for the preequilibration simulation. This approach is supposed to be numerically more stable than solving the linear system of equations for steady state sensitivities, but should be substantially faster than a steady state simulation with full forward sensitivities."
   ]
  },
  {
   "cell_type": "code",
   "execution_count": null,
   "metadata": {},
   "outputs": [],
   "source": [
    "# Non-singular Jacobian, use Newton solver and adjoints\n",
    "solver_reduced = model_reduced.getSolver()\n",
    "solver_reduced.setNewtonMaxSteps(10)\n",
    "solver_reduced.setSensitivityMethod(amici.SensitivityMethod.adjoint)\n",
    "solver_reduced.setSensitivityOrder(amici.SensitivityOrder.first)\n",
    "rdata_reduced = amici.runAmiciSimulation(model_reduced, solver_reduced, edata)\n",
    "\n",
    "for key, value in rdata_reduced.items():\n",
    "    print('%12s: ' % key, value)"
   ]
  },
  {
   "cell_type": "code",
   "execution_count": null,
   "metadata": {},
   "outputs": [],
   "source": [
    "# Non-singular Jacobian, use simulation solver and adjoints\n",
    "solver_reduced = model_reduced.getSolver()\n",
    "solver_reduced.setNewtonMaxSteps(0)\n",
    "solver_reduced.setSensitivityMethod(amici.SensitivityMethod.adjoint)\n",
    "solver_reduced.setSensitivityOrder(amici.SensitivityOrder.first)\n",
    "rdata_reduced = amici.runAmiciSimulation(model_reduced, solver_reduced, edata)\n",
    "\n",
    "for key, value in rdata_reduced.items():\n",
    "    print('%12s: ' % key, value)"
   ]
  }
 ],
 "metadata": {
  "kernelspec": {
   "display_name": "Python 3",
   "language": "python",
   "name": "python3"
  },
  "language_info": {
   "codemirror_mode": {
    "name": "ipython",
    "version": 3
   },
   "file_extension": ".py",
   "mimetype": "text/x-python",
   "name": "python",
   "nbconvert_exporter": "python",
   "pygments_lexer": "ipython3",
   "version": "3.8.2"
  },
  "toc": {
   "base_numbering": 1,
   "nav_menu": {},
   "number_sections": true,
   "sideBar": true,
   "skip_h1_title": false,
   "title_cell": "Table of Contents",
   "title_sidebar": "Contents",
   "toc_cell": false,
   "toc_position": {},
   "toc_section_display": true,
   "toc_window_display": false
  }
 },
 "nbformat": 4,
 "nbformat_minor": 2
}
