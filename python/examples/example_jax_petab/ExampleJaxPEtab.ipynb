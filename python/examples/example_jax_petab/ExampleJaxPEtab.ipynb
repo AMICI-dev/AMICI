{
 "cells": [
  {
   "cell_type": "markdown",
   "id": "d4d2bc5c",
   "metadata": {},
   "source": [
    "# Simulating AMICI models using JAX\n",
    "\n",
    "## Overview\n",
    "\n",
    "This guide demonstrates how to use AMICI to export models in a format compatible with the [JAX](https://jax.readthedocs.io/en/latest/) ecosystem, enabling simulations with the [diffrax](https://docs.kidger.site/diffrax/) library. "
   ]
  },
  {
   "cell_type": "markdown",
   "id": "fb2fe897",
   "metadata": {},
   "source": [
    "## Preparation\n",
    "\n",
    "To begin, we will import a model using [PEtab](https://petab.readthedocs.io). For this demonstration, we will utilize the [Benchmark Collection](https://github.com/Benchmarking-Initiative/Benchmark-Models-PEtab), which provides a diverse set of models. For more information on importing PEtab models, refer to the corresponding [PEtab notebook](https://amici.readthedocs.io/en/latest/petab.html).\n",
    "\n",
    "In this tutorial, we will import the Böhm model from the Benchmark Collection. Using [amici.petab_import](https://amici.readthedocs.io/en/latest/generated/amici.petab_import.html#amici.petab_import.import_petab_problem), we will load the PEtab problem. To create a  [JAXModel](https://amici.readthedocs.io/en/latest/generated/amici.jax.html#amici.jax.JAXModel) instead of a standard AMICI model, we set the `jax` parameter to `True`.\n"
   ]
  },
  {
   "cell_type": "code",
   "execution_count": null,
   "id": "c71c96da0da3144a",
   "metadata": {
    "ExecuteTime": {
     "end_time": "2025-01-29T15:49:12.220374Z",
     "start_time": "2025-01-29T15:49:12.114366Z"
    }
   },
   "outputs": [],
   "source": [
    "from amici.petab.petab_import import import_petab_problem\n",
    "import petab.v1 as petab\n",
    "\n",
    "# Define the model name and YAML file location\n",
    "model_name = \"Boehm_JProteomeRes2014\"\n",
    "yaml_url = (\n",
    "    f\"https://raw.githubusercontent.com/Benchmarking-Initiative/Benchmark-Models-PEtab/\"\n",
    "    f\"master/Benchmark-Models/{model_name}/{model_name}.yaml\"\n",
    ")\n",
    "\n",
    "# Load the PEtab problem from the YAML file\n",
    "petab_problem = petab.Problem.from_yaml(yaml_url)\n",
    "\n",
    "# Import the PEtab problem as a JAX-compatible AMICI model\n",
    "jax_model = import_petab_problem(\n",
    "    petab_problem,\n",
    "    verbose=False,  # no text output\n",
    "    jax=True,  # return jax model\n",
    ")"
   ]
  },
  {
   "cell_type": "markdown",
   "id": "7e0f1c27bd71ee1f",
   "metadata": {},
   "source": [
    "## Simulation\n",
    "\n",
    "In principle, we can already use this model for simulation using the [simulate_condition](https://amici.readthedocs.io/en/latest/generated/amici.jax.html#amici.jax.JAXModel.simulate_condition) method. However, this approach can be cumbersome as timepoints, data etc. need to be specified manually. Instead, we process the PEtab problem into a [JAXProblem](https://amici.readthedocs.io/en/latest/generated/amici.jax.html#amici.jax.JAXProblem), which enables efficient simulation using [amici.jax.run_simulations]((https://amici.readthedocs.io/en/latest/generated/amici.jax.html#amici.jax.run_simulations)."
   ]
  },
  {
   "cell_type": "code",
   "execution_count": null,
   "id": "ccecc9a29acc7b73",
   "metadata": {
    "ExecuteTime": {
     "end_time": "2025-01-29T15:49:13.455948Z",
     "start_time": "2025-01-29T15:49:12.224414Z"
    }
   },
   "outputs": [],
   "source": [
    "from amici.jax import JAXProblem, run_simulations\n",
    "\n",
    "# Create a JAXProblem from the JAX model and PEtab problem\n",
    "jax_problem = JAXProblem(jax_model, petab_problem)\n",
    "\n",
    "# Run simulations and compute the log-likelihood\n",
    "llh, results = run_simulations(jax_problem)"
   ]
  },
  {
   "cell_type": "markdown",
   "id": "415962751301c64a",
   "metadata": {},
   "source": [
    "This simulates the model for all conditions using the nominal parameter values. Simple, right? Now, let’s take a look at the simulation results."
   ]
  },
  {
   "cell_type": "code",
   "execution_count": null,
   "id": "596b86e45e18fe3d",
   "metadata": {
    "ExecuteTime": {
     "end_time": "2025-01-29T15:49:13.469126Z",
     "start_time": "2025-01-29T15:49:13.464492Z"
    }
   },
   "outputs": [],
   "source": [
    "# Access the results\n",
    "results"
   ]
  },
  {
   "cell_type": "markdown",
   "id": "a1b173e013f9210a",
   "metadata": {},
   "source": [
    "Unfortunately, the simulation failed! As seen in the output, the simulation broke down after the initial timepoint, indicated by the `inf` values in the state variables `results['x']` and the `nan` likelihood value. A closer inspection of this variable provides additional clues about what might have gone wrong.\n",
    "\n",
    "The issue stems from using single precision, as indicated by the `float32` dtype of state variables. Single precision is generally a [bad idea](https://docs.kidger.site/diffrax/examples/stiff_ode/) for stiff systems like the Böhm model. Let’s retry the simulation with double precision."
   ]
  },
  {
   "cell_type": "code",
   "execution_count": null,
   "id": "f4f5ff705a3f7402",
   "metadata": {
    "ExecuteTime": {
     "end_time": "2025-01-29T15:49:13.517447Z",
     "start_time": "2025-01-29T15:49:13.498128Z"
    }
   },
   "outputs": [],
   "source": [
    "import jax\n",
    "\n",
    "# Enable double precision in JAX\n",
    "jax.config.update(\"jax_enable_x64\", True)\n",
    "\n",
    "# Re-run simulations with double precision\n",
    "llh, results = run_simulations(jax_problem)\n",
    "\n",
    "results"
   ]
  },
  {
   "cell_type": "markdown",
   "id": "fe4d3b40ee3efdf2",
   "metadata": {},
   "source": [
    "Success! The simulation completed successfully, and we can now plot the resulting state trajectories."
   ]
  },
  {
   "cell_type": "code",
   "execution_count": null,
   "id": "72f1ed397105e14a",
   "metadata": {
    "ExecuteTime": {
     "end_time": "2025-01-29T15:49:13.626555Z",
     "start_time": "2025-01-29T15:49:13.540193Z"
    }
   },
   "outputs": [],
   "source": [
    "%matplotlib inline\n",
    "import matplotlib.pyplot as plt\n",
    "import numpy as np\n",
    "\n",
    "# Define the simulation condition\n",
    "simulation_condition = (\"model1_data1\",)\n",
    "\n",
    "\n",
    "def plot_simulation(results):\n",
    "    \"\"\"\n",
    "    Plot the state trajectories from the simulation results.\n",
    "\n",
    "    Parameters:\n",
    "        results (dict): Simulation results from run_simulations.\n",
    "    \"\"\"\n",
    "    # Extract the simulation results for the specific condition\n",
    "    ic = results[\"simulation_conditions\"].index(simulation_condition)\n",
    "\n",
    "    # Create a new figure for the state trajectories\n",
    "    plt.figure(figsize=(8, 6))\n",
    "    for ix in range(results[\"x\"].shape[2]):\n",
    "        time_points = np.array(results[\"ts\"][ic, :])\n",
    "        state_values = np.array(results[\"x\"][ic, :, ix])\n",
    "        plt.plot(time_points, state_values, label=jax_model.state_ids[ix])\n",
    "\n",
    "    # Add labels, legend, and grid\n",
    "    plt.xlabel(\"Time\")\n",
    "    plt.ylabel(\"State Values\")\n",
    "    plt.title(simulation_condition)\n",
    "    plt.legend()\n",
    "    plt.grid(True)\n",
    "    plt.show()\n",
    "\n",
    "\n",
    "# Plot the simulation results\n",
    "plot_simulation(results)"
   ]
  },
  {
   "cell_type": "markdown",
   "id": "4fa97c33719c2277",
   "metadata": {},
   "source": [
    "`run_simulations` enables users to specify the simulation conditions to be executed. For more complex models, this allows for restricting simulations to a subset of conditions. Since the Böhm model includes only a single condition, we demonstrate this functionality by simulating no condition at all."
   ]
  },
  {
   "cell_type": "code",
   "execution_count": null,
   "id": "7950774a3e989042",
   "metadata": {
    "ExecuteTime": {
     "end_time": "2025-01-29T15:49:13.640281Z",
     "start_time": "2025-01-29T15:49:13.637222Z"
    }
   },
   "outputs": [],
   "source": [
    "llh, results = run_simulations(jax_problem, simulation_conditions=tuple())\n",
    "results"
   ]
  },
  {
   "cell_type": "markdown",
   "id": "98b8516a75ce4d12",
   "metadata": {},
   "source": [
    "## Updating Parameters\n",
    "\n",
    "As next step, we will update the parameter values used for simulation. However, if we attempt to directly modify the values in `JAXModel.parameters`, we encounter a `FrozenInstanceError`."
   ]
  },
  {
   "cell_type": "code",
   "execution_count": null,
   "id": "3d278a3d21e709d",
   "metadata": {
    "ExecuteTime": {
     "end_time": "2025-01-29T15:49:13.690093Z",
     "start_time": "2025-01-29T15:49:13.666663Z"
    }
   },
   "outputs": [],
   "source": [
    "from dataclasses import FrozenInstanceError\n",
    "import jax\n",
    "\n",
    "# Generate random noise to update the parameters\n",
    "noise = (\n",
    "    jax.random.normal(\n",
    "        key=jax.random.PRNGKey(0), shape=jax_problem.parameters.shape\n",
    "    )\n",
    "    / 10\n",
    ")\n",
    "\n",
    "# Attempt to update the parameters\n",
    "try:\n",
    "    jax_problem.parameters += noise\n",
    "except FrozenInstanceError as e:\n",
    "    print(\"Error:\", e)"
   ]
  },
  {
   "cell_type": "markdown",
   "id": "4cc3d595de4a4085",
   "metadata": {},
   "source": [
    "The root cause of this error lies in the fact that, to enable autodiff, direct modifications of attributes are not allowed in [equinox](https://docs.kidger.site/equinox/), which AMICI utilizes under the hood. Consequently, attributes of instances like `JAXModel` or `JAXProblem` cannot be updated directly — this is the price we have to pay for autodiff.\n",
    "\n",
    "However, `JAXProblem` provides a convenient method called [update_parameters](https://amici.readthedocs.io/en/latest/generated/amici.jax.html#amici.jax.JAXProblem.update_parameters). The caveat is that this method creates a new JAXProblem instance instead of modifying the existing one."
   ]
  },
  {
   "cell_type": "code",
   "execution_count": null,
   "id": "e47748376059628b",
   "metadata": {
    "ExecuteTime": {
     "end_time": "2025-01-29T15:49:13.810758Z",
     "start_time": "2025-01-29T15:49:13.712463Z"
    }
   },
   "outputs": [],
   "source": [
    "# Update the parameters and create a new JAXProblem instance\n",
    "jax_problem = jax_problem.update_parameters(jax_problem.parameters + noise)\n",
    "\n",
    "# Run simulations with the updated parameters\n",
    "llh, results = run_simulations(jax_problem)\n",
    "\n",
    "# Plot the simulation results\n",
    "plot_simulation(results)"
   ]
  },
  {
   "cell_type": "markdown",
   "id": "660baf605a4e8339",
   "metadata": {},
   "source": [
    "## Computing Gradients\n",
    "\n",
    "Similar to updating attributes, computing gradients in the JAX ecosystem can feel a bit unconventional if you’re not familiar with the JAX ecosysmt. JAX offers [powerful automatic differentiation](https://jax.readthedocs.io/en/latest/automatic-differentiation.html) through the `jax.grad` function. However, to use `jax.grad` with `JAXProblem`, we need to specify which parts of the `JAXProblem` should be treated as static."
   ]
  },
  {
   "cell_type": "code",
   "execution_count": null,
   "id": "7033d09cc81b7f69",
   "metadata": {
    "ExecuteTime": {
     "end_time": "2025-01-29T15:49:13.824702Z",
     "start_time": "2025-01-29T15:49:13.821212Z"
    }
   },
   "outputs": [],
   "source": [
    "try:\n",
    "    # Attempt to compute the gradient of the run_simulations function\n",
    "    jax.grad(run_simulations, has_aux=True)(jax_problem)\n",
    "except TypeError as e:\n",
    "    print(\"Error:\", e)"
   ]
  },
  {
   "cell_type": "markdown",
   "id": "dc9bc07cde00a926",
   "metadata": {},
   "source": [
    "Fortunately, `equinox` simplifies this process by offering [filter_grad](https://docs.kidger.site/equinox/api/transformations/#equinox.filter_grad), which enables autodiff functionality that is compatible with `JAXProblem` and, in theory, also with `JAXModel`."
   ]
  },
  {
   "cell_type": "code",
   "execution_count": null,
   "id": "a6704182200e6438",
   "metadata": {
    "ExecuteTime": {
     "end_time": "2025-01-29T15:49:20.085633Z",
     "start_time": "2025-01-29T15:49:13.853364Z"
    }
   },
   "outputs": [],
   "source": [
    "import equinox as eqx\n",
    "\n",
    "# Compute the gradient using equinox's filter_grad, preserving auxiliary outputs\n",
    "grad, _ = eqx.filter_grad(run_simulations, has_aux=True)(jax_problem)"
   ]
  },
  {
   "cell_type": "markdown",
   "id": "851c3ec94cb5d086",
   "metadata": {},
   "source": [
    "Functions transformed by `filter_grad` return gradients that share the same structure as the first argument (unless specified otherwise). This allows us to access the gradient with respect to the parameters attribute directly `via grad.parameters`."
   ]
  },
  {
   "cell_type": "code",
   "execution_count": null,
   "id": "c00c1581d7173d7a",
   "metadata": {
    "ExecuteTime": {
     "end_time": "2025-01-29T15:49:20.096400Z",
     "start_time": "2025-01-29T15:49:20.093962Z"
    }
   },
   "outputs": [],
   "source": [
    "grad.parameters"
   ]
  },
  {
   "cell_type": "markdown",
   "id": "375b835fecc5a022",
   "metadata": {},
   "source": [
    "Attributes for which derivatives cannot be computed (typically anything that is not a [jax.numpy.array](https://jax.readthedocs.io/en/latest/_autosummary/jax.numpy.array.html)) are automatically set to `None`."
   ]
  },
  {
   "cell_type": "code",
   "execution_count": null,
   "id": "f7c17f7459d0151f",
   "metadata": {
    "ExecuteTime": {
     "end_time": "2025-01-29T15:49:20.123274Z",
     "start_time": "2025-01-29T15:49:20.120144Z"
    }
   },
   "outputs": [],
   "source": [
    "grad"
   ]
  },
  {
   "cell_type": "markdown",
   "id": "8eb7cc3db510c826",
   "metadata": {},
   "source": [
    "Observant readers may notice that the gradient above appears to include numeric values for derivatives with respect to some measurements. However, `simulation_conditions` internally disables gradient computations using `jax.lax.stop_gradient`, resulting in these values being zeroed out."
   ]
  },
  {
   "cell_type": "code",
   "execution_count": null,
   "id": "3badd4402cf6b8c6",
   "metadata": {
    "ExecuteTime": {
     "end_time": "2025-01-29T15:49:20.151355Z",
     "start_time": "2025-01-29T15:49:20.148297Z"
    }
   },
   "outputs": [],
   "source": [
    "grad._my"
   ]
  },
  {
   "cell_type": "markdown",
   "id": "58eb04393a1463d",
   "metadata": {},
   "source": [
    "However, we can compute derivatives with respect to data elements using `JAXModel.simulate_condition`. In the example below, we differentiate the observables `y` (specified by passing `y` to the `ret` argument) with respect to the timepoints at which the model outputs are computed after the solving the differential equation. While this might not be particularly practical, it serves as an nice illustration of the power of automatic differentiation."
   ]
  },
  {
   "cell_type": "code",
   "execution_count": null,
   "id": "1a91aff44b93157",
   "metadata": {
    "ExecuteTime": {
     "end_time": "2025-01-29T15:49:21.966714Z",
     "start_time": "2025-01-29T15:49:20.188760Z"
    }
   },
   "outputs": [],
   "source": [
    "import jax.numpy as jnp\n",
    "import diffrax\n",
    "from amici.jax import ReturnValue\n",
    "\n",
    "# Define the simulation condition\n",
    "simulation_condition = (\"model1_data1\",)\n",
    "ic = jax_problem.simulation_conditions.index(simulation_condition)\n",
    "\n",
    "# Load condition-specific data\n",
    "ts_dyn = jax_problem._ts_dyn[ic, :]\n",
    "ts_posteq = jax_problem._ts_posteq[ic, :]\n",
    "my = jax_problem._my[ic, :]\n",
    "iys = jax_problem._iys[ic, :]\n",
    "iy_trafos = jax_problem._iy_trafos[ic, :]\n",
    "ops = jax_problem._op_numeric[ic, :]\n",
    "nps = jax_problem._np_numeric[ic, :]\n",
    "\n",
    "# Load parameters for the specified condition\n",
    "p = jax_problem.load_parameters(simulation_condition[0])\n",
    "\n",
    "\n",
    "# Define a function to compute the gradient with respect to dynamic timepoints\n",
    "@eqx.filter_jacfwd\n",
    "def grad_ts_dyn(tt):\n",
    "    return jax_problem.model.simulate_condition(\n",
    "        p=p,\n",
    "        ts_dyn=tt,\n",
    "        ts_posteq=ts_posteq,\n",
    "        my=jnp.array(my),\n",
    "        iys=jnp.array(iys),\n",
    "        iy_trafos=jnp.array(iy_trafos),\n",
    "        ops=jnp.array(ops),\n",
    "        nps=jnp.array(nps),\n",
    "        solver=diffrax.Kvaerno5(),\n",
    "        controller=diffrax.PIDController(atol=1e-8, rtol=1e-8),\n",
    "        steady_state_event=diffrax.steady_state_event(),\n",
    "        max_steps=2**10,\n",
    "        adjoint=diffrax.DirectAdjoint(),\n",
    "        ret=ReturnValue.y,  # Return observables\n",
    "    )[0]\n",
    "\n",
    "\n",
    "# Compute the gradient with respect to `ts_dyn`\n",
    "g = grad_ts_dyn(ts_dyn)\n",
    "g"
   ]
  },
  {
   "cell_type": "markdown",
   "id": "9f870da7754e139c",
   "metadata": {},
   "source": [
    "## Compilation & Profiling\n",
    "\n",
    "To maximize performance with JAX, code should be just-in-time (JIT) compiled. This can be achieved using the `jax.jit` or `equinox.filter_jit` decorators. While JIT compilation introduces some overhead during the first function call, it significantly improves performance for subsequent calls. To demonstrate this, we will first clear the JIT cache and then profile the execution."
   ]
  },
  {
   "cell_type": "code",
   "execution_count": null,
   "id": "58ebdc110ea7457e",
   "metadata": {
    "ExecuteTime": {
     "end_time": "2025-01-29T15:49:22.363492Z",
     "start_time": "2025-01-29T15:49:22.028899Z"
    }
   },
   "outputs": [],
   "source": [
    "from time import time\n",
    "\n",
    "# Clear JAX caches to ensure a fresh start\n",
    "jax.clear_caches()\n",
    "\n",
    "# Define a JIT-compiled gradient function with auxiliary outputs\n",
    "gradfun = eqx.filter_jit(eqx.filter_grad(run_simulations, has_aux=True))"
   ]
  },
  {
   "cell_type": "code",
   "execution_count": null,
   "id": "e1242075f7e0faf",
   "metadata": {
    "ExecuteTime": {
     "end_time": "2025-01-29T15:49:30.839352Z",
     "start_time": "2025-01-29T15:49:22.371391Z"
    }
   },
   "outputs": [],
   "source": [
    "# Measure the time taken for the first function call (including compilation)\n",
    "start = time()\n",
    "run_simulations(jax_problem)\n",
    "print(f\"Function compilation time: {time() - start:.2f} seconds\")\n",
    "\n",
    "# Measure the time taken for the gradient computation (including compilation)\n",
    "start = time()\n",
    "gradfun(jax_problem)\n",
    "print(f\"Gradient compilation time: {time() - start:.2f} seconds\")"
   ]
  },
  {
   "cell_type": "code",
   "execution_count": null,
   "id": "27181f367ccb1817",
   "metadata": {
    "ExecuteTime": {
     "end_time": "2025-01-29T15:49:32.125487Z",
     "start_time": "2025-01-29T15:49:30.847973Z"
    }
   },
   "outputs": [],
   "source": [
    "%%timeit\n",
    "run_simulations(\n",
    "    jax_problem,\n",
    "    controller=diffrax.PIDController(\n",
    "        rtol=1e-8,  # same as amici default\n",
    "        atol=1e-16,  # same as amici default\n",
    "        pcoeff=0.4,  # recommended value for stiff systems\n",
    "        icoeff=0.3,  # recommended value for stiff systems\n",
    "        dcoeff=0.0,  # recommended value for stiff systems\n",
    "    ),\n",
    ")"
   ]
  },
  {
   "cell_type": "code",
   "execution_count": null,
   "id": "5b8d3a6162a3ae55",
   "metadata": {
    "ExecuteTime": {
     "end_time": "2025-01-29T15:49:37.566080Z",
     "start_time": "2025-01-29T15:49:32.193598Z"
    }
   },
   "outputs": [],
   "source": [
    "%%timeit \n",
    "gradfun(\n",
    "    jax_problem,\n",
    "    controller=diffrax.PIDController(\n",
    "        rtol=1e-8,  # same as amici default\n",
    "        atol=1e-16,  # same as amici default\n",
    "        pcoeff=0.4,  # recommended value for stiff systems\n",
    "        icoeff=0.3,  # recommended value for stiff systems\n",
    "        dcoeff=0.0,  # recommended value for stiff systems\n",
    "    ),\n",
    ")"
   ]
  },
  {
   "cell_type": "code",
   "execution_count": null,
   "id": "d733a450635a749b",
   "metadata": {
    "ExecuteTime": {
     "end_time": "2025-01-29T15:49:52.877239Z",
     "start_time": "2025-01-29T15:49:37.633290Z"
    }
   },
   "outputs": [],
   "source": [
    "from amici.petab import simulate_petab\n",
    "import amici\n",
    "\n",
    "# Import the PEtab problem as a standard AMICI model\n",
    "amici_model = import_petab_problem(\n",
    "    petab_problem,\n",
    "    verbose=False,\n",
    "    jax=False,  # load the amici model this time\n",
    ")\n",
    "\n",
    "# Configure the solver with appropriate tolerances\n",
    "solver = amici_model.getSolver()\n",
    "solver.setAbsoluteTolerance(1e-8)\n",
    "solver.setRelativeTolerance(1e-16)\n",
    "\n",
    "# Prepare the parameters for the simulation\n",
    "problem_parameters = dict(\n",
    "    zip(jax_problem.parameter_ids, jax_problem.parameters)\n",
    ")"
   ]
  },
  {
   "cell_type": "code",
   "execution_count": null,
   "id": "413ed7c60b2cf4be",
   "metadata": {
    "ExecuteTime": {
     "end_time": "2025-01-29T15:49:52.891165Z",
     "start_time": "2025-01-29T15:49:52.889250Z"
    }
   },
   "outputs": [],
   "source": [
    "# Profile simulation only\n",
    "solver.setSensitivityOrder(amici.SensitivityOrder.none)"
   ]
  },
  {
   "cell_type": "code",
   "execution_count": null,
   "id": "768fa60e439ca8b4",
   "metadata": {
    "ExecuteTime": {
     "end_time": "2025-01-29T15:50:06.598838Z",
     "start_time": "2025-01-29T15:49:52.902527Z"
    }
   },
   "outputs": [],
   "source": [
    "%%timeit \n",
    "simulate_petab(\n",
    "    petab_problem,\n",
    "    amici_model,\n",
    "    solver=solver,\n",
    "    problem_parameters=problem_parameters,\n",
    "    scaled_parameters=True,\n",
    "    scaled_gradients=True,\n",
    ")"
   ]
  },
  {
   "cell_type": "code",
   "execution_count": null,
   "id": "b8382b0b2b68f49e",
   "metadata": {
    "ExecuteTime": {
     "end_time": "2025-01-29T15:50:06.660478Z",
     "start_time": "2025-01-29T15:50:06.658434Z"
    }
   },
   "outputs": [],
   "source": [
    "# Profile gradient computation using forward sensitivity analysis\n",
    "solver.setSensitivityOrder(amici.SensitivityOrder.first)\n",
    "solver.setSensitivityMethod(amici.SensitivityMethod.forward)"
   ]
  },
  {
   "cell_type": "code",
   "execution_count": null,
   "id": "3bae1fab8c416122",
   "metadata": {
    "ExecuteTime": {
     "end_time": "2025-01-29T15:50:22.127188Z",
     "start_time": "2025-01-29T15:50:06.673328Z"
    }
   },
   "outputs": [],
   "source": [
    "%%timeit \n",
    "simulate_petab(\n",
    "    petab_problem,\n",
    "    amici_model,\n",
    "    solver=solver,\n",
    "    problem_parameters=problem_parameters,\n",
    "    scaled_parameters=True,\n",
    "    scaled_gradients=True,\n",
    ")"
   ]
  },
  {
   "cell_type": "code",
   "execution_count": null,
   "id": "71e0358227e1dc74",
   "metadata": {
    "ExecuteTime": {
     "end_time": "2025-01-29T15:50:22.195899Z",
     "start_time": "2025-01-29T15:50:22.193851Z"
    }
   },
   "outputs": [],
   "source": [
    "# Profile gradient computation using adjoint sensitivity analysis\n",
    "solver.setSensitivityOrder(amici.SensitivityOrder.first)\n",
    "solver.setSensitivityMethod(amici.SensitivityMethod.adjoint)"
   ]
  },
  {
   "cell_type": "code",
   "execution_count": null,
   "id": "e3cc7971002b6d06",
   "metadata": {
    "ExecuteTime": {
     "end_time": "2025-01-29T15:50:24.178434Z",
     "start_time": "2025-01-29T15:50:22.207474Z"
    }
   },
   "outputs": [],
   "source": [
    "%%timeit \n",
    "simulate_petab(\n",
    "    petab_problem,\n",
    "    amici_model,\n",
    "    solver=solver,\n",
    "    problem_parameters=problem_parameters,\n",
    "    scaled_parameters=True,\n",
    "    scaled_gradients=True,\n",
    ")"
   ]
  }
 ],
 "metadata": {
  "kernelspec": {
   "display_name": "Python 3 (ipykernel)",
   "language": "python",
   "name": "python3"
  },
  "language_info": {
   "codemirror_mode": {
    "name": "ipython",
    "version": 3
   },
   "file_extension": ".py",
   "mimetype": "text/x-python",
   "name": "python",
   "nbconvert_exporter": "python",
   "pygments_lexer": "ipython3",
   "version": "3.13.0"
  }
 },
 "nbformat": 4,
 "nbformat_minor": 5
}
