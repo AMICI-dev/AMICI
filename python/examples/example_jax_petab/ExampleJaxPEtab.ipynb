{
 "cells": [
  {
   "cell_type": "markdown",
   "id": "d4d2bc5c",
   "metadata": {},
   "source": [
    "# Simulating AMICI models using JAX\n",
    "\n",
    "## Overview\n",
    "\n",
    "This guide demonstrates how to use AMICI to export models in a format compatible with the [JAX](https://jax.readthedocs.io/en/latest/) ecosystem, enabling simulations with the [diffrax](https://docs.kidger.site/diffrax/) library. "
   ]
  },
  {
   "cell_type": "markdown",
   "id": "fb2fe897",
   "metadata": {},
   "source": [
    "## Preparation\n",
    "\n",
    "To begin, we will import a model using [PEtab](https://petab.readthedocs.io). For this demonstration, we will utilize the [Benchmark Collection](https://github.com/Benchmarking-Initiative/Benchmark-Models-PEtab), which provides a diverse set of models. For more information on importing PEtab models, refer to the corresponding [PEtab notebook](https://amici.readthedocs.io/en/latest/petab.html).\n",
    "\n",
    "In this tutorial, we will import the Böhm model from the Benchmark Collection. Using [amici.petab_import](https://amici.readthedocs.io/en/latest/generated/amici.petab_import.html#amici.petab_import.import_petab_problem), we will load the PEtab problem. To create a  [JAXModel](https://amici.readthedocs.io/en/latest/generated/amici.jax.html#amici.jax.JAXModel) instead of a standard AMICI model, we set the `jax` parameter to `True`.\n"
   ]
  },
  {
   "cell_type": "code",
   "execution_count": 1,
   "id": "6ada3fb8",
   "metadata": {
    "ExecuteTime": {
     "end_time": "2024-11-19T09:50:53.712145Z",
     "start_time": "2024-11-19T09:50:47.191184Z"
    }
   },
   "outputs": [],
   "source": [
    "from amici.petab.petab_import import import_petab_problem\n",
    "import petab.v1 as petab\n",
    "\n",
    "# Define the model name and YAML file location\n",
    "model_name = \"Boehm_JProteomeRes2014\"\n",
    "yaml_url = (\n",
    "    f\"https://raw.githubusercontent.com/Benchmarking-Initiative/Benchmark-Models-PEtab/\"\n",
    "    f\"master/Benchmark-Models/{model_name}/{model_name}.yaml\"\n",
    ")\n",
    "\n",
    "# Load the PEtab problem from the YAML file\n",
    "petab_problem = petab.Problem.from_yaml(yaml_url)\n",
    "\n",
    "# Import the PEtab problem as a JAX-compatible AMICI model\n",
    "jax_model = import_petab_problem(\n",
    "    petab_problem,\n",
    "    compile_=True,  # do not compile regular amici model\n",
    "    verbose=False,  # no text output\n",
    "    jax=True,  # return jax model\n",
    ")"
   ]
  },
  {
   "cell_type": "markdown",
   "id": "5258566d99c89ba4",
   "metadata": {},
   "source": [
    "## Simulation\n",
    "\n",
    "In principle, we can already use this model for simulation using the [simulate_condition](https://amici.readthedocs.io/en/latest/generated/amici.jax.html#amici.jax.JAXModel.simulate_condition) method. However, this approach can be cumbersome as timepoints, data etc. need to be specified manually. Instead, we process the PEtab problem into a [JAXProblem](https://amici.readthedocs.io/en/latest/generated/amici.jax.html#amici.jax.JAXProblem), which enables efficient simulation using [amici.jax.run_simulations]((https://amici.readthedocs.io/en/latest/generated/amici.jax.html#amici.jax.run_simulations)."
   ]
  },
  {
   "cell_type": "code",
   "execution_count": 2,
   "id": "76c1331372cd51b4",
   "metadata": {
    "ExecuteTime": {
     "end_time": "2024-11-19T09:50:56.042924Z",
     "start_time": "2024-11-19T09:50:53.718372Z"
    }
   },
   "outputs": [],
   "source": [
    "from amici.jax import JAXProblem, run_simulations\n",
    "\n",
    "# Create a JAXProblem from the JAX model and PEtab problem\n",
    "jax_problem = JAXProblem(jax_model, petab_problem)\n",
    "\n",
    "# Run simulations and compute the log-likelihood\n",
    "llh, results = run_simulations(jax_problem)"
   ]
  },
  {
   "cell_type": "markdown",
   "id": "5f8684d76368bd76",
   "metadata": {},
   "source": "This simulates the model for all conditions using the nominal parameter values. Simple, right? Now, let’s take a look at the simulation results."
  },
  {
   "cell_type": "code",
   "execution_count": 3,
   "id": "2fc284bd3bfb3a62",
   "metadata": {
    "ExecuteTime": {
     "end_time": "2024-11-19T09:50:56.141898Z",
     "start_time": "2024-11-19T09:50:56.134945Z"
    },
    "scrolled": true
   },
   "outputs": [
    {
     "data": {
      "text/plain": [
       "(Array(nan, dtype=float32),\n",
       " {'stats_dyn': {'max_steps': 1024,\n",
       "   'num_accepted_steps': Array(778, dtype=int32, weak_type=True),\n",
       "   'num_rejected_steps': Array(246, dtype=int32, weak_type=True),\n",
       "   'num_steps': Array(1024, dtype=int32, weak_type=True)},\n",
       "  'stats_posteq': None,\n",
       "  'stats_preeq': None,\n",
       "  'ts': Array([  0. ,   0. ,   0. ,   2.5,   2.5,   2.5,   5. ,   5. ,   5. ,\n",
       "          10. ,  10. ,  10. ,  15. ,  15. ,  15. ,  20. ,  20. ,  20. ,\n",
       "          30. ,  30. ,  30. ,  40. ,  40. ,  40. ,  50. ,  50. ,  50. ,\n",
       "          60. ,  60. ,  60. ,  80. ,  80. ,  80. , 100. , 100. , 100. ,\n",
       "         120. , 120. , 120. , 160. , 160. , 160. , 200. , 200. , 200. ,\n",
       "         240. , 240. , 240. ], dtype=float32),\n",
       "  'x': Array([[143.8668,  63.7332,   0.    ,   0.    ,   0.    ,   0.    ,\n",
       "            0.    ,   0.    ],\n",
       "         [143.8668,  63.7332,   0.    ,   0.    ,   0.    ,   0.    ,\n",
       "            0.    ,   0.    ],\n",
       "         [143.8668,  63.7332,   0.    ,   0.    ,   0.    ,   0.    ,\n",
       "            0.    ,   0.    ],\n",
       "         [     inf,      inf,      inf,      inf,      inf,      inf,\n",
       "               inf,      inf],\n",
       "         [     inf,      inf,      inf,      inf,      inf,      inf,\n",
       "               inf,      inf],\n",
       "         [     inf,      inf,      inf,      inf,      inf,      inf,\n",
       "               inf,      inf],\n",
       "         [     inf,      inf,      inf,      inf,      inf,      inf,\n",
       "               inf,      inf],\n",
       "         [     inf,      inf,      inf,      inf,      inf,      inf,\n",
       "               inf,      inf],\n",
       "         [     inf,      inf,      inf,      inf,      inf,      inf,\n",
       "               inf,      inf],\n",
       "         [     inf,      inf,      inf,      inf,      inf,      inf,\n",
       "               inf,      inf],\n",
       "         [     inf,      inf,      inf,      inf,      inf,      inf,\n",
       "               inf,      inf],\n",
       "         [     inf,      inf,      inf,      inf,      inf,      inf,\n",
       "               inf,      inf],\n",
       "         [     inf,      inf,      inf,      inf,      inf,      inf,\n",
       "               inf,      inf],\n",
       "         [     inf,      inf,      inf,      inf,      inf,      inf,\n",
       "               inf,      inf],\n",
       "         [     inf,      inf,      inf,      inf,      inf,      inf,\n",
       "               inf,      inf],\n",
       "         [     inf,      inf,      inf,      inf,      inf,      inf,\n",
       "               inf,      inf],\n",
       "         [     inf,      inf,      inf,      inf,      inf,      inf,\n",
       "               inf,      inf],\n",
       "         [     inf,      inf,      inf,      inf,      inf,      inf,\n",
       "               inf,      inf],\n",
       "         [     inf,      inf,      inf,      inf,      inf,      inf,\n",
       "               inf,      inf],\n",
       "         [     inf,      inf,      inf,      inf,      inf,      inf,\n",
       "               inf,      inf],\n",
       "         [     inf,      inf,      inf,      inf,      inf,      inf,\n",
       "               inf,      inf],\n",
       "         [     inf,      inf,      inf,      inf,      inf,      inf,\n",
       "               inf,      inf],\n",
       "         [     inf,      inf,      inf,      inf,      inf,      inf,\n",
       "               inf,      inf],\n",
       "         [     inf,      inf,      inf,      inf,      inf,      inf,\n",
       "               inf,      inf],\n",
       "         [     inf,      inf,      inf,      inf,      inf,      inf,\n",
       "               inf,      inf],\n",
       "         [     inf,      inf,      inf,      inf,      inf,      inf,\n",
       "               inf,      inf],\n",
       "         [     inf,      inf,      inf,      inf,      inf,      inf,\n",
       "               inf,      inf],\n",
       "         [     inf,      inf,      inf,      inf,      inf,      inf,\n",
       "               inf,      inf],\n",
       "         [     inf,      inf,      inf,      inf,      inf,      inf,\n",
       "               inf,      inf],\n",
       "         [     inf,      inf,      inf,      inf,      inf,      inf,\n",
       "               inf,      inf],\n",
       "         [     inf,      inf,      inf,      inf,      inf,      inf,\n",
       "               inf,      inf],\n",
       "         [     inf,      inf,      inf,      inf,      inf,      inf,\n",
       "               inf,      inf],\n",
       "         [     inf,      inf,      inf,      inf,      inf,      inf,\n",
       "               inf,      inf],\n",
       "         [     inf,      inf,      inf,      inf,      inf,      inf,\n",
       "               inf,      inf],\n",
       "         [     inf,      inf,      inf,      inf,      inf,      inf,\n",
       "               inf,      inf],\n",
       "         [     inf,      inf,      inf,      inf,      inf,      inf,\n",
       "               inf,      inf],\n",
       "         [     inf,      inf,      inf,      inf,      inf,      inf,\n",
       "               inf,      inf],\n",
       "         [     inf,      inf,      inf,      inf,      inf,      inf,\n",
       "               inf,      inf],\n",
       "         [     inf,      inf,      inf,      inf,      inf,      inf,\n",
       "               inf,      inf],\n",
       "         [     inf,      inf,      inf,      inf,      inf,      inf,\n",
       "               inf,      inf],\n",
       "         [     inf,      inf,      inf,      inf,      inf,      inf,\n",
       "               inf,      inf],\n",
       "         [     inf,      inf,      inf,      inf,      inf,      inf,\n",
       "               inf,      inf],\n",
       "         [     inf,      inf,      inf,      inf,      inf,      inf,\n",
       "               inf,      inf],\n",
       "         [     inf,      inf,      inf,      inf,      inf,      inf,\n",
       "               inf,      inf],\n",
       "         [     inf,      inf,      inf,      inf,      inf,      inf,\n",
       "               inf,      inf],\n",
       "         [     inf,      inf,      inf,      inf,      inf,      inf,\n",
       "               inf,      inf],\n",
       "         [     inf,      inf,      inf,      inf,      inf,      inf,\n",
       "               inf,      inf],\n",
       "         [     inf,      inf,      inf,      inf,      inf,      inf,\n",
       "               inf,      inf]], dtype=float32)})"
      ]
     },
     "execution_count": 3,
     "metadata": {},
     "output_type": "execute_result"
    }
   ],
   "source": [
    "# Define the simulation condition\n",
    "simulation_condition = (\"model1_data1\",)\n",
    "\n",
    "# Access the results for the specified condition\n",
    "results[simulation_condition]"
   ]
  },
  {
   "cell_type": "markdown",
   "id": "aa46125e508d38d3",
   "metadata": {},
   "source": [
    "Unfortunately, the simulation failed! As seen in the output, the simulation broke down after the initial timepoint, indicated by the `inf` values in the state variables `results[simulation_condition][1].x` and the `nan` likelihood value. A closer inspection of this variable provides additional clues about what might have gone wrong.\n",
    "\n",
    "The issue stems from using single precision, as indicated by the `float32` dtype of state variables. Single precision is generally a [bad idea](https://docs.kidger.site/diffrax/examples/stiff_ode/) for stiff systems like the Böhm model. Let’s retry the simulation with double precision."
   ]
  },
  {
   "cell_type": "code",
   "execution_count": 4,
   "id": "8e5006774534ba3a",
   "metadata": {
    "ExecuteTime": {
     "end_time": "2024-11-19T09:50:58.227222Z",
     "start_time": "2024-11-19T09:50:56.235939Z"
    },
    "scrolled": true
   },
   "outputs": [
    {
     "data": {
      "text/plain": [
       "{('model1_data1',): (Array(-138.22199834, dtype=float64),\n",
       "  {'stats_dyn': {'max_steps': 1024,\n",
       "    'num_accepted_steps': Array(125, dtype=int64, weak_type=True),\n",
       "    'num_rejected_steps': Array(7, dtype=int64, weak_type=True),\n",
       "    'num_steps': Array(132, dtype=int64, weak_type=True)},\n",
       "   'stats_posteq': None,\n",
       "   'stats_preeq': None,\n",
       "   'ts': Array([  0. ,   0. ,   0. ,   2.5,   2.5,   2.5,   5. ,   5. ,   5. ,\n",
       "           10. ,  10. ,  10. ,  15. ,  15. ,  15. ,  20. ,  20. ,  20. ,\n",
       "           30. ,  30. ,  30. ,  40. ,  40. ,  40. ,  50. ,  50. ,  50. ,\n",
       "           60. ,  60. ,  60. ,  80. ,  80. ,  80. , 100. , 100. , 100. ,\n",
       "          120. , 120. , 120. , 160. , 160. , 160. , 200. , 200. , 200. ,\n",
       "          240. , 240. , 240. ], dtype=float64),\n",
       "   'x': Array([[1.43866806e+02, 6.37332001e+01, 0.00000000e+00, 0.00000000e+00,\n",
       "           0.00000000e+00, 0.00000000e+00, 0.00000000e+00, 0.00000000e+00],\n",
       "          [1.43866806e+02, 6.37332001e+01, 0.00000000e+00, 0.00000000e+00,\n",
       "           0.00000000e+00, 0.00000000e+00, 0.00000000e+00, 0.00000000e+00],\n",
       "          [1.43866806e+02, 6.37332001e+01, 0.00000000e+00, 0.00000000e+00,\n",
       "           0.00000000e+00, 0.00000000e+00, 0.00000000e+00, 0.00000000e+00],\n",
       "          [5.34614747e+01, 2.88662915e+01, 1.73038463e+01, 5.38666098e-05,\n",
       "           1.57043241e-05, 1.12989551e+02, 1.44740461e+00, 2.65965680e+01],\n",
       "          [5.34614747e+01, 2.88662915e+01, 1.73038463e+01, 5.38666098e-05,\n",
       "           1.57043241e-05, 1.12989551e+02, 1.44740461e+00, 2.65965680e+01],\n",
       "          [5.34614747e+01, 2.88662915e+01, 1.73038463e+01, 5.38666098e-05,\n",
       "           1.57043241e-05, 1.12989551e+02, 1.44740461e+00, 2.65965680e+01],\n",
       "          [3.40645243e+01, 1.96396741e+01, 2.10101056e+01, 2.04431389e-05,\n",
       "           6.79533169e-06, 1.36155797e+02, 3.93060446e+00, 3.39422194e+01],\n",
       "          [3.40645243e+01, 1.96396741e+01, 2.10101056e+01, 2.04431389e-05,\n",
       "           6.79533169e-06, 1.36155797e+02, 3.93060446e+00, 3.39422194e+01],\n",
       "          [3.40645243e+01, 1.96396741e+01, 2.10101056e+01, 2.04431389e-05,\n",
       "           6.79533169e-06, 1.36155797e+02, 3.93060446e+00, 3.39422194e+01],\n",
       "          [2.17740069e+01, 1.28936829e+01, 2.26400305e+01, 7.29828626e-06,\n",
       "           2.55916689e-06, 1.49922977e+02, 9.56261350e+00, 3.90845534e+01],\n",
       "          [2.17740069e+01, 1.28936829e+01, 2.26400305e+01, 7.29828626e-06,\n",
       "           2.55916689e-06, 1.49922977e+02, 9.56261350e+00, 3.90845534e+01],\n",
       "          [2.17740069e+01, 1.28936829e+01, 2.26400305e+01, 7.29828626e-06,\n",
       "           2.55916689e-06, 1.49922977e+02, 9.56261350e+00, 3.90845534e+01],\n",
       "          [1.78289538e+01, 1.02603483e+01, 2.23703281e+01, 4.27571773e-06,\n",
       "           1.41605997e-06, 1.53605377e+02, 1.53104054e+01, 4.07264964e+01],\n",
       "          [1.78289538e+01, 1.02603483e+01, 2.23703281e+01, 4.27571773e-06,\n",
       "           1.41605997e-06, 1.53605377e+02, 1.53104054e+01, 4.07264964e+01],\n",
       "          [1.78289538e+01, 1.02603483e+01, 2.23703281e+01, 4.27571773e-06,\n",
       "           1.41605997e-06, 1.53605377e+02, 1.53104054e+01, 4.07264964e+01],\n",
       "          [1.63397301e+01, 8.95194886e+00, 2.15687556e+01, 3.13802765e-06,\n",
       "           9.41897178e-07, 1.54369347e+02, 2.09093940e+01, 4.12091821e+01],\n",
       "          [1.63397301e+01, 8.95194886e+00, 2.15687556e+01, 3.13802765e-06,\n",
       "           9.41897178e-07, 1.54369347e+02, 2.09093940e+01, 4.12091821e+01],\n",
       "          [1.63397301e+01, 8.95194886e+00, 2.15687556e+01, 3.13802765e-06,\n",
       "           9.41897178e-07, 1.54369347e+02, 2.09093940e+01, 4.12091821e+01],\n",
       "          [1.59598663e+01, 7.84978463e+00, 1.95400559e+01, 2.28580865e-06,\n",
       "           5.52965361e-07, 1.52878988e+02, 3.13834269e+01, 4.08423997e+01],\n",
       "          [1.59598663e+01, 7.84978463e+00, 1.95400559e+01, 2.28580865e-06,\n",
       "           5.52965361e-07, 1.52878988e+02, 3.13834269e+01, 4.08423997e+01],\n",
       "          [1.59598663e+01, 7.84978463e+00, 1.95400559e+01, 2.28580865e-06,\n",
       "           5.52965361e-07, 1.52878988e+02, 3.13834269e+01, 4.08423997e+01],\n",
       "          [1.68960409e+01, 7.57954992e+00, 1.74766781e+01, 1.95598628e-06,\n",
       "           3.93623013e-07, 1.49923893e+02, 4.08004734e+01, 3.97639408e+01],\n",
       "          [1.68960409e+01, 7.57954992e+00, 1.74766781e+01, 1.95598628e-06,\n",
       "           3.93623013e-07, 1.49923893e+02, 4.08004734e+01, 3.97639408e+01],\n",
       "          [1.68960409e+01, 7.57954992e+00, 1.74766781e+01, 1.95598628e-06,\n",
       "           3.93623013e-07, 1.49923893e+02, 4.08004734e+01, 3.97639408e+01],\n",
       "          [1.83667585e+01, 7.66955396e+00, 1.55594015e+01, 1.76473276e-06,\n",
       "           3.07719966e-07, 1.46418868e+02, 4.91998176e+01, 3.84066930e+01],\n",
       "          [1.83667585e+01, 7.66955396e+00, 1.55594015e+01, 1.76473276e-06,\n",
       "           3.07719966e-07, 1.46418868e+02, 4.91998176e+01, 3.84066930e+01],\n",
       "          [1.83667585e+01, 7.66955396e+00, 1.55594015e+01, 1.76473276e-06,\n",
       "           3.07719966e-07, 1.46418868e+02, 4.91998176e+01, 3.84066930e+01],\n",
       "          [2.01288255e+01, 7.95104827e+00, 1.38272785e+01, 1.61833093e-06,\n",
       "           2.52512177e-07, 1.42637837e+02, 5.66687226e+01, 3.69287741e+01],\n",
       "          [2.01288255e+01, 7.95104827e+00, 1.38272785e+01, 1.61833093e-06,\n",
       "           2.52512177e-07, 1.42637837e+02, 5.66687226e+01, 3.69287741e+01],\n",
       "          [2.01288255e+01, 7.95104827e+00, 1.38272785e+01, 1.61833093e-06,\n",
       "           2.52512177e-07, 1.42637837e+02, 5.66687226e+01, 3.69287741e+01],\n",
       "          [2.42069672e+01, 8.82343809e+00, 1.09015504e+01, 1.36440625e-06,\n",
       "           1.81275253e-07, 1.34584160e+02, 6.91907904e+01, 3.38618223e+01],\n",
       "          [2.42069672e+01, 8.82343809e+00, 1.09015504e+01, 1.36440625e-06,\n",
       "           1.81275253e-07, 1.34584160e+02, 6.91907904e+01, 3.38618223e+01],\n",
       "          [2.42069672e+01, 8.82343809e+00, 1.09015504e+01, 1.36440625e-06,\n",
       "           1.81275253e-07, 1.34584160e+02, 6.91907904e+01, 3.38618223e+01],\n",
       "          [2.88236929e+01, 9.92100237e+00, 8.58815552e+00, 1.12770626e-06,\n",
       "           1.33599425e-07, 1.26069389e+02, 7.90544164e+01, 3.08213014e+01],\n",
       "          [2.88236929e+01, 9.92100237e+00, 8.58815552e+00, 1.12770626e-06,\n",
       "           1.33599425e-07, 1.26069389e+02, 7.90544164e+01, 3.08213014e+01],\n",
       "          [2.88236929e+01, 9.92100237e+00, 8.58815552e+00, 1.12770626e-06,\n",
       "           1.33599425e-07, 1.26069389e+02, 7.90544164e+01, 3.08213014e+01],\n",
       "          [3.38427746e+01, 1.11365012e+01, 6.75633027e+00, 9.06279023e-07,\n",
       "           9.81352036e-08, 1.17230823e+02, 8.68156402e+01, 2.78994196e+01],\n",
       "          [3.38427746e+01, 1.11365012e+01, 6.75633027e+00, 9.06279023e-07,\n",
       "           9.81352036e-08, 1.17230823e+02, 8.68156402e+01, 2.78994196e+01],\n",
       "          [3.38427746e+01, 1.11365012e+01, 6.75633027e+00, 9.06279023e-07,\n",
       "           9.81352036e-08, 1.17230823e+02, 8.68156402e+01, 2.78994196e+01],\n",
       "          [4.45767678e+01, 1.36929100e+01, 4.13936161e+00, 5.34332520e-07,\n",
       "           5.04178629e-08, 9.91750041e+01, 9.76743159e+01, 2.25642862e+01],\n",
       "          [4.45767678e+01, 1.36929100e+01, 4.13936161e+00, 5.34332520e-07,\n",
       "           5.04178629e-08, 9.91750041e+01, 9.76743159e+01, 2.25642862e+01],\n",
       "          [4.45767678e+01, 1.36929100e+01, 4.13936161e+00, 5.34332520e-07,\n",
       "           5.04178629e-08, 9.91750041e+01, 9.76743159e+01, 2.25642862e+01],\n",
       "          [5.53512751e+01, 1.61684905e+01, 2.47997315e+00, 2.79973425e-07,\n",
       "           2.38894456e-08, 8.17101310e+01, 1.04245916e+02, 1.80088542e+01],\n",
       "          [5.53512751e+01, 1.61684905e+01, 2.47997315e+00, 2.79973425e-07,\n",
       "           2.38894456e-08, 8.17101310e+01, 1.04245916e+02, 1.80088542e+01],\n",
       "          [5.53512751e+01, 1.61684905e+01, 2.47997315e+00, 2.79973425e-07,\n",
       "           2.38894456e-08, 8.17101310e+01, 1.04245916e+02, 1.80088542e+01],\n",
       "          [6.52754860e+01, 1.83796881e+01, 1.44531833e+00, 1.32320205e-07,\n",
       "           1.04906457e-08, 6.59469727e+01, 1.08115837e+02, 1.42437160e+01],\n",
       "          [6.52754860e+01, 1.83796881e+01, 1.44531833e+00, 1.32320205e-07,\n",
       "           1.04906457e-08, 6.59469727e+01, 1.08115837e+02, 1.42437160e+01],\n",
       "          [6.52754860e+01, 1.83796881e+01, 1.44531833e+00, 1.32320205e-07,\n",
       "           1.04906457e-08, 6.59469727e+01, 1.08115837e+02, 1.42437160e+01]],      dtype=float64)})}"
      ]
     },
     "execution_count": 4,
     "metadata": {},
     "output_type": "execute_result"
    }
   ],
   "source": [
    "import jax\n",
    "\n",
    "# Enable double precision in JAX\n",
    "jax.config.update(\"jax_enable_x64\", True)\n",
    "\n",
    "# Re-run simulations with double precision\n",
    "llh, results = run_simulations(jax_problem)\n",
    "\n",
    "results"
   ]
  },
  {
   "cell_type": "markdown",
   "id": "fea37568206351f7",
   "metadata": {},
   "source": "Success! The simulation completed successfully, and we can now plot the resulting state trajectories."
  },
  {
   "cell_type": "code",
   "execution_count": 5,
   "id": "95c75d098d3a1822",
   "metadata": {
    "ExecuteTime": {
     "end_time": "2024-11-19T09:50:58.490052Z",
     "start_time": "2024-11-19T09:50:58.305876Z"
    },
    "scrolled": true
   },
   "outputs": [
    {
     "data": {
      "image/png": "[encoded data removed]",
      "text/plain": [
       "<Figure size 800x600 with 1 Axes>"
      ]
     },
     "metadata": {},
     "output_type": "display_data"
    }
   ],
   "source": [
    "%matplotlib inline\n",
    "import matplotlib.pyplot as plt\n",
    "import numpy as np\n",
    "\n",
    "\n",
    "def plot_simulation(results):\n",
    "    \"\"\"\n",
    "    Plot the state trajectories from the simulation results.\n",
    "\n",
    "    Parameters:\n",
    "        results (dict): Simulation results from run_simulations.\n",
    "    \"\"\"\n",
    "    # Extract the simulation results for the specific condition\n",
    "    sim_results = results[simulation_condition][1]\n",
    "\n",
    "    # Create a new figure for the state trajectories\n",
    "    plt.figure(figsize=(8, 6))\n",
    "    for idx in range(sim_results[\"x\"].shape[1]):\n",
    "        time_points = np.array(sim_results[\"ts\"])\n",
    "        state_values = np.array(sim_results[\"x\"][:, idx])\n",
    "        plt.plot(time_points, state_values, label=jax_model.state_ids[idx])\n",
    "\n",
    "    # Add labels, legend, and grid\n",
    "    plt.xlabel(\"Time\")\n",
    "    plt.ylabel(\"State Values\")\n",
    "    plt.title(simulation_condition)\n",
    "    plt.legend()\n",
    "    plt.grid(True)\n",
    "    plt.show()\n",
    "\n",
    "\n",
    "# Plot the simulation results\n",
    "plot_simulation(results)"
   ]
  },
  {
   "cell_type": "markdown",
   "id": "f57c07211b781ab5",
   "metadata": {},
   "source": "`run_simulations` enables users to specify the simulation conditions to be executed. For more complex models, this allows for restricting simulations to a subset of conditions. Since the Böhm model includes only a single condition, we demonstrate this functionality by simulating no condition at all."
  },
  {
   "cell_type": "code",
   "execution_count": 6,
   "id": "2f2e1c7023ad261b",
   "metadata": {
    "ExecuteTime": {
     "end_time": "2024-11-19T09:50:58.505973Z",
     "start_time": "2024-11-19T09:50:58.501775Z"
    }
   },
   "outputs": [
    {
     "data": {
      "text/plain": [
       "{}"
      ]
     },
     "execution_count": 6,
     "metadata": {},
     "output_type": "execute_result"
    }
   ],
   "source": [
    "llh, results = run_simulations(jax_problem, simulation_conditions=tuple())\n",
    "results"
   ]
  },
  {
   "cell_type": "markdown",
   "id": "0b729e1b-3c75-4a87-a33b-0a54622609e7",
   "metadata": {},
   "source": [
    "## Updating Parameters\n",
    "\n",
    "As next step, we will update the parameter values used for simulation. However, if we attempt to directly modify the values in `JAXModel.parameters`, we encounter a `FrozenInstanceError`."
   ]
  },
  {
   "cell_type": "code",
   "execution_count": 7,
   "id": "75df1ab9e8a738a0",
   "metadata": {
    "ExecuteTime": {
     "end_time": "2024-11-19T09:50:58.685750Z",
     "start_time": "2024-11-19T09:50:58.575034Z"
    }
   },
   "outputs": [
    {
     "name": "stdout",
     "output_type": "stream",
     "text": [
      "Error: cannot assign to field 'parameters'\n"
     ]
    }
   ],
   "source": [
    "from dataclasses import FrozenInstanceError\n",
    "import jax\n",
    "\n",
    "# Generate random noise to update the parameters\n",
    "noise = (\n",
    "    jax.random.normal(\n",
    "        key=jax.random.PRNGKey(0), shape=jax_problem.parameters.shape\n",
    "    )\n",
    "    / 10\n",
    ")\n",
    "\n",
    "# Attempt to update the parameters\n",
    "try:\n",
    "    jax_problem.parameters += noise\n",
    "except FrozenInstanceError as e:\n",
    "    print(\"Error:\", e)"
   ]
  },
  {
   "cell_type": "markdown",
   "id": "b91941cf707704c3",
   "metadata": {},
   "source": [
    "The root cause of this error lies in the fact that, to enable autodiff, direct modifications of attributes are not allowed in [equinox](https://docs.kidger.site/equinox/), which AMICI utilizes under the hood. Consequently, attributes of instances like `JAXModel` or `JAXProblem` cannot be updated directly — this is the price we have to pay for autodiff.\n",
    "\n",
    "However, `JAXProblem` provides a convenient method called [update_parameters](https://amici.readthedocs.io/en/latest/generated/amici.jax.html#amici.jax.JAXProblem.update_parameters). The caveat is that this method creates a new JAXProblem instance instead of modifying the existing one."
   ]
  },
  {
   "cell_type": "code",
   "execution_count": 8,
   "id": "feb125b6-4f84-427c-b870-421a328eee81",
   "metadata": {
    "ExecuteTime": {
     "end_time": "2024-11-19T09:51:00.631866Z",
     "start_time": "2024-11-19T09:50:58.702698Z"
    }
   },
   "outputs": [
    {
     "data": {
      "image/png": "[encoded data removed]",
      "text/plain": [
       "<Figure size 800x600 with 1 Axes>"
      ]
     },
     "metadata": {},
     "output_type": "display_data"
    }
   ],
   "source": [
    "# Update the parameters and create a new JAXProblem instance\n",
    "jax_problem = jax_problem.update_parameters(jax_problem.parameters + noise)\n",
    "\n",
    "# Run simulations with the updated parameters\n",
    "llh, results = run_simulations(jax_problem)\n",
    "\n",
    "# Plot the simulation results\n",
    "plot_simulation(results)"
   ]
  },
  {
   "cell_type": "markdown",
   "id": "e73bdd447a4d48c8",
   "metadata": {},
   "source": [
    "## Computing Gradients\n",
    "\n",
    "Similar to updating attributes, computing gradients in the JAX ecosystem can feel a bit unconventional if you’re not familiar with the JAX ecosysmt. JAX offers [powerful automatic differentiation](https://jax.readthedocs.io/en/latest/automatic-differentiation.html) through the `jax.grad` function. However, to use `jax.grad` with `JAXProblem`, we need to specify which parts of the `JAXProblem` should be treated as static."
   ]
  },
  {
   "cell_type": "code",
   "execution_count": 9,
   "id": "a8918f59607e6525",
   "metadata": {
    "ExecuteTime": {
     "end_time": "2024-11-19T09:51:00.662578Z",
     "start_time": "2024-11-19T09:51:00.649386Z"
    }
   },
   "outputs": [
    {
     "name": "stdout",
     "output_type": "stream",
     "text": [
      "Error: Argument 'ParameterMappingForCondition(map_sim_var={'Epo_degradation_BaF3': 'Epo_degradation_BaF3', 'k_exp_hetero': 'k_exp_hetero', 'k_exp_homo': 'k_exp_homo', 'k_imp_hetero': 'k_imp_hetero', 'k_imp_homo': 'k_imp_homo', 'k_phos': 'k_phos', 'ratio': 0.693, 'specC17': 0.107, 'noiseParameter1_pSTAT5A_rel': 'sd_pSTAT5A_rel', 'noiseParameter1_pSTAT5B_rel': 'sd_pSTAT5B_rel', 'noiseParameter1_rSTAT5A_rel': 'sd_rSTAT5A_rel'},scale_map_sim_var={'Epo_degradation_BaF3': 'log10', 'k_exp_hetero': 'log10', 'k_exp_homo': 'log10', 'k_imp_hetero': 'log10', 'k_imp_homo': 'log10', 'k_phos': 'log10', 'ratio': 'lin', 'specC17': 'lin', 'noiseParameter1_pSTAT5A_rel': 'log10', 'noiseParameter1_pSTAT5B_rel': 'log10', 'noiseParameter1_rSTAT5A_rel': 'log10'},map_preeq_fix={},scale_map_preeq_fix={},map_sim_fix={},scale_map_sim_fix={})' of type <class 'amici.petab.parameter_mapping.ParameterMappingForCondition'> is not a valid JAX type.\n"
     ]
    }
   ],
   "source": [
    "try:\n",
    "    # Attempt to compute the gradient of the run_simulations function\n",
    "    jax.grad(run_simulations, has_aux=True)(jax_problem)\n",
    "except TypeError as e:\n",
    "    print(\"Error:\", e)"
   ]
  },
  {
   "cell_type": "markdown",
   "id": "922a9ffd94c99607",
   "metadata": {},
   "source": "Fortunately, `equinox` simplifies this process by offering [filter_grad](https://docs.kidger.site/equinox/api/transformations/#equinox.filter_grad), which enables autodiff functionality that is compatible with `JAXProblem` and, in theory, also with `JAXModel`."
  },
  {
   "cell_type": "code",
   "execution_count": 10,
   "id": "e2c635b6-79db-4e78-8738-789af29110b5",
   "metadata": {
    "ExecuteTime": {
     "end_time": "2024-11-19T09:51:07.293314Z",
     "start_time": "2024-11-19T09:51:00.709141Z"
    }
   },
   "outputs": [],
   "source": [
    "import equinox as eqx\n",
    "\n",
    "# Compute the gradient using equinox's filter_grad, preserving auxiliary outputs\n",
    "grad, _ = eqx.filter_grad(run_simulations, has_aux=True)(jax_problem)"
   ]
  },
  {
   "cell_type": "markdown",
   "id": "8fd639ad39948e72",
   "metadata": {},
   "source": "Functions transformed by `filter_grad` return gradients that share the same structure as the first argument (unless specified otherwise). This allows us to access the gradient with respect to the parameters attribute directly `via grad.parameters`."
  },
  {
   "cell_type": "code",
   "execution_count": 11,
   "id": "ab9225bf704e9ed5",
   "metadata": {
    "ExecuteTime": {
     "end_time": "2024-11-19T09:51:07.310244Z",
     "start_time": "2024-11-19T09:51:07.306293Z"
    }
   },
   "outputs": [
    {
     "data": {
      "text/plain": [
       "Array([ 2.39759630e+01, -1.36704159e-01,  1.33625245e+01,  3.25229304e+01,\n",
       "        4.88660333e-05,  5.39482681e+01, -5.13624151e+00, -2.90885864e-02,\n",
       "        6.08639536e+01], dtype=float64)"
      ]
     },
     "execution_count": 11,
     "metadata": {},
     "output_type": "execute_result"
    }
   ],
   "source": [
    "grad.parameters"
   ]
  },
  {
   "cell_type": "markdown",
   "id": "5793acc4ad8908be",
   "metadata": {},
   "source": "Attributes for which derivatives cannot be computed (typically anything that is not a [jax.numpy.array](https://jax.readthedocs.io/en/latest/_autosummary/jax.numpy.array.html)) are automatically set to `None`."
  },
  {
   "cell_type": "code",
   "execution_count": 12,
   "id": "77e6bc4fa3e6970a",
   "metadata": {
    "ExecuteTime": {
     "end_time": "2024-11-19T09:51:07.398319Z",
     "start_time": "2024-11-19T09:51:07.392032Z"
    }
   },
   "outputs": [
    {
     "data": {
      "text/plain": [
       "JAXProblem(\n",
       "  parameters=f64[9],\n",
       "  model=JAXModel_Boehm_JProteomeRes2014(api_version='0.0.1'),\n",
       "  _parameter_mappings={'model1_data1': None},\n",
       "  _measurements={('model1_data1',): (f64[3], f64[45], f64[0], f64[48], None)},\n",
       "  _petab_problem=None\n",
       ")"
      ]
     },
     "execution_count": 12,
     "metadata": {},
     "output_type": "execute_result"
    }
   ],
   "source": [
    "grad"
   ]
  },
  {
   "cell_type": "markdown",
   "id": "75fc08817f1b4734",
   "metadata": {},
   "source": "Observant readers may notice that the gradient above appears to include numeric values for derivatives with respect to some measurements. However, `simulation_conditions` internally disables gradient computations using `jax.lax.stop_gradient`, resulting in these values being zeroed out."
  },
  {
   "cell_type": "code",
   "execution_count": 13,
   "id": "a8b7634e-7bd8-41ae-a6dc-1d0f29993ac0",
   "metadata": {
    "ExecuteTime": {
     "end_time": "2024-11-19T09:51:07.455764Z",
     "start_time": "2024-11-19T09:51:07.450233Z"
    }
   },
   "outputs": [
    {
     "data": {
      "text/plain": [
       "(Array([0., 0., 0.], dtype=float64),\n",
       " Array([0., 0., 0., 0., 0., 0., 0., 0., 0., 0., 0., 0., 0., 0., 0., 0., 0.,\n",
       "        0., 0., 0., 0., 0., 0., 0., 0., 0., 0., 0., 0., 0., 0., 0., 0., 0.,\n",
       "        0., 0., 0., 0., 0., 0., 0., 0., 0., 0., 0.], dtype=float64),\n",
       " Array([], shape=(0,), dtype=float64),\n",
       " Array([0., 0., 0., 0., 0., 0., 0., 0., 0., 0., 0., 0., 0., 0., 0., 0., 0.,\n",
       "        0., 0., 0., 0., 0., 0., 0., 0., 0., 0., 0., 0., 0., 0., 0., 0., 0.,\n",
       "        0., 0., 0., 0., 0., 0., 0., 0., 0., 0., 0., 0., 0., 0.],      dtype=float64),\n",
       " None)"
      ]
     },
     "execution_count": 13,
     "metadata": {},
     "output_type": "execute_result"
    }
   ],
   "source": [
    "grad._measurements[simulation_condition]"
   ]
  },
  {
   "cell_type": "markdown",
   "id": "3c6c4f2d3a2673a2",
   "metadata": {},
   "source": "However, we can compute derivatives with respect to data elements using `JAXModel.simulate_condition`. In the example below, we differentiate the observables `y` (specified by passing `y` to the `ret` argument) with respect to the timepoints at which the model outputs are computed after the solving the differential equation. While this might not be particularly practical, it serves as an nice illustration of the power of automatic differentiation."
  },
  {
   "cell_type": "code",
   "execution_count": 14,
   "id": "2a843410-4af4-4ff7-8b67-9293a5820caf",
   "metadata": {
    "ExecuteTime": {
     "end_time": "2024-11-19T09:51:13.735937Z",
     "start_time": "2024-11-19T09:51:07.494491Z"
    }
   },
   "outputs": [
    {
     "data": {
      "text/plain": [
       "Array([[ 0.00000000e+00,  0.00000000e+00,  0.00000000e+00, ...,\n",
       "         0.00000000e+00,  0.00000000e+00,  0.00000000e+00],\n",
       "       [ 0.00000000e+00,  0.00000000e+00,  0.00000000e+00, ...,\n",
       "         0.00000000e+00,  0.00000000e+00,  0.00000000e+00],\n",
       "       [ 0.00000000e+00,  0.00000000e+00,  0.00000000e+00, ...,\n",
       "         0.00000000e+00,  0.00000000e+00,  0.00000000e+00],\n",
       "       ...,\n",
       "       [ 0.00000000e+00,  0.00000000e+00,  0.00000000e+00, ...,\n",
       "        -1.30871686e-01,  0.00000000e+00, -3.80465095e-11],\n",
       "       [ 0.00000000e+00,  0.00000000e+00,  0.00000000e+00, ...,\n",
       "         0.00000000e+00, -2.69250222e-01, -7.93596886e-11],\n",
       "       [ 0.00000000e+00,  0.00000000e+00,  0.00000000e+00, ...,\n",
       "         0.00000000e+00,  0.00000000e+00, -2.29968854e-02]],      dtype=float64)"
      ]
     },
     "execution_count": 14,
     "metadata": {},
     "output_type": "execute_result"
    }
   ],
   "source": [
    "import jax.numpy as jnp\n",
    "import diffrax\n",
    "\n",
    "# Define the simulation condition\n",
    "simulation_condition = (\"model1_data1\",)\n",
    "\n",
    "# Load condition-specific data\n",
    "ts_preeq, ts_dyn, ts_posteq, my, iys = jax_problem._measurements[\n",
    "    simulation_condition\n",
    "]\n",
    "\n",
    "# Load parameters for the specified condition\n",
    "p = jax_problem.load_parameters(simulation_condition[0])\n",
    "# Disable preequilibration\n",
    "p_preeq = jnp.array([])\n",
    "\n",
    "\n",
    "# Define a function to compute the gradient with respect to dynamic timepoints\n",
    "@eqx.filter_jacfwd\n",
    "def grad_ts_dyn(tt):\n",
    "    return jax_problem.model.simulate_condition(\n",
    "        p=p,\n",
    "        p_preeq=p_preeq,\n",
    "        ts_preeq=ts_preeq,\n",
    "        ts_dyn=tt,\n",
    "        ts_posteq=ts_posteq,\n",
    "        my=jnp.array(my),\n",
    "        iys=jnp.array(iys),\n",
    "        solver=diffrax.Kvaerno5(),\n",
    "        controller=diffrax.PIDController(atol=1e-8, rtol=1e-8),\n",
    "        max_steps=2**10,\n",
    "        adjoint=diffrax.DirectAdjoint(),\n",
    "        ret=\"y\",  # Return observables\n",
    "    )[0]\n",
    "\n",
    "\n",
    "# Compute the gradient with respect to `ts_dyn`\n",
    "g = grad_ts_dyn(ts_dyn)\n",
    "g"
   ]
  },
  {
   "cell_type": "markdown",
   "id": "a9cec2a77b30669d",
   "metadata": {},
   "source": [
    "## Compilation & Profiling\n",
    "\n",
    "To maximize performance with JAX, code should be just-in-time (JIT) compiled. This can be achieved using the `jax.jit` or `equinox.filter_jit` decorators. While JIT compilation introduces some overhead during the first function call, it significantly improves performance for subsequent calls. To demonstrate this, we will first clear the JIT cache and then profile the execution."
   ]
  },
  {
   "cell_type": "code",
   "execution_count": 15,
   "id": "d1f79c45ab2eccdc",
   "metadata": {
    "ExecuteTime": {
     "end_time": "2024-11-19T09:51:14.292251Z",
     "start_time": "2024-11-19T09:51:13.834276Z"
    }
   },
   "outputs": [],
   "source": [
    "from time import time\n",
    "\n",
    "# Clear JAX caches to ensure a fresh start\n",
    "jax.clear_caches()\n",
    "\n",
    "# Define a JIT-compiled gradient function with auxiliary outputs\n",
    "gradfun = eqx.filter_jit(eqx.filter_grad(run_simulations, has_aux=True))"
   ]
  },
  {
   "cell_type": "code",
   "execution_count": 16,
   "id": "b44881332070e2b0",
   "metadata": {
    "ExecuteTime": {
     "end_time": "2024-11-19T09:51:23.060962Z",
     "start_time": "2024-11-19T09:51:14.309832Z"
    }
   },
   "outputs": [
    {
     "name": "stdout",
     "output_type": "stream",
     "text": [
      "Function compilation time: 2.53 seconds\n",
      "Gradient compilation time: 6.21 seconds\n"
     ]
    }
   ],
   "source": [
    "# Measure the time taken for the first function call (including compilation)\n",
    "start = time()\n",
    "run_simulations(jax_problem)\n",
    "print(f\"Function compilation time: {time() - start:.2f} seconds\")\n",
    "\n",
    "# Measure the time taken for the gradient computation (including compilation)\n",
    "start = time()\n",
    "gradfun(jax_problem)\n",
    "print(f\"Gradient compilation time: {time() - start:.2f} seconds\")"
   ]
  },
  {
   "cell_type": "code",
   "execution_count": 17,
   "id": "a3e1463209074861",
   "metadata": {
    "ExecuteTime": {
     "end_time": "2024-11-19T09:51:25.374277Z",
     "start_time": "2024-11-19T09:51:23.078334Z"
    }
   },
   "outputs": [
    {
     "name": "stdout",
     "output_type": "stream",
     "text": [
      "16.6 ms ± 609 μs per loop (mean ± std. dev. of 7 runs, 1 loop each)\n"
     ]
    }
   ],
   "source": [
    "%%timeit\n",
    "run_simulations(\n",
    "    jax_problem,\n",
    "    controller=diffrax.PIDController(\n",
    "        rtol=1e-8,  # same as amici default\n",
    "        atol=1e-16,  # same as amici default\n",
    "        pcoeff=0.4,  # recommended value for stiff systems\n",
    "        icoeff=0.3,  # recommended value for stiff systems\n",
    "        dcoeff=0.0,  # recommended value for stiff systems\n",
    "    ),\n",
    ")"
   ]
  },
  {
   "cell_type": "code",
   "execution_count": 18,
   "id": "2f074fbbebf834c6",
   "metadata": {
    "ExecuteTime": {
     "end_time": "2024-11-19T09:51:31.394645Z",
     "start_time": "2024-11-19T09:51:25.459759Z"
    }
   },
   "outputs": [
    {
     "name": "stdout",
     "output_type": "stream",
     "text": [
      "39.8 ms ± 854 μs per loop (mean ± std. dev. of 7 runs, 1 loop each)\n"
     ]
    }
   ],
   "source": [
    "%%timeit \n",
    "gradfun(\n",
    "    jax_problem,\n",
    "    controller=diffrax.PIDController(\n",
    "        rtol=1e-8,  # same as amici default\n",
    "        atol=1e-16,  # same as amici default\n",
    "        pcoeff=0.4,  # recommended value for stiff systems\n",
    "        icoeff=0.3,  # recommended value for stiff systems\n",
    "        dcoeff=0.0,  # recommended value for stiff systems\n",
    "    ),\n",
    ")"
   ]
  },
  {
   "cell_type": "code",
   "execution_count": 19,
   "id": "5f68c5fcc16b637",
   "metadata": {
    "ExecuteTime": {
     "end_time": "2024-11-19T09:51:55.244925Z",
     "start_time": "2024-11-19T09:51:31.477484Z"
    }
   },
   "outputs": [],
   "source": [
    "from amici.petab import simulate_petab\n",
    "import amici\n",
    "\n",
    "# Import the PEtab problem as a standard AMICI model\n",
    "amici_model = import_petab_problem(\n",
    "    petab_problem,\n",
    "    compile_=False,  # do not recompile\n",
    "    verbose=False,\n",
    "    jax=False,  # load the amici model this time\n",
    ")\n",
    "\n",
    "# Configure the solver with appropriate tolerances\n",
    "solver = amici_model.getSolver()\n",
    "solver.setAbsoluteTolerance(1e-8)\n",
    "solver.setRelativeTolerance(1e-8)\n",
    "\n",
    "# Prepare the parameters for the simulation\n",
    "problem_parameters = dict(\n",
    "    zip(jax_problem.parameter_ids, jax_problem.parameters)\n",
    ")"
   ]
  },
  {
   "cell_type": "code",
   "execution_count": 20,
   "id": "413ed7c60b2cf4be",
   "metadata": {
    "ExecuteTime": {
     "end_time": "2024-11-19T09:51:55.259985Z",
     "start_time": "2024-11-19T09:51:55.257937Z"
    }
   },
   "outputs": [],
   "source": [
    "# Profile simulation only\n",
    "solver.setSensitivityOrder(amici.SensitivityOrder.none)"
   ]
  },
  {
   "cell_type": "code",
   "execution_count": 21,
   "id": "768fa60e439ca8b4",
   "metadata": {
    "ExecuteTime": {
     "end_time": "2024-11-19T09:51:57.417608Z",
     "start_time": "2024-11-19T09:51:55.273367Z"
    }
   },
   "outputs": [
    {
     "name": "stdout",
     "output_type": "stream",
     "text": [
      "26.1 ms ± 2.71 ms per loop (mean ± std. dev. of 7 runs, 10 loops each)\n"
     ]
    }
   ],
   "source": [
    "%%timeit \n",
    "simulate_petab(\n",
    "    petab_problem,\n",
    "    amici_model,\n",
    "    solver=solver,\n",
    "    problem_parameters=problem_parameters,\n",
    "    scaled_parameters=True,\n",
    "    scaled_gradients=True,\n",
    ")"
   ]
  },
  {
   "cell_type": "code",
   "execution_count": 22,
   "id": "b8382b0b2b68f49e",
   "metadata": {
    "ExecuteTime": {
     "end_time": "2024-11-19T09:51:57.497361Z",
     "start_time": "2024-11-19T09:51:57.494502Z"
    }
   },
   "outputs": [],
   "source": [
    "# Profile gradient computation using forward sensitivity analysis\n",
    "solver.setSensitivityOrder(amici.SensitivityOrder.first)\n",
    "solver.setSensitivityMethod(amici.SensitivityMethod.forward)"
   ]
  },
  {
   "cell_type": "code",
   "execution_count": 23,
   "id": "3bae1fab8c416122",
   "metadata": {
    "ExecuteTime": {
     "end_time": "2024-11-19T09:51:59.897459Z",
     "start_time": "2024-11-19T09:51:57.511889Z"
    }
   },
   "outputs": [
    {
     "name": "stdout",
     "output_type": "stream",
     "text": [
      "29.1 ms ± 1.82 ms per loop (mean ± std. dev. of 7 runs, 10 loops each)\n"
     ]
    }
   ],
   "source": [
    "%%timeit \n",
    "simulate_petab(\n",
    "    petab_problem,\n",
    "    amici_model,\n",
    "    solver=solver,\n",
    "    problem_parameters=problem_parameters,\n",
    "    scaled_parameters=True,\n",
    "    scaled_gradients=True,\n",
    ")"
   ]
  },
  {
   "cell_type": "code",
   "execution_count": 24,
   "id": "71e0358227e1dc74",
   "metadata": {
    "ExecuteTime": {
     "end_time": "2024-11-19T09:51:59.972149Z",
     "start_time": "2024-11-19T09:51:59.969006Z"
    }
   },
   "outputs": [],
   "source": [
    "# Profile gradient computation using adjoint sensitivity analysis\n",
    "solver.setSensitivityOrder(amici.SensitivityOrder.first)\n",
    "solver.setSensitivityMethod(amici.SensitivityMethod.adjoint)"
   ]
  },
  {
   "cell_type": "code",
   "execution_count": 25,
   "id": "e3cc7971002b6d06",
   "metadata": {
    "ExecuteTime": {
     "end_time": "2024-11-19T09:52:03.266074Z",
     "start_time": "2024-11-19T09:51:59.992465Z"
    }
   },
   "outputs": [
    {
     "name": "stdout",
     "output_type": "stream",
     "text": [
      "39.3 ms ± 1.6 ms per loop (mean ± std. dev. of 7 runs, 10 loops each)\n"
     ]
    }
   ],
   "source": [
    "%%timeit \n",
    "simulate_petab(\n",
    "    petab_problem,\n",
    "    amici_model,\n",
    "    solver=solver,\n",
    "    problem_parameters=problem_parameters,\n",
    "    scaled_parameters=True,\n",
    "    scaled_gradients=True,\n",
    ")"
   ]
  }
 ],
 "metadata": {
  "kernelspec": {
   "display_name": "Python 3 (ipykernel)",
   "language": "python",
   "name": "python3"
  },
  "language_info": {
   "codemirror_mode": {
    "name": "ipython",
    "version": 3
   },
   "file_extension": ".py",
   "mimetype": "text/x-python",
   "name": "python",
   "nbconvert_exporter": "python",
   "pygments_lexer": "ipython3",
   "version": "3.13.0"
  }
 },
 "nbformat": 4,
 "nbformat_minor": 5
}
